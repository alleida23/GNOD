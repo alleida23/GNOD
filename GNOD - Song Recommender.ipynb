{
 "cells": [
  {
   "cell_type": "markdown",
   "id": "005b84fa",
   "metadata": {},
   "source": [
    "#### Libraries"
   ]
  },
  {
   "cell_type": "code",
   "execution_count": 1,
   "id": "bfb2c6f0",
   "metadata": {},
   "outputs": [],
   "source": [
    "import pandas as pd\n",
    "import numpy as np\n",
    "\n",
    "import spotipy\n",
    "from spotipy.oauth2 import SpotifyClientCredentials\n",
    "from IPython.display import Markdown, display\n",
    "\n",
    "from sklearn.preprocessing import StandardScaler\n",
    "from sklearn.metrics.pairwise import cosine_similarity\n",
    "from sklearn import cluster, datasets\n",
    "from sklearn.cluster import KMeans\n",
    "\n",
    "import random\n",
    "from IPython.display import Markdown, display \n",
    "\n",
    "import pickle"
   ]
  },
  {
   "cell_type": "markdown",
   "id": "e1bbc7c8",
   "metadata": {},
   "source": [
    "#### Identification and Authentication"
   ]
  },
  {
   "cell_type": "code",
   "execution_count": 2,
   "id": "3111da21",
   "metadata": {},
   "outputs": [],
   "source": [
    "secrets_file = open(\"secrets.txt\",\"r\")\n",
    "string = secrets_file.read()\n",
    "string.split('\\n')\n",
    "\n",
    "# Dictionary\n",
    "secrets_dict={}\n",
    "for line in string.split('\\n'):\n",
    "    if len(line) > 0: \n",
    "        secrets_dict[line.split(':')[0]]=line.split(':')[1].strip()"
   ]
  },
  {
   "cell_type": "markdown",
   "id": "7cb4e476",
   "metadata": {},
   "source": [
    "#### Initializing spotipy"
   ]
  },
  {
   "cell_type": "code",
   "execution_count": 3,
   "id": "daa89956",
   "metadata": {},
   "outputs": [],
   "source": [
    "sp = spotipy.Spotify(auth_manager=SpotifyClientCredentials(client_id=secrets_dict['cid'],\n",
    "                                                           client_secret=secrets_dict['csecret']))\n"
   ]
  },
  {
   "cell_type": "markdown",
   "id": "60bb2c3c",
   "metadata": {},
   "source": [
    "#### Importing required files"
   ]
  },
  {
   "cell_type": "code",
   "execution_count": 4,
   "id": "350f2f6d",
   "metadata": {},
   "outputs": [],
   "source": [
    "topsongs = pd.read_csv('topsongs_data.csv')\n",
    "spotify_data = pd.read_csv('spotify_data.csv')"
   ]
  },
  {
   "cell_type": "markdown",
   "id": "15812995",
   "metadata": {},
   "source": [
    "#### Importing scaler and kmeans models"
   ]
  },
  {
   "cell_type": "code",
   "execution_count": 5,
   "id": "329ad526",
   "metadata": {},
   "outputs": [],
   "source": [
    "scaler = pickle.load(open('scaler_model.pkl','rb'))"
   ]
  },
  {
   "cell_type": "code",
   "execution_count": 6,
   "id": "0e72e792",
   "metadata": {},
   "outputs": [],
   "source": [
    "kmeans = pickle.load(open('kmeans_model.pkl','rb'))"
   ]
  },
  {
   "cell_type": "markdown",
   "id": "5d84142d",
   "metadata": {},
   "source": [
    "#### Importing song recommender function"
   ]
  },
  {
   "cell_type": "code",
   "execution_count": 7,
   "id": "c290d5ea",
   "metadata": {},
   "outputs": [],
   "source": [
    "from song_recommender_module import song_recommender"
   ]
  },
  {
   "cell_type": "markdown",
   "id": "42c76741",
   "metadata": {},
   "source": [
    "## Song Recommender"
   ]
  },
  {
   "cell_type": "code",
   "execution_count": 8,
   "id": "dd25288d",
   "metadata": {},
   "outputs": [],
   "source": [
    "#recommended_song = song_recommender(topsongs, spotify_data, song_searched)"
   ]
  },
  {
   "cell_type": "code",
   "execution_count": 9,
   "id": "f8d87491",
   "metadata": {},
   "outputs": [],
   "source": [
    "# Get user input for the song to search for\n",
    "#song_searched = input(\"Enter a song: \")\n",
    "\n",
    "#song_recommender(topsongs, spotify_data, song_searched)"
   ]
  },
  {
   "cell_type": "markdown",
   "id": "e070aff4",
   "metadata": {},
   "source": [
    "Couldn't import my function"
   ]
  },
  {
   "cell_type": "code",
   "execution_count": null,
   "id": "f5cb0b12",
   "metadata": {},
   "outputs": [],
   "source": []
  },
  {
   "cell_type": "code",
   "execution_count": 20,
   "id": "db0a7f9d",
   "metadata": {},
   "outputs": [],
   "source": [
    "def features(track, artist):\n",
    "    track_id = sp.search(q='artist' + artist + ' track' + track, type= 'track')\n",
    "    uri = track_id['tracks']['items'][0]['id']\n",
    "    features = sp.audio_features(uri)\n",
    "    return features"
   ]
  },
  {
   "cell_type": "code",
   "execution_count": 22,
   "id": "a9925755",
   "metadata": {},
   "outputs": [],
   "source": [
    "def features(track,artist):\n",
    "    track_id = sp.search(q='artist' + artist + ' track' + track, type= 'track')\n",
    "    uri = track_id['tracks']['items'][0]['id']\n",
    "    features = sp.audio_features('uri')\n",
    "    return features"
   ]
  },
  {
   "cell_type": "code",
   "execution_count": 23,
   "id": "e4d7d605",
   "metadata": {},
   "outputs": [
    {
     "name": "stdout",
     "output_type": "stream",
     "text": [
      "Enter song: L'empordà\n",
      "Enter artist: Sopa de cabra\n",
      "\n",
      "\n"
     ]
    },
    {
     "ename": "AttributeError",
     "evalue": "'NoneType' object has no attribute 'keys'",
     "output_type": "error",
     "traceback": [
      "\u001b[0;31m---------------------------------------------------------------------------\u001b[0m",
      "\u001b[0;31mAttributeError\u001b[0m                            Traceback (most recent call last)",
      "\u001b[0;32m/var/folders/w7/7cfd14hn02g0d126w5q47rqw0000gn/T/ipykernel_2779/298196970.py\u001b[0m in \u001b[0;36m<module>\u001b[0;34m\u001b[0m\n\u001b[1;32m     13\u001b[0m \u001b[0;32melse\u001b[0m\u001b[0;34m:\u001b[0m\u001b[0;34m\u001b[0m\u001b[0;34m\u001b[0m\u001b[0m\n\u001b[1;32m     14\u001b[0m     \u001b[0mfeature\u001b[0m \u001b[0;34m=\u001b[0m \u001b[0mfeatures\u001b[0m\u001b[0;34m(\u001b[0m\u001b[0mnew_song\u001b[0m\u001b[0;34m,\u001b[0m \u001b[0mnew_artist\u001b[0m\u001b[0;34m)\u001b[0m\u001b[0;34m\u001b[0m\u001b[0;34m\u001b[0m\u001b[0m\n\u001b[0;32m---> 15\u001b[0;31m     \u001b[0mcolumn\u001b[0m \u001b[0;34m=\u001b[0m \u001b[0mlist\u001b[0m\u001b[0;34m(\u001b[0m\u001b[0mfeature\u001b[0m\u001b[0;34m[\u001b[0m\u001b[0;36m0\u001b[0m\u001b[0;34m]\u001b[0m\u001b[0;34m.\u001b[0m\u001b[0mkeys\u001b[0m\u001b[0;34m(\u001b[0m\u001b[0;34m)\u001b[0m\u001b[0;34m)\u001b[0m\u001b[0;34m\u001b[0m\u001b[0;34m\u001b[0m\u001b[0m\n\u001b[0m\u001b[1;32m     16\u001b[0m     \u001b[0mvalues\u001b[0m \u001b[0;34m=\u001b[0m \u001b[0;34m[\u001b[0m\u001b[0mlist\u001b[0m\u001b[0;34m(\u001b[0m\u001b[0mfeature\u001b[0m\u001b[0;34m[\u001b[0m\u001b[0;36m0\u001b[0m\u001b[0;34m]\u001b[0m\u001b[0;34m.\u001b[0m\u001b[0mvalues\u001b[0m\u001b[0;34m(\u001b[0m\u001b[0;34m)\u001b[0m\u001b[0;34m)\u001b[0m\u001b[0;34m]\u001b[0m\u001b[0;34m\u001b[0m\u001b[0;34m\u001b[0m\u001b[0m\n\u001b[1;32m     17\u001b[0m     \u001b[0mdf_new_song\u001b[0m \u001b[0;34m=\u001b[0m \u001b[0mpd\u001b[0m\u001b[0;34m.\u001b[0m\u001b[0mDataFrame\u001b[0m\u001b[0;34m(\u001b[0m\u001b[0mdata\u001b[0m\u001b[0;34m=\u001b[0m\u001b[0mvalues\u001b[0m\u001b[0;34m,\u001b[0m \u001b[0mcolumns\u001b[0m\u001b[0;34m=\u001b[0m\u001b[0mcolumn\u001b[0m\u001b[0;34m)\u001b[0m\u001b[0;34m\u001b[0m\u001b[0;34m\u001b[0m\u001b[0m\n",
      "\u001b[0;31mAttributeError\u001b[0m: 'NoneType' object has no attribute 'keys'"
     ]
    }
   ],
   "source": [
    "new_song = input('Enter song: ').lower()\n",
    "new_artist = input('Enter artist: ').lower()\n",
    "print('\\n')\n",
    "\n",
    "#check if in topsongs\n",
    "if new_song in list(topsongs['title']):\n",
    "    recommend_hot = random.choice(list(topsongs['title']))\n",
    "    while recommend_hot == new_song:\n",
    "        recommend_hot = random.choice(list(topsongs['title']))\n",
    "        print('Listen to: \\n', recommendation_hot)\n",
    "        \n",
    "# Get spotify features\n",
    "else:\n",
    "    feature = features(new_song, new_artist)\n",
    "    column = list(feature[0].keys())\n",
    "    values = [list(feature[0].values())]\n",
    "    df_new_song = pd.DataFrame(data=values, columns=column)\n",
    "    df_new_song = df_new_song.drop(['type','id','uri','track_href', 'analysis_url','time_signature'],axis=1)\n",
    "    std_new_song = scaler.transform(df_new_song)\n",
    "    new_cluster = kmeans.predict(std_new_song)\n",
    "    df_cluster = list_clusters[list_cluster['cluster']==list(new_cluster)[0]]\n",
    "    \n",
    "    print('Listen to: \\n', random.choice(list(df_cluster['song_and_artist'])))"
   ]
  },
  {
   "cell_type": "code",
   "execution_count": null,
   "id": "743a7ccd",
   "metadata": {},
   "outputs": [],
   "source": []
  }
 ],
 "metadata": {
  "kernelspec": {
   "display_name": "Python 3 (ipykernel)",
   "language": "python",
   "name": "python3"
  },
  "language_info": {
   "codemirror_mode": {
    "name": "ipython",
    "version": 3
   },
   "file_extension": ".py",
   "mimetype": "text/x-python",
   "name": "python",
   "nbconvert_exporter": "python",
   "pygments_lexer": "ipython3",
   "version": "3.9.13"
  }
 },
 "nbformat": 4,
 "nbformat_minor": 5
}
