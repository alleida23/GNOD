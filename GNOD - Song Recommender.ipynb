{
 "cells": [
  {
   "cell_type": "markdown",
   "id": "005b84fa",
   "metadata": {},
   "source": [
    "#### Libraries"
   ]
  },
  {
   "cell_type": "code",
   "execution_count": 10,
   "id": "bfb2c6f0",
   "metadata": {},
   "outputs": [],
   "source": [
    "import pandas as pd\n",
    "import numpy as np\n",
    "\n",
    "import spotipy\n",
    "from spotipy.oauth2 import SpotifyClientCredentials\n",
    "\n",
    "from IPython.display import Markdown, display\n",
    "\n",
    "from youtubesearchpython import VideosSearch\n",
    "\n",
    "from sklearn.preprocessing import StandardScaler\n",
    "from sklearn.metrics.pairwise import cosine_similarity\n",
    "from sklearn import cluster, datasets\n",
    "from sklearn.cluster import KMeans\n",
    "\n",
    "import random\n",
    "\n",
    "import pickle"
   ]
  },
  {
   "cell_type": "markdown",
   "id": "e1bbc7c8",
   "metadata": {},
   "source": [
    "#### Identification and Authentication"
   ]
  },
  {
   "cell_type": "code",
   "execution_count": 2,
   "id": "3111da21",
   "metadata": {},
   "outputs": [],
   "source": [
    "secrets_file = open(\"secrets.txt\",\"r\")\n",
    "string = secrets_file.read()\n",
    "string.split('\\n')\n",
    "\n",
    "# Dictionary\n",
    "secrets_dict={}\n",
    "for line in string.split('\\n'):\n",
    "    if len(line) > 0: \n",
    "        secrets_dict[line.split(':')[0]]=line.split(':')[1].strip()"
   ]
  },
  {
   "cell_type": "markdown",
   "id": "7cb4e476",
   "metadata": {},
   "source": [
    "#### Initializing spotipy"
   ]
  },
  {
   "cell_type": "code",
   "execution_count": 3,
   "id": "daa89956",
   "metadata": {},
   "outputs": [],
   "source": [
    "sp = spotipy.Spotify(auth_manager=SpotifyClientCredentials(client_id=secrets_dict['cid'],\n",
    "                                                           client_secret=secrets_dict['csecret']))\n"
   ]
  },
  {
   "cell_type": "markdown",
   "id": "60bb2c3c",
   "metadata": {},
   "source": [
    "#### Importing required files"
   ]
  },
  {
   "cell_type": "code",
   "execution_count": 4,
   "id": "350f2f6d",
   "metadata": {},
   "outputs": [],
   "source": [
    "topsongs = pd.read_csv('topsongs_data.csv', index_col =False)\n",
    "spotify_data = pd.read_csv('spotify_data.csv', index_col = False )"
   ]
  },
  {
   "cell_type": "markdown",
   "id": "15812995",
   "metadata": {},
   "source": [
    "#### Importing scaler and kmeans models"
   ]
  },
  {
   "cell_type": "code",
   "execution_count": 5,
   "id": "329ad526",
   "metadata": {},
   "outputs": [],
   "source": [
    "scaler = pickle.load(open('scaler_model.pkl','rb'))"
   ]
  },
  {
   "cell_type": "code",
   "execution_count": 6,
   "id": "0e72e792",
   "metadata": {},
   "outputs": [],
   "source": [
    "kmeans = pickle.load(open('kmeans_model.pkl','rb'))"
   ]
  },
  {
   "cell_type": "markdown",
   "id": "5d84142d",
   "metadata": {},
   "source": [
    "#### Importing song recommender function"
   ]
  },
  {
   "cell_type": "markdown",
   "id": "e070aff4",
   "metadata": {},
   "source": [
    "Couldn't import my function"
   ]
  },
  {
   "cell_type": "code",
   "execution_count": null,
   "id": "f5cb0b12",
   "metadata": {},
   "outputs": [],
   "source": []
  },
  {
   "cell_type": "code",
   "execution_count": 10,
   "id": "5387dad9",
   "metadata": {},
   "outputs": [],
   "source": [
    "def get_song_from_spotify(song_searched, spotify_data):\n",
    "    \n",
    "    \"\"\"\n",
    "    The function searches for a song in the Spotify database by taking in a song name \n",
    "    and a dataframe spotify_data. If the song is not in spotify_data, it searches for\n",
    "    the song in the Spotify API and extracts information such as URI and features\n",
    "    of the selected song. This information is converted to a DataFrame and appended to\n",
    "    spotify_data. The updated dataframe is returned, and if the song is not found,\n",
    "    it returns None.\n",
    "    \"\"\"\n",
    "    \n",
    "    # If song is NOT in spotify_data:\n",
    "    if song_searched not in spotify_data['title'].values:\n",
    "        \n",
    "        # Search song usiing spotipy\n",
    "        track_id = sp.search(q='track:' + song_searched, type='track')  # song info\n",
    "\n",
    "        # If there are multiple versions of the song played by different artists:\n",
    "        if len(track_id['tracks']['items']) > 1:\n",
    "            \n",
    "            # Print list of artists who played the song\n",
    "            print(\"\\n\")\n",
    "            print(\"Multiple versions of the song '{}' were found:\".format(song_searched))\n",
    "            print(\"\\n\")\n",
    "            for i, item in enumerate(track_id['tracks']['items']):\n",
    "                print(\"{}: {}\".format(i+1, item['album']['artists'][0]['name']))\n",
    "                \n",
    "            # Ask user to select the desired version of the song\n",
    "            while True:\n",
    "                try:\n",
    "                    # Ask the user to enter a number to pick an artist\n",
    "                    print(\"\\n\")\n",
    "                    selection = int(input(\"Please enter the NUMBER of the version you are looking for: \"))\n",
    "                    # Checking that selected number is not outside the range of available options\n",
    "                    if selection < 1 or selection > len(track_id['tracks']['items']):\n",
    "                        # If it's outisde the range, print error message\n",
    "                        print(\"Invalid selection. Please enter a NUMBER between 1 and {}.\".format(len(track_id['tracks']['items'])))\n",
    "                    # If number selected it's in range\n",
    "                    else:\n",
    "                        break\n",
    "                # Except block which is executed if an exception is raised in the 'try' block.\n",
    "                except ValueError:\n",
    "                    print(\"Invalid selection. Please enter a NUMBER between 1 and {}.\".format(len(track_id['tracks']['items'])))\n",
    "            \n",
    "            # Use the selected version of the song\n",
    "            item = track_id['tracks']['items'][selection-1]\n",
    "        \n",
    "        # If there is NOT multiple versions of the song played by different artists:\n",
    "        else:\n",
    "            # Use the only version of the song found\n",
    "            item = track_id['tracks']['items'][0]\n",
    "        \n",
    "        # Retrieving data of the song selected\n",
    "        song_uri = item['uri']  # uri\n",
    "        features = sp.audio_features(song_uri)[0]\n",
    "\n",
    "        # New dictionary retrieving values for 'title', 'artist' and 'uri'\n",
    "        track = {\n",
    "            'title': item['name'],\n",
    "            'artist': item['album']['artists'][0]['name'],\n",
    "            'uri': song_uri,\n",
    "        }\n",
    "\n",
    "        # For each feature (song uri) add in 'track' dictionary new pairs of key-value to it\n",
    "        for feature_key, feature_value in features.items():\n",
    "            track[feature_key] = feature_value\n",
    "\n",
    "        # Append new songs to spotify_data\n",
    "        new_song_df = pd.DataFrame([track])\n",
    "        spotify_data = pd.concat([spotify_data, new_song_df], axis=0)#, ignore_index=True)\n",
    "        spotify_data = spotify_data.drop_duplicates()\n",
    "        #spotify_data = spotify_data.drop(['Unnamed: 0'], axis=1)\n",
    "        spotify_data = spotify_data.reset_index(drop=True)\n",
    "        #spotify_data.to_csv('spotify_data.csv')\n",
    "        \n",
    "        # Return the results as a DataFrame\n",
    "        return spotify_data\n",
    "    \n",
    "    else:\n",
    "        \n",
    "        print(\"{} was already in spotify_data database\".format(song_searched))\n",
    "        return spotify_data\n",
    "\n",
    "    \n",
    "        # track_name = track_id['tracks']['items'][0]['name'] # title\n",
    "       # track_id['tracks']['items'][0]['album']['artists'][0]['name'] # artist band\n",
    "       # song_uri = track_id['tracks']['items'][0]['uri'] # uri\n",
    "       # features = sp.audio_features(song_uri)[0]\n",
    "    "
   ]
  },
  {
   "cell_type": "code",
   "execution_count": 11,
   "id": "4d986ade",
   "metadata": {},
   "outputs": [],
   "source": [
    "def recommend_song(song_searched, spotify_data, topsongs):\n",
    "    \"\"\"\n",
    "    This function takes in a song name and a dataframe spotify_data.\n",
    "    It first checks if the song is in topsongs, and if so, recommends a song from topsongs.\n",
    "    If the song is not in spotify_data, the function uses Spotipy to search for the song \n",
    "    and gather information about it.\n",
    "    If the song is in spotify_data or its information has already been collected,\n",
    "    the function creates clusters to recommend a song from the same cluster\n",
    "    as the selected song.\n",
    "    \"\"\"\n",
    "    song_searched = song_searched.lower().strip()\n",
    "\n",
    "    # Check if the song is in top songs:\n",
    "    if song_searched in topsongs['title'].str.lower().str.strip().values:\n",
    "        recommended_song = topsongs.loc[topsongs['title'].str.lower().str.strip() != song_searched].sample(n=1)\n",
    "        display(Markdown(f\"Based on your selection of '**{song_searched.capitalize()}**', we recommend the *hot* song '**{recommended_song['title'].iloc[0]}**' by **{recommended_song['artist'].iloc[0]}**.\"))\n",
    "        return recommended_song, spotify_data\n",
    "    \n",
    "    # Nested get_song_from_spotify function:\n",
    "    spotify_data = get_song_from_spotify(song_searched, spotify_data)\n",
    "\n",
    "    X_features = spotify_data.select_dtypes(np.number)\n",
    "\n",
    "    # Scaling Data\n",
    "    scaler = StandardScaler()\n",
    "    X_prep = scaler.fit_transform(X_features)\n",
    "\n",
    "    # KMeans : 8 clusters\n",
    "    kmeans = KMeans(n_clusters=8, random_state=1234)\n",
    "    kmeans.fit(X_prep)\n",
    "\n",
    "    # Finding the index of the selected song:\n",
    "    spotify_data['title'] = spotify_data['title'].str.lower().str.strip()\n",
    "    song_index = spotify_data.index[spotify_data['title'] == song_searched]\n",
    "    \n",
    "    if len(song_index) == 0:\n",
    "        print(f\"No matching song found for {song_searched}\")\n",
    "        return None, spotify_data\n",
    "    \n",
    "    song_index = song_index[0]\n",
    "\n",
    "    # Predicting cluster for the selected song:\n",
    "    song_cluster = kmeans.predict(X_prep[song_index].reshape(1, -1))[0]\n",
    "\n",
    "    # Selecting a random song from the same cluster:\n",
    "    cluster_songs = spotify_data[kmeans.labels_ == song_cluster]\n",
    "    recommended_song = cluster_songs.sample(n=1)\n",
    "    \n",
    "    # Finding most similar song based on cosine similarity:\n",
    "    X_searched = X_prep[song_index].reshape(1, -1)\n",
    "    similarities = cosine_similarity(X_searched, X_prep)\n",
    "    sim_indices = similarities.argsort()[0][::-1][1:]\n",
    "    sim_cluster_songs = spotify_data.iloc[sim_indices][kmeans.labels_[sim_indices] == song_cluster]\n",
    "    similar_song = sim_cluster_songs.iloc[0]\n",
    "\n",
    "    # Get YouTube links for both recommended songs\n",
    "    search_results = VideosSearch(f\"{similar_song['title']} {similar_song['artist']}\", limit=1).result()[\"result\"]\n",
    "    similar_song_url = search_results[0][\"link\"]\n",
    "    search_results = VideosSearch(f\"{recommended_song['title'].iloc[0]} {recommended_song['artist'].iloc[0]}\", limit=1).result()[\"result\"]\n",
    "    recommended_song_url = search_results[0][\"link\"]\n",
    "    \n",
    "    print(\"\\n\")\n",
    "    # Print both recommendations and their URLs\n",
    "    display(Markdown(f\"The most similar song to '**{song_searched.capitalize()}**' is:\\n\\n**'{similar_song['title'].upper()}'** by **'{similar_song['artist'].upper()}'**.\"))\n",
    "    display(Markdown(f\"URL: {similar_song_url}\"))\n",
    "    #display(Markdown(f\"[**URL**]({similar_song_url})\\n\"))\n",
    "    print(\"\\n\")\n",
    "    display(Markdown(f\"If you're a fan of '**{song_searched.capitalize()}**', you might like:\\n\\n**'{recommended_song['title'].iloc[0].upper()}'** by **'{recommended_song['artist'].iloc[0].upper()}'**.\\n\\nIt may not be the most similar, but who knows? You might discover your new favorite song!\"))\n",
    "    display(Markdown(f\"URL: {recommended_song_url}\"))\n",
    "    #display(Markdown(f\"[**URL**]({recommended_song_url})\\n\"))"
   ]
  },
  {
   "cell_type": "markdown",
   "id": "42c76741",
   "metadata": {},
   "source": [
    "## Song Recommender"
   ]
  },
  {
   "cell_type": "code",
   "execution_count": 16,
   "id": "0c3628cc",
   "metadata": {},
   "outputs": [
    {
     "name": "stdout",
     "output_type": "stream",
     "text": [
      "donde habita el olvido\n",
      "\n",
      "\n",
      "Multiple versions of the song 'donde habita el olvido' were found:\n",
      "\n",
      "\n",
      "1: Joaquín Sabina\n",
      "2: Joaquín Sabina\n",
      "3: Bunbury\n",
      "4: Joaquín Sabina\n",
      "5: Joaquín Sabina\n",
      "6: Joaquín Sabina\n",
      "7: La Fuga\n",
      "8: Jaime Candie\n",
      "9: Malas Compañías\n",
      "10: Candela Vargas\n",
      "\n",
      "\n",
      "Please enter the NUMBER of the version you are looking for: 2\n",
      "\n",
      "\n"
     ]
    },
    {
     "data": {
      "text/markdown": [
       "The most similar song to '**Donde habita el olvido**' is:\n",
       "\n",
       "**'IT'S OVER - 7\" REMIX'** by **'LEVEL 42'**."
      ],
      "text/plain": [
       "<IPython.core.display.Markdown object>"
      ]
     },
     "metadata": {},
     "output_type": "display_data"
    },
    {
     "data": {
      "text/markdown": [
       "URL: https://www.youtube.com/watch?v=P123rhOyGc8"
      ],
      "text/plain": [
       "<IPython.core.display.Markdown object>"
      ]
     },
     "metadata": {},
     "output_type": "display_data"
    },
    {
     "name": "stdout",
     "output_type": "stream",
     "text": [
      "\n",
      "\n"
     ]
    },
    {
     "data": {
      "text/markdown": [
       "If you're a fan of '**Donde habita el olvido**', you might like:\n",
       "\n",
       "**'FEELIN' STRONGER EVERY DAY'** by **'CHICAGO'**.\n",
       "\n",
       "It may not be the most similar, but who knows? You might discover your new favorite song!"
      ],
      "text/plain": [
       "<IPython.core.display.Markdown object>"
      ]
     },
     "metadata": {},
     "output_type": "display_data"
    },
    {
     "data": {
      "text/markdown": [
       "URL: https://www.youtube.com/watch?v=DljvkWj_siY"
      ],
      "text/plain": [
       "<IPython.core.display.Markdown object>"
      ]
     },
     "metadata": {},
     "output_type": "display_data"
    }
   ],
   "source": [
    "song_searched = input()\n",
    "#recommended_song, spotify_data = recommend_song(song_searched, spotify_data, topsongs)\n",
    "recommend_song(song_searched, spotify_data, topsongs)\n",
    "spotify_data.to_csv('spotify_data.csv', index=False)"
   ]
  },
  {
   "cell_type": "code",
   "execution_count": null,
   "id": "43d7e918",
   "metadata": {},
   "outputs": [],
   "source": []
  },
  {
   "cell_type": "code",
   "execution_count": null,
   "id": "8f9ee463",
   "metadata": {},
   "outputs": [],
   "source": []
  },
  {
   "cell_type": "code",
   "execution_count": null,
   "id": "11d35be5",
   "metadata": {},
   "outputs": [],
   "source": []
  },
  {
   "cell_type": "code",
   "execution_count": 27,
   "id": "743a7ccd",
   "metadata": {},
   "outputs": [],
   "source": [
    "from get_song_from_spotify_module import get_song_from_spotify\n",
    "\n",
    "with open('get_song_from_spotify.pkl', 'rb') as f:\n",
    "    get_song_from_spotify = pickle.load(f)"
   ]
  },
  {
   "cell_type": "code",
   "execution_count": 29,
   "id": "974528c7",
   "metadata": {},
   "outputs": [
    {
     "ename": "FileNotFoundError",
     "evalue": "[Errno 2] No such file or directory: 'recommend_song.pkl'",
     "output_type": "error",
     "traceback": [
      "\u001b[0;31m---------------------------------------------------------------------------\u001b[0m",
      "\u001b[0;31mFileNotFoundError\u001b[0m                         Traceback (most recent call last)",
      "\u001b[0;32m/var/folders/w7/7cfd14hn02g0d126w5q47rqw0000gn/T/ipykernel_987/4273121476.py\u001b[0m in \u001b[0;36m<module>\u001b[0;34m\u001b[0m\n\u001b[1;32m      2\u001b[0m \u001b[0;32mimport\u001b[0m \u001b[0mpickle\u001b[0m\u001b[0;34m\u001b[0m\u001b[0;34m\u001b[0m\u001b[0m\n\u001b[1;32m      3\u001b[0m \u001b[0;34m\u001b[0m\u001b[0m\n\u001b[0;32m----> 4\u001b[0;31m \u001b[0;32mwith\u001b[0m \u001b[0mopen\u001b[0m\u001b[0;34m(\u001b[0m\u001b[0;34m'recommend_song.pkl'\u001b[0m\u001b[0;34m,\u001b[0m \u001b[0;34m'rb'\u001b[0m\u001b[0;34m)\u001b[0m \u001b[0;32mas\u001b[0m \u001b[0mf\u001b[0m\u001b[0;34m:\u001b[0m\u001b[0;34m\u001b[0m\u001b[0;34m\u001b[0m\u001b[0m\n\u001b[0m\u001b[1;32m      5\u001b[0m     \u001b[0mrecommend_song\u001b[0m \u001b[0;34m=\u001b[0m \u001b[0mpickle\u001b[0m\u001b[0;34m.\u001b[0m\u001b[0mload\u001b[0m\u001b[0;34m(\u001b[0m\u001b[0mf\u001b[0m\u001b[0;34m)\u001b[0m\u001b[0;34m\u001b[0m\u001b[0;34m\u001b[0m\u001b[0m\n",
      "\u001b[0;31mFileNotFoundError\u001b[0m: [Errno 2] No such file or directory: 'recommend_song.pkl'"
     ]
    }
   ],
   "source": [
    "from recommend_song_module import recommend_song\n",
    "\n",
    "with open('recommend_song.pkl', 'rb') as f:\n",
    "    recommend_song = pickle.load(f)"
   ]
  },
  {
   "cell_type": "code",
   "execution_count": 26,
   "id": "b522d4dd",
   "metadata": {},
   "outputs": [
    {
     "name": "stdout",
     "output_type": "stream",
     "text": [
      "File not found\n"
     ]
    }
   ],
   "source": [
    "import os\n",
    "\n",
    "if os.path.exists('/IH-Labs/6-week/GNOD/recommend_song.pkl'):\n",
    "    print(\"File exists\")\n",
    "else:\n",
    "    print(\"File not found\")"
   ]
  },
  {
   "cell_type": "code",
   "execution_count": null,
   "id": "6ed08545",
   "metadata": {},
   "outputs": [],
   "source": []
  }
 ],
 "metadata": {
  "kernelspec": {
   "display_name": "Python 3 (ipykernel)",
   "language": "python",
   "name": "python3"
  },
  "language_info": {
   "codemirror_mode": {
    "name": "ipython",
    "version": 3
   },
   "file_extension": ".py",
   "mimetype": "text/x-python",
   "name": "python",
   "nbconvert_exporter": "python",
   "pygments_lexer": "ipython3",
   "version": "3.9.13"
  }
 },
 "nbformat": 4,
 "nbformat_minor": 5
}
