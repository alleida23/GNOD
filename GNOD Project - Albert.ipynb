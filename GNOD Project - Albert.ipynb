{
 "cells": [
  {
   "cell_type": "markdown",
   "id": "2de316c5",
   "metadata": {},
   "source": [
    "## GNOD 1\n"
   ]
  },
  {
   "cell_type": "markdown",
   "id": "e2324599",
   "metadata": {},
   "source": [
    "#### Business goal:\n",
    "Check the case_study_gnod.md file.\n",
    "\n",
    "Make sure you've understood the big picture of your project:\n",
    "\n",
    "- the goal of the company (Gnod),\n",
    "- their current product (Gnoosic),\n",
    "- their strategy, and\n",
    "- how your project fits into this context.\n",
    "\n",
    "Re-read the business case and the e-mail from the CTO, take a look at the flowchart and create an initial Trello board with the tasks you think you'll have to accomplish.\n",
    "\n",
    "\n",
    "\n",
    "\n",
    "\n",
    "#### Instructions - Scraping popular songs\n",
    "Your product will take a song as an input from the user and will output another song (the recommendation). In most cases, the recommended song will have to be similar to the inputted song, but the CTO thinks that if the song is on the top charts at the moment, the user will enjoy more a recommendation of a song that's also popular at the moment.\n",
    "\n",
    "You have find data on the internet about currently popular songs. Billboard maintains a weekly Top 100 of \"hot\" songs here: https://www.billboard.com/charts/hot-100.\n",
    "\n",
    "It's a good place to start! Scrape the current top 100 songs and their respective artists, and put the information into a pandas dataframe.\n",
    "\n",
    "\n",
    "\n",
    "\n",
    "--> popvortex.com/music/charts/top-100-songs.php"
   ]
  },
  {
   "cell_type": "code",
   "execution_count": 1,
   "id": "ac09d55c",
   "metadata": {},
   "outputs": [],
   "source": [
    "# Libraries\n",
    "import pandas as pd\n",
    "import requests\n",
    "from bs4 import BeautifulSoup\n",
    "import time\n",
    "import random\n"
   ]
  },
  {
   "cell_type": "code",
   "execution_count": 2,
   "id": "cb4da091",
   "metadata": {},
   "outputs": [],
   "source": [
    "url = 'https://www.popvortex.com/music/charts/top-100-songs.php'\n",
    "response = requests.get(url)\n",
    "soup = BeautifulSoup(response.content, 'html.parser')"
   ]
  },
  {
   "cell_type": "code",
   "execution_count": 3,
   "id": "f6199d19",
   "metadata": {},
   "outputs": [
    {
     "data": {
      "text/plain": [
       "200"
      ]
     },
     "metadata": {},
     "output_type": "display_data"
    }
   ],
   "source": [
    "display(response.status_code)\n",
    "#soup"
   ]
  },
  {
   "cell_type": "code",
   "execution_count": null,
   "id": "3c74075e",
   "metadata": {},
   "outputs": [],
   "source": [
    "# Artist Name // #chart-position-1 > div.chart-content.col-xs-12.col-sm-8 > p > em\n",
    "\n",
    "# Song title // #chart-position-1 > div.chart-content.col-xs-12.col-sm-8 > p > cite\n",
    "\n",
    "# genre // #chart-position-1 > div.chart-content.col-xs-12.col-sm-8 > ul > li:nth-child(2) > a\n",
    "\n",
    "# release date // #chart-position-1 > div.chart-content.col-xs-12.col-sm-8 > ul > li:nth-child(3)"
   ]
  },
  {
   "cell_type": "code",
   "execution_count": null,
   "id": "c5ac1b12",
   "metadata": {},
   "outputs": [],
   "source": [
    "#soup.select(\"p\")"
   ]
  },
  {
   "cell_type": "code",
   "execution_count": 4,
   "id": "b4fc56f6",
   "metadata": {},
   "outputs": [
    {
     "data": {
      "text/plain": [
       "[<cite class=\"title\">Last Night</cite>,\n",
       " <cite class=\"title\">Fast Car</cite>,\n",
       " <cite class=\"title\">Flowers</cite>,\n",
       " <cite class=\"title\">Calm Down</cite>,\n",
       " <cite class=\"title\">Like Crazy (Deep House Remix)</cite>,\n",
       " <cite class=\"title\">Anti-Hero</cite>,\n",
       " <cite class=\"title\">Like Crazy (UK Garage Remix)</cite>,\n",
       " <cite class=\"title\">Eyes Closed</cite>,\n",
       " <cite class=\"title\">Heart Like A Truck</cite>,\n",
       " <cite class=\"title\">Like Crazy (Instrumental)</cite>]"
      ]
     },
     "execution_count": 4,
     "metadata": {},
     "output_type": "execute_result"
    }
   ],
   "source": [
    "soup.select(\"p cite\")[0:10]"
   ]
  },
  {
   "cell_type": "code",
   "execution_count": 5,
   "id": "e8ee6b3d",
   "metadata": {},
   "outputs": [
    {
     "data": {
      "text/plain": [
       "[<em class=\"artist\">Morgan Wallen</em>,\n",
       " <em class=\"artist\">Luke Combs</em>,\n",
       " <em class=\"artist\">Miley Cyrus</em>,\n",
       " <em class=\"artist\">Rema &amp; Selena Gomez</em>,\n",
       " <em class=\"artist\">Jimin</em>,\n",
       " <em class=\"artist\">Taylor Swift</em>,\n",
       " <em class=\"artist\">Jimin</em>,\n",
       " <em class=\"artist\">Ed Sheeran</em>,\n",
       " <em class=\"artist\">Lainey Wilson</em>,\n",
       " <em class=\"artist\">Jimin</em>]"
      ]
     },
     "execution_count": 5,
     "metadata": {},
     "output_type": "execute_result"
    }
   ],
   "source": [
    "soup.select(\"p em\")[0:10]"
   ]
  },
  {
   "cell_type": "code",
   "execution_count": 6,
   "id": "7b4decf9",
   "metadata": {},
   "outputs": [
    {
     "data": {
      "text/plain": [
       "[<a href=\"/music/charts/top-country-songs.php\">Country</a>,\n",
       " <a href=\"/music/charts/top-kpop-songs.php\">K-Pop</a>,\n",
       " <a href=\"/music/charts/top-kpop-songs.php\">K-Pop</a>,\n",
       " <a href=\"/music/charts/top-pop-songs.php\">Pop</a>,\n",
       " <a href=\"/music/charts/top-kpop-songs.php\">K-Pop</a>,\n",
       " <a href=\"/music/charts/top-alternative-songs.php\">Alternative</a>,\n",
       " <a href=\"/music/charts/top-kpop-songs.php\">K-Pop</a>,\n",
       " <a href=\"/music/charts/top-kpop-songs.php\">K-Pop</a>,\n",
       " <a href=\"/music/charts/top-christian-gospel-songs.php\">Christian &amp; Gospel</a>,\n",
       " <a href=\"/music/charts/top-pop-songs.php\">Pop</a>]"
      ]
     },
     "execution_count": 6,
     "metadata": {},
     "output_type": "execute_result"
    }
   ],
   "source": [
    "soup.select(\"div.chart-content.col-xs-12.col-sm-8 > ul > li:nth-child(2) > a\")[0:10]"
   ]
  },
  {
   "cell_type": "code",
   "execution_count": 7,
   "id": "6cce0dc6",
   "metadata": {},
   "outputs": [
    {
     "data": {
      "text/plain": [
       "[<li><strong>Release Date</strong>: March 24, 2023</li>,\n",
       " <li class=\"billboard-chart billboard-number-one\">The current #1 hit song  in the U.S. on the <cite><a href=\"http://www.billboard.com/charts/hot-100\" rel=\"noopener\" target=\"_blank\">Billboard Hot 100</a></cite> chart.<br/>2 weeks at #1.</li>,\n",
       " <li><strong>Release Date</strong>: March 26, 2023</li>,\n",
       " <li class=\"billboard-chart\">Former #1 song on the <cite>Billboard Hot 100</cite> chart.</li>,\n",
       " <li><strong>Release Date</strong>: March 26, 2023</li>,\n",
       " <li><strong>Release Date</strong>: March 24, 2023</li>,\n",
       " <li><strong>Release Date</strong>: March 26, 2023</li>,\n",
       " <li><strong>Release Date</strong>: </li>,\n",
       " <li><strong>Release Date</strong>: March 23, 2023</li>,\n",
       " <li><strong>Release Date</strong>: March 24, 2023</li>]"
      ]
     },
     "execution_count": 7,
     "metadata": {},
     "output_type": "execute_result"
    }
   ],
   "source": [
    "soup.select (\"div.chart-content.col-xs-12.col-sm-8 > ul > li:nth-child(3)\")[0:10]"
   ]
  },
  {
   "cell_type": "code",
   "execution_count": 8,
   "id": "a4f2a0e2",
   "metadata": {},
   "outputs": [
    {
     "name": "stdout",
     "output_type": "stream",
     "text": [
      "['Last Night', 'Fast Car', 'Flowers', 'Calm Down', 'Like Crazy (Deep House Remix)', 'Anti-Hero', 'Like Crazy (UK Garage Remix)', 'Eyes Closed', 'Heart Like A Truck', 'Like Crazy (Instrumental)']\n",
      "['Morgan Wallen', 'Luke Combs', 'Miley Cyrus', 'Rema & Selena Gomez', 'Jimin', 'Taylor Swift', 'Jimin', 'Ed Sheeran', 'Lainey Wilson', 'Jimin']\n",
      "100\n",
      "100\n"
     ]
    }
   ],
   "source": [
    "#Empty Lists\n",
    "title = []\n",
    "artist = []\n",
    "\n",
    "# Iterations\n",
    "num_iter = len(soup.select(\"p cite\"))\n",
    "\n",
    "title_song = soup.select(\"p cite\")\n",
    "artist_song = soup.select(\"p em\")\n",
    "\n",
    "for i in range(num_iter):\n",
    "    title.append(title_song[i].get_text())\n",
    "    artist.append(artist_song[i].get_text())\n",
    "    \n",
    "print(title[0:10])\n",
    "print(artist[0:10])\n",
    "\n",
    "\n",
    "#\n",
    "\n",
    "print(len(title))\n",
    "print(len(artist))\n",
    "#print(len(genre))\n",
    "#print(len(release_date))"
   ]
  },
  {
   "cell_type": "code",
   "execution_count": 9,
   "id": "5828420f",
   "metadata": {},
   "outputs": [],
   "source": [
    "# Columns of a dataframe\n",
    "topsongs = pd.DataFrame({\"title\":title,\n",
    "                       \"artist\":artist})"
   ]
  },
  {
   "cell_type": "code",
   "execution_count": 10,
   "id": "b0c008ad",
   "metadata": {},
   "outputs": [
    {
     "data": {
      "text/html": [
       "<div>\n",
       "<style scoped>\n",
       "    .dataframe tbody tr th:only-of-type {\n",
       "        vertical-align: middle;\n",
       "    }\n",
       "\n",
       "    .dataframe tbody tr th {\n",
       "        vertical-align: top;\n",
       "    }\n",
       "\n",
       "    .dataframe thead th {\n",
       "        text-align: right;\n",
       "    }\n",
       "</style>\n",
       "<table border=\"1\" class=\"dataframe\">\n",
       "  <thead>\n",
       "    <tr style=\"text-align: right;\">\n",
       "      <th></th>\n",
       "      <th>title</th>\n",
       "      <th>artist</th>\n",
       "    </tr>\n",
       "  </thead>\n",
       "  <tbody>\n",
       "    <tr>\n",
       "      <th>0</th>\n",
       "      <td>Last Night</td>\n",
       "      <td>Morgan Wallen</td>\n",
       "    </tr>\n",
       "    <tr>\n",
       "      <th>1</th>\n",
       "      <td>Fast Car</td>\n",
       "      <td>Luke Combs</td>\n",
       "    </tr>\n",
       "    <tr>\n",
       "      <th>2</th>\n",
       "      <td>Flowers</td>\n",
       "      <td>Miley Cyrus</td>\n",
       "    </tr>\n",
       "    <tr>\n",
       "      <th>3</th>\n",
       "      <td>Calm Down</td>\n",
       "      <td>Rema &amp; Selena Gomez</td>\n",
       "    </tr>\n",
       "    <tr>\n",
       "      <th>4</th>\n",
       "      <td>Like Crazy (Deep House Remix)</td>\n",
       "      <td>Jimin</td>\n",
       "    </tr>\n",
       "    <tr>\n",
       "      <th>5</th>\n",
       "      <td>Anti-Hero</td>\n",
       "      <td>Taylor Swift</td>\n",
       "    </tr>\n",
       "    <tr>\n",
       "      <th>6</th>\n",
       "      <td>Like Crazy (UK Garage Remix)</td>\n",
       "      <td>Jimin</td>\n",
       "    </tr>\n",
       "    <tr>\n",
       "      <th>7</th>\n",
       "      <td>Eyes Closed</td>\n",
       "      <td>Ed Sheeran</td>\n",
       "    </tr>\n",
       "    <tr>\n",
       "      <th>8</th>\n",
       "      <td>Heart Like A Truck</td>\n",
       "      <td>Lainey Wilson</td>\n",
       "    </tr>\n",
       "    <tr>\n",
       "      <th>9</th>\n",
       "      <td>Like Crazy (Instrumental)</td>\n",
       "      <td>Jimin</td>\n",
       "    </tr>\n",
       "    <tr>\n",
       "      <th>10</th>\n",
       "      <td>You Say</td>\n",
       "      <td>Lauren Daigle</td>\n",
       "    </tr>\n",
       "    <tr>\n",
       "      <th>11</th>\n",
       "      <td>Players</td>\n",
       "      <td>Coi Leray</td>\n",
       "    </tr>\n",
       "    <tr>\n",
       "      <th>12</th>\n",
       "      <td>Thinkin’ Bout Me</td>\n",
       "      <td>Morgan Wallen</td>\n",
       "    </tr>\n",
       "    <tr>\n",
       "      <th>13</th>\n",
       "      <td>Thought You Should Know</td>\n",
       "      <td>Morgan Wallen</td>\n",
       "    </tr>\n",
       "    <tr>\n",
       "      <th>14</th>\n",
       "      <td>Thank God I Do</td>\n",
       "      <td>Lauren Daigle</td>\n",
       "    </tr>\n",
       "    <tr>\n",
       "      <th>15</th>\n",
       "      <td>Fighting Myself</td>\n",
       "      <td>LINKIN PARK</td>\n",
       "    </tr>\n",
       "    <tr>\n",
       "      <th>16</th>\n",
       "      <td>Thank God</td>\n",
       "      <td>Kane Brown &amp; Katelyn Brown</td>\n",
       "    </tr>\n",
       "    <tr>\n",
       "      <th>17</th>\n",
       "      <td>TRUSTFALL</td>\n",
       "      <td>P!nk</td>\n",
       "    </tr>\n",
       "    <tr>\n",
       "      <th>18</th>\n",
       "      <td>labour</td>\n",
       "      <td>Paris Paloma</td>\n",
       "    </tr>\n",
       "    <tr>\n",
       "      <th>19</th>\n",
       "      <td>Growin' Up and Gettin' Old</td>\n",
       "      <td>Luke Combs</td>\n",
       "    </tr>\n",
       "  </tbody>\n",
       "</table>\n",
       "</div>"
      ],
      "text/plain": [
       "                            title                      artist\n",
       "0                      Last Night               Morgan Wallen\n",
       "1                        Fast Car                  Luke Combs\n",
       "2                         Flowers                 Miley Cyrus\n",
       "3                       Calm Down         Rema & Selena Gomez\n",
       "4   Like Crazy (Deep House Remix)                       Jimin\n",
       "5                       Anti-Hero                Taylor Swift\n",
       "6    Like Crazy (UK Garage Remix)                       Jimin\n",
       "7                     Eyes Closed                  Ed Sheeran\n",
       "8              Heart Like A Truck               Lainey Wilson\n",
       "9       Like Crazy (Instrumental)                       Jimin\n",
       "10                        You Say               Lauren Daigle\n",
       "11                        Players                   Coi Leray\n",
       "12               Thinkin’ Bout Me               Morgan Wallen\n",
       "13        Thought You Should Know               Morgan Wallen\n",
       "14                 Thank God I Do               Lauren Daigle\n",
       "15                Fighting Myself                 LINKIN PARK\n",
       "16                      Thank God  Kane Brown & Katelyn Brown\n",
       "17                      TRUSTFALL                        P!nk\n",
       "18                         labour                Paris Paloma\n",
       "19     Growin' Up and Gettin' Old                  Luke Combs"
      ]
     },
     "metadata": {},
     "output_type": "display_data"
    },
    {
     "data": {
      "text/plain": [
       "100"
      ]
     },
     "metadata": {},
     "output_type": "display_data"
    }
   ],
   "source": [
    "display(topsongs.head(20), len(topsongs))"
   ]
  },
  {
   "cell_type": "code",
   "execution_count": null,
   "id": "725ee577",
   "metadata": {},
   "outputs": [],
   "source": []
  },
  {
   "cell_type": "markdown",
   "id": "a3360204",
   "metadata": {},
   "source": [
    "## GNOD 2"
   ]
  },
  {
   "cell_type": "markdown",
   "id": "d8587622",
   "metadata": {},
   "source": [
    "The first steps you took yesterday, were to create a list of Top Songs and Artists from scraping web sites.\n",
    "\n",
    "\n",
    "You should have ended with your lists in a data frame containing at least Song Title and Artist.\n",
    "\n",
    "\n",
    "Today you are creating a recommender where the user inputs a song title and check if that song is in the list you created.   If it is,  give a different random song and artist from the list.  If it is not on the list, let the user know that you have no recommendation at this time.\n"
   ]
  },
  {
   "cell_type": "code",
   "execution_count": 11,
   "id": "d2eff321",
   "metadata": {},
   "outputs": [
    {
     "data": {
      "text/html": [
       "<div>\n",
       "<style scoped>\n",
       "    .dataframe tbody tr th:only-of-type {\n",
       "        vertical-align: middle;\n",
       "    }\n",
       "\n",
       "    .dataframe tbody tr th {\n",
       "        vertical-align: top;\n",
       "    }\n",
       "\n",
       "    .dataframe thead th {\n",
       "        text-align: right;\n",
       "    }\n",
       "</style>\n",
       "<table border=\"1\" class=\"dataframe\">\n",
       "  <thead>\n",
       "    <tr style=\"text-align: right;\">\n",
       "      <th></th>\n",
       "      <th>title</th>\n",
       "      <th>artist</th>\n",
       "    </tr>\n",
       "  </thead>\n",
       "  <tbody>\n",
       "    <tr>\n",
       "      <th>0</th>\n",
       "      <td>Last Night</td>\n",
       "      <td>Morgan Wallen</td>\n",
       "    </tr>\n",
       "    <tr>\n",
       "      <th>1</th>\n",
       "      <td>Fast Car</td>\n",
       "      <td>Luke Combs</td>\n",
       "    </tr>\n",
       "    <tr>\n",
       "      <th>2</th>\n",
       "      <td>Flowers</td>\n",
       "      <td>Miley Cyrus</td>\n",
       "    </tr>\n",
       "    <tr>\n",
       "      <th>3</th>\n",
       "      <td>Calm Down</td>\n",
       "      <td>Rema &amp; Selena Gomez</td>\n",
       "    </tr>\n",
       "    <tr>\n",
       "      <th>4</th>\n",
       "      <td>Like Crazy (Deep House Remix)</td>\n",
       "      <td>Jimin</td>\n",
       "    </tr>\n",
       "  </tbody>\n",
       "</table>\n",
       "</div>"
      ],
      "text/plain": [
       "                           title               artist\n",
       "0                     Last Night        Morgan Wallen\n",
       "1                       Fast Car           Luke Combs\n",
       "2                        Flowers          Miley Cyrus\n",
       "3                      Calm Down  Rema & Selena Gomez\n",
       "4  Like Crazy (Deep House Remix)                Jimin"
      ]
     },
     "execution_count": 11,
     "metadata": {},
     "output_type": "execute_result"
    }
   ],
   "source": [
    "# Previous dataframe\n",
    "topsongs.head(5)"
   ]
  },
  {
   "cell_type": "code",
   "execution_count": 12,
   "id": "cc607080",
   "metadata": {},
   "outputs": [],
   "source": [
    "import random\n",
    "from IPython.display import Markdown, display  # library to display in bolt letters, etc\n",
    "\n",
    "def similar_top100(topsongs, song_searched):\n",
    "    \n",
    "    # Converting both input value and 'title' in lower case\n",
    "    song_searched = song_searched.lower() \n",
    "    topsongs['title'] = topsongs['title'].str.lower()\n",
    "    \n",
    "    # IF song in the input IS IN the 'title column'\n",
    "    if song_searched in topsongs['title'].values:\n",
    "        # While song in input IS different from the recommended (output)\n",
    "        while True:\n",
    "            # Generating a random number to select another song from the list\n",
    "            random_num = random.randint(0, len(topsongs)-1)\n",
    "            # Picking the song 'title' with random_num index\n",
    "            song_recommended_title = topsongs.iloc[random_num]['title']\n",
    "            # Getting also the artist name \n",
    "            song_recommended_artist = topsongs.iloc[random_num]['artist']\n",
    "            # If recommended song IS NOT the same as the searched one, stop the while\n",
    "            if song_recommended_title != song_searched:\n",
    "                break\n",
    "        # Capitalizing first letters of 'title' (.title())\n",
    "        song_recommended_title = song_recommended_title.title()\n",
    "        # Joinning song and artist to display in the output\n",
    "        song_recommended = f\"{song_recommended_title} by {song_recommended_artist}\"\n",
    "        # Displaying output with both 'title' and 'artist' bigger and bolt style.\n",
    "        display(Markdown(f\"You should listen to: **{song_recommended}**!\"))\n",
    "    \n",
    "    # If song in the input IS NOT in 'title column'\n",
    "    else:\n",
    "        print(\"Sorry, you have very bad musical taste. Try another one...\")"
   ]
  },
  {
   "cell_type": "code",
   "execution_count": 13,
   "id": "79c19bbd",
   "metadata": {},
   "outputs": [
    {
     "name": "stdout",
     "output_type": "stream",
     "text": [
      "Introduce the name of a song: Flowers\n"
     ]
    },
    {
     "data": {
      "text/markdown": [
       "You should listen to: **Thank God I Do by Lauren Daigle**!"
      ],
      "text/plain": [
       "<IPython.core.display.Markdown object>"
      ]
     },
     "metadata": {},
     "output_type": "display_data"
    }
   ],
   "source": [
    "# Input\n",
    "song_searched = input(\"Introduce the name of a song: \")\n",
    "# Applying function\n",
    "similar_top100(topsongs,song_searched)\n"
   ]
  },
  {
   "cell_type": "code",
   "execution_count": null,
   "id": "17ba4519",
   "metadata": {},
   "outputs": [],
   "source": []
  },
  {
   "cell_type": "markdown",
   "id": "591bcbeb",
   "metadata": {},
   "source": [
    "## GNOD 3"
   ]
  },
  {
   "cell_type": "markdown",
   "id": "92d53e17",
   "metadata": {},
   "source": [
    "To move forward with the project, you need to create a collection of songs with their audio features - as large as possible!\n",
    "\n",
    "\n",
    "\n",
    "These are the songs that we will cluster. And, later, when the user inputs a song, we will find the cluster to which the song belongs and recommend a song from the same cluster. The more songs you have, the more accurate and diverse recommendations you'll be able to give. Although... you might want to make sure the collected songs are \"curated\" in a certain way. Try to find playlists of songs that are diverse, but also that meet certain standards.\n",
    "\n",
    "\n",
    "\n",
    "The process of sending hundreds or thousands of requests can take some time - it's normal if you have to wait a few minutes (or, if you're ambitious, even hours) to get all the data you need.\n",
    "\n",
    "An idea for collecting as many songs as possible is to start with all the songs of a big, diverse playlist and then go to every artist present in the playlist and grab every song of every album of that artist. The amount of songs you'll be collecting per playlist will grow exponentially!\n"
   ]
  },
  {
   "cell_type": "code",
   "execution_count": 16,
   "id": "698b8e8b",
   "metadata": {},
   "outputs": [],
   "source": [
    "import spotipy\n",
    "from spotipy.oauth2 import SpotifyClientCredentials\n",
    "\n",
    "#### Authentification\n",
    "\n",
    "secrets_file = open(\"secrets.txt\",\"r\")\n",
    "string = secrets_file.read()\n",
    "#string.split('\\n')\n",
    "\n",
    "# Dictionary\n",
    "secrets_dict={}\n",
    "for line in string.split('\\n'):\n",
    "    if len(line) > 0: # excluding empty lines\n",
    "        #           [first element:key]  [ second element:value  ]\n",
    "        secrets_dict[line.split(':')[0]]=line.split(':')[1].strip()\n"
   ]
  },
  {
   "cell_type": "markdown",
   "id": "4132c2a7",
   "metadata": {},
   "source": [
    "#### Authentication with secrets text file"
   ]
  },
  {
   "cell_type": "code",
   "execution_count": 17,
   "id": "51a46f9a",
   "metadata": {},
   "outputs": [],
   "source": [
    "#Initialize SpotiPy with user credentials\n",
    "sp = spotipy.Spotify(auth_manager=SpotifyClientCredentials(client_id=secrets_dict['cid'],\n",
    "                                                           client_secret=secrets_dict['csecret']))\n"
   ]
  },
  {
   "cell_type": "markdown",
   "id": "ee0f48f7",
   "metadata": {},
   "source": [
    "#### Playlists selected from Spotify"
   ]
  },
  {
   "cell_type": "code",
   "execution_count": null,
   "id": "df7d3aa6",
   "metadata": {},
   "outputs": [],
   "source": [
    "# Top 2000 (1999): 37i9dQZF1DWTmvXBN4DgpA\n",
    "# Top 5000 (2705) - private: 5DPT4gtwr5AeFlf3YVvdmK\n",
    "# Top 5000 (3318) - private: 4RVf1hHtwvMEED3yuCNi8q\n",
    "# Best Music of all times (1723): 1BHsIy6qBuhJVzys6nr2uo"
   ]
  },
  {
   "cell_type": "markdown",
   "id": "d6afe75a",
   "metadata": {},
   "source": [
    "#### Audio features"
   ]
  },
  {
   "cell_type": "code",
   "execution_count": 18,
   "id": "3e94471b",
   "metadata": {},
   "outputs": [],
   "source": [
    "# List of playlists id\n",
    "playlist_id = ['37i9dQZF1DWTmvXBN4DgpA',\n",
    "               '5DPT4gtwr5AeFlf3YVvdmK',\n",
    "               '4RVf1hHtwvMEED3yuCNi8q'],\n",
    "              # '1BHsIy6qBuhJVzys6nr2uo']\n"
   ]
  },
  {
   "cell_type": "code",
   "execution_count": 19,
   "id": "4b549f64",
   "metadata": {},
   "outputs": [
    {
     "data": {
      "text/plain": [
       "dict"
      ]
     },
     "metadata": {},
     "output_type": "display_data"
    },
    {
     "data": {
      "text/plain": [
       "1999"
      ]
     },
     "metadata": {},
     "output_type": "display_data"
    },
    {
     "data": {
      "text/plain": [
       "dict"
      ]
     },
     "metadata": {},
     "output_type": "display_data"
    },
    {
     "data": {
      "text/plain": [
       "2705"
      ]
     },
     "metadata": {},
     "output_type": "display_data"
    },
    {
     "data": {
      "text/plain": [
       "dict"
      ]
     },
     "metadata": {},
     "output_type": "display_data"
    },
    {
     "data": {
      "text/plain": [
       "3318"
      ]
     },
     "metadata": {},
     "output_type": "display_data"
    }
   ],
   "source": [
    "playlist1 = sp.user_playlist_tracks(\"spotify\", \"37i9dQZF1DWTmvXBN4DgpA\")\n",
    "playlist2 = sp.user_playlist_tracks(\"spotify\", \"5DPT4gtwr5AeFlf3YVvdmK\")\n",
    "playlist3 = sp.user_playlist_tracks(\"spotify\", \"4RVf1hHtwvMEED3yuCNi8q\")\n",
    "#playlist4 = sp.user_playlist_tracks(\"spotify\", \"1BHsIy6qBuhJVzys6nr2uo\")\n",
    "\n",
    "\n",
    "display(type(playlist1), playlist1['total'])\n",
    "display(type(playlist2), playlist2['total'])\n",
    "display(type(playlist3), playlist3['total'])\n",
    "#display(type(playlist4), playlist4['total'])"
   ]
  },
  {
   "cell_type": "code",
   "execution_count": 20,
   "id": "263f35ea",
   "metadata": {},
   "outputs": [],
   "source": [
    "#playlist1"
   ]
  },
  {
   "cell_type": "code",
   "execution_count": 21,
   "id": "f1c26c18",
   "metadata": {},
   "outputs": [
    {
     "data": {
      "text/plain": [
       "'Bohemian Rhapsody - Remastered 2011'"
      ]
     },
     "metadata": {},
     "output_type": "display_data"
    },
    {
     "data": {
      "text/plain": [
       "'Queen'"
      ]
     },
     "metadata": {},
     "output_type": "display_data"
    },
    {
     "data": {
      "text/plain": [
       "'spotify:track:7tFiyTwD0nx5a1eklYtX2J'"
      ]
     },
     "metadata": {},
     "output_type": "display_data"
    }
   ],
   "source": [
    "# Checking the path to get 'title', 'artist' and 'uri'\n",
    "display(playlist1[\"items\"][0][\"track\"][\"name\"]) # title\n",
    "display(playlist1[\"items\"][0][\"track\"][\"artists\"][0][\"name\"]) # artist\n",
    "display(playlist1[\"items\"][0][\"track\"][\"uri\"]) # uri"
   ]
  },
  {
   "cell_type": "markdown",
   "id": "3fcee828",
   "metadata": {},
   "source": [
    "#### Retrieving all data from playlists and creating a new dataframe\n"
   ]
  },
  {
   "cell_type": "code",
   "execution_count": 22,
   "id": "e2a7290c",
   "metadata": {},
   "outputs": [],
   "source": [
    "# List of playlists\n",
    "playlists_list = [\"playlist1\",\"playlist2\",\"playlist3\"] #,\"playlist4\"]\n"
   ]
  },
  {
   "cell_type": "code",
   "execution_count": 23,
   "id": "9d744241",
   "metadata": {},
   "outputs": [],
   "source": [
    "# Function to retrieve ALL data of \"title\", \"artist\", and \"uri\" 's id and metrics\n",
    "# from the playlist dict and convert all them into columns of a new dataframe dataframe\n",
    "\n",
    "def create_playlist_dataframe(playlist, sp):\n",
    "    # List of items in track\n",
    "    tracks = []\n",
    "    \n",
    "    # While there is a next page of results in the playlist\n",
    "    while playlist:\n",
    "        # For each item in playlist:\n",
    "        for item in playlist['items']:\n",
    "            # Look for uri and save id and get values in features\n",
    "            song_uri = item['track']['uri']\n",
    "            features = sp.audio_features(song_uri)[0]\n",
    "            \n",
    "            # New dict retrieving values of 'title', 'artist' and 'uri' (id)\n",
    "            track = {\n",
    "                'title': item['track']['name'],\n",
    "                'artist': item['track']['artists'][0]['name'],\n",
    "                'uri': song_uri,\n",
    "            }\n",
    "            \n",
    "            # for each feature add in track dict the key (column name) and the value\n",
    "            for feature_key, feature_value in features.items():\n",
    "                track[feature_key] = feature_value\n",
    "                \n",
    "            # Append each item in track\n",
    "            tracks.append(track)\n",
    "        \n",
    "        # Get the next page of results\n",
    "        playlist = sp.next(playlist)\n",
    "        \n",
    "        # Sleep for a random time between 1 and 3 seconds to avoid triggering rate limits\n",
    "        sleep_time = random.randint(1, 3)\n",
    "        time.sleep(sleep_time)\n",
    "    \n",
    "    # Return the results as a DataFrame\n",
    "    return pd.DataFrame(tracks)\n"
   ]
  },
  {
   "cell_type": "code",
   "execution_count": 24,
   "id": "2cc298bd",
   "metadata": {},
   "outputs": [],
   "source": [
    "# Applying the function\n",
    "playlist1_df = create_playlist_dataframe(playlist1, sp)"
   ]
  },
  {
   "cell_type": "code",
   "execution_count": 25,
   "id": "b55b2194",
   "metadata": {},
   "outputs": [
    {
     "data": {
      "text/html": [
       "<div>\n",
       "<style scoped>\n",
       "    .dataframe tbody tr th:only-of-type {\n",
       "        vertical-align: middle;\n",
       "    }\n",
       "\n",
       "    .dataframe tbody tr th {\n",
       "        vertical-align: top;\n",
       "    }\n",
       "\n",
       "    .dataframe thead th {\n",
       "        text-align: right;\n",
       "    }\n",
       "</style>\n",
       "<table border=\"1\" class=\"dataframe\">\n",
       "  <thead>\n",
       "    <tr style=\"text-align: right;\">\n",
       "      <th></th>\n",
       "      <th>title</th>\n",
       "      <th>artist</th>\n",
       "      <th>uri</th>\n",
       "      <th>danceability</th>\n",
       "      <th>energy</th>\n",
       "      <th>key</th>\n",
       "      <th>loudness</th>\n",
       "      <th>mode</th>\n",
       "      <th>speechiness</th>\n",
       "      <th>acousticness</th>\n",
       "      <th>instrumentalness</th>\n",
       "      <th>liveness</th>\n",
       "      <th>valence</th>\n",
       "      <th>tempo</th>\n",
       "      <th>type</th>\n",
       "      <th>id</th>\n",
       "      <th>track_href</th>\n",
       "      <th>analysis_url</th>\n",
       "      <th>duration_ms</th>\n",
       "      <th>time_signature</th>\n",
       "    </tr>\n",
       "  </thead>\n",
       "  <tbody>\n",
       "    <tr>\n",
       "      <th>0</th>\n",
       "      <td>Bohemian Rhapsody - Remastered 2011</td>\n",
       "      <td>Queen</td>\n",
       "      <td>spotify:track:7tFiyTwD0nx5a1eklYtX2J</td>\n",
       "      <td>0.392</td>\n",
       "      <td>0.402</td>\n",
       "      <td>0</td>\n",
       "      <td>-9.961</td>\n",
       "      <td>0</td>\n",
       "      <td>0.0536</td>\n",
       "      <td>0.28800</td>\n",
       "      <td>0.000000</td>\n",
       "      <td>0.2430</td>\n",
       "      <td>0.228</td>\n",
       "      <td>143.883</td>\n",
       "      <td>audio_features</td>\n",
       "      <td>7tFiyTwD0nx5a1eklYtX2J</td>\n",
       "      <td>https://api.spotify.com/v1/tracks/7tFiyTwD0nx5...</td>\n",
       "      <td>https://api.spotify.com/v1/audio-analysis/7tFi...</td>\n",
       "      <td>354320</td>\n",
       "      <td>4</td>\n",
       "    </tr>\n",
       "    <tr>\n",
       "      <th>1</th>\n",
       "      <td>Roller Coaster</td>\n",
       "      <td>Danny Vera</td>\n",
       "      <td>spotify:track:5B5YKjgne3TZzNpMsN9aj1</td>\n",
       "      <td>0.401</td>\n",
       "      <td>0.383</td>\n",
       "      <td>9</td>\n",
       "      <td>-10.048</td>\n",
       "      <td>1</td>\n",
       "      <td>0.0279</td>\n",
       "      <td>0.51000</td>\n",
       "      <td>0.007800</td>\n",
       "      <td>0.1210</td>\n",
       "      <td>0.285</td>\n",
       "      <td>96.957</td>\n",
       "      <td>audio_features</td>\n",
       "      <td>5B5YKjgne3TZzNpMsN9aj1</td>\n",
       "      <td>https://api.spotify.com/v1/tracks/5B5YKjgne3TZ...</td>\n",
       "      <td>https://api.spotify.com/v1/audio-analysis/5B5Y...</td>\n",
       "      <td>269986</td>\n",
       "      <td>4</td>\n",
       "    </tr>\n",
       "    <tr>\n",
       "      <th>2</th>\n",
       "      <td>Hotel California - 2013 Remaster</td>\n",
       "      <td>Eagles</td>\n",
       "      <td>spotify:track:40riOy7x9W7GXjyGp4pjAv</td>\n",
       "      <td>0.579</td>\n",
       "      <td>0.508</td>\n",
       "      <td>2</td>\n",
       "      <td>-9.484</td>\n",
       "      <td>1</td>\n",
       "      <td>0.0270</td>\n",
       "      <td>0.00574</td>\n",
       "      <td>0.000494</td>\n",
       "      <td>0.0575</td>\n",
       "      <td>0.609</td>\n",
       "      <td>147.125</td>\n",
       "      <td>audio_features</td>\n",
       "      <td>40riOy7x9W7GXjyGp4pjAv</td>\n",
       "      <td>https://api.spotify.com/v1/tracks/40riOy7x9W7G...</td>\n",
       "      <td>https://api.spotify.com/v1/audio-analysis/40ri...</td>\n",
       "      <td>391376</td>\n",
       "      <td>4</td>\n",
       "    </tr>\n",
       "    <tr>\n",
       "      <th>3</th>\n",
       "      <td>Piano Man</td>\n",
       "      <td>Billy Joel</td>\n",
       "      <td>spotify:track:3FCto7hnn1shUyZL42YgfO</td>\n",
       "      <td>0.334</td>\n",
       "      <td>0.472</td>\n",
       "      <td>0</td>\n",
       "      <td>-8.791</td>\n",
       "      <td>1</td>\n",
       "      <td>0.0277</td>\n",
       "      <td>0.60000</td>\n",
       "      <td>0.000004</td>\n",
       "      <td>0.3170</td>\n",
       "      <td>0.431</td>\n",
       "      <td>179.173</td>\n",
       "      <td>audio_features</td>\n",
       "      <td>3FCto7hnn1shUyZL42YgfO</td>\n",
       "      <td>https://api.spotify.com/v1/tracks/3FCto7hnn1sh...</td>\n",
       "      <td>https://api.spotify.com/v1/audio-analysis/3FCt...</td>\n",
       "      <td>336093</td>\n",
       "      <td>3</td>\n",
       "    </tr>\n",
       "    <tr>\n",
       "      <th>4</th>\n",
       "      <td>Fix You</td>\n",
       "      <td>Coldplay</td>\n",
       "      <td>spotify:track:7LVHVU3tWfcxj5aiPFEW4Q</td>\n",
       "      <td>0.209</td>\n",
       "      <td>0.417</td>\n",
       "      <td>3</td>\n",
       "      <td>-8.740</td>\n",
       "      <td>1</td>\n",
       "      <td>0.0338</td>\n",
       "      <td>0.16400</td>\n",
       "      <td>0.001960</td>\n",
       "      <td>0.1130</td>\n",
       "      <td>0.124</td>\n",
       "      <td>138.178</td>\n",
       "      <td>audio_features</td>\n",
       "      <td>7LVHVU3tWfcxj5aiPFEW4Q</td>\n",
       "      <td>https://api.spotify.com/v1/tracks/7LVHVU3tWfcx...</td>\n",
       "      <td>https://api.spotify.com/v1/audio-analysis/7LVH...</td>\n",
       "      <td>295533</td>\n",
       "      <td>4</td>\n",
       "    </tr>\n",
       "  </tbody>\n",
       "</table>\n",
       "</div>"
      ],
      "text/plain": [
       "                                 title      artist  \\\n",
       "0  Bohemian Rhapsody - Remastered 2011       Queen   \n",
       "1                       Roller Coaster  Danny Vera   \n",
       "2     Hotel California - 2013 Remaster      Eagles   \n",
       "3                            Piano Man  Billy Joel   \n",
       "4                              Fix You    Coldplay   \n",
       "\n",
       "                                    uri  danceability  energy  key  loudness  \\\n",
       "0  spotify:track:7tFiyTwD0nx5a1eklYtX2J         0.392   0.402    0    -9.961   \n",
       "1  spotify:track:5B5YKjgne3TZzNpMsN9aj1         0.401   0.383    9   -10.048   \n",
       "2  spotify:track:40riOy7x9W7GXjyGp4pjAv         0.579   0.508    2    -9.484   \n",
       "3  spotify:track:3FCto7hnn1shUyZL42YgfO         0.334   0.472    0    -8.791   \n",
       "4  spotify:track:7LVHVU3tWfcxj5aiPFEW4Q         0.209   0.417    3    -8.740   \n",
       "\n",
       "   mode  speechiness  acousticness  instrumentalness  liveness  valence  \\\n",
       "0     0       0.0536       0.28800          0.000000    0.2430    0.228   \n",
       "1     1       0.0279       0.51000          0.007800    0.1210    0.285   \n",
       "2     1       0.0270       0.00574          0.000494    0.0575    0.609   \n",
       "3     1       0.0277       0.60000          0.000004    0.3170    0.431   \n",
       "4     1       0.0338       0.16400          0.001960    0.1130    0.124   \n",
       "\n",
       "     tempo            type                      id  \\\n",
       "0  143.883  audio_features  7tFiyTwD0nx5a1eklYtX2J   \n",
       "1   96.957  audio_features  5B5YKjgne3TZzNpMsN9aj1   \n",
       "2  147.125  audio_features  40riOy7x9W7GXjyGp4pjAv   \n",
       "3  179.173  audio_features  3FCto7hnn1shUyZL42YgfO   \n",
       "4  138.178  audio_features  7LVHVU3tWfcxj5aiPFEW4Q   \n",
       "\n",
       "                                          track_href  \\\n",
       "0  https://api.spotify.com/v1/tracks/7tFiyTwD0nx5...   \n",
       "1  https://api.spotify.com/v1/tracks/5B5YKjgne3TZ...   \n",
       "2  https://api.spotify.com/v1/tracks/40riOy7x9W7G...   \n",
       "3  https://api.spotify.com/v1/tracks/3FCto7hnn1sh...   \n",
       "4  https://api.spotify.com/v1/tracks/7LVHVU3tWfcx...   \n",
       "\n",
       "                                        analysis_url  duration_ms  \\\n",
       "0  https://api.spotify.com/v1/audio-analysis/7tFi...       354320   \n",
       "1  https://api.spotify.com/v1/audio-analysis/5B5Y...       269986   \n",
       "2  https://api.spotify.com/v1/audio-analysis/40ri...       391376   \n",
       "3  https://api.spotify.com/v1/audio-analysis/3FCt...       336093   \n",
       "4  https://api.spotify.com/v1/audio-analysis/7LVH...       295533   \n",
       "\n",
       "   time_signature  \n",
       "0               4  \n",
       "1               4  \n",
       "2               4  \n",
       "3               3  \n",
       "4               4  "
      ]
     },
     "metadata": {},
     "output_type": "display_data"
    },
    {
     "data": {
      "text/plain": [
       "(1999, 20)"
      ]
     },
     "metadata": {},
     "output_type": "display_data"
    }
   ],
   "source": [
    "display(playlist1_df.head(5), playlist1_df.shape)"
   ]
  },
  {
   "cell_type": "code",
   "execution_count": 26,
   "id": "4837a6c9",
   "metadata": {},
   "outputs": [],
   "source": [
    "# Applying the function\n",
    "playlist2_df = create_playlist_dataframe(playlist2, sp)"
   ]
  },
  {
   "cell_type": "code",
   "execution_count": 27,
   "id": "99edad2a",
   "metadata": {},
   "outputs": [
    {
     "data": {
      "text/html": [
       "<div>\n",
       "<style scoped>\n",
       "    .dataframe tbody tr th:only-of-type {\n",
       "        vertical-align: middle;\n",
       "    }\n",
       "\n",
       "    .dataframe tbody tr th {\n",
       "        vertical-align: top;\n",
       "    }\n",
       "\n",
       "    .dataframe thead th {\n",
       "        text-align: right;\n",
       "    }\n",
       "</style>\n",
       "<table border=\"1\" class=\"dataframe\">\n",
       "  <thead>\n",
       "    <tr style=\"text-align: right;\">\n",
       "      <th></th>\n",
       "      <th>title</th>\n",
       "      <th>artist</th>\n",
       "      <th>uri</th>\n",
       "      <th>danceability</th>\n",
       "      <th>energy</th>\n",
       "      <th>key</th>\n",
       "      <th>loudness</th>\n",
       "      <th>mode</th>\n",
       "      <th>speechiness</th>\n",
       "      <th>acousticness</th>\n",
       "      <th>instrumentalness</th>\n",
       "      <th>liveness</th>\n",
       "      <th>valence</th>\n",
       "      <th>tempo</th>\n",
       "      <th>type</th>\n",
       "      <th>id</th>\n",
       "      <th>track_href</th>\n",
       "      <th>analysis_url</th>\n",
       "      <th>duration_ms</th>\n",
       "      <th>time_signature</th>\n",
       "    </tr>\n",
       "  </thead>\n",
       "  <tbody>\n",
       "    <tr>\n",
       "      <th>0</th>\n",
       "      <td>Rhapsody in Blue</td>\n",
       "      <td>George Gershwin</td>\n",
       "      <td>spotify:track:0yzhOPf0iw2qWwcXRRta5L</td>\n",
       "      <td>0.309</td>\n",
       "      <td>0.258</td>\n",
       "      <td>9</td>\n",
       "      <td>-15.327</td>\n",
       "      <td>1</td>\n",
       "      <td>0.0459</td>\n",
       "      <td>0.976</td>\n",
       "      <td>0.690000</td>\n",
       "      <td>0.0924</td>\n",
       "      <td>0.115</td>\n",
       "      <td>74.568</td>\n",
       "      <td>audio_features</td>\n",
       "      <td>0yzhOPf0iw2qWwcXRRta5L</td>\n",
       "      <td>https://api.spotify.com/v1/tracks/0yzhOPf0iw2q...</td>\n",
       "      <td>https://api.spotify.com/v1/audio-analysis/0yzh...</td>\n",
       "      <td>890000</td>\n",
       "      <td>4</td>\n",
       "    </tr>\n",
       "    <tr>\n",
       "      <th>1</th>\n",
       "      <td>Summertime</td>\n",
       "      <td>Billie Holiday</td>\n",
       "      <td>spotify:track:62Xj6x2LSWv47PtRAXrg5Z</td>\n",
       "      <td>0.628</td>\n",
       "      <td>0.226</td>\n",
       "      <td>10</td>\n",
       "      <td>-14.075</td>\n",
       "      <td>0</td>\n",
       "      <td>0.0371</td>\n",
       "      <td>0.903</td>\n",
       "      <td>0.000006</td>\n",
       "      <td>0.1710</td>\n",
       "      <td>0.608</td>\n",
       "      <td>99.392</td>\n",
       "      <td>audio_features</td>\n",
       "      <td>62Xj6x2LSWv47PtRAXrg5Z</td>\n",
       "      <td>https://api.spotify.com/v1/tracks/62Xj6x2LSWv4...</td>\n",
       "      <td>https://api.spotify.com/v1/audio-analysis/62Xj...</td>\n",
       "      <td>173493</td>\n",
       "      <td>4</td>\n",
       "    </tr>\n",
       "    <tr>\n",
       "      <th>2</th>\n",
       "      <td>Moonlight Serenade - 2005 Remastered Version</td>\n",
       "      <td>Glenn Miller</td>\n",
       "      <td>spotify:track:3HRMOZk689zaR3z6NpEdfu</td>\n",
       "      <td>0.228</td>\n",
       "      <td>0.263</td>\n",
       "      <td>3</td>\n",
       "      <td>-10.120</td>\n",
       "      <td>1</td>\n",
       "      <td>0.0275</td>\n",
       "      <td>0.896</td>\n",
       "      <td>0.317000</td>\n",
       "      <td>0.1030</td>\n",
       "      <td>0.224</td>\n",
       "      <td>83.903</td>\n",
       "      <td>audio_features</td>\n",
       "      <td>3HRMOZk689zaR3z6NpEdfu</td>\n",
       "      <td>https://api.spotify.com/v1/tracks/3HRMOZk689za...</td>\n",
       "      <td>https://api.spotify.com/v1/audio-analysis/3HRM...</td>\n",
       "      <td>204240</td>\n",
       "      <td>4</td>\n",
       "    </tr>\n",
       "    <tr>\n",
       "      <th>3</th>\n",
       "      <td>In the Mood - Live</td>\n",
       "      <td>Glenn Miller</td>\n",
       "      <td>spotify:track:54h1RKrrFJDsNOfhwmqu9o</td>\n",
       "      <td>0.463</td>\n",
       "      <td>0.654</td>\n",
       "      <td>8</td>\n",
       "      <td>-9.720</td>\n",
       "      <td>1</td>\n",
       "      <td>0.0659</td>\n",
       "      <td>0.824</td>\n",
       "      <td>0.917000</td>\n",
       "      <td>0.3720</td>\n",
       "      <td>0.592</td>\n",
       "      <td>175.204</td>\n",
       "      <td>audio_features</td>\n",
       "      <td>54h1RKrrFJDsNOfhwmqu9o</td>\n",
       "      <td>https://api.spotify.com/v1/tracks/54h1RKrrFJDs...</td>\n",
       "      <td>https://api.spotify.com/v1/audio-analysis/54h1...</td>\n",
       "      <td>209573</td>\n",
       "      <td>4</td>\n",
       "    </tr>\n",
       "    <tr>\n",
       "      <th>4</th>\n",
       "      <td>Take the \"A\" Train</td>\n",
       "      <td>Duke Ellington</td>\n",
       "      <td>spotify:track:6KBsivP3Of4z2x6uNMAyE3</td>\n",
       "      <td>0.479</td>\n",
       "      <td>0.318</td>\n",
       "      <td>0</td>\n",
       "      <td>-13.836</td>\n",
       "      <td>1</td>\n",
       "      <td>0.0395</td>\n",
       "      <td>0.278</td>\n",
       "      <td>0.095900</td>\n",
       "      <td>0.1070</td>\n",
       "      <td>0.575</td>\n",
       "      <td>94.036</td>\n",
       "      <td>audio_features</td>\n",
       "      <td>6KBsivP3Of4z2x6uNMAyE3</td>\n",
       "      <td>https://api.spotify.com/v1/tracks/6KBsivP3Of4z...</td>\n",
       "      <td>https://api.spotify.com/v1/audio-analysis/6KBs...</td>\n",
       "      <td>331800</td>\n",
       "      <td>4</td>\n",
       "    </tr>\n",
       "  </tbody>\n",
       "</table>\n",
       "</div>"
      ],
      "text/plain": [
       "                                          title           artist  \\\n",
       "0                              Rhapsody in Blue  George Gershwin   \n",
       "1                                    Summertime   Billie Holiday   \n",
       "2  Moonlight Serenade - 2005 Remastered Version     Glenn Miller   \n",
       "3                            In the Mood - Live     Glenn Miller   \n",
       "4                            Take the \"A\" Train   Duke Ellington   \n",
       "\n",
       "                                    uri  danceability  energy  key  loudness  \\\n",
       "0  spotify:track:0yzhOPf0iw2qWwcXRRta5L         0.309   0.258    9   -15.327   \n",
       "1  spotify:track:62Xj6x2LSWv47PtRAXrg5Z         0.628   0.226   10   -14.075   \n",
       "2  spotify:track:3HRMOZk689zaR3z6NpEdfu         0.228   0.263    3   -10.120   \n",
       "3  spotify:track:54h1RKrrFJDsNOfhwmqu9o         0.463   0.654    8    -9.720   \n",
       "4  spotify:track:6KBsivP3Of4z2x6uNMAyE3         0.479   0.318    0   -13.836   \n",
       "\n",
       "   mode  speechiness  acousticness  instrumentalness  liveness  valence  \\\n",
       "0     1       0.0459         0.976          0.690000    0.0924    0.115   \n",
       "1     0       0.0371         0.903          0.000006    0.1710    0.608   \n",
       "2     1       0.0275         0.896          0.317000    0.1030    0.224   \n",
       "3     1       0.0659         0.824          0.917000    0.3720    0.592   \n",
       "4     1       0.0395         0.278          0.095900    0.1070    0.575   \n",
       "\n",
       "     tempo            type                      id  \\\n",
       "0   74.568  audio_features  0yzhOPf0iw2qWwcXRRta5L   \n",
       "1   99.392  audio_features  62Xj6x2LSWv47PtRAXrg5Z   \n",
       "2   83.903  audio_features  3HRMOZk689zaR3z6NpEdfu   \n",
       "3  175.204  audio_features  54h1RKrrFJDsNOfhwmqu9o   \n",
       "4   94.036  audio_features  6KBsivP3Of4z2x6uNMAyE3   \n",
       "\n",
       "                                          track_href  \\\n",
       "0  https://api.spotify.com/v1/tracks/0yzhOPf0iw2q...   \n",
       "1  https://api.spotify.com/v1/tracks/62Xj6x2LSWv4...   \n",
       "2  https://api.spotify.com/v1/tracks/3HRMOZk689za...   \n",
       "3  https://api.spotify.com/v1/tracks/54h1RKrrFJDs...   \n",
       "4  https://api.spotify.com/v1/tracks/6KBsivP3Of4z...   \n",
       "\n",
       "                                        analysis_url  duration_ms  \\\n",
       "0  https://api.spotify.com/v1/audio-analysis/0yzh...       890000   \n",
       "1  https://api.spotify.com/v1/audio-analysis/62Xj...       173493   \n",
       "2  https://api.spotify.com/v1/audio-analysis/3HRM...       204240   \n",
       "3  https://api.spotify.com/v1/audio-analysis/54h1...       209573   \n",
       "4  https://api.spotify.com/v1/audio-analysis/6KBs...       331800   \n",
       "\n",
       "   time_signature  \n",
       "0               4  \n",
       "1               4  \n",
       "2               4  \n",
       "3               4  \n",
       "4               4  "
      ]
     },
     "metadata": {},
     "output_type": "display_data"
    },
    {
     "data": {
      "text/plain": [
       "(2705, 20)"
      ]
     },
     "metadata": {},
     "output_type": "display_data"
    }
   ],
   "source": [
    "display(playlist2_df.head(5), playlist2_df.shape)"
   ]
  },
  {
   "cell_type": "code",
   "execution_count": 28,
   "id": "a417eedd",
   "metadata": {},
   "outputs": [],
   "source": [
    "# Applying the function\n",
    "playlist3_df = create_playlist_dataframe(playlist3, sp)"
   ]
  },
  {
   "cell_type": "code",
   "execution_count": 29,
   "id": "bb38e7c9",
   "metadata": {},
   "outputs": [
    {
     "data": {
      "text/html": [
       "<div>\n",
       "<style scoped>\n",
       "    .dataframe tbody tr th:only-of-type {\n",
       "        vertical-align: middle;\n",
       "    }\n",
       "\n",
       "    .dataframe tbody tr th {\n",
       "        vertical-align: top;\n",
       "    }\n",
       "\n",
       "    .dataframe thead th {\n",
       "        text-align: right;\n",
       "    }\n",
       "</style>\n",
       "<table border=\"1\" class=\"dataframe\">\n",
       "  <thead>\n",
       "    <tr style=\"text-align: right;\">\n",
       "      <th></th>\n",
       "      <th>title</th>\n",
       "      <th>artist</th>\n",
       "      <th>uri</th>\n",
       "      <th>danceability</th>\n",
       "      <th>energy</th>\n",
       "      <th>key</th>\n",
       "      <th>loudness</th>\n",
       "      <th>mode</th>\n",
       "      <th>speechiness</th>\n",
       "      <th>acousticness</th>\n",
       "      <th>instrumentalness</th>\n",
       "      <th>liveness</th>\n",
       "      <th>valence</th>\n",
       "      <th>tempo</th>\n",
       "      <th>type</th>\n",
       "      <th>id</th>\n",
       "      <th>track_href</th>\n",
       "      <th>analysis_url</th>\n",
       "      <th>duration_ms</th>\n",
       "      <th>time_signature</th>\n",
       "    </tr>\n",
       "  </thead>\n",
       "  <tbody>\n",
       "    <tr>\n",
       "      <th>0</th>\n",
       "      <td>Angie - Remastered 2009</td>\n",
       "      <td>The Rolling Stones</td>\n",
       "      <td>spotify:track:35RUp1t6MVhcG8cOK5BH6x</td>\n",
       "      <td>0.429</td>\n",
       "      <td>0.548</td>\n",
       "      <td>9</td>\n",
       "      <td>-6.017</td>\n",
       "      <td>0</td>\n",
       "      <td>0.0294</td>\n",
       "      <td>0.7000</td>\n",
       "      <td>0.000075</td>\n",
       "      <td>0.0836</td>\n",
       "      <td>0.383</td>\n",
       "      <td>138.619</td>\n",
       "      <td>audio_features</td>\n",
       "      <td>35RUp1t6MVhcG8cOK5BH6x</td>\n",
       "      <td>https://api.spotify.com/v1/tracks/35RUp1t6MVhc...</td>\n",
       "      <td>https://api.spotify.com/v1/audio-analysis/35RU...</td>\n",
       "      <td>271973</td>\n",
       "      <td>4</td>\n",
       "    </tr>\n",
       "    <tr>\n",
       "      <th>1</th>\n",
       "      <td>Billie Jean</td>\n",
       "      <td>Michael Jackson</td>\n",
       "      <td>spotify:track:5ChkMS8OtdzJeqyybCc9R5</td>\n",
       "      <td>0.920</td>\n",
       "      <td>0.654</td>\n",
       "      <td>11</td>\n",
       "      <td>-3.051</td>\n",
       "      <td>0</td>\n",
       "      <td>0.0401</td>\n",
       "      <td>0.0236</td>\n",
       "      <td>0.015300</td>\n",
       "      <td>0.0360</td>\n",
       "      <td>0.847</td>\n",
       "      <td>117.046</td>\n",
       "      <td>audio_features</td>\n",
       "      <td>5ChkMS8OtdzJeqyybCc9R5</td>\n",
       "      <td>https://api.spotify.com/v1/tracks/5ChkMS8OtdzJ...</td>\n",
       "      <td>https://api.spotify.com/v1/audio-analysis/5Chk...</td>\n",
       "      <td>293827</td>\n",
       "      <td>4</td>\n",
       "    </tr>\n",
       "    <tr>\n",
       "      <th>2</th>\n",
       "      <td>Hey Jude - Remastered 2015</td>\n",
       "      <td>The Beatles</td>\n",
       "      <td>spotify:track:0aym2LBJBk9DAYuHHutrIl</td>\n",
       "      <td>0.386</td>\n",
       "      <td>0.607</td>\n",
       "      <td>10</td>\n",
       "      <td>-7.700</td>\n",
       "      <td>1</td>\n",
       "      <td>0.0261</td>\n",
       "      <td>0.0112</td>\n",
       "      <td>0.000014</td>\n",
       "      <td>0.0880</td>\n",
       "      <td>0.532</td>\n",
       "      <td>147.207</td>\n",
       "      <td>audio_features</td>\n",
       "      <td>0aym2LBJBk9DAYuHHutrIl</td>\n",
       "      <td>https://api.spotify.com/v1/tracks/0aym2LBJBk9D...</td>\n",
       "      <td>https://api.spotify.com/v1/audio-analysis/0aym...</td>\n",
       "      <td>425653</td>\n",
       "      <td>4</td>\n",
       "    </tr>\n",
       "    <tr>\n",
       "      <th>3</th>\n",
       "      <td>Purple Rain</td>\n",
       "      <td>Prince</td>\n",
       "      <td>spotify:track:3lUjT0JcV1PcuugwMl2MQj</td>\n",
       "      <td>0.367</td>\n",
       "      <td>0.452</td>\n",
       "      <td>10</td>\n",
       "      <td>-10.422</td>\n",
       "      <td>1</td>\n",
       "      <td>0.0307</td>\n",
       "      <td>0.0353</td>\n",
       "      <td>0.002280</td>\n",
       "      <td>0.6890</td>\n",
       "      <td>0.189</td>\n",
       "      <td>113.066</td>\n",
       "      <td>audio_features</td>\n",
       "      <td>3lUjT0JcV1PcuugwMl2MQj</td>\n",
       "      <td>https://api.spotify.com/v1/tracks/3lUjT0JcV1Pc...</td>\n",
       "      <td>https://api.spotify.com/v1/audio-analysis/3lUj...</td>\n",
       "      <td>520787</td>\n",
       "      <td>4</td>\n",
       "    </tr>\n",
       "    <tr>\n",
       "      <th>4</th>\n",
       "      <td>I Heard It Through The Grapevine - Single Vers...</td>\n",
       "      <td>Marvin Gaye</td>\n",
       "      <td>spotify:track:6ca3m7gXDEfgLop4A51mWt</td>\n",
       "      <td>0.722</td>\n",
       "      <td>0.450</td>\n",
       "      <td>3</td>\n",
       "      <td>-7.503</td>\n",
       "      <td>0</td>\n",
       "      <td>0.0396</td>\n",
       "      <td>0.1990</td>\n",
       "      <td>0.000003</td>\n",
       "      <td>0.0739</td>\n",
       "      <td>0.664</td>\n",
       "      <td>118.447</td>\n",
       "      <td>audio_features</td>\n",
       "      <td>6ca3m7gXDEfgLop4A51mWt</td>\n",
       "      <td>https://api.spotify.com/v1/tracks/6ca3m7gXDEfg...</td>\n",
       "      <td>https://api.spotify.com/v1/audio-analysis/6ca3...</td>\n",
       "      <td>192267</td>\n",
       "      <td>4</td>\n",
       "    </tr>\n",
       "  </tbody>\n",
       "</table>\n",
       "</div>"
      ],
      "text/plain": [
       "                                               title              artist  \\\n",
       "0                            Angie - Remastered 2009  The Rolling Stones   \n",
       "1                                        Billie Jean     Michael Jackson   \n",
       "2                         Hey Jude - Remastered 2015         The Beatles   \n",
       "3                                        Purple Rain              Prince   \n",
       "4  I Heard It Through The Grapevine - Single Vers...         Marvin Gaye   \n",
       "\n",
       "                                    uri  danceability  energy  key  loudness  \\\n",
       "0  spotify:track:35RUp1t6MVhcG8cOK5BH6x         0.429   0.548    9    -6.017   \n",
       "1  spotify:track:5ChkMS8OtdzJeqyybCc9R5         0.920   0.654   11    -3.051   \n",
       "2  spotify:track:0aym2LBJBk9DAYuHHutrIl         0.386   0.607   10    -7.700   \n",
       "3  spotify:track:3lUjT0JcV1PcuugwMl2MQj         0.367   0.452   10   -10.422   \n",
       "4  spotify:track:6ca3m7gXDEfgLop4A51mWt         0.722   0.450    3    -7.503   \n",
       "\n",
       "   mode  speechiness  acousticness  instrumentalness  liveness  valence  \\\n",
       "0     0       0.0294        0.7000          0.000075    0.0836    0.383   \n",
       "1     0       0.0401        0.0236          0.015300    0.0360    0.847   \n",
       "2     1       0.0261        0.0112          0.000014    0.0880    0.532   \n",
       "3     1       0.0307        0.0353          0.002280    0.6890    0.189   \n",
       "4     0       0.0396        0.1990          0.000003    0.0739    0.664   \n",
       "\n",
       "     tempo            type                      id  \\\n",
       "0  138.619  audio_features  35RUp1t6MVhcG8cOK5BH6x   \n",
       "1  117.046  audio_features  5ChkMS8OtdzJeqyybCc9R5   \n",
       "2  147.207  audio_features  0aym2LBJBk9DAYuHHutrIl   \n",
       "3  113.066  audio_features  3lUjT0JcV1PcuugwMl2MQj   \n",
       "4  118.447  audio_features  6ca3m7gXDEfgLop4A51mWt   \n",
       "\n",
       "                                          track_href  \\\n",
       "0  https://api.spotify.com/v1/tracks/35RUp1t6MVhc...   \n",
       "1  https://api.spotify.com/v1/tracks/5ChkMS8OtdzJ...   \n",
       "2  https://api.spotify.com/v1/tracks/0aym2LBJBk9D...   \n",
       "3  https://api.spotify.com/v1/tracks/3lUjT0JcV1Pc...   \n",
       "4  https://api.spotify.com/v1/tracks/6ca3m7gXDEfg...   \n",
       "\n",
       "                                        analysis_url  duration_ms  \\\n",
       "0  https://api.spotify.com/v1/audio-analysis/35RU...       271973   \n",
       "1  https://api.spotify.com/v1/audio-analysis/5Chk...       293827   \n",
       "2  https://api.spotify.com/v1/audio-analysis/0aym...       425653   \n",
       "3  https://api.spotify.com/v1/audio-analysis/3lUj...       520787   \n",
       "4  https://api.spotify.com/v1/audio-analysis/6ca3...       192267   \n",
       "\n",
       "   time_signature  \n",
       "0               4  \n",
       "1               4  \n",
       "2               4  \n",
       "3               4  \n",
       "4               4  "
      ]
     },
     "metadata": {},
     "output_type": "display_data"
    },
    {
     "data": {
      "text/plain": [
       "(3318, 20)"
      ]
     },
     "metadata": {},
     "output_type": "display_data"
    }
   ],
   "source": [
    "display(playlist3_df.head(5), playlist3_df.shape)"
   ]
  },
  {
   "cell_type": "code",
   "execution_count": 30,
   "id": "3b59087c",
   "metadata": {},
   "outputs": [],
   "source": [
    "# Applying the function\n",
    "#playlist4_df = create_playlist_dataframe(playlist4, sp)"
   ]
  },
  {
   "cell_type": "code",
   "execution_count": 31,
   "id": "09dc9364",
   "metadata": {},
   "outputs": [],
   "source": [
    "#display(playlist4_df.head(5), playlist4_df.shape)"
   ]
  },
  {
   "cell_type": "markdown",
   "id": "462dc525",
   "metadata": {},
   "source": [
    "#### Checking if df are ready for concatenation"
   ]
  },
  {
   "cell_type": "code",
   "execution_count": 32,
   "id": "7ab9d649",
   "metadata": {},
   "outputs": [],
   "source": [
    "df_list = [\"playlist1_df\",\"playlist2_df\",\"playlist3_df\"]"
   ]
  },
  {
   "cell_type": "code",
   "execution_count": 33,
   "id": "ddf0f518",
   "metadata": {},
   "outputs": [
    {
     "data": {
      "text/plain": [
       "array([ True,  True,  True,  True,  True,  True,  True,  True,  True,\n",
       "        True,  True,  True,  True,  True,  True,  True,  True,  True,\n",
       "        True,  True])"
      ]
     },
     "metadata": {},
     "output_type": "display_data"
    },
    {
     "data": {
      "text/plain": [
       "array([ True,  True,  True,  True,  True,  True,  True,  True,  True,\n",
       "        True,  True,  True,  True,  True,  True,  True,  True,  True,\n",
       "        True,  True])"
      ]
     },
     "metadata": {},
     "output_type": "display_data"
    }
   ],
   "source": [
    "# Checking same names and order for each dataframe's columns\n",
    "display(playlist1_df.columns == playlist2_df.columns,\n",
    "        playlist1_df.columns == playlist3_df.columns)"
   ]
  },
  {
   "cell_type": "code",
   "execution_count": 34,
   "id": "3cfc6aa8",
   "metadata": {},
   "outputs": [
    {
     "data": {
      "text/plain": [
       "(1999, 20)"
      ]
     },
     "metadata": {},
     "output_type": "display_data"
    },
    {
     "data": {
      "text/plain": [
       "(3318, 20)"
      ]
     },
     "metadata": {},
     "output_type": "display_data"
    },
    {
     "data": {
      "text/plain": [
       "(3318, 20)"
      ]
     },
     "metadata": {},
     "output_type": "display_data"
    }
   ],
   "source": [
    "# Information about their shape\n",
    "display(playlist1_df.shape, playlist3_df.shape, playlist3_df.shape)"
   ]
  },
  {
   "cell_type": "markdown",
   "id": "5412c1d0",
   "metadata": {},
   "source": [
    "#### Concatenating dataframes"
   ]
  },
  {
   "cell_type": "code",
   "execution_count": 35,
   "id": "3fd62a20",
   "metadata": {},
   "outputs": [],
   "source": [
    "# Concatenating in axis=0 (rows)\n",
    "spotify_data = pd.concat([playlist1_df, playlist2_df, playlist3_df], axis = 0)"
   ]
  },
  {
   "cell_type": "code",
   "execution_count": 36,
   "id": "85a6f9d5",
   "metadata": {},
   "outputs": [
    {
     "data": {
      "text/html": [
       "<div>\n",
       "<style scoped>\n",
       "    .dataframe tbody tr th:only-of-type {\n",
       "        vertical-align: middle;\n",
       "    }\n",
       "\n",
       "    .dataframe tbody tr th {\n",
       "        vertical-align: top;\n",
       "    }\n",
       "\n",
       "    .dataframe thead th {\n",
       "        text-align: right;\n",
       "    }\n",
       "</style>\n",
       "<table border=\"1\" class=\"dataframe\">\n",
       "  <thead>\n",
       "    <tr style=\"text-align: right;\">\n",
       "      <th></th>\n",
       "      <th>title</th>\n",
       "      <th>artist</th>\n",
       "      <th>uri</th>\n",
       "      <th>danceability</th>\n",
       "      <th>energy</th>\n",
       "      <th>key</th>\n",
       "      <th>loudness</th>\n",
       "      <th>mode</th>\n",
       "      <th>speechiness</th>\n",
       "      <th>acousticness</th>\n",
       "      <th>instrumentalness</th>\n",
       "      <th>liveness</th>\n",
       "      <th>valence</th>\n",
       "      <th>tempo</th>\n",
       "      <th>type</th>\n",
       "      <th>id</th>\n",
       "      <th>track_href</th>\n",
       "      <th>analysis_url</th>\n",
       "      <th>duration_ms</th>\n",
       "      <th>time_signature</th>\n",
       "    </tr>\n",
       "  </thead>\n",
       "  <tbody>\n",
       "    <tr>\n",
       "      <th>0</th>\n",
       "      <td>Bohemian Rhapsody - Remastered 2011</td>\n",
       "      <td>Queen</td>\n",
       "      <td>spotify:track:7tFiyTwD0nx5a1eklYtX2J</td>\n",
       "      <td>0.392</td>\n",
       "      <td>0.402</td>\n",
       "      <td>0</td>\n",
       "      <td>-9.961</td>\n",
       "      <td>0</td>\n",
       "      <td>0.0536</td>\n",
       "      <td>0.28800</td>\n",
       "      <td>0.000000</td>\n",
       "      <td>0.2430</td>\n",
       "      <td>0.228</td>\n",
       "      <td>143.883</td>\n",
       "      <td>audio_features</td>\n",
       "      <td>7tFiyTwD0nx5a1eklYtX2J</td>\n",
       "      <td>https://api.spotify.com/v1/tracks/7tFiyTwD0nx5...</td>\n",
       "      <td>https://api.spotify.com/v1/audio-analysis/7tFi...</td>\n",
       "      <td>354320</td>\n",
       "      <td>4</td>\n",
       "    </tr>\n",
       "    <tr>\n",
       "      <th>1</th>\n",
       "      <td>Roller Coaster</td>\n",
       "      <td>Danny Vera</td>\n",
       "      <td>spotify:track:5B5YKjgne3TZzNpMsN9aj1</td>\n",
       "      <td>0.401</td>\n",
       "      <td>0.383</td>\n",
       "      <td>9</td>\n",
       "      <td>-10.048</td>\n",
       "      <td>1</td>\n",
       "      <td>0.0279</td>\n",
       "      <td>0.51000</td>\n",
       "      <td>0.007800</td>\n",
       "      <td>0.1210</td>\n",
       "      <td>0.285</td>\n",
       "      <td>96.957</td>\n",
       "      <td>audio_features</td>\n",
       "      <td>5B5YKjgne3TZzNpMsN9aj1</td>\n",
       "      <td>https://api.spotify.com/v1/tracks/5B5YKjgne3TZ...</td>\n",
       "      <td>https://api.spotify.com/v1/audio-analysis/5B5Y...</td>\n",
       "      <td>269986</td>\n",
       "      <td>4</td>\n",
       "    </tr>\n",
       "    <tr>\n",
       "      <th>2</th>\n",
       "      <td>Hotel California - 2013 Remaster</td>\n",
       "      <td>Eagles</td>\n",
       "      <td>spotify:track:40riOy7x9W7GXjyGp4pjAv</td>\n",
       "      <td>0.579</td>\n",
       "      <td>0.508</td>\n",
       "      <td>2</td>\n",
       "      <td>-9.484</td>\n",
       "      <td>1</td>\n",
       "      <td>0.0270</td>\n",
       "      <td>0.00574</td>\n",
       "      <td>0.000494</td>\n",
       "      <td>0.0575</td>\n",
       "      <td>0.609</td>\n",
       "      <td>147.125</td>\n",
       "      <td>audio_features</td>\n",
       "      <td>40riOy7x9W7GXjyGp4pjAv</td>\n",
       "      <td>https://api.spotify.com/v1/tracks/40riOy7x9W7G...</td>\n",
       "      <td>https://api.spotify.com/v1/audio-analysis/40ri...</td>\n",
       "      <td>391376</td>\n",
       "      <td>4</td>\n",
       "    </tr>\n",
       "    <tr>\n",
       "      <th>3</th>\n",
       "      <td>Piano Man</td>\n",
       "      <td>Billy Joel</td>\n",
       "      <td>spotify:track:3FCto7hnn1shUyZL42YgfO</td>\n",
       "      <td>0.334</td>\n",
       "      <td>0.472</td>\n",
       "      <td>0</td>\n",
       "      <td>-8.791</td>\n",
       "      <td>1</td>\n",
       "      <td>0.0277</td>\n",
       "      <td>0.60000</td>\n",
       "      <td>0.000004</td>\n",
       "      <td>0.3170</td>\n",
       "      <td>0.431</td>\n",
       "      <td>179.173</td>\n",
       "      <td>audio_features</td>\n",
       "      <td>3FCto7hnn1shUyZL42YgfO</td>\n",
       "      <td>https://api.spotify.com/v1/tracks/3FCto7hnn1sh...</td>\n",
       "      <td>https://api.spotify.com/v1/audio-analysis/3FCt...</td>\n",
       "      <td>336093</td>\n",
       "      <td>3</td>\n",
       "    </tr>\n",
       "    <tr>\n",
       "      <th>4</th>\n",
       "      <td>Fix You</td>\n",
       "      <td>Coldplay</td>\n",
       "      <td>spotify:track:7LVHVU3tWfcxj5aiPFEW4Q</td>\n",
       "      <td>0.209</td>\n",
       "      <td>0.417</td>\n",
       "      <td>3</td>\n",
       "      <td>-8.740</td>\n",
       "      <td>1</td>\n",
       "      <td>0.0338</td>\n",
       "      <td>0.16400</td>\n",
       "      <td>0.001960</td>\n",
       "      <td>0.1130</td>\n",
       "      <td>0.124</td>\n",
       "      <td>138.178</td>\n",
       "      <td>audio_features</td>\n",
       "      <td>7LVHVU3tWfcxj5aiPFEW4Q</td>\n",
       "      <td>https://api.spotify.com/v1/tracks/7LVHVU3tWfcx...</td>\n",
       "      <td>https://api.spotify.com/v1/audio-analysis/7LVH...</td>\n",
       "      <td>295533</td>\n",
       "      <td>4</td>\n",
       "    </tr>\n",
       "  </tbody>\n",
       "</table>\n",
       "</div>"
      ],
      "text/plain": [
       "                                 title      artist  \\\n",
       "0  Bohemian Rhapsody - Remastered 2011       Queen   \n",
       "1                       Roller Coaster  Danny Vera   \n",
       "2     Hotel California - 2013 Remaster      Eagles   \n",
       "3                            Piano Man  Billy Joel   \n",
       "4                              Fix You    Coldplay   \n",
       "\n",
       "                                    uri  danceability  energy  key  loudness  \\\n",
       "0  spotify:track:7tFiyTwD0nx5a1eklYtX2J         0.392   0.402    0    -9.961   \n",
       "1  spotify:track:5B5YKjgne3TZzNpMsN9aj1         0.401   0.383    9   -10.048   \n",
       "2  spotify:track:40riOy7x9W7GXjyGp4pjAv         0.579   0.508    2    -9.484   \n",
       "3  spotify:track:3FCto7hnn1shUyZL42YgfO         0.334   0.472    0    -8.791   \n",
       "4  spotify:track:7LVHVU3tWfcxj5aiPFEW4Q         0.209   0.417    3    -8.740   \n",
       "\n",
       "   mode  speechiness  acousticness  instrumentalness  liveness  valence  \\\n",
       "0     0       0.0536       0.28800          0.000000    0.2430    0.228   \n",
       "1     1       0.0279       0.51000          0.007800    0.1210    0.285   \n",
       "2     1       0.0270       0.00574          0.000494    0.0575    0.609   \n",
       "3     1       0.0277       0.60000          0.000004    0.3170    0.431   \n",
       "4     1       0.0338       0.16400          0.001960    0.1130    0.124   \n",
       "\n",
       "     tempo            type                      id  \\\n",
       "0  143.883  audio_features  7tFiyTwD0nx5a1eklYtX2J   \n",
       "1   96.957  audio_features  5B5YKjgne3TZzNpMsN9aj1   \n",
       "2  147.125  audio_features  40riOy7x9W7GXjyGp4pjAv   \n",
       "3  179.173  audio_features  3FCto7hnn1shUyZL42YgfO   \n",
       "4  138.178  audio_features  7LVHVU3tWfcxj5aiPFEW4Q   \n",
       "\n",
       "                                          track_href  \\\n",
       "0  https://api.spotify.com/v1/tracks/7tFiyTwD0nx5...   \n",
       "1  https://api.spotify.com/v1/tracks/5B5YKjgne3TZ...   \n",
       "2  https://api.spotify.com/v1/tracks/40riOy7x9W7G...   \n",
       "3  https://api.spotify.com/v1/tracks/3FCto7hnn1sh...   \n",
       "4  https://api.spotify.com/v1/tracks/7LVHVU3tWfcx...   \n",
       "\n",
       "                                        analysis_url  duration_ms  \\\n",
       "0  https://api.spotify.com/v1/audio-analysis/7tFi...       354320   \n",
       "1  https://api.spotify.com/v1/audio-analysis/5B5Y...       269986   \n",
       "2  https://api.spotify.com/v1/audio-analysis/40ri...       391376   \n",
       "3  https://api.spotify.com/v1/audio-analysis/3FCt...       336093   \n",
       "4  https://api.spotify.com/v1/audio-analysis/7LVH...       295533   \n",
       "\n",
       "   time_signature  \n",
       "0               4  \n",
       "1               4  \n",
       "2               4  \n",
       "3               3  \n",
       "4               4  "
      ]
     },
     "metadata": {},
     "output_type": "display_data"
    },
    {
     "data": {
      "text/html": [
       "<div>\n",
       "<style scoped>\n",
       "    .dataframe tbody tr th:only-of-type {\n",
       "        vertical-align: middle;\n",
       "    }\n",
       "\n",
       "    .dataframe tbody tr th {\n",
       "        vertical-align: top;\n",
       "    }\n",
       "\n",
       "    .dataframe thead th {\n",
       "        text-align: right;\n",
       "    }\n",
       "</style>\n",
       "<table border=\"1\" class=\"dataframe\">\n",
       "  <thead>\n",
       "    <tr style=\"text-align: right;\">\n",
       "      <th></th>\n",
       "      <th>title</th>\n",
       "      <th>artist</th>\n",
       "      <th>uri</th>\n",
       "      <th>danceability</th>\n",
       "      <th>energy</th>\n",
       "      <th>key</th>\n",
       "      <th>loudness</th>\n",
       "      <th>mode</th>\n",
       "      <th>speechiness</th>\n",
       "      <th>acousticness</th>\n",
       "      <th>instrumentalness</th>\n",
       "      <th>liveness</th>\n",
       "      <th>valence</th>\n",
       "      <th>tempo</th>\n",
       "      <th>type</th>\n",
       "      <th>id</th>\n",
       "      <th>track_href</th>\n",
       "      <th>analysis_url</th>\n",
       "      <th>duration_ms</th>\n",
       "      <th>time_signature</th>\n",
       "    </tr>\n",
       "  </thead>\n",
       "  <tbody>\n",
       "    <tr>\n",
       "      <th>3313</th>\n",
       "      <td>Jambalaya (On The Bayou)</td>\n",
       "      <td>John Fogerty</td>\n",
       "      <td>spotify:track:6389cBCT7TWS2Nx0KVsjrk</td>\n",
       "      <td>0.742</td>\n",
       "      <td>0.756</td>\n",
       "      <td>2</td>\n",
       "      <td>-10.121</td>\n",
       "      <td>1</td>\n",
       "      <td>0.0262</td>\n",
       "      <td>0.6240</td>\n",
       "      <td>0.000130</td>\n",
       "      <td>0.0800</td>\n",
       "      <td>0.977</td>\n",
       "      <td>98.568</td>\n",
       "      <td>audio_features</td>\n",
       "      <td>6389cBCT7TWS2Nx0KVsjrk</td>\n",
       "      <td>https://api.spotify.com/v1/tracks/6389cBCT7TWS...</td>\n",
       "      <td>https://api.spotify.com/v1/audio-analysis/6389...</td>\n",
       "      <td>197760</td>\n",
       "      <td>4</td>\n",
       "    </tr>\n",
       "    <tr>\n",
       "      <th>3314</th>\n",
       "      <td>Hearts Of Stone</td>\n",
       "      <td>John Fogerty</td>\n",
       "      <td>spotify:track:2uJVtJd1w2N8vg6pJmaNdN</td>\n",
       "      <td>0.412</td>\n",
       "      <td>0.677</td>\n",
       "      <td>6</td>\n",
       "      <td>-10.763</td>\n",
       "      <td>1</td>\n",
       "      <td>0.0376</td>\n",
       "      <td>0.5370</td>\n",
       "      <td>0.006640</td>\n",
       "      <td>0.1210</td>\n",
       "      <td>0.853</td>\n",
       "      <td>205.922</td>\n",
       "      <td>audio_features</td>\n",
       "      <td>2uJVtJd1w2N8vg6pJmaNdN</td>\n",
       "      <td>https://api.spotify.com/v1/tracks/2uJVtJd1w2N8...</td>\n",
       "      <td>https://api.spotify.com/v1/audio-analysis/2uJV...</td>\n",
       "      <td>134000</td>\n",
       "      <td>4</td>\n",
       "    </tr>\n",
       "    <tr>\n",
       "      <th>3315</th>\n",
       "      <td>Rock and Roll Girls</td>\n",
       "      <td>John Fogerty</td>\n",
       "      <td>spotify:track:5DeuAlTIDflXOomztXYM5D</td>\n",
       "      <td>0.794</td>\n",
       "      <td>0.730</td>\n",
       "      <td>7</td>\n",
       "      <td>-6.067</td>\n",
       "      <td>1</td>\n",
       "      <td>0.0332</td>\n",
       "      <td>0.0538</td>\n",
       "      <td>0.000832</td>\n",
       "      <td>0.0826</td>\n",
       "      <td>0.767</td>\n",
       "      <td>128.999</td>\n",
       "      <td>audio_features</td>\n",
       "      <td>5DeuAlTIDflXOomztXYM5D</td>\n",
       "      <td>https://api.spotify.com/v1/tracks/5DeuAlTIDflX...</td>\n",
       "      <td>https://api.spotify.com/v1/audio-analysis/5Deu...</td>\n",
       "      <td>206640</td>\n",
       "      <td>4</td>\n",
       "    </tr>\n",
       "    <tr>\n",
       "      <th>3316</th>\n",
       "      <td>Rockin' All Over The World</td>\n",
       "      <td>John Fogerty</td>\n",
       "      <td>spotify:track:2X0fwXZpoAbVZdyFVjJOUm</td>\n",
       "      <td>0.539</td>\n",
       "      <td>0.909</td>\n",
       "      <td>2</td>\n",
       "      <td>-6.546</td>\n",
       "      <td>1</td>\n",
       "      <td>0.0423</td>\n",
       "      <td>0.5180</td>\n",
       "      <td>0.000394</td>\n",
       "      <td>0.5580</td>\n",
       "      <td>0.964</td>\n",
       "      <td>130.821</td>\n",
       "      <td>audio_features</td>\n",
       "      <td>2X0fwXZpoAbVZdyFVjJOUm</td>\n",
       "      <td>https://api.spotify.com/v1/tracks/2X0fwXZpoAbV...</td>\n",
       "      <td>https://api.spotify.com/v1/audio-analysis/2X0f...</td>\n",
       "      <td>173000</td>\n",
       "      <td>4</td>\n",
       "    </tr>\n",
       "    <tr>\n",
       "      <th>3317</th>\n",
       "      <td>Walking on the Chinese Wall</td>\n",
       "      <td>Philip Bailey</td>\n",
       "      <td>spotify:track:0PXHA9nXcu4UOJFXvye9LE</td>\n",
       "      <td>0.488</td>\n",
       "      <td>0.862</td>\n",
       "      <td>1</td>\n",
       "      <td>-7.653</td>\n",
       "      <td>0</td>\n",
       "      <td>0.0340</td>\n",
       "      <td>0.1690</td>\n",
       "      <td>0.025500</td>\n",
       "      <td>0.1780</td>\n",
       "      <td>0.497</td>\n",
       "      <td>169.956</td>\n",
       "      <td>audio_features</td>\n",
       "      <td>0PXHA9nXcu4UOJFXvye9LE</td>\n",
       "      <td>https://api.spotify.com/v1/tracks/0PXHA9nXcu4U...</td>\n",
       "      <td>https://api.spotify.com/v1/audio-analysis/0PXH...</td>\n",
       "      <td>308773</td>\n",
       "      <td>4</td>\n",
       "    </tr>\n",
       "  </tbody>\n",
       "</table>\n",
       "</div>"
      ],
      "text/plain": [
       "                            title         artist  \\\n",
       "3313     Jambalaya (On The Bayou)   John Fogerty   \n",
       "3314              Hearts Of Stone   John Fogerty   \n",
       "3315          Rock and Roll Girls   John Fogerty   \n",
       "3316   Rockin' All Over The World   John Fogerty   \n",
       "3317  Walking on the Chinese Wall  Philip Bailey   \n",
       "\n",
       "                                       uri  danceability  energy  key  \\\n",
       "3313  spotify:track:6389cBCT7TWS2Nx0KVsjrk         0.742   0.756    2   \n",
       "3314  spotify:track:2uJVtJd1w2N8vg6pJmaNdN         0.412   0.677    6   \n",
       "3315  spotify:track:5DeuAlTIDflXOomztXYM5D         0.794   0.730    7   \n",
       "3316  spotify:track:2X0fwXZpoAbVZdyFVjJOUm         0.539   0.909    2   \n",
       "3317  spotify:track:0PXHA9nXcu4UOJFXvye9LE         0.488   0.862    1   \n",
       "\n",
       "      loudness  mode  speechiness  acousticness  instrumentalness  liveness  \\\n",
       "3313   -10.121     1       0.0262        0.6240          0.000130    0.0800   \n",
       "3314   -10.763     1       0.0376        0.5370          0.006640    0.1210   \n",
       "3315    -6.067     1       0.0332        0.0538          0.000832    0.0826   \n",
       "3316    -6.546     1       0.0423        0.5180          0.000394    0.5580   \n",
       "3317    -7.653     0       0.0340        0.1690          0.025500    0.1780   \n",
       "\n",
       "      valence    tempo            type                      id  \\\n",
       "3313    0.977   98.568  audio_features  6389cBCT7TWS2Nx0KVsjrk   \n",
       "3314    0.853  205.922  audio_features  2uJVtJd1w2N8vg6pJmaNdN   \n",
       "3315    0.767  128.999  audio_features  5DeuAlTIDflXOomztXYM5D   \n",
       "3316    0.964  130.821  audio_features  2X0fwXZpoAbVZdyFVjJOUm   \n",
       "3317    0.497  169.956  audio_features  0PXHA9nXcu4UOJFXvye9LE   \n",
       "\n",
       "                                             track_href  \\\n",
       "3313  https://api.spotify.com/v1/tracks/6389cBCT7TWS...   \n",
       "3314  https://api.spotify.com/v1/tracks/2uJVtJd1w2N8...   \n",
       "3315  https://api.spotify.com/v1/tracks/5DeuAlTIDflX...   \n",
       "3316  https://api.spotify.com/v1/tracks/2X0fwXZpoAbV...   \n",
       "3317  https://api.spotify.com/v1/tracks/0PXHA9nXcu4U...   \n",
       "\n",
       "                                           analysis_url  duration_ms  \\\n",
       "3313  https://api.spotify.com/v1/audio-analysis/6389...       197760   \n",
       "3314  https://api.spotify.com/v1/audio-analysis/2uJV...       134000   \n",
       "3315  https://api.spotify.com/v1/audio-analysis/5Deu...       206640   \n",
       "3316  https://api.spotify.com/v1/audio-analysis/2X0f...       173000   \n",
       "3317  https://api.spotify.com/v1/audio-analysis/0PXH...       308773   \n",
       "\n",
       "      time_signature  \n",
       "3313               4  \n",
       "3314               4  \n",
       "3315               4  \n",
       "3316               4  \n",
       "3317               4  "
      ]
     },
     "metadata": {},
     "output_type": "display_data"
    },
    {
     "data": {
      "text/plain": [
       "(8022, 20)"
      ]
     },
     "metadata": {},
     "output_type": "display_data"
    }
   ],
   "source": [
    "display(spotify_data.head(5), spotify_data.tail(5), spotify_data.shape)"
   ]
  },
  {
   "cell_type": "code",
   "execution_count": null,
   "id": "cf515a59",
   "metadata": {},
   "outputs": [],
   "source": []
  }
 ],
 "metadata": {
  "kernelspec": {
   "display_name": "Python 3 (ipykernel)",
   "language": "python",
   "name": "python3"
  },
  "language_info": {
   "codemirror_mode": {
    "name": "ipython",
    "version": 3
   },
   "file_extension": ".py",
   "mimetype": "text/x-python",
   "name": "python",
   "nbconvert_exporter": "python",
   "pygments_lexer": "ipython3",
   "version": "3.9.13"
  }
 },
 "nbformat": 4,
 "nbformat_minor": 5
}
