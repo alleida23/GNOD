{
 "cells": [
  {
   "cell_type": "markdown",
   "id": "3b17bb77",
   "metadata": {},
   "source": [
    "## GNOD 1\n"
   ]
  },
  {
   "cell_type": "markdown",
   "id": "6f17141e",
   "metadata": {},
   "source": [
    "### Lab | Web Scraping Single Page"
   ]
  },
  {
   "cell_type": "markdown",
   "id": "7f094031",
   "metadata": {},
   "source": [
    "#### Business goal:\n",
    "Check the case_study_gnod.md file.\n",
    "\n",
    "Make sure you've understood the big picture of your project:\n",
    "\n",
    "- the goal of the company (Gnod),\n",
    "- their current product (Gnoosic),\n",
    "- their strategy, and\n",
    "- how your project fits into this context.\n",
    "\n",
    "Re-read the business case and the e-mail from the CTO, take a look at the flowchart and create an initial Trello board with the tasks you think you'll have to accomplish.\n",
    "\n",
    "\n",
    "\n",
    "\n",
    "\n",
    "#### Instructions - Scraping popular songs\n",
    "Your product will take a song as an input from the user and will output another song (the recommendation). In most cases, the recommended song will have to be similar to the inputted song, but the CTO thinks that if the song is on the top charts at the moment, the user will enjoy more a recommendation of a song that's also popular at the moment.\n",
    "\n",
    "You have find data on the internet about currently popular songs. Billboard maintains a weekly Top 100 of \"hot\" songs here: https://www.billboard.com/charts/hot-100.\n",
    "\n",
    "It's a good place to start! Scrape the current top 100 songs and their respective artists, and put the information into a pandas dataframe.\n",
    "\n",
    "\n",
    "\n",
    "\n",
    "--> popvortex.com/music/charts/top-100-songs.php"
   ]
  },
  {
   "cell_type": "code",
   "execution_count": 1,
   "id": "de202e49",
   "metadata": {},
   "outputs": [],
   "source": [
    "# Libraries\n",
    "import pandas as pd\n",
    "import requests\n",
    "from bs4 import BeautifulSoup\n",
    "import time\n",
    "import random\n"
   ]
  },
  {
   "cell_type": "code",
   "execution_count": 2,
   "id": "098c8ecb",
   "metadata": {},
   "outputs": [],
   "source": [
    "url = 'https://www.popvortex.com/music/charts/top-100-songs.php'\n",
    "response = requests.get(url)\n",
    "soup = BeautifulSoup(response.content, 'html.parser')"
   ]
  },
  {
   "cell_type": "code",
   "execution_count": 3,
   "id": "8ce12eab",
   "metadata": {},
   "outputs": [
    {
     "data": {
      "text/plain": [
       "200"
      ]
     },
     "metadata": {},
     "output_type": "display_data"
    }
   ],
   "source": [
    "display(response.status_code)\n",
    "#soup"
   ]
  },
  {
   "cell_type": "code",
   "execution_count": 4,
   "id": "18b4f76d",
   "metadata": {},
   "outputs": [],
   "source": [
    "# Artist Name // #chart-position-1 > div.chart-content.col-xs-12.col-sm-8 > p > em\n",
    "\n",
    "# Song title // #chart-position-1 > div.chart-content.col-xs-12.col-sm-8 > p > cite\n",
    "\n",
    "# genre // #chart-position-1 > div.chart-content.col-xs-12.col-sm-8 > ul > li:nth-child(2) > a\n",
    "\n",
    "# release date // #chart-position-1 > div.chart-content.col-xs-12.col-sm-8 > ul > li:nth-child(3)"
   ]
  },
  {
   "cell_type": "code",
   "execution_count": 5,
   "id": "250fd937",
   "metadata": {},
   "outputs": [],
   "source": [
    "#soup.select(\"p\")"
   ]
  },
  {
   "cell_type": "code",
   "execution_count": 6,
   "id": "e75b1af9",
   "metadata": {},
   "outputs": [
    {
     "data": {
      "text/plain": [
       "[<cite class=\"title\">FLOWER</cite>,\n",
       " <cite class=\"title\">Last Night</cite>,\n",
       " <cite class=\"title\">Flowers</cite>,\n",
       " <cite class=\"title\">Fast Car</cite>,\n",
       " <cite class=\"title\">Thank God I Do</cite>,\n",
       " <cite class=\"title\">Like Crazy (Deep House Remix)</cite>,\n",
       " <cite class=\"title\">Calm Down</cite>,\n",
       " <cite class=\"title\">Like Crazy (UK Garage Remix)</cite>,\n",
       " <cite class=\"title\">Like Crazy (English Version)</cite>,\n",
       " <cite class=\"title\">Like Crazy (Instrumental)</cite>]"
      ]
     },
     "execution_count": 6,
     "metadata": {},
     "output_type": "execute_result"
    }
   ],
   "source": [
    "soup.select(\"p cite\")[0:10]"
   ]
  },
  {
   "cell_type": "code",
   "execution_count": 7,
   "id": "49164f1f",
   "metadata": {},
   "outputs": [
    {
     "data": {
      "text/plain": [
       "[<em class=\"artist\">JISOO</em>,\n",
       " <em class=\"artist\">Morgan Wallen</em>,\n",
       " <em class=\"artist\">Miley Cyrus</em>,\n",
       " <em class=\"artist\">Luke Combs</em>,\n",
       " <em class=\"artist\">Lauren Daigle</em>,\n",
       " <em class=\"artist\">Jimin</em>,\n",
       " <em class=\"artist\">Rema &amp; Selena Gomez</em>,\n",
       " <em class=\"artist\">Jimin</em>,\n",
       " <em class=\"artist\">Jimin</em>,\n",
       " <em class=\"artist\">Jimin</em>]"
      ]
     },
     "execution_count": 7,
     "metadata": {},
     "output_type": "execute_result"
    }
   ],
   "source": [
    "soup.select(\"p em\")[0:10]"
   ]
  },
  {
   "cell_type": "code",
   "execution_count": 8,
   "id": "ac72c354",
   "metadata": {},
   "outputs": [
    {
     "data": {
      "text/plain": [
       "[<a href=\"/music/charts/top-kpop-songs.php\">K-Pop</a>,\n",
       " <a href=\"/music/charts/top-kpop-songs.php\">K-Pop</a>,\n",
       " <a href=\"/music/charts/top-kpop-songs.php\">K-Pop</a>,\n",
       " <a href=\"/music/charts/top-kpop-songs.php\">K-Pop</a>,\n",
       " <a href=\"/music/charts/top-pop-songs.php\">Pop</a>,\n",
       " <a href=\"/music/charts/top-kpop-songs.php\">K-Pop</a>,\n",
       " <a href=\"/music/charts/top-heavy-metal-songs.php\">Heavy Metal</a>,\n",
       " <a href=\"/music/charts/top-rap-songs.php\">Hip-Hop / Rap</a>,\n",
       " <a href=\"/music/charts/top-pop-songs.php\">Pop</a>,\n",
       " <a href=\"/music/charts/top-alternative-songs.php\">Alternative</a>]"
      ]
     },
     "execution_count": 8,
     "metadata": {},
     "output_type": "execute_result"
    }
   ],
   "source": [
    "soup.select(\"div.chart-content.col-xs-12.col-sm-8 > ul > li:nth-child(2) > a\")[0:10]"
   ]
  },
  {
   "cell_type": "code",
   "execution_count": 9,
   "id": "859fe929",
   "metadata": {},
   "outputs": [
    {
     "data": {
      "text/plain": [
       "[<li><strong>Release Date</strong>: March 31, 2023</li>,\n",
       " <li class=\"billboard-chart billboard-number-one\">The current #1 hit song  in the U.S. on the <cite><a href=\"http://www.billboard.com/charts/hot-100\" rel=\"noopener\" target=\"_blank\">Billboard Hot 100</a></cite> chart.<br/>2 weeks at #1.</li>,\n",
       " <li><strong>Release Date</strong>: March 26, 2023</li>,\n",
       " <li><strong>Release Date</strong>: March 26, 2023</li>,\n",
       " <li><strong>Release Date</strong>: March 26, 2023</li>,\n",
       " <li class=\"billboard-chart\">Former #1 song on the <cite>Billboard Hot 100</cite> chart.</li>,\n",
       " <li><strong>Release Date</strong>: March 31, 2023</li>,\n",
       " <li><strong>Release Date</strong>: March 31, 2023</li>,\n",
       " <li><strong>Release Date</strong>: March 31, 2023</li>,\n",
       " <li><strong>Release Date</strong>: March 31, 2023</li>]"
      ]
     },
     "execution_count": 9,
     "metadata": {},
     "output_type": "execute_result"
    }
   ],
   "source": [
    "soup.select (\"div.chart-content.col-xs-12.col-sm-8 > ul > li:nth-child(3)\")[0:10]"
   ]
  },
  {
   "cell_type": "code",
   "execution_count": 10,
   "id": "0779bc38",
   "metadata": {},
   "outputs": [
    {
     "name": "stdout",
     "output_type": "stream",
     "text": [
      "['FLOWER', 'Last Night', 'Flowers', 'Fast Car', 'Thank God I Do', 'Like Crazy (Deep House Remix)', 'Calm Down', 'Like Crazy (UK Garage Remix)', 'Like Crazy (English Version)', 'Like Crazy (Instrumental)']\n",
      "['JISOO', 'Morgan Wallen', 'Miley Cyrus', 'Luke Combs', 'Lauren Daigle', 'Jimin', 'Rema & Selena Gomez', 'Jimin', 'Jimin', 'Jimin']\n",
      "100\n",
      "100\n"
     ]
    }
   ],
   "source": [
    "#Empty Lists\n",
    "title = []\n",
    "artist = []\n",
    "\n",
    "# Iterations\n",
    "num_iter = len(soup.select(\"p cite\"))\n",
    "\n",
    "title_song = soup.select(\"p cite\")\n",
    "artist_song = soup.select(\"p em\")\n",
    "\n",
    "for i in range(num_iter):\n",
    "    title.append(title_song[i].get_text())\n",
    "    artist.append(artist_song[i].get_text())\n",
    "    \n",
    "print(title[0:10])\n",
    "print(artist[0:10])\n",
    "\n",
    "\n",
    "#\n",
    "\n",
    "print(len(title))\n",
    "print(len(artist))\n",
    "#print(len(genre))\n",
    "#print(len(release_date))"
   ]
  },
  {
   "cell_type": "code",
   "execution_count": 11,
   "id": "bd852aa8",
   "metadata": {},
   "outputs": [],
   "source": [
    "# Columns of a dataframe\n",
    "topsongs = pd.DataFrame({\"title\":title,\n",
    "                       \"artist\":artist})"
   ]
  },
  {
   "cell_type": "code",
   "execution_count": 12,
   "id": "b97bd123",
   "metadata": {},
   "outputs": [],
   "source": [
    "topsongs.to_csv('topsongs_data.csv')"
   ]
  },
  {
   "cell_type": "code",
   "execution_count": 13,
   "id": "f9ee72b3",
   "metadata": {},
   "outputs": [
    {
     "data": {
      "text/html": [
       "<div>\n",
       "<style scoped>\n",
       "    .dataframe tbody tr th:only-of-type {\n",
       "        vertical-align: middle;\n",
       "    }\n",
       "\n",
       "    .dataframe tbody tr th {\n",
       "        vertical-align: top;\n",
       "    }\n",
       "\n",
       "    .dataframe thead th {\n",
       "        text-align: right;\n",
       "    }\n",
       "</style>\n",
       "<table border=\"1\" class=\"dataframe\">\n",
       "  <thead>\n",
       "    <tr style=\"text-align: right;\">\n",
       "      <th></th>\n",
       "      <th>title</th>\n",
       "      <th>artist</th>\n",
       "    </tr>\n",
       "  </thead>\n",
       "  <tbody>\n",
       "    <tr>\n",
       "      <th>0</th>\n",
       "      <td>FLOWER</td>\n",
       "      <td>JISOO</td>\n",
       "    </tr>\n",
       "    <tr>\n",
       "      <th>1</th>\n",
       "      <td>Last Night</td>\n",
       "      <td>Morgan Wallen</td>\n",
       "    </tr>\n",
       "    <tr>\n",
       "      <th>2</th>\n",
       "      <td>Flowers</td>\n",
       "      <td>Miley Cyrus</td>\n",
       "    </tr>\n",
       "    <tr>\n",
       "      <th>3</th>\n",
       "      <td>Fast Car</td>\n",
       "      <td>Luke Combs</td>\n",
       "    </tr>\n",
       "    <tr>\n",
       "      <th>4</th>\n",
       "      <td>Thank God I Do</td>\n",
       "      <td>Lauren Daigle</td>\n",
       "    </tr>\n",
       "    <tr>\n",
       "      <th>5</th>\n",
       "      <td>Like Crazy (Deep House Remix)</td>\n",
       "      <td>Jimin</td>\n",
       "    </tr>\n",
       "    <tr>\n",
       "      <th>6</th>\n",
       "      <td>Calm Down</td>\n",
       "      <td>Rema &amp; Selena Gomez</td>\n",
       "    </tr>\n",
       "    <tr>\n",
       "      <th>7</th>\n",
       "      <td>Like Crazy (UK Garage Remix)</td>\n",
       "      <td>Jimin</td>\n",
       "    </tr>\n",
       "    <tr>\n",
       "      <th>8</th>\n",
       "      <td>Like Crazy (English Version)</td>\n",
       "      <td>Jimin</td>\n",
       "    </tr>\n",
       "    <tr>\n",
       "      <th>9</th>\n",
       "      <td>Like Crazy (Instrumental)</td>\n",
       "      <td>Jimin</td>\n",
       "    </tr>\n",
       "    <tr>\n",
       "      <th>10</th>\n",
       "      <td>Eyes Closed</td>\n",
       "      <td>Ed Sheeran</td>\n",
       "    </tr>\n",
       "    <tr>\n",
       "      <th>11</th>\n",
       "      <td>You Say</td>\n",
       "      <td>Lauren Daigle</td>\n",
       "    </tr>\n",
       "    <tr>\n",
       "      <th>12</th>\n",
       "      <td>Heart Like A Truck</td>\n",
       "      <td>Lainey Wilson</td>\n",
       "    </tr>\n",
       "    <tr>\n",
       "      <th>13</th>\n",
       "      <td>Anti-Hero</td>\n",
       "      <td>Taylor Swift</td>\n",
       "    </tr>\n",
       "    <tr>\n",
       "      <th>14</th>\n",
       "      <td>Like Crazy</td>\n",
       "      <td>Jimin</td>\n",
       "    </tr>\n",
       "    <tr>\n",
       "      <th>15</th>\n",
       "      <td>Lavender Haze (Acoustic Version)</td>\n",
       "      <td>Taylor Swift</td>\n",
       "    </tr>\n",
       "    <tr>\n",
       "      <th>16</th>\n",
       "      <td>All Eyes On Me</td>\n",
       "      <td>JISOO</td>\n",
       "    </tr>\n",
       "    <tr>\n",
       "      <th>17</th>\n",
       "      <td>Thinkin’ Bout Me</td>\n",
       "      <td>Morgan Wallen</td>\n",
       "    </tr>\n",
       "    <tr>\n",
       "      <th>18</th>\n",
       "      <td>Players</td>\n",
       "      <td>Coi Leray</td>\n",
       "    </tr>\n",
       "    <tr>\n",
       "      <th>19</th>\n",
       "      <td>Thank God</td>\n",
       "      <td>Kane Brown &amp; Katelyn Brown</td>\n",
       "    </tr>\n",
       "  </tbody>\n",
       "</table>\n",
       "</div>"
      ],
      "text/plain": [
       "                               title                      artist\n",
       "0                             FLOWER                       JISOO\n",
       "1                         Last Night               Morgan Wallen\n",
       "2                            Flowers                 Miley Cyrus\n",
       "3                           Fast Car                  Luke Combs\n",
       "4                     Thank God I Do               Lauren Daigle\n",
       "5      Like Crazy (Deep House Remix)                       Jimin\n",
       "6                          Calm Down         Rema & Selena Gomez\n",
       "7       Like Crazy (UK Garage Remix)                       Jimin\n",
       "8       Like Crazy (English Version)                       Jimin\n",
       "9          Like Crazy (Instrumental)                       Jimin\n",
       "10                       Eyes Closed                  Ed Sheeran\n",
       "11                           You Say               Lauren Daigle\n",
       "12                Heart Like A Truck               Lainey Wilson\n",
       "13                         Anti-Hero                Taylor Swift\n",
       "14                        Like Crazy                       Jimin\n",
       "15  Lavender Haze (Acoustic Version)                Taylor Swift\n",
       "16                    All Eyes On Me                       JISOO\n",
       "17                  Thinkin’ Bout Me               Morgan Wallen\n",
       "18                           Players                   Coi Leray\n",
       "19                         Thank God  Kane Brown & Katelyn Brown"
      ]
     },
     "metadata": {},
     "output_type": "display_data"
    },
    {
     "data": {
      "text/plain": [
       "100"
      ]
     },
     "metadata": {},
     "output_type": "display_data"
    }
   ],
   "source": [
    "display(topsongs.head(20), len(topsongs))"
   ]
  },
  {
   "cell_type": "code",
   "execution_count": null,
   "id": "cd7baa9f",
   "metadata": {},
   "outputs": [],
   "source": []
  },
  {
   "cell_type": "code",
   "execution_count": null,
   "id": "392b69ce",
   "metadata": {},
   "outputs": [],
   "source": []
  },
  {
   "cell_type": "markdown",
   "id": "b5af80ac",
   "metadata": {},
   "source": [
    "## GNOD 2"
   ]
  },
  {
   "cell_type": "markdown",
   "id": "20099447",
   "metadata": {},
   "source": [
    "The first steps you took yesterday, were to create a list of Top Songs and Artists from scraping web sites.\n",
    "\n",
    "\n",
    "You should have ended with your lists in a data frame containing at least Song Title and Artist.\n",
    "\n",
    "\n",
    "Today you are creating a recommender where the user inputs a song title and check if that song is in the list you created.   If it is,  give a different random song and artist from the list.  If it is not on the list, let the user know that you have no recommendation at this time.\n"
   ]
  },
  {
   "cell_type": "code",
   "execution_count": 14,
   "id": "49f56082",
   "metadata": {},
   "outputs": [
    {
     "data": {
      "text/html": [
       "<div>\n",
       "<style scoped>\n",
       "    .dataframe tbody tr th:only-of-type {\n",
       "        vertical-align: middle;\n",
       "    }\n",
       "\n",
       "    .dataframe tbody tr th {\n",
       "        vertical-align: top;\n",
       "    }\n",
       "\n",
       "    .dataframe thead th {\n",
       "        text-align: right;\n",
       "    }\n",
       "</style>\n",
       "<table border=\"1\" class=\"dataframe\">\n",
       "  <thead>\n",
       "    <tr style=\"text-align: right;\">\n",
       "      <th></th>\n",
       "      <th>title</th>\n",
       "      <th>artist</th>\n",
       "    </tr>\n",
       "  </thead>\n",
       "  <tbody>\n",
       "    <tr>\n",
       "      <th>0</th>\n",
       "      <td>FLOWER</td>\n",
       "      <td>JISOO</td>\n",
       "    </tr>\n",
       "    <tr>\n",
       "      <th>1</th>\n",
       "      <td>Last Night</td>\n",
       "      <td>Morgan Wallen</td>\n",
       "    </tr>\n",
       "    <tr>\n",
       "      <th>2</th>\n",
       "      <td>Flowers</td>\n",
       "      <td>Miley Cyrus</td>\n",
       "    </tr>\n",
       "    <tr>\n",
       "      <th>3</th>\n",
       "      <td>Fast Car</td>\n",
       "      <td>Luke Combs</td>\n",
       "    </tr>\n",
       "    <tr>\n",
       "      <th>4</th>\n",
       "      <td>Thank God I Do</td>\n",
       "      <td>Lauren Daigle</td>\n",
       "    </tr>\n",
       "  </tbody>\n",
       "</table>\n",
       "</div>"
      ],
      "text/plain": [
       "            title         artist\n",
       "0          FLOWER          JISOO\n",
       "1      Last Night  Morgan Wallen\n",
       "2         Flowers    Miley Cyrus\n",
       "3        Fast Car     Luke Combs\n",
       "4  Thank God I Do  Lauren Daigle"
      ]
     },
     "execution_count": 14,
     "metadata": {},
     "output_type": "execute_result"
    }
   ],
   "source": [
    "# Previous dataframe\n",
    "topsongs.head(5)"
   ]
  },
  {
   "cell_type": "code",
   "execution_count": 15,
   "id": "2c0f80b7",
   "metadata": {},
   "outputs": [],
   "source": [
    "import random\n",
    "from IPython.display import Markdown, display  # library to display in bolt letters, etc\n",
    "\n",
    "def similar_top100(topsongs, song_searched):\n",
    "    \n",
    "    # Converting both input value and 'title' in lower case\n",
    "    song_searched = song_searched.lower() \n",
    "    topsongs['title'] = topsongs['title'].str.lower()\n",
    "    \n",
    "    # IF song in the input IS IN the 'title column'\n",
    "    if song_searched in topsongs['title'].values:\n",
    "        # While song in input IS different from the recommended (output)\n",
    "        while True:\n",
    "            # Generating a random number to select another song from the list\n",
    "            random_num = random.randint(0, len(topsongs)-1)\n",
    "            # Picking the song 'title' with random_num index\n",
    "            song_recommended_title = topsongs.iloc[random_num]['title']\n",
    "            # Getting also the artist name \n",
    "            song_recommended_artist = topsongs.iloc[random_num]['artist']\n",
    "            # If recommended song IS NOT the same as the searched one, stop the while\n",
    "            if song_recommended_title != song_searched:\n",
    "                break\n",
    "        # Capitalizing first letters of 'title' (.title())\n",
    "        song_recommended_title = song_recommended_title.title()\n",
    "        # Joinning song and artist to display in the output\n",
    "        song_recommended = f\"{song_recommended_title} by {song_recommended_artist}\"\n",
    "        # Displaying output with both 'title' and 'artist' bigger and bolt style.\n",
    "        display(Markdown(f\"You should listen to: **{song_recommended}**!\"))\n",
    "    \n",
    "    # If song in the input IS NOT in 'title column'\n",
    "    else:\n",
    "        print(\"Sorry, you have very bad musical taste. Try another one...\")"
   ]
  },
  {
   "cell_type": "code",
   "execution_count": 16,
   "id": "6eabb8dc",
   "metadata": {},
   "outputs": [
    {
     "name": "stdout",
     "output_type": "stream",
     "text": [
      "Introduce the name of a song: Fix you\n",
      "Sorry, you have very bad musical taste. Try another one...\n"
     ]
    }
   ],
   "source": [
    "# Input\n",
    "song_searched = input(\"Introduce the name of a song: \")\n",
    "# Applying function\n",
    "similar_top100(topsongs,song_searched)\n"
   ]
  },
  {
   "cell_type": "code",
   "execution_count": null,
   "id": "718a8505",
   "metadata": {},
   "outputs": [],
   "source": []
  },
  {
   "cell_type": "markdown",
   "id": "63266344",
   "metadata": {},
   "source": [
    "## GNOD 3"
   ]
  },
  {
   "cell_type": "markdown",
   "id": "1ba7d38e",
   "metadata": {},
   "source": [
    "### Lab | API wrappers - Create your collection of songs & audio features"
   ]
  },
  {
   "cell_type": "markdown",
   "id": "66563387",
   "metadata": {},
   "source": [
    "To move forward with the project, you need to create a collection of songs with their audio features - as large as possible!\n",
    "\n",
    "\n",
    "\n",
    "These are the songs that we will cluster. And, later, when the user inputs a song, we will find the cluster to which the song belongs and recommend a song from the same cluster. The more songs you have, the more accurate and diverse recommendations you'll be able to give. Although... you might want to make sure the collected songs are \"curated\" in a certain way. Try to find playlists of songs that are diverse, but also that meet certain standards.\n",
    "\n",
    "\n",
    "\n",
    "The process of sending hundreds or thousands of requests can take some time - it's normal if you have to wait a few minutes (or, if you're ambitious, even hours) to get all the data you need.\n",
    "\n",
    "An idea for collecting as many songs as possible is to start with all the songs of a big, diverse playlist and then go to every artist present in the playlist and grab every song of every album of that artist. The amount of songs you'll be collecting per playlist will grow exponentially!\n"
   ]
  },
  {
   "cell_type": "code",
   "execution_count": 17,
   "id": "3e09955d",
   "metadata": {},
   "outputs": [],
   "source": [
    "import spotipy\n",
    "from spotipy.oauth2 import SpotifyClientCredentials\n",
    "\n",
    "#### Authentification\n",
    "\n",
    "secrets_file = open(\"secrets.txt\",\"r\")\n",
    "string = secrets_file.read()\n",
    "#string.split('\\n')\n",
    "\n",
    "# Dictionary\n",
    "secrets_dict={}\n",
    "for line in string.split('\\n'):\n",
    "    if len(line) > 0: # excluding empty lines\n",
    "        #           [first element:key]  [ second element:value  ]\n",
    "        secrets_dict[line.split(':')[0]]=line.split(':')[1].strip()\n"
   ]
  },
  {
   "cell_type": "markdown",
   "id": "f4a49d30",
   "metadata": {},
   "source": [
    "#### Authentication with secrets text file"
   ]
  },
  {
   "cell_type": "code",
   "execution_count": 18,
   "id": "70a2a839",
   "metadata": {},
   "outputs": [],
   "source": [
    "#Initialize SpotiPy with user credentials\n",
    "sp = spotipy.Spotify(auth_manager=SpotifyClientCredentials(client_id=secrets_dict['cid'],\n",
    "                                                           client_secret=secrets_dict['csecret']))\n"
   ]
  },
  {
   "cell_type": "markdown",
   "id": "3a5d2a40",
   "metadata": {},
   "source": [
    "#### Playlists selected from Spotify"
   ]
  },
  {
   "cell_type": "code",
   "execution_count": 19,
   "id": "390ee32a",
   "metadata": {},
   "outputs": [],
   "source": [
    "# Top 2000 (1999): 37i9dQZF1DWTmvXBN4DgpA\n",
    "# Top 5000 (2705) - private: 5DPT4gtwr5AeFlf3YVvdmK\n",
    "# Top 5000 (3318) - private: 4RVf1hHtwvMEED3yuCNi8q\n",
    "# Best Music of all times (1723): 1BHsIy6qBuhJVzys6nr2uo"
   ]
  },
  {
   "cell_type": "markdown",
   "id": "43ba1bfb",
   "metadata": {},
   "source": [
    "#### Audio features"
   ]
  },
  {
   "cell_type": "code",
   "execution_count": 20,
   "id": "060cf621",
   "metadata": {},
   "outputs": [],
   "source": [
    "# List of playlists id\n",
    "playlist_id = ['37i9dQZF1DWTmvXBN4DgpA',\n",
    "               '5DPT4gtwr5AeFlf3YVvdmK',\n",
    "               '4RVf1hHtwvMEED3yuCNi8q'],\n",
    "              # '1BHsIy6qBuhJVzys6nr2uo']\n"
   ]
  },
  {
   "cell_type": "code",
   "execution_count": 21,
   "id": "c2f6bae0",
   "metadata": {},
   "outputs": [
    {
     "data": {
      "text/plain": [
       "dict"
      ]
     },
     "metadata": {},
     "output_type": "display_data"
    },
    {
     "data": {
      "text/plain": [
       "1999"
      ]
     },
     "metadata": {},
     "output_type": "display_data"
    },
    {
     "data": {
      "text/plain": [
       "dict"
      ]
     },
     "metadata": {},
     "output_type": "display_data"
    },
    {
     "data": {
      "text/plain": [
       "2705"
      ]
     },
     "metadata": {},
     "output_type": "display_data"
    },
    {
     "data": {
      "text/plain": [
       "dict"
      ]
     },
     "metadata": {},
     "output_type": "display_data"
    },
    {
     "data": {
      "text/plain": [
       "3318"
      ]
     },
     "metadata": {},
     "output_type": "display_data"
    }
   ],
   "source": [
    "playlist1 = sp.user_playlist_tracks(\"spotify\", \"37i9dQZF1DWTmvXBN4DgpA\")\n",
    "playlist2 = sp.user_playlist_tracks(\"spotify\", \"5DPT4gtwr5AeFlf3YVvdmK\")\n",
    "playlist3 = sp.user_playlist_tracks(\"spotify\", \"4RVf1hHtwvMEED3yuCNi8q\")\n",
    "#playlist4 = sp.user_playlist_tracks(\"spotify\", \"1BHsIy6qBuhJVzys6nr2uo\")\n",
    "\n",
    "\n",
    "display(type(playlist1), playlist1['total'])\n",
    "display(type(playlist2), playlist2['total'])\n",
    "display(type(playlist3), playlist3['total'])\n",
    "#display(type(playlist4), playlist4['total'])"
   ]
  },
  {
   "cell_type": "code",
   "execution_count": 22,
   "id": "2089429e",
   "metadata": {},
   "outputs": [],
   "source": [
    "#playlist1"
   ]
  },
  {
   "cell_type": "code",
   "execution_count": 23,
   "id": "bae704ca",
   "metadata": {},
   "outputs": [
    {
     "data": {
      "text/plain": [
       "'Bohemian Rhapsody - Remastered 2011'"
      ]
     },
     "metadata": {},
     "output_type": "display_data"
    },
    {
     "data": {
      "text/plain": [
       "'Queen'"
      ]
     },
     "metadata": {},
     "output_type": "display_data"
    },
    {
     "data": {
      "text/plain": [
       "'spotify:track:7tFiyTwD0nx5a1eklYtX2J'"
      ]
     },
     "metadata": {},
     "output_type": "display_data"
    }
   ],
   "source": [
    "# Checking the path to get 'title', 'artist' and 'uri'\n",
    "display(playlist1[\"items\"][0][\"track\"][\"name\"]) # title\n",
    "display(playlist1[\"items\"][0][\"track\"][\"artists\"][0][\"name\"]) # artist\n",
    "display(playlist1[\"items\"][0][\"track\"][\"uri\"]) # uri"
   ]
  },
  {
   "cell_type": "markdown",
   "id": "38de80ad",
   "metadata": {},
   "source": [
    "#### Retrieving all data from playlists and creating a new dataframe\n"
   ]
  },
  {
   "cell_type": "code",
   "execution_count": 24,
   "id": "18962c46",
   "metadata": {},
   "outputs": [],
   "source": [
    "# List of playlists\n",
    "playlists_list = [\"playlist1\",\"playlist2\",\"playlist3\"] #,\"playlist4\"]\n"
   ]
  },
  {
   "cell_type": "code",
   "execution_count": 25,
   "id": "7f3b71f9",
   "metadata": {},
   "outputs": [],
   "source": [
    "# Function to retrieve ALL data of \"title\", \"artist\", and \"uri\" 's id and metrics\n",
    "# from the playlist dict and convert all them into columns of a new dataframe dataframe\n",
    "\n",
    "def create_playlist_dataframe(playlist, sp):\n",
    "    # List of items in track\n",
    "    tracks = []\n",
    "    \n",
    "    # While there is a next page of results in the playlist\n",
    "    while playlist:\n",
    "        # For each item in playlist:\n",
    "        for item in playlist['items']:\n",
    "            # Look for uri and save id and get values in features\n",
    "            song_uri = item['track']['uri']\n",
    "            features = sp.audio_features(song_uri)[0]\n",
    "            \n",
    "            # New dict retrieving values of 'title', 'artist' and 'uri' (id)\n",
    "            track = {\n",
    "                'title': item['track']['name'],\n",
    "                'artist': item['track']['artists'][0]['name'],\n",
    "                'uri': song_uri,\n",
    "            }\n",
    "            \n",
    "            # For each feature (song uri) add in track dict\n",
    "            # new key (column name) and the value\n",
    "            for feature_key, feature_value in features.items():\n",
    "                track[feature_key] = feature_value\n",
    "                \n",
    "            # Append each item in track\n",
    "            tracks.append(track)\n",
    "        \n",
    "        # Get the next page of results\n",
    "        playlist = sp.next(playlist)\n",
    "        \n",
    "        # Sleep for a random time between 1 and 3 seconds to avoid triggering rate limits\n",
    "        sleep_time = random.randint(1, 3)\n",
    "        time.sleep(sleep_time)\n",
    "    \n",
    "    # Return the results as a DataFrame\n",
    "    return pd.DataFrame(tracks)\n"
   ]
  },
  {
   "cell_type": "code",
   "execution_count": 26,
   "id": "c80926e6",
   "metadata": {},
   "outputs": [],
   "source": [
    "# Applying the function\n",
    "playlist1_df = create_playlist_dataframe(playlist1, sp)"
   ]
  },
  {
   "cell_type": "code",
   "execution_count": 27,
   "id": "81c2cbe6",
   "metadata": {},
   "outputs": [
    {
     "data": {
      "text/html": [
       "<div>\n",
       "<style scoped>\n",
       "    .dataframe tbody tr th:only-of-type {\n",
       "        vertical-align: middle;\n",
       "    }\n",
       "\n",
       "    .dataframe tbody tr th {\n",
       "        vertical-align: top;\n",
       "    }\n",
       "\n",
       "    .dataframe thead th {\n",
       "        text-align: right;\n",
       "    }\n",
       "</style>\n",
       "<table border=\"1\" class=\"dataframe\">\n",
       "  <thead>\n",
       "    <tr style=\"text-align: right;\">\n",
       "      <th></th>\n",
       "      <th>title</th>\n",
       "      <th>artist</th>\n",
       "      <th>uri</th>\n",
       "      <th>danceability</th>\n",
       "      <th>energy</th>\n",
       "      <th>key</th>\n",
       "      <th>loudness</th>\n",
       "      <th>mode</th>\n",
       "      <th>speechiness</th>\n",
       "      <th>acousticness</th>\n",
       "      <th>instrumentalness</th>\n",
       "      <th>liveness</th>\n",
       "      <th>valence</th>\n",
       "      <th>tempo</th>\n",
       "      <th>type</th>\n",
       "      <th>id</th>\n",
       "      <th>track_href</th>\n",
       "      <th>analysis_url</th>\n",
       "      <th>duration_ms</th>\n",
       "      <th>time_signature</th>\n",
       "    </tr>\n",
       "  </thead>\n",
       "  <tbody>\n",
       "    <tr>\n",
       "      <th>0</th>\n",
       "      <td>Bohemian Rhapsody - Remastered 2011</td>\n",
       "      <td>Queen</td>\n",
       "      <td>spotify:track:7tFiyTwD0nx5a1eklYtX2J</td>\n",
       "      <td>0.392</td>\n",
       "      <td>0.402</td>\n",
       "      <td>0</td>\n",
       "      <td>-9.961</td>\n",
       "      <td>0</td>\n",
       "      <td>0.0536</td>\n",
       "      <td>0.28800</td>\n",
       "      <td>0.000000</td>\n",
       "      <td>0.2430</td>\n",
       "      <td>0.228</td>\n",
       "      <td>143.883</td>\n",
       "      <td>audio_features</td>\n",
       "      <td>7tFiyTwD0nx5a1eklYtX2J</td>\n",
       "      <td>https://api.spotify.com/v1/tracks/7tFiyTwD0nx5...</td>\n",
       "      <td>https://api.spotify.com/v1/audio-analysis/7tFi...</td>\n",
       "      <td>354320</td>\n",
       "      <td>4</td>\n",
       "    </tr>\n",
       "    <tr>\n",
       "      <th>1</th>\n",
       "      <td>Roller Coaster</td>\n",
       "      <td>Danny Vera</td>\n",
       "      <td>spotify:track:5B5YKjgne3TZzNpMsN9aj1</td>\n",
       "      <td>0.401</td>\n",
       "      <td>0.383</td>\n",
       "      <td>9</td>\n",
       "      <td>-10.048</td>\n",
       "      <td>1</td>\n",
       "      <td>0.0279</td>\n",
       "      <td>0.51000</td>\n",
       "      <td>0.007800</td>\n",
       "      <td>0.1210</td>\n",
       "      <td>0.285</td>\n",
       "      <td>96.957</td>\n",
       "      <td>audio_features</td>\n",
       "      <td>5B5YKjgne3TZzNpMsN9aj1</td>\n",
       "      <td>https://api.spotify.com/v1/tracks/5B5YKjgne3TZ...</td>\n",
       "      <td>https://api.spotify.com/v1/audio-analysis/5B5Y...</td>\n",
       "      <td>269986</td>\n",
       "      <td>4</td>\n",
       "    </tr>\n",
       "    <tr>\n",
       "      <th>2</th>\n",
       "      <td>Hotel California - 2013 Remaster</td>\n",
       "      <td>Eagles</td>\n",
       "      <td>spotify:track:40riOy7x9W7GXjyGp4pjAv</td>\n",
       "      <td>0.579</td>\n",
       "      <td>0.508</td>\n",
       "      <td>2</td>\n",
       "      <td>-9.484</td>\n",
       "      <td>1</td>\n",
       "      <td>0.0270</td>\n",
       "      <td>0.00574</td>\n",
       "      <td>0.000494</td>\n",
       "      <td>0.0575</td>\n",
       "      <td>0.609</td>\n",
       "      <td>147.125</td>\n",
       "      <td>audio_features</td>\n",
       "      <td>40riOy7x9W7GXjyGp4pjAv</td>\n",
       "      <td>https://api.spotify.com/v1/tracks/40riOy7x9W7G...</td>\n",
       "      <td>https://api.spotify.com/v1/audio-analysis/40ri...</td>\n",
       "      <td>391376</td>\n",
       "      <td>4</td>\n",
       "    </tr>\n",
       "    <tr>\n",
       "      <th>3</th>\n",
       "      <td>Piano Man</td>\n",
       "      <td>Billy Joel</td>\n",
       "      <td>spotify:track:3FCto7hnn1shUyZL42YgfO</td>\n",
       "      <td>0.334</td>\n",
       "      <td>0.472</td>\n",
       "      <td>0</td>\n",
       "      <td>-8.791</td>\n",
       "      <td>1</td>\n",
       "      <td>0.0277</td>\n",
       "      <td>0.60000</td>\n",
       "      <td>0.000004</td>\n",
       "      <td>0.3170</td>\n",
       "      <td>0.431</td>\n",
       "      <td>179.173</td>\n",
       "      <td>audio_features</td>\n",
       "      <td>3FCto7hnn1shUyZL42YgfO</td>\n",
       "      <td>https://api.spotify.com/v1/tracks/3FCto7hnn1sh...</td>\n",
       "      <td>https://api.spotify.com/v1/audio-analysis/3FCt...</td>\n",
       "      <td>336093</td>\n",
       "      <td>3</td>\n",
       "    </tr>\n",
       "    <tr>\n",
       "      <th>4</th>\n",
       "      <td>Fix You</td>\n",
       "      <td>Coldplay</td>\n",
       "      <td>spotify:track:7LVHVU3tWfcxj5aiPFEW4Q</td>\n",
       "      <td>0.209</td>\n",
       "      <td>0.417</td>\n",
       "      <td>3</td>\n",
       "      <td>-8.740</td>\n",
       "      <td>1</td>\n",
       "      <td>0.0338</td>\n",
       "      <td>0.16400</td>\n",
       "      <td>0.001960</td>\n",
       "      <td>0.1130</td>\n",
       "      <td>0.124</td>\n",
       "      <td>138.178</td>\n",
       "      <td>audio_features</td>\n",
       "      <td>7LVHVU3tWfcxj5aiPFEW4Q</td>\n",
       "      <td>https://api.spotify.com/v1/tracks/7LVHVU3tWfcx...</td>\n",
       "      <td>https://api.spotify.com/v1/audio-analysis/7LVH...</td>\n",
       "      <td>295533</td>\n",
       "      <td>4</td>\n",
       "    </tr>\n",
       "  </tbody>\n",
       "</table>\n",
       "</div>"
      ],
      "text/plain": [
       "                                 title      artist  \\\n",
       "0  Bohemian Rhapsody - Remastered 2011       Queen   \n",
       "1                       Roller Coaster  Danny Vera   \n",
       "2     Hotel California - 2013 Remaster      Eagles   \n",
       "3                            Piano Man  Billy Joel   \n",
       "4                              Fix You    Coldplay   \n",
       "\n",
       "                                    uri  danceability  energy  key  loudness  \\\n",
       "0  spotify:track:7tFiyTwD0nx5a1eklYtX2J         0.392   0.402    0    -9.961   \n",
       "1  spotify:track:5B5YKjgne3TZzNpMsN9aj1         0.401   0.383    9   -10.048   \n",
       "2  spotify:track:40riOy7x9W7GXjyGp4pjAv         0.579   0.508    2    -9.484   \n",
       "3  spotify:track:3FCto7hnn1shUyZL42YgfO         0.334   0.472    0    -8.791   \n",
       "4  spotify:track:7LVHVU3tWfcxj5aiPFEW4Q         0.209   0.417    3    -8.740   \n",
       "\n",
       "   mode  speechiness  acousticness  instrumentalness  liveness  valence  \\\n",
       "0     0       0.0536       0.28800          0.000000    0.2430    0.228   \n",
       "1     1       0.0279       0.51000          0.007800    0.1210    0.285   \n",
       "2     1       0.0270       0.00574          0.000494    0.0575    0.609   \n",
       "3     1       0.0277       0.60000          0.000004    0.3170    0.431   \n",
       "4     1       0.0338       0.16400          0.001960    0.1130    0.124   \n",
       "\n",
       "     tempo            type                      id  \\\n",
       "0  143.883  audio_features  7tFiyTwD0nx5a1eklYtX2J   \n",
       "1   96.957  audio_features  5B5YKjgne3TZzNpMsN9aj1   \n",
       "2  147.125  audio_features  40riOy7x9W7GXjyGp4pjAv   \n",
       "3  179.173  audio_features  3FCto7hnn1shUyZL42YgfO   \n",
       "4  138.178  audio_features  7LVHVU3tWfcxj5aiPFEW4Q   \n",
       "\n",
       "                                          track_href  \\\n",
       "0  https://api.spotify.com/v1/tracks/7tFiyTwD0nx5...   \n",
       "1  https://api.spotify.com/v1/tracks/5B5YKjgne3TZ...   \n",
       "2  https://api.spotify.com/v1/tracks/40riOy7x9W7G...   \n",
       "3  https://api.spotify.com/v1/tracks/3FCto7hnn1sh...   \n",
       "4  https://api.spotify.com/v1/tracks/7LVHVU3tWfcx...   \n",
       "\n",
       "                                        analysis_url  duration_ms  \\\n",
       "0  https://api.spotify.com/v1/audio-analysis/7tFi...       354320   \n",
       "1  https://api.spotify.com/v1/audio-analysis/5B5Y...       269986   \n",
       "2  https://api.spotify.com/v1/audio-analysis/40ri...       391376   \n",
       "3  https://api.spotify.com/v1/audio-analysis/3FCt...       336093   \n",
       "4  https://api.spotify.com/v1/audio-analysis/7LVH...       295533   \n",
       "\n",
       "   time_signature  \n",
       "0               4  \n",
       "1               4  \n",
       "2               4  \n",
       "3               3  \n",
       "4               4  "
      ]
     },
     "metadata": {},
     "output_type": "display_data"
    },
    {
     "data": {
      "text/plain": [
       "(1999, 20)"
      ]
     },
     "metadata": {},
     "output_type": "display_data"
    }
   ],
   "source": [
    "display(playlist1_df.head(5), playlist1_df.shape)"
   ]
  },
  {
   "cell_type": "code",
   "execution_count": 28,
   "id": "0835c1b5",
   "metadata": {},
   "outputs": [],
   "source": [
    "# Applying the function\n",
    "playlist2_df = create_playlist_dataframe(playlist2, sp)"
   ]
  },
  {
   "cell_type": "code",
   "execution_count": 29,
   "id": "cf9279f4",
   "metadata": {},
   "outputs": [
    {
     "data": {
      "text/html": [
       "<div>\n",
       "<style scoped>\n",
       "    .dataframe tbody tr th:only-of-type {\n",
       "        vertical-align: middle;\n",
       "    }\n",
       "\n",
       "    .dataframe tbody tr th {\n",
       "        vertical-align: top;\n",
       "    }\n",
       "\n",
       "    .dataframe thead th {\n",
       "        text-align: right;\n",
       "    }\n",
       "</style>\n",
       "<table border=\"1\" class=\"dataframe\">\n",
       "  <thead>\n",
       "    <tr style=\"text-align: right;\">\n",
       "      <th></th>\n",
       "      <th>title</th>\n",
       "      <th>artist</th>\n",
       "      <th>uri</th>\n",
       "      <th>danceability</th>\n",
       "      <th>energy</th>\n",
       "      <th>key</th>\n",
       "      <th>loudness</th>\n",
       "      <th>mode</th>\n",
       "      <th>speechiness</th>\n",
       "      <th>acousticness</th>\n",
       "      <th>instrumentalness</th>\n",
       "      <th>liveness</th>\n",
       "      <th>valence</th>\n",
       "      <th>tempo</th>\n",
       "      <th>type</th>\n",
       "      <th>id</th>\n",
       "      <th>track_href</th>\n",
       "      <th>analysis_url</th>\n",
       "      <th>duration_ms</th>\n",
       "      <th>time_signature</th>\n",
       "    </tr>\n",
       "  </thead>\n",
       "  <tbody>\n",
       "    <tr>\n",
       "      <th>0</th>\n",
       "      <td>Rhapsody in Blue</td>\n",
       "      <td>George Gershwin</td>\n",
       "      <td>spotify:track:0yzhOPf0iw2qWwcXRRta5L</td>\n",
       "      <td>0.309</td>\n",
       "      <td>0.258</td>\n",
       "      <td>9</td>\n",
       "      <td>-15.327</td>\n",
       "      <td>1</td>\n",
       "      <td>0.0459</td>\n",
       "      <td>0.976</td>\n",
       "      <td>0.690000</td>\n",
       "      <td>0.0924</td>\n",
       "      <td>0.115</td>\n",
       "      <td>74.568</td>\n",
       "      <td>audio_features</td>\n",
       "      <td>0yzhOPf0iw2qWwcXRRta5L</td>\n",
       "      <td>https://api.spotify.com/v1/tracks/0yzhOPf0iw2q...</td>\n",
       "      <td>https://api.spotify.com/v1/audio-analysis/0yzh...</td>\n",
       "      <td>890000</td>\n",
       "      <td>4</td>\n",
       "    </tr>\n",
       "    <tr>\n",
       "      <th>1</th>\n",
       "      <td>Summertime</td>\n",
       "      <td>Billie Holiday</td>\n",
       "      <td>spotify:track:62Xj6x2LSWv47PtRAXrg5Z</td>\n",
       "      <td>0.628</td>\n",
       "      <td>0.226</td>\n",
       "      <td>10</td>\n",
       "      <td>-14.075</td>\n",
       "      <td>0</td>\n",
       "      <td>0.0371</td>\n",
       "      <td>0.903</td>\n",
       "      <td>0.000006</td>\n",
       "      <td>0.1710</td>\n",
       "      <td>0.608</td>\n",
       "      <td>99.392</td>\n",
       "      <td>audio_features</td>\n",
       "      <td>62Xj6x2LSWv47PtRAXrg5Z</td>\n",
       "      <td>https://api.spotify.com/v1/tracks/62Xj6x2LSWv4...</td>\n",
       "      <td>https://api.spotify.com/v1/audio-analysis/62Xj...</td>\n",
       "      <td>173493</td>\n",
       "      <td>4</td>\n",
       "    </tr>\n",
       "    <tr>\n",
       "      <th>2</th>\n",
       "      <td>Moonlight Serenade - 2005 Remastered Version</td>\n",
       "      <td>Glenn Miller</td>\n",
       "      <td>spotify:track:3HRMOZk689zaR3z6NpEdfu</td>\n",
       "      <td>0.228</td>\n",
       "      <td>0.263</td>\n",
       "      <td>3</td>\n",
       "      <td>-10.120</td>\n",
       "      <td>1</td>\n",
       "      <td>0.0275</td>\n",
       "      <td>0.896</td>\n",
       "      <td>0.317000</td>\n",
       "      <td>0.1030</td>\n",
       "      <td>0.224</td>\n",
       "      <td>83.903</td>\n",
       "      <td>audio_features</td>\n",
       "      <td>3HRMOZk689zaR3z6NpEdfu</td>\n",
       "      <td>https://api.spotify.com/v1/tracks/3HRMOZk689za...</td>\n",
       "      <td>https://api.spotify.com/v1/audio-analysis/3HRM...</td>\n",
       "      <td>204240</td>\n",
       "      <td>4</td>\n",
       "    </tr>\n",
       "    <tr>\n",
       "      <th>3</th>\n",
       "      <td>In the Mood - Live</td>\n",
       "      <td>Glenn Miller</td>\n",
       "      <td>spotify:track:54h1RKrrFJDsNOfhwmqu9o</td>\n",
       "      <td>0.463</td>\n",
       "      <td>0.654</td>\n",
       "      <td>8</td>\n",
       "      <td>-9.720</td>\n",
       "      <td>1</td>\n",
       "      <td>0.0659</td>\n",
       "      <td>0.824</td>\n",
       "      <td>0.917000</td>\n",
       "      <td>0.3720</td>\n",
       "      <td>0.592</td>\n",
       "      <td>175.204</td>\n",
       "      <td>audio_features</td>\n",
       "      <td>54h1RKrrFJDsNOfhwmqu9o</td>\n",
       "      <td>https://api.spotify.com/v1/tracks/54h1RKrrFJDs...</td>\n",
       "      <td>https://api.spotify.com/v1/audio-analysis/54h1...</td>\n",
       "      <td>209573</td>\n",
       "      <td>4</td>\n",
       "    </tr>\n",
       "    <tr>\n",
       "      <th>4</th>\n",
       "      <td>Take the \"A\" Train</td>\n",
       "      <td>Duke Ellington</td>\n",
       "      <td>spotify:track:6KBsivP3Of4z2x6uNMAyE3</td>\n",
       "      <td>0.479</td>\n",
       "      <td>0.318</td>\n",
       "      <td>0</td>\n",
       "      <td>-13.836</td>\n",
       "      <td>1</td>\n",
       "      <td>0.0395</td>\n",
       "      <td>0.278</td>\n",
       "      <td>0.095900</td>\n",
       "      <td>0.1070</td>\n",
       "      <td>0.575</td>\n",
       "      <td>94.036</td>\n",
       "      <td>audio_features</td>\n",
       "      <td>6KBsivP3Of4z2x6uNMAyE3</td>\n",
       "      <td>https://api.spotify.com/v1/tracks/6KBsivP3Of4z...</td>\n",
       "      <td>https://api.spotify.com/v1/audio-analysis/6KBs...</td>\n",
       "      <td>331800</td>\n",
       "      <td>4</td>\n",
       "    </tr>\n",
       "  </tbody>\n",
       "</table>\n",
       "</div>"
      ],
      "text/plain": [
       "                                          title           artist  \\\n",
       "0                              Rhapsody in Blue  George Gershwin   \n",
       "1                                    Summertime   Billie Holiday   \n",
       "2  Moonlight Serenade - 2005 Remastered Version     Glenn Miller   \n",
       "3                            In the Mood - Live     Glenn Miller   \n",
       "4                            Take the \"A\" Train   Duke Ellington   \n",
       "\n",
       "                                    uri  danceability  energy  key  loudness  \\\n",
       "0  spotify:track:0yzhOPf0iw2qWwcXRRta5L         0.309   0.258    9   -15.327   \n",
       "1  spotify:track:62Xj6x2LSWv47PtRAXrg5Z         0.628   0.226   10   -14.075   \n",
       "2  spotify:track:3HRMOZk689zaR3z6NpEdfu         0.228   0.263    3   -10.120   \n",
       "3  spotify:track:54h1RKrrFJDsNOfhwmqu9o         0.463   0.654    8    -9.720   \n",
       "4  spotify:track:6KBsivP3Of4z2x6uNMAyE3         0.479   0.318    0   -13.836   \n",
       "\n",
       "   mode  speechiness  acousticness  instrumentalness  liveness  valence  \\\n",
       "0     1       0.0459         0.976          0.690000    0.0924    0.115   \n",
       "1     0       0.0371         0.903          0.000006    0.1710    0.608   \n",
       "2     1       0.0275         0.896          0.317000    0.1030    0.224   \n",
       "3     1       0.0659         0.824          0.917000    0.3720    0.592   \n",
       "4     1       0.0395         0.278          0.095900    0.1070    0.575   \n",
       "\n",
       "     tempo            type                      id  \\\n",
       "0   74.568  audio_features  0yzhOPf0iw2qWwcXRRta5L   \n",
       "1   99.392  audio_features  62Xj6x2LSWv47PtRAXrg5Z   \n",
       "2   83.903  audio_features  3HRMOZk689zaR3z6NpEdfu   \n",
       "3  175.204  audio_features  54h1RKrrFJDsNOfhwmqu9o   \n",
       "4   94.036  audio_features  6KBsivP3Of4z2x6uNMAyE3   \n",
       "\n",
       "                                          track_href  \\\n",
       "0  https://api.spotify.com/v1/tracks/0yzhOPf0iw2q...   \n",
       "1  https://api.spotify.com/v1/tracks/62Xj6x2LSWv4...   \n",
       "2  https://api.spotify.com/v1/tracks/3HRMOZk689za...   \n",
       "3  https://api.spotify.com/v1/tracks/54h1RKrrFJDs...   \n",
       "4  https://api.spotify.com/v1/tracks/6KBsivP3Of4z...   \n",
       "\n",
       "                                        analysis_url  duration_ms  \\\n",
       "0  https://api.spotify.com/v1/audio-analysis/0yzh...       890000   \n",
       "1  https://api.spotify.com/v1/audio-analysis/62Xj...       173493   \n",
       "2  https://api.spotify.com/v1/audio-analysis/3HRM...       204240   \n",
       "3  https://api.spotify.com/v1/audio-analysis/54h1...       209573   \n",
       "4  https://api.spotify.com/v1/audio-analysis/6KBs...       331800   \n",
       "\n",
       "   time_signature  \n",
       "0               4  \n",
       "1               4  \n",
       "2               4  \n",
       "3               4  \n",
       "4               4  "
      ]
     },
     "metadata": {},
     "output_type": "display_data"
    },
    {
     "data": {
      "text/plain": [
       "(2705, 20)"
      ]
     },
     "metadata": {},
     "output_type": "display_data"
    }
   ],
   "source": [
    "display(playlist2_df.head(5), playlist2_df.shape)"
   ]
  },
  {
   "cell_type": "code",
   "execution_count": 30,
   "id": "9d543da2",
   "metadata": {},
   "outputs": [],
   "source": [
    "# Applying the function\n",
    "playlist3_df = create_playlist_dataframe(playlist3, sp)"
   ]
  },
  {
   "cell_type": "code",
   "execution_count": 31,
   "id": "8f01c8c8",
   "metadata": {},
   "outputs": [
    {
     "data": {
      "text/html": [
       "<div>\n",
       "<style scoped>\n",
       "    .dataframe tbody tr th:only-of-type {\n",
       "        vertical-align: middle;\n",
       "    }\n",
       "\n",
       "    .dataframe tbody tr th {\n",
       "        vertical-align: top;\n",
       "    }\n",
       "\n",
       "    .dataframe thead th {\n",
       "        text-align: right;\n",
       "    }\n",
       "</style>\n",
       "<table border=\"1\" class=\"dataframe\">\n",
       "  <thead>\n",
       "    <tr style=\"text-align: right;\">\n",
       "      <th></th>\n",
       "      <th>title</th>\n",
       "      <th>artist</th>\n",
       "      <th>uri</th>\n",
       "      <th>danceability</th>\n",
       "      <th>energy</th>\n",
       "      <th>key</th>\n",
       "      <th>loudness</th>\n",
       "      <th>mode</th>\n",
       "      <th>speechiness</th>\n",
       "      <th>acousticness</th>\n",
       "      <th>instrumentalness</th>\n",
       "      <th>liveness</th>\n",
       "      <th>valence</th>\n",
       "      <th>tempo</th>\n",
       "      <th>type</th>\n",
       "      <th>id</th>\n",
       "      <th>track_href</th>\n",
       "      <th>analysis_url</th>\n",
       "      <th>duration_ms</th>\n",
       "      <th>time_signature</th>\n",
       "    </tr>\n",
       "  </thead>\n",
       "  <tbody>\n",
       "    <tr>\n",
       "      <th>0</th>\n",
       "      <td>Angie - Remastered 2009</td>\n",
       "      <td>The Rolling Stones</td>\n",
       "      <td>spotify:track:35RUp1t6MVhcG8cOK5BH6x</td>\n",
       "      <td>0.429</td>\n",
       "      <td>0.548</td>\n",
       "      <td>9</td>\n",
       "      <td>-6.017</td>\n",
       "      <td>0</td>\n",
       "      <td>0.0294</td>\n",
       "      <td>0.7000</td>\n",
       "      <td>0.000075</td>\n",
       "      <td>0.0836</td>\n",
       "      <td>0.383</td>\n",
       "      <td>138.619</td>\n",
       "      <td>audio_features</td>\n",
       "      <td>35RUp1t6MVhcG8cOK5BH6x</td>\n",
       "      <td>https://api.spotify.com/v1/tracks/35RUp1t6MVhc...</td>\n",
       "      <td>https://api.spotify.com/v1/audio-analysis/35RU...</td>\n",
       "      <td>271973</td>\n",
       "      <td>4</td>\n",
       "    </tr>\n",
       "    <tr>\n",
       "      <th>1</th>\n",
       "      <td>Billie Jean</td>\n",
       "      <td>Michael Jackson</td>\n",
       "      <td>spotify:track:5ChkMS8OtdzJeqyybCc9R5</td>\n",
       "      <td>0.920</td>\n",
       "      <td>0.654</td>\n",
       "      <td>11</td>\n",
       "      <td>-3.051</td>\n",
       "      <td>0</td>\n",
       "      <td>0.0401</td>\n",
       "      <td>0.0236</td>\n",
       "      <td>0.015300</td>\n",
       "      <td>0.0360</td>\n",
       "      <td>0.847</td>\n",
       "      <td>117.046</td>\n",
       "      <td>audio_features</td>\n",
       "      <td>5ChkMS8OtdzJeqyybCc9R5</td>\n",
       "      <td>https://api.spotify.com/v1/tracks/5ChkMS8OtdzJ...</td>\n",
       "      <td>https://api.spotify.com/v1/audio-analysis/5Chk...</td>\n",
       "      <td>293827</td>\n",
       "      <td>4</td>\n",
       "    </tr>\n",
       "    <tr>\n",
       "      <th>2</th>\n",
       "      <td>Hey Jude - Remastered 2015</td>\n",
       "      <td>The Beatles</td>\n",
       "      <td>spotify:track:0aym2LBJBk9DAYuHHutrIl</td>\n",
       "      <td>0.386</td>\n",
       "      <td>0.607</td>\n",
       "      <td>10</td>\n",
       "      <td>-7.700</td>\n",
       "      <td>1</td>\n",
       "      <td>0.0261</td>\n",
       "      <td>0.0112</td>\n",
       "      <td>0.000014</td>\n",
       "      <td>0.0880</td>\n",
       "      <td>0.532</td>\n",
       "      <td>147.207</td>\n",
       "      <td>audio_features</td>\n",
       "      <td>0aym2LBJBk9DAYuHHutrIl</td>\n",
       "      <td>https://api.spotify.com/v1/tracks/0aym2LBJBk9D...</td>\n",
       "      <td>https://api.spotify.com/v1/audio-analysis/0aym...</td>\n",
       "      <td>425653</td>\n",
       "      <td>4</td>\n",
       "    </tr>\n",
       "    <tr>\n",
       "      <th>3</th>\n",
       "      <td>Purple Rain</td>\n",
       "      <td>Prince</td>\n",
       "      <td>spotify:track:3lUjT0JcV1PcuugwMl2MQj</td>\n",
       "      <td>0.367</td>\n",
       "      <td>0.452</td>\n",
       "      <td>10</td>\n",
       "      <td>-10.422</td>\n",
       "      <td>1</td>\n",
       "      <td>0.0307</td>\n",
       "      <td>0.0353</td>\n",
       "      <td>0.002280</td>\n",
       "      <td>0.6890</td>\n",
       "      <td>0.189</td>\n",
       "      <td>113.066</td>\n",
       "      <td>audio_features</td>\n",
       "      <td>3lUjT0JcV1PcuugwMl2MQj</td>\n",
       "      <td>https://api.spotify.com/v1/tracks/3lUjT0JcV1Pc...</td>\n",
       "      <td>https://api.spotify.com/v1/audio-analysis/3lUj...</td>\n",
       "      <td>520787</td>\n",
       "      <td>4</td>\n",
       "    </tr>\n",
       "    <tr>\n",
       "      <th>4</th>\n",
       "      <td>I Heard It Through The Grapevine - Single Vers...</td>\n",
       "      <td>Marvin Gaye</td>\n",
       "      <td>spotify:track:6ca3m7gXDEfgLop4A51mWt</td>\n",
       "      <td>0.722</td>\n",
       "      <td>0.450</td>\n",
       "      <td>3</td>\n",
       "      <td>-7.503</td>\n",
       "      <td>0</td>\n",
       "      <td>0.0396</td>\n",
       "      <td>0.1990</td>\n",
       "      <td>0.000003</td>\n",
       "      <td>0.0739</td>\n",
       "      <td>0.664</td>\n",
       "      <td>118.447</td>\n",
       "      <td>audio_features</td>\n",
       "      <td>6ca3m7gXDEfgLop4A51mWt</td>\n",
       "      <td>https://api.spotify.com/v1/tracks/6ca3m7gXDEfg...</td>\n",
       "      <td>https://api.spotify.com/v1/audio-analysis/6ca3...</td>\n",
       "      <td>192267</td>\n",
       "      <td>4</td>\n",
       "    </tr>\n",
       "  </tbody>\n",
       "</table>\n",
       "</div>"
      ],
      "text/plain": [
       "                                               title              artist  \\\n",
       "0                            Angie - Remastered 2009  The Rolling Stones   \n",
       "1                                        Billie Jean     Michael Jackson   \n",
       "2                         Hey Jude - Remastered 2015         The Beatles   \n",
       "3                                        Purple Rain              Prince   \n",
       "4  I Heard It Through The Grapevine - Single Vers...         Marvin Gaye   \n",
       "\n",
       "                                    uri  danceability  energy  key  loudness  \\\n",
       "0  spotify:track:35RUp1t6MVhcG8cOK5BH6x         0.429   0.548    9    -6.017   \n",
       "1  spotify:track:5ChkMS8OtdzJeqyybCc9R5         0.920   0.654   11    -3.051   \n",
       "2  spotify:track:0aym2LBJBk9DAYuHHutrIl         0.386   0.607   10    -7.700   \n",
       "3  spotify:track:3lUjT0JcV1PcuugwMl2MQj         0.367   0.452   10   -10.422   \n",
       "4  spotify:track:6ca3m7gXDEfgLop4A51mWt         0.722   0.450    3    -7.503   \n",
       "\n",
       "   mode  speechiness  acousticness  instrumentalness  liveness  valence  \\\n",
       "0     0       0.0294        0.7000          0.000075    0.0836    0.383   \n",
       "1     0       0.0401        0.0236          0.015300    0.0360    0.847   \n",
       "2     1       0.0261        0.0112          0.000014    0.0880    0.532   \n",
       "3     1       0.0307        0.0353          0.002280    0.6890    0.189   \n",
       "4     0       0.0396        0.1990          0.000003    0.0739    0.664   \n",
       "\n",
       "     tempo            type                      id  \\\n",
       "0  138.619  audio_features  35RUp1t6MVhcG8cOK5BH6x   \n",
       "1  117.046  audio_features  5ChkMS8OtdzJeqyybCc9R5   \n",
       "2  147.207  audio_features  0aym2LBJBk9DAYuHHutrIl   \n",
       "3  113.066  audio_features  3lUjT0JcV1PcuugwMl2MQj   \n",
       "4  118.447  audio_features  6ca3m7gXDEfgLop4A51mWt   \n",
       "\n",
       "                                          track_href  \\\n",
       "0  https://api.spotify.com/v1/tracks/35RUp1t6MVhc...   \n",
       "1  https://api.spotify.com/v1/tracks/5ChkMS8OtdzJ...   \n",
       "2  https://api.spotify.com/v1/tracks/0aym2LBJBk9D...   \n",
       "3  https://api.spotify.com/v1/tracks/3lUjT0JcV1Pc...   \n",
       "4  https://api.spotify.com/v1/tracks/6ca3m7gXDEfg...   \n",
       "\n",
       "                                        analysis_url  duration_ms  \\\n",
       "0  https://api.spotify.com/v1/audio-analysis/35RU...       271973   \n",
       "1  https://api.spotify.com/v1/audio-analysis/5Chk...       293827   \n",
       "2  https://api.spotify.com/v1/audio-analysis/0aym...       425653   \n",
       "3  https://api.spotify.com/v1/audio-analysis/3lUj...       520787   \n",
       "4  https://api.spotify.com/v1/audio-analysis/6ca3...       192267   \n",
       "\n",
       "   time_signature  \n",
       "0               4  \n",
       "1               4  \n",
       "2               4  \n",
       "3               4  \n",
       "4               4  "
      ]
     },
     "metadata": {},
     "output_type": "display_data"
    },
    {
     "data": {
      "text/plain": [
       "(3318, 20)"
      ]
     },
     "metadata": {},
     "output_type": "display_data"
    }
   ],
   "source": [
    "display(playlist3_df.head(5), playlist3_df.shape)"
   ]
  },
  {
   "cell_type": "code",
   "execution_count": 32,
   "id": "6fd00f7a",
   "metadata": {},
   "outputs": [],
   "source": [
    "# Applying the function\n",
    "#playlist4_df = create_playlist_dataframe(playlist4, sp)"
   ]
  },
  {
   "cell_type": "code",
   "execution_count": 33,
   "id": "9fbad057",
   "metadata": {},
   "outputs": [],
   "source": [
    "#display(playlist4_df.head(5), playlist4_df.shape)"
   ]
  },
  {
   "cell_type": "markdown",
   "id": "8533b589",
   "metadata": {},
   "source": [
    "#### Checking if df are ready for concatenation"
   ]
  },
  {
   "cell_type": "code",
   "execution_count": 34,
   "id": "28477326",
   "metadata": {},
   "outputs": [],
   "source": [
    "df_list = [\"playlist1_df\",\"playlist2_df\",\"playlist3_df\"]"
   ]
  },
  {
   "cell_type": "code",
   "execution_count": 35,
   "id": "1308a991",
   "metadata": {},
   "outputs": [
    {
     "data": {
      "text/plain": [
       "array([ True,  True,  True,  True,  True,  True,  True,  True,  True,\n",
       "        True,  True,  True,  True,  True,  True,  True,  True,  True,\n",
       "        True,  True])"
      ]
     },
     "metadata": {},
     "output_type": "display_data"
    },
    {
     "data": {
      "text/plain": [
       "array([ True,  True,  True,  True,  True,  True,  True,  True,  True,\n",
       "        True,  True,  True,  True,  True,  True,  True,  True,  True,\n",
       "        True,  True])"
      ]
     },
     "metadata": {},
     "output_type": "display_data"
    }
   ],
   "source": [
    "# Checking same names and order for each dataframe's columns\n",
    "display(playlist1_df.columns == playlist2_df.columns,\n",
    "        playlist1_df.columns == playlist3_df.columns)"
   ]
  },
  {
   "cell_type": "code",
   "execution_count": 36,
   "id": "1746c0bd",
   "metadata": {},
   "outputs": [
    {
     "data": {
      "text/plain": [
       "(1999, 20)"
      ]
     },
     "metadata": {},
     "output_type": "display_data"
    },
    {
     "data": {
      "text/plain": [
       "(3318, 20)"
      ]
     },
     "metadata": {},
     "output_type": "display_data"
    },
    {
     "data": {
      "text/plain": [
       "(3318, 20)"
      ]
     },
     "metadata": {},
     "output_type": "display_data"
    }
   ],
   "source": [
    "# Information about their shape\n",
    "display(playlist1_df.shape, playlist3_df.shape, playlist3_df.shape)"
   ]
  },
  {
   "cell_type": "markdown",
   "id": "63874e76",
   "metadata": {},
   "source": [
    "#### Concatenating dataframes"
   ]
  },
  {
   "cell_type": "code",
   "execution_count": 37,
   "id": "3b5faca7",
   "metadata": {},
   "outputs": [],
   "source": [
    "# Concatenating in axis=0 (rows)\n",
    "spotify_data = pd.concat([playlist1_df, playlist2_df, playlist3_df], axis = 0)"
   ]
  },
  {
   "cell_type": "code",
   "execution_count": 38,
   "id": "d60897ce",
   "metadata": {},
   "outputs": [],
   "source": [
    "spotify_data = spotify_data.reset_index(drop=True)"
   ]
  },
  {
   "cell_type": "code",
   "execution_count": 39,
   "id": "b9055fd2",
   "metadata": {},
   "outputs": [
    {
     "data": {
      "text/html": [
       "<div>\n",
       "<style scoped>\n",
       "    .dataframe tbody tr th:only-of-type {\n",
       "        vertical-align: middle;\n",
       "    }\n",
       "\n",
       "    .dataframe tbody tr th {\n",
       "        vertical-align: top;\n",
       "    }\n",
       "\n",
       "    .dataframe thead th {\n",
       "        text-align: right;\n",
       "    }\n",
       "</style>\n",
       "<table border=\"1\" class=\"dataframe\">\n",
       "  <thead>\n",
       "    <tr style=\"text-align: right;\">\n",
       "      <th></th>\n",
       "      <th>title</th>\n",
       "      <th>artist</th>\n",
       "      <th>uri</th>\n",
       "      <th>danceability</th>\n",
       "      <th>energy</th>\n",
       "      <th>key</th>\n",
       "      <th>loudness</th>\n",
       "      <th>mode</th>\n",
       "      <th>speechiness</th>\n",
       "      <th>acousticness</th>\n",
       "      <th>instrumentalness</th>\n",
       "      <th>liveness</th>\n",
       "      <th>valence</th>\n",
       "      <th>tempo</th>\n",
       "      <th>type</th>\n",
       "      <th>id</th>\n",
       "      <th>track_href</th>\n",
       "      <th>analysis_url</th>\n",
       "      <th>duration_ms</th>\n",
       "      <th>time_signature</th>\n",
       "    </tr>\n",
       "  </thead>\n",
       "  <tbody>\n",
       "    <tr>\n",
       "      <th>0</th>\n",
       "      <td>Bohemian Rhapsody - Remastered 2011</td>\n",
       "      <td>Queen</td>\n",
       "      <td>spotify:track:7tFiyTwD0nx5a1eklYtX2J</td>\n",
       "      <td>0.392</td>\n",
       "      <td>0.402</td>\n",
       "      <td>0</td>\n",
       "      <td>-9.961</td>\n",
       "      <td>0</td>\n",
       "      <td>0.0536</td>\n",
       "      <td>0.28800</td>\n",
       "      <td>0.000000</td>\n",
       "      <td>0.2430</td>\n",
       "      <td>0.228</td>\n",
       "      <td>143.883</td>\n",
       "      <td>audio_features</td>\n",
       "      <td>7tFiyTwD0nx5a1eklYtX2J</td>\n",
       "      <td>https://api.spotify.com/v1/tracks/7tFiyTwD0nx5...</td>\n",
       "      <td>https://api.spotify.com/v1/audio-analysis/7tFi...</td>\n",
       "      <td>354320</td>\n",
       "      <td>4</td>\n",
       "    </tr>\n",
       "    <tr>\n",
       "      <th>1</th>\n",
       "      <td>Roller Coaster</td>\n",
       "      <td>Danny Vera</td>\n",
       "      <td>spotify:track:5B5YKjgne3TZzNpMsN9aj1</td>\n",
       "      <td>0.401</td>\n",
       "      <td>0.383</td>\n",
       "      <td>9</td>\n",
       "      <td>-10.048</td>\n",
       "      <td>1</td>\n",
       "      <td>0.0279</td>\n",
       "      <td>0.51000</td>\n",
       "      <td>0.007800</td>\n",
       "      <td>0.1210</td>\n",
       "      <td>0.285</td>\n",
       "      <td>96.957</td>\n",
       "      <td>audio_features</td>\n",
       "      <td>5B5YKjgne3TZzNpMsN9aj1</td>\n",
       "      <td>https://api.spotify.com/v1/tracks/5B5YKjgne3TZ...</td>\n",
       "      <td>https://api.spotify.com/v1/audio-analysis/5B5Y...</td>\n",
       "      <td>269986</td>\n",
       "      <td>4</td>\n",
       "    </tr>\n",
       "    <tr>\n",
       "      <th>2</th>\n",
       "      <td>Hotel California - 2013 Remaster</td>\n",
       "      <td>Eagles</td>\n",
       "      <td>spotify:track:40riOy7x9W7GXjyGp4pjAv</td>\n",
       "      <td>0.579</td>\n",
       "      <td>0.508</td>\n",
       "      <td>2</td>\n",
       "      <td>-9.484</td>\n",
       "      <td>1</td>\n",
       "      <td>0.0270</td>\n",
       "      <td>0.00574</td>\n",
       "      <td>0.000494</td>\n",
       "      <td>0.0575</td>\n",
       "      <td>0.609</td>\n",
       "      <td>147.125</td>\n",
       "      <td>audio_features</td>\n",
       "      <td>40riOy7x9W7GXjyGp4pjAv</td>\n",
       "      <td>https://api.spotify.com/v1/tracks/40riOy7x9W7G...</td>\n",
       "      <td>https://api.spotify.com/v1/audio-analysis/40ri...</td>\n",
       "      <td>391376</td>\n",
       "      <td>4</td>\n",
       "    </tr>\n",
       "    <tr>\n",
       "      <th>3</th>\n",
       "      <td>Piano Man</td>\n",
       "      <td>Billy Joel</td>\n",
       "      <td>spotify:track:3FCto7hnn1shUyZL42YgfO</td>\n",
       "      <td>0.334</td>\n",
       "      <td>0.472</td>\n",
       "      <td>0</td>\n",
       "      <td>-8.791</td>\n",
       "      <td>1</td>\n",
       "      <td>0.0277</td>\n",
       "      <td>0.60000</td>\n",
       "      <td>0.000004</td>\n",
       "      <td>0.3170</td>\n",
       "      <td>0.431</td>\n",
       "      <td>179.173</td>\n",
       "      <td>audio_features</td>\n",
       "      <td>3FCto7hnn1shUyZL42YgfO</td>\n",
       "      <td>https://api.spotify.com/v1/tracks/3FCto7hnn1sh...</td>\n",
       "      <td>https://api.spotify.com/v1/audio-analysis/3FCt...</td>\n",
       "      <td>336093</td>\n",
       "      <td>3</td>\n",
       "    </tr>\n",
       "    <tr>\n",
       "      <th>4</th>\n",
       "      <td>Fix You</td>\n",
       "      <td>Coldplay</td>\n",
       "      <td>spotify:track:7LVHVU3tWfcxj5aiPFEW4Q</td>\n",
       "      <td>0.209</td>\n",
       "      <td>0.417</td>\n",
       "      <td>3</td>\n",
       "      <td>-8.740</td>\n",
       "      <td>1</td>\n",
       "      <td>0.0338</td>\n",
       "      <td>0.16400</td>\n",
       "      <td>0.001960</td>\n",
       "      <td>0.1130</td>\n",
       "      <td>0.124</td>\n",
       "      <td>138.178</td>\n",
       "      <td>audio_features</td>\n",
       "      <td>7LVHVU3tWfcxj5aiPFEW4Q</td>\n",
       "      <td>https://api.spotify.com/v1/tracks/7LVHVU3tWfcx...</td>\n",
       "      <td>https://api.spotify.com/v1/audio-analysis/7LVH...</td>\n",
       "      <td>295533</td>\n",
       "      <td>4</td>\n",
       "    </tr>\n",
       "  </tbody>\n",
       "</table>\n",
       "</div>"
      ],
      "text/plain": [
       "                                 title      artist  \\\n",
       "0  Bohemian Rhapsody - Remastered 2011       Queen   \n",
       "1                       Roller Coaster  Danny Vera   \n",
       "2     Hotel California - 2013 Remaster      Eagles   \n",
       "3                            Piano Man  Billy Joel   \n",
       "4                              Fix You    Coldplay   \n",
       "\n",
       "                                    uri  danceability  energy  key  loudness  \\\n",
       "0  spotify:track:7tFiyTwD0nx5a1eklYtX2J         0.392   0.402    0    -9.961   \n",
       "1  spotify:track:5B5YKjgne3TZzNpMsN9aj1         0.401   0.383    9   -10.048   \n",
       "2  spotify:track:40riOy7x9W7GXjyGp4pjAv         0.579   0.508    2    -9.484   \n",
       "3  spotify:track:3FCto7hnn1shUyZL42YgfO         0.334   0.472    0    -8.791   \n",
       "4  spotify:track:7LVHVU3tWfcxj5aiPFEW4Q         0.209   0.417    3    -8.740   \n",
       "\n",
       "   mode  speechiness  acousticness  instrumentalness  liveness  valence  \\\n",
       "0     0       0.0536       0.28800          0.000000    0.2430    0.228   \n",
       "1     1       0.0279       0.51000          0.007800    0.1210    0.285   \n",
       "2     1       0.0270       0.00574          0.000494    0.0575    0.609   \n",
       "3     1       0.0277       0.60000          0.000004    0.3170    0.431   \n",
       "4     1       0.0338       0.16400          0.001960    0.1130    0.124   \n",
       "\n",
       "     tempo            type                      id  \\\n",
       "0  143.883  audio_features  7tFiyTwD0nx5a1eklYtX2J   \n",
       "1   96.957  audio_features  5B5YKjgne3TZzNpMsN9aj1   \n",
       "2  147.125  audio_features  40riOy7x9W7GXjyGp4pjAv   \n",
       "3  179.173  audio_features  3FCto7hnn1shUyZL42YgfO   \n",
       "4  138.178  audio_features  7LVHVU3tWfcxj5aiPFEW4Q   \n",
       "\n",
       "                                          track_href  \\\n",
       "0  https://api.spotify.com/v1/tracks/7tFiyTwD0nx5...   \n",
       "1  https://api.spotify.com/v1/tracks/5B5YKjgne3TZ...   \n",
       "2  https://api.spotify.com/v1/tracks/40riOy7x9W7G...   \n",
       "3  https://api.spotify.com/v1/tracks/3FCto7hnn1sh...   \n",
       "4  https://api.spotify.com/v1/tracks/7LVHVU3tWfcx...   \n",
       "\n",
       "                                        analysis_url  duration_ms  \\\n",
       "0  https://api.spotify.com/v1/audio-analysis/7tFi...       354320   \n",
       "1  https://api.spotify.com/v1/audio-analysis/5B5Y...       269986   \n",
       "2  https://api.spotify.com/v1/audio-analysis/40ri...       391376   \n",
       "3  https://api.spotify.com/v1/audio-analysis/3FCt...       336093   \n",
       "4  https://api.spotify.com/v1/audio-analysis/7LVH...       295533   \n",
       "\n",
       "   time_signature  \n",
       "0               4  \n",
       "1               4  \n",
       "2               4  \n",
       "3               3  \n",
       "4               4  "
      ]
     },
     "metadata": {},
     "output_type": "display_data"
    },
    {
     "data": {
      "text/html": [
       "<div>\n",
       "<style scoped>\n",
       "    .dataframe tbody tr th:only-of-type {\n",
       "        vertical-align: middle;\n",
       "    }\n",
       "\n",
       "    .dataframe tbody tr th {\n",
       "        vertical-align: top;\n",
       "    }\n",
       "\n",
       "    .dataframe thead th {\n",
       "        text-align: right;\n",
       "    }\n",
       "</style>\n",
       "<table border=\"1\" class=\"dataframe\">\n",
       "  <thead>\n",
       "    <tr style=\"text-align: right;\">\n",
       "      <th></th>\n",
       "      <th>title</th>\n",
       "      <th>artist</th>\n",
       "      <th>uri</th>\n",
       "      <th>danceability</th>\n",
       "      <th>energy</th>\n",
       "      <th>key</th>\n",
       "      <th>loudness</th>\n",
       "      <th>mode</th>\n",
       "      <th>speechiness</th>\n",
       "      <th>acousticness</th>\n",
       "      <th>instrumentalness</th>\n",
       "      <th>liveness</th>\n",
       "      <th>valence</th>\n",
       "      <th>tempo</th>\n",
       "      <th>type</th>\n",
       "      <th>id</th>\n",
       "      <th>track_href</th>\n",
       "      <th>analysis_url</th>\n",
       "      <th>duration_ms</th>\n",
       "      <th>time_signature</th>\n",
       "    </tr>\n",
       "  </thead>\n",
       "  <tbody>\n",
       "    <tr>\n",
       "      <th>8017</th>\n",
       "      <td>Jambalaya (On The Bayou)</td>\n",
       "      <td>John Fogerty</td>\n",
       "      <td>spotify:track:6389cBCT7TWS2Nx0KVsjrk</td>\n",
       "      <td>0.742</td>\n",
       "      <td>0.756</td>\n",
       "      <td>2</td>\n",
       "      <td>-10.121</td>\n",
       "      <td>1</td>\n",
       "      <td>0.0262</td>\n",
       "      <td>0.6240</td>\n",
       "      <td>0.000130</td>\n",
       "      <td>0.0800</td>\n",
       "      <td>0.977</td>\n",
       "      <td>98.568</td>\n",
       "      <td>audio_features</td>\n",
       "      <td>6389cBCT7TWS2Nx0KVsjrk</td>\n",
       "      <td>https://api.spotify.com/v1/tracks/6389cBCT7TWS...</td>\n",
       "      <td>https://api.spotify.com/v1/audio-analysis/6389...</td>\n",
       "      <td>197760</td>\n",
       "      <td>4</td>\n",
       "    </tr>\n",
       "    <tr>\n",
       "      <th>8018</th>\n",
       "      <td>Hearts Of Stone</td>\n",
       "      <td>John Fogerty</td>\n",
       "      <td>spotify:track:2uJVtJd1w2N8vg6pJmaNdN</td>\n",
       "      <td>0.412</td>\n",
       "      <td>0.677</td>\n",
       "      <td>6</td>\n",
       "      <td>-10.763</td>\n",
       "      <td>1</td>\n",
       "      <td>0.0376</td>\n",
       "      <td>0.5370</td>\n",
       "      <td>0.006640</td>\n",
       "      <td>0.1210</td>\n",
       "      <td>0.853</td>\n",
       "      <td>205.922</td>\n",
       "      <td>audio_features</td>\n",
       "      <td>2uJVtJd1w2N8vg6pJmaNdN</td>\n",
       "      <td>https://api.spotify.com/v1/tracks/2uJVtJd1w2N8...</td>\n",
       "      <td>https://api.spotify.com/v1/audio-analysis/2uJV...</td>\n",
       "      <td>134000</td>\n",
       "      <td>4</td>\n",
       "    </tr>\n",
       "    <tr>\n",
       "      <th>8019</th>\n",
       "      <td>Rock and Roll Girls</td>\n",
       "      <td>John Fogerty</td>\n",
       "      <td>spotify:track:5DeuAlTIDflXOomztXYM5D</td>\n",
       "      <td>0.794</td>\n",
       "      <td>0.730</td>\n",
       "      <td>7</td>\n",
       "      <td>-6.067</td>\n",
       "      <td>1</td>\n",
       "      <td>0.0332</td>\n",
       "      <td>0.0538</td>\n",
       "      <td>0.000832</td>\n",
       "      <td>0.0826</td>\n",
       "      <td>0.767</td>\n",
       "      <td>128.999</td>\n",
       "      <td>audio_features</td>\n",
       "      <td>5DeuAlTIDflXOomztXYM5D</td>\n",
       "      <td>https://api.spotify.com/v1/tracks/5DeuAlTIDflX...</td>\n",
       "      <td>https://api.spotify.com/v1/audio-analysis/5Deu...</td>\n",
       "      <td>206640</td>\n",
       "      <td>4</td>\n",
       "    </tr>\n",
       "    <tr>\n",
       "      <th>8020</th>\n",
       "      <td>Rockin' All Over The World</td>\n",
       "      <td>John Fogerty</td>\n",
       "      <td>spotify:track:2X0fwXZpoAbVZdyFVjJOUm</td>\n",
       "      <td>0.539</td>\n",
       "      <td>0.909</td>\n",
       "      <td>2</td>\n",
       "      <td>-6.546</td>\n",
       "      <td>1</td>\n",
       "      <td>0.0423</td>\n",
       "      <td>0.5180</td>\n",
       "      <td>0.000394</td>\n",
       "      <td>0.5580</td>\n",
       "      <td>0.964</td>\n",
       "      <td>130.821</td>\n",
       "      <td>audio_features</td>\n",
       "      <td>2X0fwXZpoAbVZdyFVjJOUm</td>\n",
       "      <td>https://api.spotify.com/v1/tracks/2X0fwXZpoAbV...</td>\n",
       "      <td>https://api.spotify.com/v1/audio-analysis/2X0f...</td>\n",
       "      <td>173000</td>\n",
       "      <td>4</td>\n",
       "    </tr>\n",
       "    <tr>\n",
       "      <th>8021</th>\n",
       "      <td>Walking on the Chinese Wall</td>\n",
       "      <td>Philip Bailey</td>\n",
       "      <td>spotify:track:0PXHA9nXcu4UOJFXvye9LE</td>\n",
       "      <td>0.488</td>\n",
       "      <td>0.862</td>\n",
       "      <td>1</td>\n",
       "      <td>-7.653</td>\n",
       "      <td>0</td>\n",
       "      <td>0.0340</td>\n",
       "      <td>0.1690</td>\n",
       "      <td>0.025500</td>\n",
       "      <td>0.1780</td>\n",
       "      <td>0.497</td>\n",
       "      <td>169.956</td>\n",
       "      <td>audio_features</td>\n",
       "      <td>0PXHA9nXcu4UOJFXvye9LE</td>\n",
       "      <td>https://api.spotify.com/v1/tracks/0PXHA9nXcu4U...</td>\n",
       "      <td>https://api.spotify.com/v1/audio-analysis/0PXH...</td>\n",
       "      <td>308773</td>\n",
       "      <td>4</td>\n",
       "    </tr>\n",
       "  </tbody>\n",
       "</table>\n",
       "</div>"
      ],
      "text/plain": [
       "                            title         artist  \\\n",
       "8017     Jambalaya (On The Bayou)   John Fogerty   \n",
       "8018              Hearts Of Stone   John Fogerty   \n",
       "8019          Rock and Roll Girls   John Fogerty   \n",
       "8020   Rockin' All Over The World   John Fogerty   \n",
       "8021  Walking on the Chinese Wall  Philip Bailey   \n",
       "\n",
       "                                       uri  danceability  energy  key  \\\n",
       "8017  spotify:track:6389cBCT7TWS2Nx0KVsjrk         0.742   0.756    2   \n",
       "8018  spotify:track:2uJVtJd1w2N8vg6pJmaNdN         0.412   0.677    6   \n",
       "8019  spotify:track:5DeuAlTIDflXOomztXYM5D         0.794   0.730    7   \n",
       "8020  spotify:track:2X0fwXZpoAbVZdyFVjJOUm         0.539   0.909    2   \n",
       "8021  spotify:track:0PXHA9nXcu4UOJFXvye9LE         0.488   0.862    1   \n",
       "\n",
       "      loudness  mode  speechiness  acousticness  instrumentalness  liveness  \\\n",
       "8017   -10.121     1       0.0262        0.6240          0.000130    0.0800   \n",
       "8018   -10.763     1       0.0376        0.5370          0.006640    0.1210   \n",
       "8019    -6.067     1       0.0332        0.0538          0.000832    0.0826   \n",
       "8020    -6.546     1       0.0423        0.5180          0.000394    0.5580   \n",
       "8021    -7.653     0       0.0340        0.1690          0.025500    0.1780   \n",
       "\n",
       "      valence    tempo            type                      id  \\\n",
       "8017    0.977   98.568  audio_features  6389cBCT7TWS2Nx0KVsjrk   \n",
       "8018    0.853  205.922  audio_features  2uJVtJd1w2N8vg6pJmaNdN   \n",
       "8019    0.767  128.999  audio_features  5DeuAlTIDflXOomztXYM5D   \n",
       "8020    0.964  130.821  audio_features  2X0fwXZpoAbVZdyFVjJOUm   \n",
       "8021    0.497  169.956  audio_features  0PXHA9nXcu4UOJFXvye9LE   \n",
       "\n",
       "                                             track_href  \\\n",
       "8017  https://api.spotify.com/v1/tracks/6389cBCT7TWS...   \n",
       "8018  https://api.spotify.com/v1/tracks/2uJVtJd1w2N8...   \n",
       "8019  https://api.spotify.com/v1/tracks/5DeuAlTIDflX...   \n",
       "8020  https://api.spotify.com/v1/tracks/2X0fwXZpoAbV...   \n",
       "8021  https://api.spotify.com/v1/tracks/0PXHA9nXcu4U...   \n",
       "\n",
       "                                           analysis_url  duration_ms  \\\n",
       "8017  https://api.spotify.com/v1/audio-analysis/6389...       197760   \n",
       "8018  https://api.spotify.com/v1/audio-analysis/2uJV...       134000   \n",
       "8019  https://api.spotify.com/v1/audio-analysis/5Deu...       206640   \n",
       "8020  https://api.spotify.com/v1/audio-analysis/2X0f...       173000   \n",
       "8021  https://api.spotify.com/v1/audio-analysis/0PXH...       308773   \n",
       "\n",
       "      time_signature  \n",
       "8017               4  \n",
       "8018               4  \n",
       "8019               4  \n",
       "8020               4  \n",
       "8021               4  "
      ]
     },
     "metadata": {},
     "output_type": "display_data"
    },
    {
     "data": {
      "text/plain": [
       "(8022, 20)"
      ]
     },
     "metadata": {},
     "output_type": "display_data"
    }
   ],
   "source": [
    "display(spotify_data.head(5), spotify_data.tail(5), spotify_data.shape)"
   ]
  },
  {
   "cell_type": "markdown",
   "id": "d4329b90",
   "metadata": {},
   "source": [
    "#### Saving df to csv file"
   ]
  },
  {
   "cell_type": "code",
   "execution_count": 40,
   "id": "cac2904b",
   "metadata": {},
   "outputs": [],
   "source": [
    "spotify_data.to_csv('spotify_data.csv')"
   ]
  },
  {
   "cell_type": "code",
   "execution_count": null,
   "id": "f9c7a2a6",
   "metadata": {},
   "outputs": [],
   "source": []
  },
  {
   "cell_type": "markdown",
   "id": "fcfd1845",
   "metadata": {},
   "source": [
    "## GNOD 4"
   ]
  },
  {
   "cell_type": "markdown",
   "id": "69b40594",
   "metadata": {},
   "source": [
    "### Lab | Unsupervised learning intro"
   ]
  },
  {
   "cell_type": "markdown",
   "id": "d1d95f8a",
   "metadata": {},
   "source": [
    "It's the moment to perform clustering on the songs you collected. Remember that the ultimate goal of this little project is to improve the recommendations of artists. Clustering the songs will allow the recommendation system to limit the scope of the recommendations to only songs that belong to the same cluster - songs with similar audio features.\n",
    "\n",
    "\n",
    "\n",
    "The experiments you did with the Spotify API and the PopVortex web scraping will allow you to create a pipeline such that when the user enters a song, you:\n",
    "\n",
    "\n",
    "\n",
    "- Check whether or not the song is in the PopVortex Hot 100.\n",
    "- Collect the audio features from the Spotify API.\n",
    "\n",
    "\n",
    "\n",
    "After that, you want to send the Spotify audio features of the submitted song to the clustering model, which should return a cluster number.\n",
    "\n",
    "\n",
    "\n",
    "We want to have as many songs as possible to create the clustering model, so we will add the songs you collected to a bigger dataset available on Kaggle containing 160 thousand songs."
   ]
  },
  {
   "cell_type": "code",
   "execution_count": 2,
   "id": "83c2ce00",
   "metadata": {},
   "outputs": [],
   "source": [
    "import pandas as pd\n",
    "import numpy as np\n",
    "\n",
    "import matplotlib.pyplot as plt\n",
    "from matplotlib.lines import Line2D\n",
    "\n",
    "import spotipy\n",
    "from spotipy.oauth2 import SpotifyClientCredentials\n",
    "from IPython.display import Markdown, display\n",
    "\n",
    "from sklearn.preprocessing import StandardScaler\n",
    "from sklearn.metrics.pairwise import cosine_similarity\n",
    "from sklearn import cluster, datasets\n",
    "from sklearn.cluster import KMeans\n",
    "\n",
    "import random\n",
    "from IPython.display import Markdown, display \n",
    "\n",
    "import pickle"
   ]
  },
  {
   "cell_type": "code",
   "execution_count": 3,
   "id": "11d37902",
   "metadata": {},
   "outputs": [],
   "source": [
    "spotify_data = pd.read_csv('spotify_data.csv')"
   ]
  },
  {
   "cell_type": "markdown",
   "id": "a5c78f7a",
   "metadata": {},
   "source": [
    "#### Selecting features to cluster from main dataframe"
   ]
  },
  {
   "cell_type": "code",
   "execution_count": 4,
   "id": "4d6dd51e",
   "metadata": {},
   "outputs": [
    {
     "data": {
      "text/plain": [
       "(8026, 21)"
      ]
     },
     "execution_count": 4,
     "metadata": {},
     "output_type": "execute_result"
    }
   ],
   "source": [
    "spotify_data.shape"
   ]
  },
  {
   "cell_type": "code",
   "execution_count": 5,
   "id": "b0f34d97",
   "metadata": {},
   "outputs": [
    {
     "name": "stdout",
     "output_type": "stream",
     "text": [
      "<class 'pandas.core.frame.DataFrame'>\n",
      "RangeIndex: 8026 entries, 0 to 8025\n",
      "Data columns (total 21 columns):\n",
      " #   Column            Non-Null Count  Dtype  \n",
      "---  ------            --------------  -----  \n",
      " 0   Unnamed: 0        8026 non-null   int64  \n",
      " 1   title             8026 non-null   object \n",
      " 2   artist            8026 non-null   object \n",
      " 3   uri               8026 non-null   object \n",
      " 4   danceability      8026 non-null   float64\n",
      " 5   energy            8026 non-null   float64\n",
      " 6   key               8026 non-null   int64  \n",
      " 7   loudness          8026 non-null   float64\n",
      " 8   mode              8026 non-null   int64  \n",
      " 9   speechiness       8026 non-null   float64\n",
      " 10  acousticness      8026 non-null   float64\n",
      " 11  instrumentalness  8026 non-null   float64\n",
      " 12  liveness          8026 non-null   float64\n",
      " 13  valence           8026 non-null   float64\n",
      " 14  tempo             8026 non-null   float64\n",
      " 15  type              8026 non-null   object \n",
      " 16  id                8026 non-null   object \n",
      " 17  track_href        8026 non-null   object \n",
      " 18  analysis_url      8026 non-null   object \n",
      " 19  duration_ms       8026 non-null   int64  \n",
      " 20  time_signature    8026 non-null   int64  \n",
      "dtypes: float64(9), int64(5), object(7)\n",
      "memory usage: 1.3+ MB\n"
     ]
    }
   ],
   "source": [
    "spotify_data.info()"
   ]
  },
  {
   "cell_type": "code",
   "execution_count": 6,
   "id": "a0914e2b",
   "metadata": {},
   "outputs": [
    {
     "data": {
      "text/html": [
       "<div>\n",
       "<style scoped>\n",
       "    .dataframe tbody tr th:only-of-type {\n",
       "        vertical-align: middle;\n",
       "    }\n",
       "\n",
       "    .dataframe tbody tr th {\n",
       "        vertical-align: top;\n",
       "    }\n",
       "\n",
       "    .dataframe thead th {\n",
       "        text-align: right;\n",
       "    }\n",
       "</style>\n",
       "<table border=\"1\" class=\"dataframe\">\n",
       "  <thead>\n",
       "    <tr style=\"text-align: right;\">\n",
       "      <th></th>\n",
       "      <th>Unnamed: 0</th>\n",
       "      <th>title</th>\n",
       "      <th>artist</th>\n",
       "      <th>uri</th>\n",
       "      <th>danceability</th>\n",
       "      <th>energy</th>\n",
       "      <th>key</th>\n",
       "      <th>loudness</th>\n",
       "      <th>mode</th>\n",
       "      <th>speechiness</th>\n",
       "      <th>...</th>\n",
       "      <th>instrumentalness</th>\n",
       "      <th>liveness</th>\n",
       "      <th>valence</th>\n",
       "      <th>tempo</th>\n",
       "      <th>type</th>\n",
       "      <th>id</th>\n",
       "      <th>track_href</th>\n",
       "      <th>analysis_url</th>\n",
       "      <th>duration_ms</th>\n",
       "      <th>time_signature</th>\n",
       "    </tr>\n",
       "  </thead>\n",
       "  <tbody>\n",
       "    <tr>\n",
       "      <th>0</th>\n",
       "      <td>0</td>\n",
       "      <td>Bohemian Rhapsody - Remastered 2011</td>\n",
       "      <td>Queen</td>\n",
       "      <td>spotify:track:7tFiyTwD0nx5a1eklYtX2J</td>\n",
       "      <td>0.392</td>\n",
       "      <td>0.402</td>\n",
       "      <td>0</td>\n",
       "      <td>-9.961</td>\n",
       "      <td>0</td>\n",
       "      <td>0.0536</td>\n",
       "      <td>...</td>\n",
       "      <td>0.0000</td>\n",
       "      <td>0.243</td>\n",
       "      <td>0.228</td>\n",
       "      <td>143.883</td>\n",
       "      <td>audio_features</td>\n",
       "      <td>7tFiyTwD0nx5a1eklYtX2J</td>\n",
       "      <td>https://api.spotify.com/v1/tracks/7tFiyTwD0nx5...</td>\n",
       "      <td>https://api.spotify.com/v1/audio-analysis/7tFi...</td>\n",
       "      <td>354320</td>\n",
       "      <td>4</td>\n",
       "    </tr>\n",
       "    <tr>\n",
       "      <th>1</th>\n",
       "      <td>1</td>\n",
       "      <td>Roller Coaster</td>\n",
       "      <td>Danny Vera</td>\n",
       "      <td>spotify:track:5B5YKjgne3TZzNpMsN9aj1</td>\n",
       "      <td>0.401</td>\n",
       "      <td>0.383</td>\n",
       "      <td>9</td>\n",
       "      <td>-10.048</td>\n",
       "      <td>1</td>\n",
       "      <td>0.0279</td>\n",
       "      <td>...</td>\n",
       "      <td>0.0078</td>\n",
       "      <td>0.121</td>\n",
       "      <td>0.285</td>\n",
       "      <td>96.957</td>\n",
       "      <td>audio_features</td>\n",
       "      <td>5B5YKjgne3TZzNpMsN9aj1</td>\n",
       "      <td>https://api.spotify.com/v1/tracks/5B5YKjgne3TZ...</td>\n",
       "      <td>https://api.spotify.com/v1/audio-analysis/5B5Y...</td>\n",
       "      <td>269986</td>\n",
       "      <td>4</td>\n",
       "    </tr>\n",
       "  </tbody>\n",
       "</table>\n",
       "<p>2 rows × 21 columns</p>\n",
       "</div>"
      ],
      "text/plain": [
       "   Unnamed: 0                                title      artist  \\\n",
       "0           0  Bohemian Rhapsody - Remastered 2011       Queen   \n",
       "1           1                       Roller Coaster  Danny Vera   \n",
       "\n",
       "                                    uri  danceability  energy  key  loudness  \\\n",
       "0  spotify:track:7tFiyTwD0nx5a1eklYtX2J         0.392   0.402    0    -9.961   \n",
       "1  spotify:track:5B5YKjgne3TZzNpMsN9aj1         0.401   0.383    9   -10.048   \n",
       "\n",
       "   mode  speechiness  ...  instrumentalness  liveness  valence    tempo  \\\n",
       "0     0       0.0536  ...            0.0000     0.243    0.228  143.883   \n",
       "1     1       0.0279  ...            0.0078     0.121    0.285   96.957   \n",
       "\n",
       "             type                      id  \\\n",
       "0  audio_features  7tFiyTwD0nx5a1eklYtX2J   \n",
       "1  audio_features  5B5YKjgne3TZzNpMsN9aj1   \n",
       "\n",
       "                                          track_href  \\\n",
       "0  https://api.spotify.com/v1/tracks/7tFiyTwD0nx5...   \n",
       "1  https://api.spotify.com/v1/tracks/5B5YKjgne3TZ...   \n",
       "\n",
       "                                        analysis_url duration_ms  \\\n",
       "0  https://api.spotify.com/v1/audio-analysis/7tFi...      354320   \n",
       "1  https://api.spotify.com/v1/audio-analysis/5B5Y...      269986   \n",
       "\n",
       "   time_signature  \n",
       "0               4  \n",
       "1               4  \n",
       "\n",
       "[2 rows x 21 columns]"
      ]
     },
     "execution_count": 6,
     "metadata": {},
     "output_type": "execute_result"
    }
   ],
   "source": [
    "spotify_data.head(2)"
   ]
  },
  {
   "cell_type": "code",
   "execution_count": 7,
   "id": "c97ddcab",
   "metadata": {},
   "outputs": [
    {
     "data": {
      "text/plain": [
       "pandas.core.frame.DataFrame"
      ]
     },
     "metadata": {},
     "output_type": "display_data"
    },
    {
     "data": {
      "text/html": [
       "<div>\n",
       "<style scoped>\n",
       "    .dataframe tbody tr th:only-of-type {\n",
       "        vertical-align: middle;\n",
       "    }\n",
       "\n",
       "    .dataframe tbody tr th {\n",
       "        vertical-align: top;\n",
       "    }\n",
       "\n",
       "    .dataframe thead th {\n",
       "        text-align: right;\n",
       "    }\n",
       "</style>\n",
       "<table border=\"1\" class=\"dataframe\">\n",
       "  <thead>\n",
       "    <tr style=\"text-align: right;\">\n",
       "      <th></th>\n",
       "      <th>danceability</th>\n",
       "      <th>energy</th>\n",
       "      <th>key</th>\n",
       "      <th>loudness</th>\n",
       "      <th>mode</th>\n",
       "      <th>speechiness</th>\n",
       "      <th>acousticness</th>\n",
       "      <th>instrumentalness</th>\n",
       "      <th>liveness</th>\n",
       "      <th>valence</th>\n",
       "      <th>tempo</th>\n",
       "      <th>duration_ms</th>\n",
       "      <th>time_signature</th>\n",
       "    </tr>\n",
       "  </thead>\n",
       "  <tbody>\n",
       "    <tr>\n",
       "      <th>0</th>\n",
       "      <td>0.392</td>\n",
       "      <td>0.402</td>\n",
       "      <td>0</td>\n",
       "      <td>-9.961</td>\n",
       "      <td>0</td>\n",
       "      <td>0.0536</td>\n",
       "      <td>0.28800</td>\n",
       "      <td>0.000000</td>\n",
       "      <td>0.2430</td>\n",
       "      <td>0.228</td>\n",
       "      <td>143.883</td>\n",
       "      <td>354320</td>\n",
       "      <td>4</td>\n",
       "    </tr>\n",
       "    <tr>\n",
       "      <th>1</th>\n",
       "      <td>0.401</td>\n",
       "      <td>0.383</td>\n",
       "      <td>9</td>\n",
       "      <td>-10.048</td>\n",
       "      <td>1</td>\n",
       "      <td>0.0279</td>\n",
       "      <td>0.51000</td>\n",
       "      <td>0.007800</td>\n",
       "      <td>0.1210</td>\n",
       "      <td>0.285</td>\n",
       "      <td>96.957</td>\n",
       "      <td>269986</td>\n",
       "      <td>4</td>\n",
       "    </tr>\n",
       "    <tr>\n",
       "      <th>2</th>\n",
       "      <td>0.579</td>\n",
       "      <td>0.508</td>\n",
       "      <td>2</td>\n",
       "      <td>-9.484</td>\n",
       "      <td>1</td>\n",
       "      <td>0.0270</td>\n",
       "      <td>0.00574</td>\n",
       "      <td>0.000494</td>\n",
       "      <td>0.0575</td>\n",
       "      <td>0.609</td>\n",
       "      <td>147.125</td>\n",
       "      <td>391376</td>\n",
       "      <td>4</td>\n",
       "    </tr>\n",
       "  </tbody>\n",
       "</table>\n",
       "</div>"
      ],
      "text/plain": [
       "   danceability  energy  key  loudness  mode  speechiness  acousticness  \\\n",
       "0         0.392   0.402    0    -9.961     0       0.0536       0.28800   \n",
       "1         0.401   0.383    9   -10.048     1       0.0279       0.51000   \n",
       "2         0.579   0.508    2    -9.484     1       0.0270       0.00574   \n",
       "\n",
       "   instrumentalness  liveness  valence    tempo  duration_ms  time_signature  \n",
       "0          0.000000    0.2430    0.228  143.883       354320               4  \n",
       "1          0.007800    0.1210    0.285   96.957       269986               4  \n",
       "2          0.000494    0.0575    0.609  147.125       391376               4  "
      ]
     },
     "metadata": {},
     "output_type": "display_data"
    },
    {
     "data": {
      "text/plain": [
       "(8026, 13)"
      ]
     },
     "metadata": {},
     "output_type": "display_data"
    },
    {
     "data": {
      "text/plain": [
       "Index(['danceability', 'energy', 'key', 'loudness', 'mode', 'speechiness',\n",
       "       'acousticness', 'instrumentalness', 'liveness', 'valence', 'tempo',\n",
       "       'duration_ms', 'time_signature'],\n",
       "      dtype='object')"
      ]
     },
     "metadata": {},
     "output_type": "display_data"
    }
   ],
   "source": [
    "# Dropping 'Unnamed: 0' column\n",
    "spotify_data = spotify_data.drop(['Unnamed: 0'], axis = 1)\n",
    "\n",
    "# All NUMERICAL columns AFTER 'uri' are the features to be taken\n",
    "features = spotify_data.select_dtypes(np.number)\n",
    "\n",
    "display(type(features),features.head(3), features.shape, features.columns)"
   ]
  },
  {
   "cell_type": "markdown",
   "id": "64f90a66",
   "metadata": {},
   "source": [
    "#### Clustering features with K-Means"
   ]
  },
  {
   "cell_type": "markdown",
   "id": "f423871e",
   "metadata": {},
   "source": [
    "##### X (data with no target)"
   ]
  },
  {
   "cell_type": "code",
   "execution_count": 8,
   "id": "7ec9e879",
   "metadata": {},
   "outputs": [],
   "source": [
    "X = features"
   ]
  },
  {
   "cell_type": "markdown",
   "id": "d6b36b7b",
   "metadata": {},
   "source": [
    "##### Scaling X data (not training!)"
   ]
  },
  {
   "cell_type": "code",
   "execution_count": 9,
   "id": "bfed8958",
   "metadata": {},
   "outputs": [
    {
     "data": {
      "text/html": [
       "<div>\n",
       "<style scoped>\n",
       "    .dataframe tbody tr th:only-of-type {\n",
       "        vertical-align: middle;\n",
       "    }\n",
       "\n",
       "    .dataframe tbody tr th {\n",
       "        vertical-align: top;\n",
       "    }\n",
       "\n",
       "    .dataframe thead th {\n",
       "        text-align: right;\n",
       "    }\n",
       "</style>\n",
       "<table border=\"1\" class=\"dataframe\">\n",
       "  <thead>\n",
       "    <tr style=\"text-align: right;\">\n",
       "      <th></th>\n",
       "      <th>danceability</th>\n",
       "      <th>energy</th>\n",
       "      <th>key</th>\n",
       "      <th>loudness</th>\n",
       "      <th>mode</th>\n",
       "      <th>speechiness</th>\n",
       "      <th>acousticness</th>\n",
       "      <th>instrumentalness</th>\n",
       "      <th>liveness</th>\n",
       "      <th>valence</th>\n",
       "      <th>tempo</th>\n",
       "      <th>duration_ms</th>\n",
       "      <th>time_signature</th>\n",
       "    </tr>\n",
       "  </thead>\n",
       "  <tbody>\n",
       "    <tr>\n",
       "      <th>0</th>\n",
       "      <td>-1.100045</td>\n",
       "      <td>-0.984958</td>\n",
       "      <td>-1.461339</td>\n",
       "      <td>-0.185090</td>\n",
       "      <td>-1.590429</td>\n",
       "      <td>0.101740</td>\n",
       "      <td>-0.017943</td>\n",
       "      <td>-0.301487</td>\n",
       "      <td>0.321418</td>\n",
       "      <td>-1.410197</td>\n",
       "      <td>0.898039</td>\n",
       "      <td>1.229693</td>\n",
       "      <td>0.228237</td>\n",
       "    </tr>\n",
       "    <tr>\n",
       "      <th>1</th>\n",
       "      <td>-1.042185</td>\n",
       "      <td>-1.075615</td>\n",
       "      <td>1.072346</td>\n",
       "      <td>-0.210413</td>\n",
       "      <td>0.628761</td>\n",
       "      <td>-0.526360</td>\n",
       "      <td>0.790864</td>\n",
       "      <td>-0.248259</td>\n",
       "      <td>-0.416255</td>\n",
       "      <td>-1.185278</td>\n",
       "      <td>-0.848111</td>\n",
       "      <td>0.266561</td>\n",
       "      <td>0.228237</td>\n",
       "    </tr>\n",
       "    <tr>\n",
       "      <th>2</th>\n",
       "      <td>0.102157</td>\n",
       "      <td>-0.479187</td>\n",
       "      <td>-0.898298</td>\n",
       "      <td>-0.046250</td>\n",
       "      <td>0.628761</td>\n",
       "      <td>-0.548356</td>\n",
       "      <td>-1.046293</td>\n",
       "      <td>-0.298116</td>\n",
       "      <td>-0.800208</td>\n",
       "      <td>0.093212</td>\n",
       "      <td>1.018676</td>\n",
       "      <td>1.652889</td>\n",
       "      <td>0.228237</td>\n",
       "    </tr>\n",
       "    <tr>\n",
       "      <th>3</th>\n",
       "      <td>-1.472920</td>\n",
       "      <td>-0.650958</td>\n",
       "      <td>-1.461339</td>\n",
       "      <td>0.155462</td>\n",
       "      <td>0.628761</td>\n",
       "      <td>-0.531248</td>\n",
       "      <td>1.118759</td>\n",
       "      <td>-0.301463</td>\n",
       "      <td>0.768859</td>\n",
       "      <td>-0.609168</td>\n",
       "      <td>2.211205</td>\n",
       "      <td>1.021533</td>\n",
       "      <td>-3.002504</td>\n",
       "    </tr>\n",
       "    <tr>\n",
       "      <th>4</th>\n",
       "      <td>-2.276531</td>\n",
       "      <td>-0.913387</td>\n",
       "      <td>-0.616778</td>\n",
       "      <td>0.170306</td>\n",
       "      <td>0.628761</td>\n",
       "      <td>-0.382166</td>\n",
       "      <td>-0.469709</td>\n",
       "      <td>-0.288112</td>\n",
       "      <td>-0.464627</td>\n",
       "      <td>-1.820577</td>\n",
       "      <td>0.685752</td>\n",
       "      <td>0.558320</td>\n",
       "      <td>0.228237</td>\n",
       "    </tr>\n",
       "  </tbody>\n",
       "</table>\n",
       "</div>"
      ],
      "text/plain": [
       "   danceability    energy       key  loudness      mode  speechiness  \\\n",
       "0     -1.100045 -0.984958 -1.461339 -0.185090 -1.590429     0.101740   \n",
       "1     -1.042185 -1.075615  1.072346 -0.210413  0.628761    -0.526360   \n",
       "2      0.102157 -0.479187 -0.898298 -0.046250  0.628761    -0.548356   \n",
       "3     -1.472920 -0.650958 -1.461339  0.155462  0.628761    -0.531248   \n",
       "4     -2.276531 -0.913387 -0.616778  0.170306  0.628761    -0.382166   \n",
       "\n",
       "   acousticness  instrumentalness  liveness   valence     tempo  duration_ms  \\\n",
       "0     -0.017943         -0.301487  0.321418 -1.410197  0.898039     1.229693   \n",
       "1      0.790864         -0.248259 -0.416255 -1.185278 -0.848111     0.266561   \n",
       "2     -1.046293         -0.298116 -0.800208  0.093212  1.018676     1.652889   \n",
       "3      1.118759         -0.301463  0.768859 -0.609168  2.211205     1.021533   \n",
       "4     -0.469709         -0.288112 -0.464627 -1.820577  0.685752     0.558320   \n",
       "\n",
       "   time_signature  \n",
       "0        0.228237  \n",
       "1        0.228237  \n",
       "2        0.228237  \n",
       "3       -3.002504  \n",
       "4        0.228237  "
      ]
     },
     "execution_count": 9,
     "metadata": {},
     "output_type": "execute_result"
    }
   ],
   "source": [
    "from sklearn.preprocessing import StandardScaler\n",
    "\n",
    "scaler = StandardScaler().fit(X)\n",
    "X_prep = scaler.transform(X)\n",
    "\n",
    "#X_prep = StandardScaler().fit_transform(X)\n",
    "\n",
    "#Checking tranformation\n",
    "pd.DataFrame(X_prep,columns=X.columns).head()"
   ]
  },
  {
   "cell_type": "code",
   "execution_count": 10,
   "id": "4fec68ba",
   "metadata": {},
   "outputs": [],
   "source": [
    "with open('scaler_model.pkl', 'wb') as file:\n",
    "    pickle.dump(scaler, file)"
   ]
  },
  {
   "cell_type": "markdown",
   "id": "668274c0",
   "metadata": {},
   "source": [
    "##### Choosing k (defining best number of clusters) // Elbow and Silhouette"
   ]
  },
  {
   "cell_type": "markdown",
   "id": "dab37a12",
   "metadata": {},
   "source": [
    "###### Elbow"
   ]
  },
  {
   "cell_type": "code",
   "execution_count": 11,
   "id": "0267b398",
   "metadata": {},
   "outputs": [
    {
     "data": {
      "text/plain": [
       "Text(0.5, 1.0, 'Elbow Method showing the optimal k')"
      ]
     },
     "execution_count": 11,
     "metadata": {},
     "output_type": "execute_result"
    },
    {
     "data": {
      "image/png": "[encoded data removed]",
      "text/plain": [
       "<Figure size 1600x800 with 1 Axes>"
      ]
     },
     "metadata": {},
     "output_type": "display_data"
    }
   ],
   "source": [
    "# As we have 13 features, set range (2-14)\n",
    "\n",
    "K = range(2, 14)\n",
    "inertia = []\n",
    "\n",
    "for k in K:\n",
    "    kmeans = KMeans(n_clusters=k,\n",
    "                    random_state=1234)\n",
    "    kmeans.fit(X_prep)\n",
    "    inertia.append(kmeans.inertia_)\n",
    "\n",
    "import matplotlib.pyplot as plt\n",
    "%matplotlib inline\n",
    "\n",
    "plt.figure(figsize=(16,8))\n",
    "plt.plot(K, inertia, 'bx-')\n",
    "plt.xlabel('k')\n",
    "plt.ylabel('inertia')\n",
    "plt.xticks(np.arange(min(K), max(K)+1, 1.0))\n",
    "plt.title('Elbow Method showing the optimal k')"
   ]
  },
  {
   "cell_type": "markdown",
   "id": "3cd33d95",
   "metadata": {},
   "source": [
    "- Difficult to assess the elbow point, but seems 8"
   ]
  },
  {
   "cell_type": "code",
   "execution_count": null,
   "id": "134af2a8",
   "metadata": {},
   "outputs": [],
   "source": []
  },
  {
   "cell_type": "markdown",
   "id": "67857d23",
   "metadata": {},
   "source": [
    "###### Silhouette score"
   ]
  },
  {
   "cell_type": "code",
   "execution_count": 12,
   "id": "e740e07e",
   "metadata": {},
   "outputs": [
    {
     "data": {
      "text/plain": [
       "Text(0.5, 1.0, 'Slhouette score showing the optimal k')"
      ]
     },
     "execution_count": 12,
     "metadata": {},
     "output_type": "execute_result"
    },
    {
     "data": {
      "image/png": "[encoded data removed]",
      "text/plain": [
       "<Figure size 1600x800 with 1 Axes>"
      ]
     },
     "metadata": {},
     "output_type": "display_data"
    }
   ],
   "source": [
    "from sklearn.metrics import silhouette_score\n",
    "K = range(2, 14)\n",
    "silhouette = []\n",
    "\n",
    "for k in K:\n",
    "    kmeans = KMeans(n_clusters=k, random_state=1234)\n",
    "    kmeans.fit(X_prep)\n",
    "    silhouette.append(silhouette_score(X_prep, kmeans.predict(X_prep)))\n",
    "\n",
    "\n",
    "plt.figure(figsize=(16,8))\n",
    "plt.plot(K, silhouette, 'bx-')\n",
    "plt.xlabel('k')\n",
    "plt.ylabel('silhouette score')\n",
    "plt.xticks(np.arange(min(K), max(K)+1, 1.0))\n",
    "plt.title('Slhouette score showing the optimal k')"
   ]
  },
  {
   "cell_type": "markdown",
   "id": "a3fa04e5",
   "metadata": {},
   "source": [
    "- Max value indicates 2 clusters would be optimal, second max value, 6 clusters and, third, 9 clusters.\n",
    "\n",
    " - Before running it all again, max second value was 8 as elbow method, not 4."
   ]
  },
  {
   "cell_type": "code",
   "execution_count": null,
   "id": "7c2318fc",
   "metadata": {},
   "outputs": [],
   "source": []
  },
  {
   "cell_type": "markdown",
   "id": "1a160bc1",
   "metadata": {},
   "source": [
    "#### Checking KMeans with 2 and 8 clusters"
   ]
  },
  {
   "cell_type": "markdown",
   "id": "b0201f12",
   "metadata": {},
   "source": [
    "##### Number of clusters = 2"
   ]
  },
  {
   "cell_type": "code",
   "execution_count": 13,
   "id": "65977fc5",
   "metadata": {},
   "outputs": [
    {
     "data": {
      "text/plain": [
       "KMeans(n_clusters=2, random_state=1234)"
      ]
     },
     "execution_count": 13,
     "metadata": {},
     "output_type": "execute_result"
    }
   ],
   "source": [
    "kmeans = KMeans(n_clusters=2, random_state=1234)\n",
    "kmeans.fit(X_prep)"
   ]
  },
  {
   "cell_type": "code",
   "execution_count": 14,
   "id": "c31af868",
   "metadata": {},
   "outputs": [],
   "source": [
    "# Predicting / assigning the clusters:\n",
    "clusters = kmeans.predict(X_prep)"
   ]
  },
  {
   "cell_type": "code",
   "execution_count": 15,
   "id": "bded3ebe",
   "metadata": {},
   "outputs": [
    {
     "data": {
      "text/plain": [
       "0    2702\n",
       "1    5324\n",
       "dtype: int64"
      ]
     },
     "execution_count": 15,
     "metadata": {},
     "output_type": "execute_result"
    }
   ],
   "source": [
    "# Size of the clusters\n",
    "pd.Series(clusters).value_counts().sort_index()"
   ]
  },
  {
   "cell_type": "code",
   "execution_count": 16,
   "id": "04ba02cc",
   "metadata": {},
   "outputs": [
    {
     "data": {
      "text/plain": [
       "array([0, 0, 1, ..., 0, 0, 0], dtype=int32)"
      ]
     },
     "execution_count": 16,
     "metadata": {},
     "output_type": "execute_result"
    }
   ],
   "source": [
    "clusters"
   ]
  },
  {
   "cell_type": "code",
   "execution_count": 17,
   "id": "8d33cde3",
   "metadata": {},
   "outputs": [],
   "source": [
    "#y.values\n",
    "#pd.Series(y).value_counts().sort_index()"
   ]
  },
  {
   "cell_type": "code",
   "execution_count": 31,
   "id": "1cf0a023",
   "metadata": {},
   "outputs": [
    {
     "data": {
      "image/png": "[encoded data removed]",
      "text/plain": [
       "<Figure size 500x500 with 1 Axes>"
      ]
     },
     "metadata": {},
     "output_type": "display_data"
    }
   ],
   "source": [
    "# Plotting (num clusters = 2)\n",
    "plt.figure(figsize=(5, 5))\n",
    "plt.scatter(X_prep[:, 0], X_prep[:, 2], c=clusters,alpha=0.5)\n",
    "\n",
    "plt.show()"
   ]
  },
  {
   "cell_type": "code",
   "execution_count": null,
   "id": "8b0bdaa9",
   "metadata": {},
   "outputs": [],
   "source": []
  },
  {
   "cell_type": "markdown",
   "id": "8b219bae",
   "metadata": {},
   "source": [
    "##### Number of clusters = 8"
   ]
  },
  {
   "cell_type": "code",
   "execution_count": 19,
   "id": "d1ad2232",
   "metadata": {},
   "outputs": [
    {
     "data": {
      "text/plain": [
       "KMeans(random_state=1234)"
      ]
     },
     "execution_count": 19,
     "metadata": {},
     "output_type": "execute_result"
    }
   ],
   "source": [
    "kmeans = KMeans(n_clusters=8, random_state=1234)\n",
    "kmeans.fit(X_prep)"
   ]
  },
  {
   "cell_type": "code",
   "execution_count": 20,
   "id": "776e71d2",
   "metadata": {},
   "outputs": [],
   "source": [
    "# Saving kmeans model\n",
    "import pickle\n",
    "\n",
    "with open('kmeans_model.pkl', 'wb') as f:\n",
    "    pickle.dump(kmeans, f)"
   ]
  },
  {
   "cell_type": "code",
   "execution_count": 21,
   "id": "61bca65e",
   "metadata": {},
   "outputs": [],
   "source": [
    "# Predicting / assigning the clusters:\n",
    "clusters = kmeans.predict(X_prep)"
   ]
  },
  {
   "cell_type": "code",
   "execution_count": 22,
   "id": "f9993c2c",
   "metadata": {},
   "outputs": [
    {
     "data": {
      "text/plain": [
       "0    1569\n",
       "1    1428\n",
       "2    2288\n",
       "3     504\n",
       "4     480\n",
       "5    1249\n",
       "6     326\n",
       "7     182\n",
       "dtype: int64"
      ]
     },
     "execution_count": 22,
     "metadata": {},
     "output_type": "execute_result"
    }
   ],
   "source": [
    "# Size of the clusters\n",
    "pd.Series(clusters).value_counts().sort_index()"
   ]
  },
  {
   "cell_type": "code",
   "execution_count": 23,
   "id": "75f3cea4",
   "metadata": {},
   "outputs": [
    {
     "data": {
      "text/plain": [
       "array([0, 0, 5, ..., 0, 6, 6], dtype=int32)"
      ]
     },
     "execution_count": 23,
     "metadata": {},
     "output_type": "execute_result"
    }
   ],
   "source": [
    "clusters"
   ]
  },
  {
   "cell_type": "code",
   "execution_count": 24,
   "id": "3407bb73",
   "metadata": {},
   "outputs": [],
   "source": [
    "#y.values\n",
    "#pd.Series(y).value_counts().sort_index()"
   ]
  },
  {
   "cell_type": "code",
   "execution_count": 36,
   "id": "9a74629d",
   "metadata": {},
   "outputs": [
    {
     "data": {
      "image/png": "[encoded data removed]",
      "text/plain": [
       "<Figure size 500x500 with 1 Axes>"
      ]
     },
     "metadata": {},
     "output_type": "display_data"
    }
   ],
   "source": [
    "# Plotting (num clusters = 8)\n",
    "plt.figure(figsize=(5, 5))\n",
    "plt.scatter(X_prep[:, 0], X_prep[:, 8], c=clusters,alpha=0.5)\n",
    "\n",
    "plt.show()"
   ]
  },
  {
   "cell_type": "markdown",
   "id": "794a4bf7",
   "metadata": {},
   "source": [
    "I'm keeping 8 clusters for my KMean model"
   ]
  },
  {
   "cell_type": "code",
   "execution_count": 37,
   "id": "c7006fac",
   "metadata": {},
   "outputs": [
    {
     "data": {
      "text/plain": [
       "0    1569\n",
       "1    1428\n",
       "2    2288\n",
       "3     504\n",
       "4     480\n",
       "5    1249\n",
       "6     326\n",
       "7     182\n",
       "dtype: int64"
      ]
     },
     "execution_count": 37,
     "metadata": {},
     "output_type": "execute_result"
    }
   ],
   "source": [
    "# Number of songs in each cluster\n",
    "pd.Series(clusters).value_counts().sort_index()"
   ]
  },
  {
   "cell_type": "code",
   "execution_count": null,
   "id": "c7801aec",
   "metadata": {},
   "outputs": [],
   "source": []
  },
  {
   "cell_type": "markdown",
   "id": "b81a1175",
   "metadata": {},
   "source": [
    "Now:\n",
    "\n",
    "- Get the audio features from the input song\n",
    "    - If song not in our spotify_data, search it on Spotify and get song data\n",
    "    \n",
    "    \n",
    "\n",
    "- Check against the clusters built by KMeans model\n",
    "\n",
    "\n",
    "\n",
    "- Get the segment/cluster number\n"
   ]
  },
  {
   "cell_type": "code",
   "execution_count": 339,
   "id": "684bb2e4",
   "metadata": {},
   "outputs": [],
   "source": [
    "topsongs = pd.read_csv('topsongs_data.csv', index_col =False)\n",
    "spotify_data = pd.read_csv('spotify_data.csv', index_col = False )\n",
    "#spotify_data = pd.read_csv('spotify_data.csv')"
   ]
  },
  {
   "cell_type": "code",
   "execution_count": 340,
   "id": "61541d3f",
   "metadata": {},
   "outputs": [
    {
     "data": {
      "text/html": [
       "<div>\n",
       "<style scoped>\n",
       "    .dataframe tbody tr th:only-of-type {\n",
       "        vertical-align: middle;\n",
       "    }\n",
       "\n",
       "    .dataframe tbody tr th {\n",
       "        vertical-align: top;\n",
       "    }\n",
       "\n",
       "    .dataframe thead th {\n",
       "        text-align: right;\n",
       "    }\n",
       "</style>\n",
       "<table border=\"1\" class=\"dataframe\">\n",
       "  <thead>\n",
       "    <tr style=\"text-align: right;\">\n",
       "      <th></th>\n",
       "      <th>title</th>\n",
       "      <th>artist</th>\n",
       "      <th>uri</th>\n",
       "      <th>danceability</th>\n",
       "      <th>energy</th>\n",
       "      <th>key</th>\n",
       "      <th>loudness</th>\n",
       "      <th>mode</th>\n",
       "      <th>speechiness</th>\n",
       "      <th>acousticness</th>\n",
       "      <th>instrumentalness</th>\n",
       "      <th>liveness</th>\n",
       "      <th>valence</th>\n",
       "      <th>tempo</th>\n",
       "      <th>type</th>\n",
       "      <th>id</th>\n",
       "      <th>track_href</th>\n",
       "      <th>analysis_url</th>\n",
       "      <th>duration_ms</th>\n",
       "      <th>time_signature</th>\n",
       "    </tr>\n",
       "  </thead>\n",
       "  <tbody>\n",
       "    <tr>\n",
       "      <th>0</th>\n",
       "      <td>bohemian rhapsody - remastered 2011</td>\n",
       "      <td>Queen</td>\n",
       "      <td>spotify:track:7tFiyTwD0nx5a1eklYtX2J</td>\n",
       "      <td>0.392</td>\n",
       "      <td>0.402</td>\n",
       "      <td>0</td>\n",
       "      <td>-9.961</td>\n",
       "      <td>0</td>\n",
       "      <td>0.0536</td>\n",
       "      <td>0.28800</td>\n",
       "      <td>0.000000</td>\n",
       "      <td>0.2430</td>\n",
       "      <td>0.228</td>\n",
       "      <td>143.883</td>\n",
       "      <td>audio_features</td>\n",
       "      <td>7tFiyTwD0nx5a1eklYtX2J</td>\n",
       "      <td>https://api.spotify.com/v1/tracks/7tFiyTwD0nx5...</td>\n",
       "      <td>https://api.spotify.com/v1/audio-analysis/7tFi...</td>\n",
       "      <td>354320</td>\n",
       "      <td>4</td>\n",
       "    </tr>\n",
       "    <tr>\n",
       "      <th>1</th>\n",
       "      <td>roller coaster</td>\n",
       "      <td>Danny Vera</td>\n",
       "      <td>spotify:track:5B5YKjgne3TZzNpMsN9aj1</td>\n",
       "      <td>0.401</td>\n",
       "      <td>0.383</td>\n",
       "      <td>9</td>\n",
       "      <td>-10.048</td>\n",
       "      <td>1</td>\n",
       "      <td>0.0279</td>\n",
       "      <td>0.51000</td>\n",
       "      <td>0.007800</td>\n",
       "      <td>0.1210</td>\n",
       "      <td>0.285</td>\n",
       "      <td>96.957</td>\n",
       "      <td>audio_features</td>\n",
       "      <td>5B5YKjgne3TZzNpMsN9aj1</td>\n",
       "      <td>https://api.spotify.com/v1/tracks/5B5YKjgne3TZ...</td>\n",
       "      <td>https://api.spotify.com/v1/audio-analysis/5B5Y...</td>\n",
       "      <td>269986</td>\n",
       "      <td>4</td>\n",
       "    </tr>\n",
       "    <tr>\n",
       "      <th>2</th>\n",
       "      <td>hotel california - 2013 remaster</td>\n",
       "      <td>Eagles</td>\n",
       "      <td>spotify:track:40riOy7x9W7GXjyGp4pjAv</td>\n",
       "      <td>0.579</td>\n",
       "      <td>0.508</td>\n",
       "      <td>2</td>\n",
       "      <td>-9.484</td>\n",
       "      <td>1</td>\n",
       "      <td>0.0270</td>\n",
       "      <td>0.00574</td>\n",
       "      <td>0.000494</td>\n",
       "      <td>0.0575</td>\n",
       "      <td>0.609</td>\n",
       "      <td>147.125</td>\n",
       "      <td>audio_features</td>\n",
       "      <td>40riOy7x9W7GXjyGp4pjAv</td>\n",
       "      <td>https://api.spotify.com/v1/tracks/40riOy7x9W7G...</td>\n",
       "      <td>https://api.spotify.com/v1/audio-analysis/40ri...</td>\n",
       "      <td>391376</td>\n",
       "      <td>4</td>\n",
       "    </tr>\n",
       "  </tbody>\n",
       "</table>\n",
       "</div>"
      ],
      "text/plain": [
       "                                 title      artist  \\\n",
       "0  bohemian rhapsody - remastered 2011       Queen   \n",
       "1                       roller coaster  Danny Vera   \n",
       "2     hotel california - 2013 remaster      Eagles   \n",
       "\n",
       "                                    uri  danceability  energy  key  loudness  \\\n",
       "0  spotify:track:7tFiyTwD0nx5a1eklYtX2J         0.392   0.402    0    -9.961   \n",
       "1  spotify:track:5B5YKjgne3TZzNpMsN9aj1         0.401   0.383    9   -10.048   \n",
       "2  spotify:track:40riOy7x9W7GXjyGp4pjAv         0.579   0.508    2    -9.484   \n",
       "\n",
       "   mode  speechiness  acousticness  instrumentalness  liveness  valence  \\\n",
       "0     0       0.0536       0.28800          0.000000    0.2430    0.228   \n",
       "1     1       0.0279       0.51000          0.007800    0.1210    0.285   \n",
       "2     1       0.0270       0.00574          0.000494    0.0575    0.609   \n",
       "\n",
       "     tempo            type                      id  \\\n",
       "0  143.883  audio_features  7tFiyTwD0nx5a1eklYtX2J   \n",
       "1   96.957  audio_features  5B5YKjgne3TZzNpMsN9aj1   \n",
       "2  147.125  audio_features  40riOy7x9W7GXjyGp4pjAv   \n",
       "\n",
       "                                          track_href  \\\n",
       "0  https://api.spotify.com/v1/tracks/7tFiyTwD0nx5...   \n",
       "1  https://api.spotify.com/v1/tracks/5B5YKjgne3TZ...   \n",
       "2  https://api.spotify.com/v1/tracks/40riOy7x9W7G...   \n",
       "\n",
       "                                        analysis_url  duration_ms  \\\n",
       "0  https://api.spotify.com/v1/audio-analysis/7tFi...       354320   \n",
       "1  https://api.spotify.com/v1/audio-analysis/5B5Y...       269986   \n",
       "2  https://api.spotify.com/v1/audio-analysis/40ri...       391376   \n",
       "\n",
       "   time_signature  \n",
       "0               4  \n",
       "1               4  \n",
       "2               4  "
      ]
     },
     "execution_count": 340,
     "metadata": {},
     "output_type": "execute_result"
    }
   ],
   "source": [
    "spotify_data[0:3]"
   ]
  },
  {
   "cell_type": "code",
   "execution_count": 341,
   "id": "f9e051c5",
   "metadata": {},
   "outputs": [
    {
     "data": {
      "text/plain": [
       "(6806, 20)"
      ]
     },
     "execution_count": 341,
     "metadata": {},
     "output_type": "execute_result"
    }
   ],
   "source": [
    "spotify_data.shape"
   ]
  },
  {
   "cell_type": "code",
   "execution_count": null,
   "id": "ef056d97",
   "metadata": {},
   "outputs": [],
   "source": []
  },
  {
   "cell_type": "markdown",
   "id": "1019fbd0",
   "metadata": {},
   "source": [
    "#### Function to retrieve information of new songs from spotify"
   ]
  },
  {
   "cell_type": "code",
   "execution_count": 344,
   "id": "f860d157",
   "metadata": {},
   "outputs": [],
   "source": [
    "def get_song_from_spotify(song_searched, spotify_data):\n",
    "    \n",
    "    \"\"\"\n",
    "    The function searches for a song in the Spotify database by taking in a song name \n",
    "    and a dataframe spotify_data. If the song is not in spotify_data, it searches for\n",
    "    the song in the Spotify API and extracts information such as URI and features\n",
    "    of the selected song. This information is converted to a DataFrame and appended to\n",
    "    spotify_data. The updated dataframe is returned, and if the song is not found,\n",
    "    it returns None.\n",
    "    \"\"\"\n",
    "    \n",
    "    # If song is NOT in spotify data:\n",
    "    if song_searched not in spotify_data['title'].values:\n",
    "        \n",
    "        # Search song\n",
    "        track_id = sp.search(q='track:' + song_searched, type='track')  # song info\n",
    "\n",
    "        # If multiple versions of song played by different artists are found:\n",
    "        if len(track_id['tracks']['items']) > 1:\n",
    "            # Print list of artists who played the song\n",
    "            print(\"Multiple versions of the song '{}' were found:\".format(song_searched))\n",
    "            for i, item in enumerate(track_id['tracks']['items']):\n",
    "                print(\"{}: {}\".format(i+1, item['album']['artists'][0]['name']))\n",
    "                \n",
    "            # Ask user to select the desired version of the song\n",
    "            while True:\n",
    "                try:\n",
    "                    selection = int(input(\"Please enter the NUMBER of the version you are looking for: \"))\n",
    "                    if selection < 1 or selection > len(track_id['tracks']['items']):\n",
    "                        print(\"Invalid selection. Please enter a NUMBER between 1 and {}.\".format(len(track_id['tracks']['items'])))\n",
    "                    else:\n",
    "                        break\n",
    "                except ValueError:\n",
    "                    print(\"Invalid selection. Please enter a NUMBER between 1 and {}.\".format(len(track_id['tracks']['items'])))\n",
    "            \n",
    "            # Use the selected version of the song\n",
    "            item = track_id['tracks']['items'][selection-1]\n",
    "        \n",
    "        else:\n",
    "            # Use the only version of the song found\n",
    "            item = track_id['tracks']['items'][0]\n",
    "        \n",
    "        # Extracting info of new song\n",
    "        song_uri = item['uri']  # uri\n",
    "        features = sp.audio_features(song_uri)[0]\n",
    "\n",
    "        # New dict retrieving values of 'title', 'artist' and 'uri'\n",
    "        track = {\n",
    "            'title': item['name'],\n",
    "            'artist': item['album']['artists'][0]['name'],\n",
    "            'uri': song_uri,\n",
    "        }\n",
    "\n",
    "        # For each feature (song uri) add in track dict\n",
    "        # new key (column name) and the value\n",
    "        for feature_key, feature_value in features.items():\n",
    "            track[feature_key] = feature_value\n",
    "\n",
    "        # Append new songs to spotify_data\n",
    "        new_song_df = pd.DataFrame([track])\n",
    "        spotify_data = pd.concat([spotify_data, new_song_df], axis=0)#, ignore_index=True)\n",
    "        spotify_data = spotify_data.drop_duplicates()\n",
    "        #spotify_data = spotify_data.drop(['Unnamed: 0'], axis=1)\n",
    "        spotify_data = spotify_data.reset_index(drop=True)\n",
    "        #spotify_data.to_csv('spotify_data.csv')\n",
    "        \n",
    "        # Return the results as a DataFrame\n",
    "        print(\"{} was not in spotify_data database\".format(song_searched))\n",
    "        return spotify_data\n",
    "    \n",
    "    else:\n",
    "        \n",
    "        print(\"{} was already in spotify_data database\".format(song_searched))\n",
    "        return spotify_data\n",
    "\n",
    "    \n",
    "        # track_name = track_id['tracks']['items'][0]['name'] # title\n",
    "       # track_id['tracks']['items'][0]['album']['artists'][0]['name'] # artist band\n",
    "       # song_uri = track_id['tracks']['items'][0]['uri'] # uri\n",
    "       # features = sp.audio_features(song_uri)[0]\n",
    "    "
   ]
  },
  {
   "cell_type": "code",
   "execution_count": 345,
   "id": "9c4b346a",
   "metadata": {},
   "outputs": [
    {
     "name": "stdout",
     "output_type": "stream",
     "text": [
      "lucia\n",
      "Multiple versions of the song 'lucia' were found:\n",
      "1: Black Coast\n",
      "2: Miguel Ríos\n",
      "3: Future\n",
      "4: Aldo Trujillo\n",
      "5: Rimoneta\n",
      "6: Christine D'Clario\n",
      "7: Siempre Reinas\n",
      "8: Bassjackers\n",
      "9: Piero Piccioni\n",
      "10: South Park Mexican\n",
      "Please enter the NUMBER of the version you are looking for: 2\n",
      "lucia was not in spotify_data database\n"
     ]
    },
    {
     "data": {
      "text/html": [
       "<div>\n",
       "<style scoped>\n",
       "    .dataframe tbody tr th:only-of-type {\n",
       "        vertical-align: middle;\n",
       "    }\n",
       "\n",
       "    .dataframe tbody tr th {\n",
       "        vertical-align: top;\n",
       "    }\n",
       "\n",
       "    .dataframe thead th {\n",
       "        text-align: right;\n",
       "    }\n",
       "</style>\n",
       "<table border=\"1\" class=\"dataframe\">\n",
       "  <thead>\n",
       "    <tr style=\"text-align: right;\">\n",
       "      <th></th>\n",
       "      <th>title</th>\n",
       "      <th>artist</th>\n",
       "      <th>uri</th>\n",
       "      <th>danceability</th>\n",
       "      <th>energy</th>\n",
       "      <th>key</th>\n",
       "      <th>loudness</th>\n",
       "      <th>mode</th>\n",
       "      <th>speechiness</th>\n",
       "      <th>acousticness</th>\n",
       "      <th>instrumentalness</th>\n",
       "      <th>liveness</th>\n",
       "      <th>valence</th>\n",
       "      <th>tempo</th>\n",
       "      <th>type</th>\n",
       "      <th>id</th>\n",
       "      <th>track_href</th>\n",
       "      <th>analysis_url</th>\n",
       "      <th>duration_ms</th>\n",
       "      <th>time_signature</th>\n",
       "    </tr>\n",
       "  </thead>\n",
       "  <tbody>\n",
       "    <tr>\n",
       "      <th>0</th>\n",
       "      <td>bohemian rhapsody - remastered 2011</td>\n",
       "      <td>Queen</td>\n",
       "      <td>spotify:track:7tFiyTwD0nx5a1eklYtX2J</td>\n",
       "      <td>0.392</td>\n",
       "      <td>0.402</td>\n",
       "      <td>0</td>\n",
       "      <td>-9.961</td>\n",
       "      <td>0</td>\n",
       "      <td>0.0536</td>\n",
       "      <td>0.28800</td>\n",
       "      <td>0.000000</td>\n",
       "      <td>0.2430</td>\n",
       "      <td>0.228</td>\n",
       "      <td>143.883</td>\n",
       "      <td>audio_features</td>\n",
       "      <td>7tFiyTwD0nx5a1eklYtX2J</td>\n",
       "      <td>https://api.spotify.com/v1/tracks/7tFiyTwD0nx5...</td>\n",
       "      <td>https://api.spotify.com/v1/audio-analysis/7tFi...</td>\n",
       "      <td>354320</td>\n",
       "      <td>4</td>\n",
       "    </tr>\n",
       "    <tr>\n",
       "      <th>1</th>\n",
       "      <td>roller coaster</td>\n",
       "      <td>Danny Vera</td>\n",
       "      <td>spotify:track:5B5YKjgne3TZzNpMsN9aj1</td>\n",
       "      <td>0.401</td>\n",
       "      <td>0.383</td>\n",
       "      <td>9</td>\n",
       "      <td>-10.048</td>\n",
       "      <td>1</td>\n",
       "      <td>0.0279</td>\n",
       "      <td>0.51000</td>\n",
       "      <td>0.007800</td>\n",
       "      <td>0.1210</td>\n",
       "      <td>0.285</td>\n",
       "      <td>96.957</td>\n",
       "      <td>audio_features</td>\n",
       "      <td>5B5YKjgne3TZzNpMsN9aj1</td>\n",
       "      <td>https://api.spotify.com/v1/tracks/5B5YKjgne3TZ...</td>\n",
       "      <td>https://api.spotify.com/v1/audio-analysis/5B5Y...</td>\n",
       "      <td>269986</td>\n",
       "      <td>4</td>\n",
       "    </tr>\n",
       "    <tr>\n",
       "      <th>2</th>\n",
       "      <td>hotel california - 2013 remaster</td>\n",
       "      <td>Eagles</td>\n",
       "      <td>spotify:track:40riOy7x9W7GXjyGp4pjAv</td>\n",
       "      <td>0.579</td>\n",
       "      <td>0.508</td>\n",
       "      <td>2</td>\n",
       "      <td>-9.484</td>\n",
       "      <td>1</td>\n",
       "      <td>0.0270</td>\n",
       "      <td>0.00574</td>\n",
       "      <td>0.000494</td>\n",
       "      <td>0.0575</td>\n",
       "      <td>0.609</td>\n",
       "      <td>147.125</td>\n",
       "      <td>audio_features</td>\n",
       "      <td>40riOy7x9W7GXjyGp4pjAv</td>\n",
       "      <td>https://api.spotify.com/v1/tracks/40riOy7x9W7G...</td>\n",
       "      <td>https://api.spotify.com/v1/audio-analysis/40ri...</td>\n",
       "      <td>391376</td>\n",
       "      <td>4</td>\n",
       "    </tr>\n",
       "    <tr>\n",
       "      <th>3</th>\n",
       "      <td>piano man</td>\n",
       "      <td>Billy Joel</td>\n",
       "      <td>spotify:track:3FCto7hnn1shUyZL42YgfO</td>\n",
       "      <td>0.334</td>\n",
       "      <td>0.472</td>\n",
       "      <td>0</td>\n",
       "      <td>-8.791</td>\n",
       "      <td>1</td>\n",
       "      <td>0.0277</td>\n",
       "      <td>0.60000</td>\n",
       "      <td>0.000004</td>\n",
       "      <td>0.3170</td>\n",
       "      <td>0.431</td>\n",
       "      <td>179.173</td>\n",
       "      <td>audio_features</td>\n",
       "      <td>3FCto7hnn1shUyZL42YgfO</td>\n",
       "      <td>https://api.spotify.com/v1/tracks/3FCto7hnn1sh...</td>\n",
       "      <td>https://api.spotify.com/v1/audio-analysis/3FCt...</td>\n",
       "      <td>336093</td>\n",
       "      <td>3</td>\n",
       "    </tr>\n",
       "    <tr>\n",
       "      <th>4</th>\n",
       "      <td>fix you</td>\n",
       "      <td>Coldplay</td>\n",
       "      <td>spotify:track:7LVHVU3tWfcxj5aiPFEW4Q</td>\n",
       "      <td>0.209</td>\n",
       "      <td>0.417</td>\n",
       "      <td>3</td>\n",
       "      <td>-8.740</td>\n",
       "      <td>1</td>\n",
       "      <td>0.0338</td>\n",
       "      <td>0.16400</td>\n",
       "      <td>0.001960</td>\n",
       "      <td>0.1130</td>\n",
       "      <td>0.124</td>\n",
       "      <td>138.178</td>\n",
       "      <td>audio_features</td>\n",
       "      <td>7LVHVU3tWfcxj5aiPFEW4Q</td>\n",
       "      <td>https://api.spotify.com/v1/tracks/7LVHVU3tWfcx...</td>\n",
       "      <td>https://api.spotify.com/v1/audio-analysis/7LVH...</td>\n",
       "      <td>295533</td>\n",
       "      <td>4</td>\n",
       "    </tr>\n",
       "    <tr>\n",
       "      <th>...</th>\n",
       "      <td>...</td>\n",
       "      <td>...</td>\n",
       "      <td>...</td>\n",
       "      <td>...</td>\n",
       "      <td>...</td>\n",
       "      <td>...</td>\n",
       "      <td>...</td>\n",
       "      <td>...</td>\n",
       "      <td>...</td>\n",
       "      <td>...</td>\n",
       "      <td>...</td>\n",
       "      <td>...</td>\n",
       "      <td>...</td>\n",
       "      <td>...</td>\n",
       "      <td>...</td>\n",
       "      <td>...</td>\n",
       "      <td>...</td>\n",
       "      <td>...</td>\n",
       "      <td>...</td>\n",
       "      <td>...</td>\n",
       "    </tr>\n",
       "    <tr>\n",
       "      <th>6801</th>\n",
       "      <td>de vez en cuando la vida - en directo</td>\n",
       "      <td>Joan Manuel Serrat</td>\n",
       "      <td>spotify:track:6ZamvCT3Kc154A4amDloeI</td>\n",
       "      <td>0.544</td>\n",
       "      <td>0.390</td>\n",
       "      <td>9</td>\n",
       "      <td>-8.495</td>\n",
       "      <td>1</td>\n",
       "      <td>0.0606</td>\n",
       "      <td>0.85300</td>\n",
       "      <td>0.000000</td>\n",
       "      <td>0.3970</td>\n",
       "      <td>0.166</td>\n",
       "      <td>83.941</td>\n",
       "      <td>audio_features</td>\n",
       "      <td>6ZamvCT3Kc154A4amDloeI</td>\n",
       "      <td>https://api.spotify.com/v1/tracks/6ZamvCT3Kc15...</td>\n",
       "      <td>https://api.spotify.com/v1/audio-analysis/6Zam...</td>\n",
       "      <td>195813</td>\n",
       "      <td>3</td>\n",
       "    </tr>\n",
       "    <tr>\n",
       "      <th>6802</th>\n",
       "      <td>de vez en cuando la vida</td>\n",
       "      <td>Joan Manuel Serrat</td>\n",
       "      <td>spotify:track:4GkEbCD0QcC2yn10cH4DSG</td>\n",
       "      <td>0.446</td>\n",
       "      <td>0.333</td>\n",
       "      <td>6</td>\n",
       "      <td>-7.707</td>\n",
       "      <td>0</td>\n",
       "      <td>0.0334</td>\n",
       "      <td>0.84400</td>\n",
       "      <td>0.000009</td>\n",
       "      <td>0.1430</td>\n",
       "      <td>0.261</td>\n",
       "      <td>78.606</td>\n",
       "      <td>audio_features</td>\n",
       "      <td>4GkEbCD0QcC2yn10cH4DSG</td>\n",
       "      <td>https://api.spotify.com/v1/tracks/4GkEbCD0QcC2...</td>\n",
       "      <td>https://api.spotify.com/v1/audio-analysis/4GkE...</td>\n",
       "      <td>211627</td>\n",
       "      <td>1</td>\n",
       "    </tr>\n",
       "    <tr>\n",
       "      <th>6803</th>\n",
       "      <td>where do you go to (my lovely) - re-recorded</td>\n",
       "      <td>Peter Sarstedt</td>\n",
       "      <td>spotify:track:6M665tf7ZKQzUFA5yOrUE4</td>\n",
       "      <td>0.558</td>\n",
       "      <td>0.444</td>\n",
       "      <td>2</td>\n",
       "      <td>-7.549</td>\n",
       "      <td>0</td>\n",
       "      <td>0.0345</td>\n",
       "      <td>0.28600</td>\n",
       "      <td>0.000066</td>\n",
       "      <td>0.1210</td>\n",
       "      <td>0.444</td>\n",
       "      <td>182.583</td>\n",
       "      <td>audio_features</td>\n",
       "      <td>6M665tf7ZKQzUFA5yOrUE4</td>\n",
       "      <td>https://api.spotify.com/v1/tracks/6M665tf7ZKQz...</td>\n",
       "      <td>https://api.spotify.com/v1/audio-analysis/6M66...</td>\n",
       "      <td>287720</td>\n",
       "      <td>3</td>\n",
       "    </tr>\n",
       "    <tr>\n",
       "      <th>6804</th>\n",
       "      <td>santa lucia - remastered 2005</td>\n",
       "      <td>Miguel Ríos</td>\n",
       "      <td>spotify:track:5bycn7SuJzYnxte0W54mNX</td>\n",
       "      <td>0.545</td>\n",
       "      <td>0.682</td>\n",
       "      <td>6</td>\n",
       "      <td>-5.931</td>\n",
       "      <td>1</td>\n",
       "      <td>0.0289</td>\n",
       "      <td>0.21300</td>\n",
       "      <td>0.000000</td>\n",
       "      <td>0.1470</td>\n",
       "      <td>0.713</td>\n",
       "      <td>102.703</td>\n",
       "      <td>audio_features</td>\n",
       "      <td>5bycn7SuJzYnxte0W54mNX</td>\n",
       "      <td>https://api.spotify.com/v1/tracks/5bycn7SuJzYn...</td>\n",
       "      <td>https://api.spotify.com/v1/audio-analysis/5byc...</td>\n",
       "      <td>224827</td>\n",
       "      <td>4</td>\n",
       "    </tr>\n",
       "    <tr>\n",
       "      <th>6805</th>\n",
       "      <td>santa lucia - remastered 2005</td>\n",
       "      <td>Miguel Ríos</td>\n",
       "      <td>spotify:track:5bycn7SuJzYnxte0W54mNX</td>\n",
       "      <td>0.545</td>\n",
       "      <td>0.682</td>\n",
       "      <td>6</td>\n",
       "      <td>-5.931</td>\n",
       "      <td>1</td>\n",
       "      <td>0.0289</td>\n",
       "      <td>0.21300</td>\n",
       "      <td>0.000000</td>\n",
       "      <td>0.1470</td>\n",
       "      <td>0.713</td>\n",
       "      <td>102.703</td>\n",
       "      <td>audio_features</td>\n",
       "      <td>5bycn7SuJzYnxte0W54mNX</td>\n",
       "      <td>https://api.spotify.com/v1/tracks/5bycn7SuJzYn...</td>\n",
       "      <td>https://api.spotify.com/v1/audio-analysis/5byc...</td>\n",
       "      <td>224827</td>\n",
       "      <td>4</td>\n",
       "    </tr>\n",
       "  </tbody>\n",
       "</table>\n",
       "<p>6806 rows × 20 columns</p>\n",
       "</div>"
      ],
      "text/plain": [
       "                                             title              artist  \\\n",
       "0              bohemian rhapsody - remastered 2011               Queen   \n",
       "1                                   roller coaster          Danny Vera   \n",
       "2                 hotel california - 2013 remaster              Eagles   \n",
       "3                                        piano man          Billy Joel   \n",
       "4                                          fix you            Coldplay   \n",
       "...                                            ...                 ...   \n",
       "6801         de vez en cuando la vida - en directo  Joan Manuel Serrat   \n",
       "6802                      de vez en cuando la vida  Joan Manuel Serrat   \n",
       "6803  where do you go to (my lovely) - re-recorded      Peter Sarstedt   \n",
       "6804                 santa lucia - remastered 2005         Miguel Ríos   \n",
       "6805                 santa lucia - remastered 2005         Miguel Ríos   \n",
       "\n",
       "                                       uri  danceability  energy  key  \\\n",
       "0     spotify:track:7tFiyTwD0nx5a1eklYtX2J         0.392   0.402    0   \n",
       "1     spotify:track:5B5YKjgne3TZzNpMsN9aj1         0.401   0.383    9   \n",
       "2     spotify:track:40riOy7x9W7GXjyGp4pjAv         0.579   0.508    2   \n",
       "3     spotify:track:3FCto7hnn1shUyZL42YgfO         0.334   0.472    0   \n",
       "4     spotify:track:7LVHVU3tWfcxj5aiPFEW4Q         0.209   0.417    3   \n",
       "...                                    ...           ...     ...  ...   \n",
       "6801  spotify:track:6ZamvCT3Kc154A4amDloeI         0.544   0.390    9   \n",
       "6802  spotify:track:4GkEbCD0QcC2yn10cH4DSG         0.446   0.333    6   \n",
       "6803  spotify:track:6M665tf7ZKQzUFA5yOrUE4         0.558   0.444    2   \n",
       "6804  spotify:track:5bycn7SuJzYnxte0W54mNX         0.545   0.682    6   \n",
       "6805  spotify:track:5bycn7SuJzYnxte0W54mNX         0.545   0.682    6   \n",
       "\n",
       "      loudness  mode  speechiness  acousticness  instrumentalness  liveness  \\\n",
       "0       -9.961     0       0.0536       0.28800          0.000000    0.2430   \n",
       "1      -10.048     1       0.0279       0.51000          0.007800    0.1210   \n",
       "2       -9.484     1       0.0270       0.00574          0.000494    0.0575   \n",
       "3       -8.791     1       0.0277       0.60000          0.000004    0.3170   \n",
       "4       -8.740     1       0.0338       0.16400          0.001960    0.1130   \n",
       "...        ...   ...          ...           ...               ...       ...   \n",
       "6801    -8.495     1       0.0606       0.85300          0.000000    0.3970   \n",
       "6802    -7.707     0       0.0334       0.84400          0.000009    0.1430   \n",
       "6803    -7.549     0       0.0345       0.28600          0.000066    0.1210   \n",
       "6804    -5.931     1       0.0289       0.21300          0.000000    0.1470   \n",
       "6805    -5.931     1       0.0289       0.21300          0.000000    0.1470   \n",
       "\n",
       "      valence    tempo            type                      id  \\\n",
       "0       0.228  143.883  audio_features  7tFiyTwD0nx5a1eklYtX2J   \n",
       "1       0.285   96.957  audio_features  5B5YKjgne3TZzNpMsN9aj1   \n",
       "2       0.609  147.125  audio_features  40riOy7x9W7GXjyGp4pjAv   \n",
       "3       0.431  179.173  audio_features  3FCto7hnn1shUyZL42YgfO   \n",
       "4       0.124  138.178  audio_features  7LVHVU3tWfcxj5aiPFEW4Q   \n",
       "...       ...      ...             ...                     ...   \n",
       "6801    0.166   83.941  audio_features  6ZamvCT3Kc154A4amDloeI   \n",
       "6802    0.261   78.606  audio_features  4GkEbCD0QcC2yn10cH4DSG   \n",
       "6803    0.444  182.583  audio_features  6M665tf7ZKQzUFA5yOrUE4   \n",
       "6804    0.713  102.703  audio_features  5bycn7SuJzYnxte0W54mNX   \n",
       "6805    0.713  102.703  audio_features  5bycn7SuJzYnxte0W54mNX   \n",
       "\n",
       "                                             track_href  \\\n",
       "0     https://api.spotify.com/v1/tracks/7tFiyTwD0nx5...   \n",
       "1     https://api.spotify.com/v1/tracks/5B5YKjgne3TZ...   \n",
       "2     https://api.spotify.com/v1/tracks/40riOy7x9W7G...   \n",
       "3     https://api.spotify.com/v1/tracks/3FCto7hnn1sh...   \n",
       "4     https://api.spotify.com/v1/tracks/7LVHVU3tWfcx...   \n",
       "...                                                 ...   \n",
       "6801  https://api.spotify.com/v1/tracks/6ZamvCT3Kc15...   \n",
       "6802  https://api.spotify.com/v1/tracks/4GkEbCD0QcC2...   \n",
       "6803  https://api.spotify.com/v1/tracks/6M665tf7ZKQz...   \n",
       "6804  https://api.spotify.com/v1/tracks/5bycn7SuJzYn...   \n",
       "6805  https://api.spotify.com/v1/tracks/5bycn7SuJzYn...   \n",
       "\n",
       "                                           analysis_url  duration_ms  \\\n",
       "0     https://api.spotify.com/v1/audio-analysis/7tFi...       354320   \n",
       "1     https://api.spotify.com/v1/audio-analysis/5B5Y...       269986   \n",
       "2     https://api.spotify.com/v1/audio-analysis/40ri...       391376   \n",
       "3     https://api.spotify.com/v1/audio-analysis/3FCt...       336093   \n",
       "4     https://api.spotify.com/v1/audio-analysis/7LVH...       295533   \n",
       "...                                                 ...          ...   \n",
       "6801  https://api.spotify.com/v1/audio-analysis/6Zam...       195813   \n",
       "6802  https://api.spotify.com/v1/audio-analysis/4GkE...       211627   \n",
       "6803  https://api.spotify.com/v1/audio-analysis/6M66...       287720   \n",
       "6804  https://api.spotify.com/v1/audio-analysis/5byc...       224827   \n",
       "6805  https://api.spotify.com/v1/audio-analysis/5byc...       224827   \n",
       "\n",
       "      time_signature  \n",
       "0                  4  \n",
       "1                  4  \n",
       "2                  4  \n",
       "3                  3  \n",
       "4                  4  \n",
       "...              ...  \n",
       "6801               3  \n",
       "6802               1  \n",
       "6803               3  \n",
       "6804               4  \n",
       "6805               4  \n",
       "\n",
       "[6806 rows x 20 columns]"
      ]
     },
     "execution_count": 345,
     "metadata": {},
     "output_type": "execute_result"
    }
   ],
   "source": [
    "song_searched = input()\n",
    "get_song_from_spotify(song_searched, spotify_data)#.reset_index(drop=True)\n",
    "\n",
    "# Saving updated dataframe\n",
    "spotify_data.to_csv('spotify_data.csv', index=False)\n",
    "spotify_data"
   ]
  },
  {
   "cell_type": "code",
   "execution_count": 346,
   "id": "62fbacb3",
   "metadata": {},
   "outputs": [
    {
     "data": {
      "text/plain": [
       "(6806, 20)"
      ]
     },
     "execution_count": 346,
     "metadata": {},
     "output_type": "execute_result"
    }
   ],
   "source": [
    "spotify_data.shape"
   ]
  },
  {
   "cell_type": "markdown",
   "id": "3bc81380",
   "metadata": {},
   "source": [
    "#### Function to identify the cluster of the target song and reccomend another one from that cluster"
   ]
  },
  {
   "cell_type": "markdown",
   "id": "450f8865",
   "metadata": {},
   "source": [
    "# SONG RECOMMENDER"
   ]
  },
  {
   "cell_type": "code",
   "execution_count": 347,
   "id": "1eb2b082",
   "metadata": {},
   "outputs": [],
   "source": [
    "def recommend_song(song_searched, spotify_data, topsongs):\n",
    "    \"\"\"\n",
    "    This function takes in a song name and a dataframe spotify_data.\n",
    "    It first checks if the song is in topsongs, and if so, recommends a song from topsongs.\n",
    "    If the song is not in spotify_data, the function uses Spotipy to search for the song \n",
    "    and gather information about it.\n",
    "    If the song is in spotify_data or its information has already been collected,\n",
    "    the function creates clusters to recommend a song from the same cluster\n",
    "    as the selected song..\n",
    "    \"\"\"\n",
    "    song_searched = song_searched.lower().strip()\n",
    "\n",
    "    # Check if the song is in top songs:\n",
    "    if song_searched in topsongs['title'].str.lower().str.strip().values:\n",
    "        recommended_song = topsongs.loc[topsongs['title'].str.lower().str.strip() != song_searched].sample(n=1)\n",
    "        display(Markdown(f\"Based on your selection of '**{song_searched.capitalize()}**', we recommend the *hot* song '**{recommended_song['title'].iloc[0]}**' by **{recommended_song['artist'].iloc[0]}**.\"))\n",
    "        return recommended_song#, spotify_data\n",
    "    \n",
    "    # Nested get_song_from_spotify function:\n",
    "    spotify_data = get_song_from_spotify(song_searched, spotify_data)\n",
    "\n",
    "    X_features = spotify_data.select_dtypes(np.number)\n",
    "\n",
    "    # Scaling Data\n",
    "    scaler = StandardScaler()\n",
    "    X_prep = scaler.fit_transform(X_features)\n",
    "\n",
    "    # KMeans : 8 clusters\n",
    "    kmeans = KMeans(n_clusters=8, random_state=1234)\n",
    "    kmeans.fit(X_prep)\n",
    "\n",
    "    # Finding the index of the selected song:\n",
    "    spotify_data['title'] = spotify_data['title'].str.lower().str.strip()\n",
    "    song_index = spotify_data.index[spotify_data['title'] == song_searched]\n",
    "    \n",
    "    if len(song_index) == 0:\n",
    "        print(f\"No matching song found for {song_searched}\")\n",
    "        return None, spotify_data\n",
    "    \n",
    "    song_index = song_index[0]\n",
    "\n",
    "    # Predicting cluster for the selected song:\n",
    "    song_cluster = kmeans.predict(X_prep[song_index].reshape(1, -1))[0]\n",
    "\n",
    "    # Selecting a random song from the same cluster:\n",
    "    cluster_songs = spotify_data[kmeans.labels_ == song_cluster]\n",
    "    recommended_song = cluster_songs.sample(n=1)\n",
    "\n",
    "    # Print recommendation:    \n",
    "    display(Markdown(f\"Based on your selection of '**{song_searched.capitalize()}**', we recommend the song **'{recommended_song['title'].iloc[0].upper()}'** by **'{recommended_song['artist'].iloc[0].upper()}'**.\"))\n",
    "\n",
    "    return recommended_song, spotify_data\n"
   ]
  },
  {
   "cell_type": "code",
   "execution_count": 348,
   "id": "11b60a51",
   "metadata": {},
   "outputs": [
    {
     "name": "stdout",
     "output_type": "stream",
     "text": [
      "que va a ser de ti\n",
      "Multiple versions of the song 'que va a ser de ti' were found:\n",
      "1: Thalia\n",
      "2: Joan Manuel Serrat\n",
      "3: Sergio Vargas\n",
      "4: Roberto Carlos\n",
      "5: Thalia\n",
      "6: Daniel Santacruz\n",
      "7: Various Artists\n",
      "8: Rio Carnaval\n",
      "9: Various Artists\n",
      "10: Dale Q' Va\n",
      "Please enter the NUMBER of the version you are looking for: 2\n",
      "que va a ser de ti was not in spotify_data database\n"
     ]
    },
    {
     "data": {
      "text/markdown": [
       "Based on your selection of '**Que va a ser de ti**', we recommend the song **'TOUS LES GARÇONS ET LES FILLES - SLOW'** by **'FRANÇOISE HARDY'**."
      ],
      "text/plain": [
       "<IPython.core.display.Markdown object>"
      ]
     },
     "metadata": {},
     "output_type": "display_data"
    }
   ],
   "source": [
    "song_searched = input()\n",
    "recommended_song, spotify_data = recommend_song(song_searched, spotify_data, topsongs)\n",
    "spotify_data.to_csv('spotify_data.csv', index=False)\n"
   ]
  },
  {
   "cell_type": "code",
   "execution_count": null,
   "id": "32e6da52",
   "metadata": {},
   "outputs": [],
   "source": []
  },
  {
   "cell_type": "code",
   "execution_count": 322,
   "id": "b469ea2d",
   "metadata": {},
   "outputs": [
    {
     "data": {
      "text/plain": [
       "(6805, 20)"
      ]
     },
     "execution_count": 322,
     "metadata": {},
     "output_type": "execute_result"
    }
   ],
   "source": [
    "spotify_data.shape"
   ]
  },
  {
   "cell_type": "code",
   "execution_count": 323,
   "id": "3cc8b68b",
   "metadata": {},
   "outputs": [
    {
     "data": {
      "text/html": [
       "<div>\n",
       "<style scoped>\n",
       "    .dataframe tbody tr th:only-of-type {\n",
       "        vertical-align: middle;\n",
       "    }\n",
       "\n",
       "    .dataframe tbody tr th {\n",
       "        vertical-align: top;\n",
       "    }\n",
       "\n",
       "    .dataframe thead th {\n",
       "        text-align: right;\n",
       "    }\n",
       "</style>\n",
       "<table border=\"1\" class=\"dataframe\">\n",
       "  <thead>\n",
       "    <tr style=\"text-align: right;\">\n",
       "      <th></th>\n",
       "      <th>title</th>\n",
       "      <th>artist</th>\n",
       "      <th>uri</th>\n",
       "      <th>danceability</th>\n",
       "      <th>energy</th>\n",
       "      <th>key</th>\n",
       "      <th>loudness</th>\n",
       "      <th>mode</th>\n",
       "      <th>speechiness</th>\n",
       "      <th>acousticness</th>\n",
       "      <th>instrumentalness</th>\n",
       "      <th>liveness</th>\n",
       "      <th>valence</th>\n",
       "      <th>tempo</th>\n",
       "      <th>type</th>\n",
       "      <th>id</th>\n",
       "      <th>track_href</th>\n",
       "      <th>analysis_url</th>\n",
       "      <th>duration_ms</th>\n",
       "      <th>time_signature</th>\n",
       "    </tr>\n",
       "  </thead>\n",
       "  <tbody>\n",
       "    <tr>\n",
       "      <th>6800</th>\n",
       "      <td>paraules d'amor</td>\n",
       "      <td>Joan Manuel Serrat</td>\n",
       "      <td>spotify:track:1J1VrZLr3FNKOMNBp0yCuH</td>\n",
       "      <td>0.275</td>\n",
       "      <td>0.334</td>\n",
       "      <td>0</td>\n",
       "      <td>-14.975</td>\n",
       "      <td>1</td>\n",
       "      <td>0.0396</td>\n",
       "      <td>0.5790</td>\n",
       "      <td>0.000384</td>\n",
       "      <td>0.989</td>\n",
       "      <td>0.257</td>\n",
       "      <td>79.248</td>\n",
       "      <td>audio_features</td>\n",
       "      <td>1J1VrZLr3FNKOMNBp0yCuH</td>\n",
       "      <td>https://api.spotify.com/v1/tracks/1J1VrZLr3FNK...</td>\n",
       "      <td>https://api.spotify.com/v1/audio-analysis/1J1V...</td>\n",
       "      <td>233560</td>\n",
       "      <td>4</td>\n",
       "    </tr>\n",
       "    <tr>\n",
       "      <th>6801</th>\n",
       "      <td>de vez en cuando la vida - en directo</td>\n",
       "      <td>Joan Manuel Serrat</td>\n",
       "      <td>spotify:track:6ZamvCT3Kc154A4amDloeI</td>\n",
       "      <td>0.544</td>\n",
       "      <td>0.390</td>\n",
       "      <td>9</td>\n",
       "      <td>-8.495</td>\n",
       "      <td>1</td>\n",
       "      <td>0.0606</td>\n",
       "      <td>0.8530</td>\n",
       "      <td>0.000000</td>\n",
       "      <td>0.397</td>\n",
       "      <td>0.166</td>\n",
       "      <td>83.941</td>\n",
       "      <td>audio_features</td>\n",
       "      <td>6ZamvCT3Kc154A4amDloeI</td>\n",
       "      <td>https://api.spotify.com/v1/tracks/6ZamvCT3Kc15...</td>\n",
       "      <td>https://api.spotify.com/v1/audio-analysis/6Zam...</td>\n",
       "      <td>195813</td>\n",
       "      <td>3</td>\n",
       "    </tr>\n",
       "    <tr>\n",
       "      <th>6802</th>\n",
       "      <td>de vez en cuando la vida</td>\n",
       "      <td>Joan Manuel Serrat</td>\n",
       "      <td>spotify:track:4GkEbCD0QcC2yn10cH4DSG</td>\n",
       "      <td>0.446</td>\n",
       "      <td>0.333</td>\n",
       "      <td>6</td>\n",
       "      <td>-7.707</td>\n",
       "      <td>0</td>\n",
       "      <td>0.0334</td>\n",
       "      <td>0.8440</td>\n",
       "      <td>0.000009</td>\n",
       "      <td>0.143</td>\n",
       "      <td>0.261</td>\n",
       "      <td>78.606</td>\n",
       "      <td>audio_features</td>\n",
       "      <td>4GkEbCD0QcC2yn10cH4DSG</td>\n",
       "      <td>https://api.spotify.com/v1/tracks/4GkEbCD0QcC2...</td>\n",
       "      <td>https://api.spotify.com/v1/audio-analysis/4GkE...</td>\n",
       "      <td>211627</td>\n",
       "      <td>1</td>\n",
       "    </tr>\n",
       "    <tr>\n",
       "      <th>6803</th>\n",
       "      <td>where do you go to (my lovely) - re-recorded</td>\n",
       "      <td>Peter Sarstedt</td>\n",
       "      <td>spotify:track:6M665tf7ZKQzUFA5yOrUE4</td>\n",
       "      <td>0.558</td>\n",
       "      <td>0.444</td>\n",
       "      <td>2</td>\n",
       "      <td>-7.549</td>\n",
       "      <td>0</td>\n",
       "      <td>0.0345</td>\n",
       "      <td>0.2860</td>\n",
       "      <td>0.000066</td>\n",
       "      <td>0.121</td>\n",
       "      <td>0.444</td>\n",
       "      <td>182.583</td>\n",
       "      <td>audio_features</td>\n",
       "      <td>6M665tf7ZKQzUFA5yOrUE4</td>\n",
       "      <td>https://api.spotify.com/v1/tracks/6M665tf7ZKQz...</td>\n",
       "      <td>https://api.spotify.com/v1/audio-analysis/6M66...</td>\n",
       "      <td>287720</td>\n",
       "      <td>3</td>\n",
       "    </tr>\n",
       "    <tr>\n",
       "      <th>6804</th>\n",
       "      <td>l’empordà</td>\n",
       "      <td>Sopa De Cabra</td>\n",
       "      <td>spotify:track:5d6mQgSMh3vetAfR0IbQKs</td>\n",
       "      <td>0.273</td>\n",
       "      <td>0.939</td>\n",
       "      <td>4</td>\n",
       "      <td>-6.911</td>\n",
       "      <td>1</td>\n",
       "      <td>0.0836</td>\n",
       "      <td>0.0243</td>\n",
       "      <td>0.002200</td>\n",
       "      <td>0.954</td>\n",
       "      <td>0.403</td>\n",
       "      <td>161.342</td>\n",
       "      <td>audio_features</td>\n",
       "      <td>5d6mQgSMh3vetAfR0IbQKs</td>\n",
       "      <td>https://api.spotify.com/v1/tracks/5d6mQgSMh3ve...</td>\n",
       "      <td>https://api.spotify.com/v1/audio-analysis/5d6m...</td>\n",
       "      <td>195048</td>\n",
       "      <td>4</td>\n",
       "    </tr>\n",
       "  </tbody>\n",
       "</table>\n",
       "</div>"
      ],
      "text/plain": [
       "                                             title              artist  \\\n",
       "6800                               paraules d'amor  Joan Manuel Serrat   \n",
       "6801         de vez en cuando la vida - en directo  Joan Manuel Serrat   \n",
       "6802                      de vez en cuando la vida  Joan Manuel Serrat   \n",
       "6803  where do you go to (my lovely) - re-recorded      Peter Sarstedt   \n",
       "6804                                     l’empordà       Sopa De Cabra   \n",
       "\n",
       "                                       uri  danceability  energy  key  \\\n",
       "6800  spotify:track:1J1VrZLr3FNKOMNBp0yCuH         0.275   0.334    0   \n",
       "6801  spotify:track:6ZamvCT3Kc154A4amDloeI         0.544   0.390    9   \n",
       "6802  spotify:track:4GkEbCD0QcC2yn10cH4DSG         0.446   0.333    6   \n",
       "6803  spotify:track:6M665tf7ZKQzUFA5yOrUE4         0.558   0.444    2   \n",
       "6804  spotify:track:5d6mQgSMh3vetAfR0IbQKs         0.273   0.939    4   \n",
       "\n",
       "      loudness  mode  speechiness  acousticness  instrumentalness  liveness  \\\n",
       "6800   -14.975     1       0.0396        0.5790          0.000384     0.989   \n",
       "6801    -8.495     1       0.0606        0.8530          0.000000     0.397   \n",
       "6802    -7.707     0       0.0334        0.8440          0.000009     0.143   \n",
       "6803    -7.549     0       0.0345        0.2860          0.000066     0.121   \n",
       "6804    -6.911     1       0.0836        0.0243          0.002200     0.954   \n",
       "\n",
       "      valence    tempo            type                      id  \\\n",
       "6800    0.257   79.248  audio_features  1J1VrZLr3FNKOMNBp0yCuH   \n",
       "6801    0.166   83.941  audio_features  6ZamvCT3Kc154A4amDloeI   \n",
       "6802    0.261   78.606  audio_features  4GkEbCD0QcC2yn10cH4DSG   \n",
       "6803    0.444  182.583  audio_features  6M665tf7ZKQzUFA5yOrUE4   \n",
       "6804    0.403  161.342  audio_features  5d6mQgSMh3vetAfR0IbQKs   \n",
       "\n",
       "                                             track_href  \\\n",
       "6800  https://api.spotify.com/v1/tracks/1J1VrZLr3FNK...   \n",
       "6801  https://api.spotify.com/v1/tracks/6ZamvCT3Kc15...   \n",
       "6802  https://api.spotify.com/v1/tracks/4GkEbCD0QcC2...   \n",
       "6803  https://api.spotify.com/v1/tracks/6M665tf7ZKQz...   \n",
       "6804  https://api.spotify.com/v1/tracks/5d6mQgSMh3ve...   \n",
       "\n",
       "                                           analysis_url  duration_ms  \\\n",
       "6800  https://api.spotify.com/v1/audio-analysis/1J1V...       233560   \n",
       "6801  https://api.spotify.com/v1/audio-analysis/6Zam...       195813   \n",
       "6802  https://api.spotify.com/v1/audio-analysis/4GkE...       211627   \n",
       "6803  https://api.spotify.com/v1/audio-analysis/6M66...       287720   \n",
       "6804  https://api.spotify.com/v1/audio-analysis/5d6m...       195048   \n",
       "\n",
       "      time_signature  \n",
       "6800               4  \n",
       "6801               3  \n",
       "6802               1  \n",
       "6803               3  \n",
       "6804               4  "
      ]
     },
     "execution_count": 323,
     "metadata": {},
     "output_type": "execute_result"
    }
   ],
   "source": [
    "spotify_data.tail(5)"
   ]
  },
  {
   "cell_type": "code",
   "execution_count": null,
   "id": "96118d0a",
   "metadata": {},
   "outputs": [],
   "source": []
  },
  {
   "cell_type": "code",
   "execution_count": null,
   "id": "0b3a0e7d",
   "metadata": {},
   "outputs": [],
   "source": []
  },
  {
   "cell_type": "code",
   "execution_count": null,
   "id": "951e765b",
   "metadata": {},
   "outputs": [],
   "source": []
  },
  {
   "cell_type": "markdown",
   "id": "77c05987",
   "metadata": {},
   "source": [
    "### Trying Random and similar"
   ]
  },
  {
   "cell_type": "code",
   "execution_count": 367,
   "id": "3f0589c9",
   "metadata": {},
   "outputs": [],
   "source": [
    "def recommend_song(song_searched, spotify_data, topsongs):\n",
    "    \"\"\"\n",
    "    This function takes in a song name and a dataframe spotify_data.\n",
    "    It first checks if the song is in topsongs, and if so, recommends a song from topsongs.\n",
    "    If the song is not in spotify_data, the function uses Spotipy to search for the song \n",
    "    and gather information about it.\n",
    "    If the song is in spotify_data or its information has already been collected,\n",
    "    the function creates clusters to recommend a song from the same cluster\n",
    "    as the selected song..\n",
    "    \"\"\"\n",
    "    song_searched = song_searched.lower().strip()\n",
    "\n",
    "    # Check if the song is in top songs:\n",
    "    if song_searched in topsongs['title'].str.lower().str.strip().values:\n",
    "        recommended_song = topsongs.loc[topsongs['title'].str.lower().str.strip() != song_searched].sample(n=1)\n",
    "        display(Markdown(f\"Based on your selection of '**{song_searched.capitalize()}**', we recommend the *hot* song '**{recommended_song['title'].iloc[0]}**' by **{recommended_song['artist'].iloc[0]}**.\"))\n",
    "        return recommended_song#, spotify_data\n",
    "    \n",
    "    # Nested get_song_from_spotify function:\n",
    "    spotify_data = get_song_from_spotify(song_searched, spotify_data)\n",
    "\n",
    "    X_features = spotify_data.select_dtypes(np.number)\n",
    "\n",
    "    # Scaling Data\n",
    "    scaler = StandardScaler()\n",
    "    X_prep = scaler.fit_transform(X_features)\n",
    "\n",
    "    # KMeans : 8 clusters\n",
    "    kmeans = KMeans(n_clusters=8, random_state=1234)\n",
    "    kmeans.fit(X_prep)\n",
    "\n",
    "    # Finding the index of the selected song:\n",
    "    spotify_data['title'] = spotify_data['title'].str.lower().str.strip()\n",
    "    song_index = spotify_data.index[spotify_data['title'] == song_searched]\n",
    "    \n",
    "    if len(song_index) == 0:\n",
    "        print(f\"No matching song found for {song_searched}\")\n",
    "        return None, spotify_data\n",
    "    \n",
    "    song_index = song_index[0]\n",
    "\n",
    "    # Predicting cluster for the selected song:\n",
    "    song_cluster = kmeans.predict(X_prep[song_index].reshape(1, -1))[0]\n",
    "\n",
    "    # Selecting a random song from the same cluster:\n",
    "    cluster_songs = spotify_data[kmeans.labels_ == song_cluster]\n",
    "    recommended_song = cluster_songs.sample(n=1)\n",
    "    \n",
    "    # Finding most similar song based on cosine similarity:\n",
    "    X_searched = X_prep[song_index].reshape(1, -1)\n",
    "    similarities = cosine_similarity(X_searched, X_prep)\n",
    "    sim_indices = similarities.argsort()[0][::-1][1:]\n",
    "    sim_cluster_songs = spotify_data.iloc[sim_indices][kmeans.labels_[sim_indices] == song_cluster]\n",
    "    similar_song = sim_cluster_songs.iloc[0]\n",
    "\n",
    "    # Print both recommendations:\n",
    "    display(Markdown(f\"The most similar song to '**{song_searched.capitalize()}**' is:\\n\\n**'{similar_song['title'].upper()}'** by **'{similar_song['artist'].upper()}'**.\")) \n",
    "    display(Markdown(f\"If you're a fan of '**{song_searched.capitalize()}**', you might like:\\n\\n**'{recommended_song['title'].iloc[0].upper()}'** by **'{recommended_song['artist'].iloc[0].upper()}'**.\\n\\nIt may not be the most similar, but who knows? You might discover your new favorite song!\"))\n",
    "        \n",
    "    \n",
    "    \n",
    "    # Print recommendation:    \n",
    "    #display(Markdown(f\"Based on your selection of '**{song_searched.capitalize()}**', we recommend the song **'{recommended_song['title'].iloc[0].upper()}'** by **'{recommended_song['artist'].iloc[0].upper()}'**.\"))\n",
    "\n",
    "    return recommended_song, spotify_data\n"
   ]
  },
  {
   "cell_type": "code",
   "execution_count": 368,
   "id": "566f1ee2",
   "metadata": {},
   "outputs": [
    {
     "name": "stdout",
     "output_type": "stream",
     "text": [
      "que va a ser de ti\n",
      "que va a ser de ti was already in spotify_data database\n"
     ]
    },
    {
     "data": {
      "text/markdown": [
       "The most similar song to '**Que va a ser de ti**' is:\n",
       "\n",
       "**'CALYPSO'** by **'JOHN DENVER'**."
      ],
      "text/plain": [
       "<IPython.core.display.Markdown object>"
      ]
     },
     "metadata": {},
     "output_type": "display_data"
    },
    {
     "data": {
      "text/markdown": [
       "If you're a fan of '**Que va a ser de ti**', you might like:\n",
       "\n",
       "**'SWING YOUR DADDY'** by **'JIM GILSTRAP'**.\n",
       "\n",
       "It may not be the most similar, but who knows? You might discover your new favorite song!"
      ],
      "text/plain": [
       "<IPython.core.display.Markdown object>"
      ]
     },
     "metadata": {},
     "output_type": "display_data"
    }
   ],
   "source": [
    "song_searched = input()\n",
    "recommend_song(song_searched, spotify_data, topsongs)\n",
    "spotify_data.to_csv('spotify_data.csv', index=False)\n"
   ]
  },
  {
   "cell_type": "code",
   "execution_count": null,
   "id": "e16dbe24",
   "metadata": {},
   "outputs": [],
   "source": []
  },
  {
   "cell_type": "code",
   "execution_count": null,
   "id": "1155c947",
   "metadata": {},
   "outputs": [],
   "source": []
  },
  {
   "cell_type": "code",
   "execution_count": null,
   "id": "4e7755c2",
   "metadata": {},
   "outputs": [],
   "source": []
  },
  {
   "cell_type": "markdown",
   "id": "d18bc36a",
   "metadata": {},
   "source": [
    "# Trying with URL"
   ]
  },
  {
   "cell_type": "code",
   "execution_count": 377,
   "id": "045ea13f",
   "metadata": {},
   "outputs": [],
   "source": [
    "from youtubesearchpython import VideosSearch\n",
    "\n",
    "def recommend_song(song_searched, spotify_data, topsongs):\n",
    "    \"\"\"\n",
    "    This function takes in a song name and a dataframe spotify_data.\n",
    "    It first checks if the song is in topsongs, and if so, recommends a song from topsongs.\n",
    "    If the song is not in spotify_data, the function uses Spotipy to search for the song \n",
    "    and gather information about it.\n",
    "    If the song is in spotify_data or its information has already been collected,\n",
    "    the function creates clusters to recommend a song from the same cluster\n",
    "    as the selected song.\n",
    "    \"\"\"\n",
    "    song_searched = song_searched.lower().strip()\n",
    "\n",
    "    # Check if the song is in top songs:\n",
    "    if song_searched in topsongs['title'].str.lower().str.strip().values:\n",
    "        recommended_song = topsongs.loc[topsongs['title'].str.lower().str.strip() != song_searched].sample(n=1)\n",
    "        display(Markdown(f\"Based on your selection of '**{song_searched.capitalize()}**', we recommend the *hot* song '**{recommended_song['title'].iloc[0]}**' by **{recommended_song['artist'].iloc[0]}**.\"))\n",
    "        return recommended_song, spotify_data\n",
    "    \n",
    "    # Nested get_song_from_spotify function:\n",
    "    spotify_data = get_song_from_spotify(song_searched, spotify_data)\n",
    "\n",
    "    X_features = spotify_data.select_dtypes(np.number)\n",
    "\n",
    "    # Scaling Data\n",
    "    scaler = StandardScaler()\n",
    "    X_prep = scaler.fit_transform(X_features)\n",
    "\n",
    "    # KMeans : 8 clusters\n",
    "    kmeans = KMeans(n_clusters=8, random_state=1234)\n",
    "    kmeans.fit(X_prep)\n",
    "\n",
    "    # Finding the index of the selected song:\n",
    "    spotify_data['title'] = spotify_data['title'].str.lower().str.strip()\n",
    "    song_index = spotify_data.index[spotify_data['title'] == song_searched]\n",
    "    \n",
    "    if len(song_index) == 0:\n",
    "        print(f\"No matching song found for {song_searched}\")\n",
    "        return None, spotify_data\n",
    "    \n",
    "    song_index = song_index[0]\n",
    "\n",
    "    # Predicting cluster for the selected song:\n",
    "    song_cluster = kmeans.predict(X_prep[song_index].reshape(1, -1))[0]\n",
    "\n",
    "    # Selecting a random song from the same cluster:\n",
    "    cluster_songs = spotify_data[kmeans.labels_ == song_cluster]\n",
    "    recommended_song = cluster_songs.sample(n=1)\n",
    "    \n",
    "    # Finding most similar song based on cosine similarity:\n",
    "    X_searched = X_prep[song_index].reshape(1, -1)\n",
    "    similarities = cosine_similarity(X_searched, X_prep)\n",
    "    sim_indices = similarities.argsort()[0][::-1][1:]\n",
    "    sim_cluster_songs = spotify_data.iloc[sim_indices][kmeans.labels_[sim_indices] == song_cluster]\n",
    "    similar_song = sim_cluster_songs.iloc[0]\n",
    "\n",
    "    # Get YouTube links for both recommended songs\n",
    "    search_results = VideosSearch(f\"{similar_song['title']} {similar_song['artist']}\", limit=1).result()[\"result\"]\n",
    "    similar_song_url = search_results[0][\"link\"]\n",
    "    search_results = VideosSearch(f\"{recommended_song['title'].iloc[0]} {recommended_song['artist'].iloc[0]}\", limit=1).result()[\"result\"]\n",
    "    recommended_song_url = search_results[0][\"link\"]\n",
    "\n",
    "    # Print both recommendations and their URLs\n",
    "    display(Markdown(f\"The most similar song to '**{song_searched.capitalize()}**' is:\\n\\n**'{similar_song['title'].upper()}'** by **'{similar_song['artist'].upper()}'**.\"))\n",
    "    display(Markdown(f\"URL: {similar_song_url}\"))\n",
    "    #display(Markdown(f\"[**URL**]({similar_song_url})\\n\"))\n",
    "\n",
    "    display(Markdown(f\"If you're a fan of '**{song_searched.capitalize()}**', you might like:\\n\\n**'{recommended_song['title'].iloc[0].upper()}'** by **'{recommended_song['artist'].iloc[0].upper()}'**.\\n\\nIt may not be the most similar, but who knows? You might discover your new favorite song!\"))\n",
    "    display(Markdown(f\"URL: {recommended_song_url}\"))\n",
    "    #display(Markdown(f\"[**URL**]({recommended_song_url})\\n\"))"
   ]
  },
  {
   "cell_type": "code",
   "execution_count": 378,
   "id": "bc8da69b",
   "metadata": {},
   "outputs": [
    {
     "name": "stdout",
     "output_type": "stream",
     "text": [
      "que va a ser de ti\n",
      "que va a ser de ti was already in spotify_data database\n"
     ]
    },
    {
     "data": {
      "text/markdown": [
       "The most similar song to '**Que va a ser de ti**' is:\n",
       "\n",
       "**'CALYPSO'** by **'JOHN DENVER'**."
      ],
      "text/plain": [
       "<IPython.core.display.Markdown object>"
      ]
     },
     "metadata": {},
     "output_type": "display_data"
    },
    {
     "data": {
      "text/markdown": [
       "URL: https://www.youtube.com/watch?v=q3EE83q6tzw"
      ],
      "text/plain": [
       "<IPython.core.display.Markdown object>"
      ]
     },
     "metadata": {},
     "output_type": "display_data"
    },
    {
     "data": {
      "text/markdown": [
       "If you're a fan of '**Que va a ser de ti**', you might like:\n",
       "\n",
       "**'NIGHTPORTER - REMASTERED 2003'** by **'JAPAN'**.\n",
       "\n",
       "It may not be the most similar, but who knows? You might discover your new favorite song!"
      ],
      "text/plain": [
       "<IPython.core.display.Markdown object>"
      ]
     },
     "metadata": {},
     "output_type": "display_data"
    },
    {
     "data": {
      "text/markdown": [
       "URL: https://www.youtube.com/watch?v=gYs8SWr9GA8"
      ],
      "text/plain": [
       "<IPython.core.display.Markdown object>"
      ]
     },
     "metadata": {},
     "output_type": "display_data"
    }
   ],
   "source": [
    "song_searched = input()\n",
    "recommend_song(song_searched, spotify_data, topsongs)\n",
    "spotify_data.to_csv('spotify_data.csv', index=False)\n"
   ]
  },
  {
   "cell_type": "code",
   "execution_count": null,
   "id": "dccda151",
   "metadata": {},
   "outputs": [],
   "source": []
  },
  {
   "cell_type": "code",
   "execution_count": 369,
   "id": "cd7be222",
   "metadata": {},
   "outputs": [
    {
     "ename": "NameError",
     "evalue": "name 'similar_song' is not defined",
     "output_type": "error",
     "traceback": [
      "\u001b[0;31m---------------------------------------------------------------------------\u001b[0m",
      "\u001b[0;31mNameError\u001b[0m                                 Traceback (most recent call last)",
      "\u001b[0;32m/var/folders/w7/7cfd14hn02g0d126w5q47rqw0000gn/T/ipykernel_827/3550596836.py\u001b[0m in \u001b[0;36m<module>\u001b[0;34m\u001b[0m\n\u001b[1;32m      2\u001b[0m \u001b[0;34m\u001b[0m\u001b[0m\n\u001b[1;32m      3\u001b[0m \u001b[0;31m# Search for the most similar song\u001b[0m\u001b[0;34m\u001b[0m\u001b[0;34m\u001b[0m\u001b[0m\n\u001b[0;32m----> 4\u001b[0;31m \u001b[0msearch_results\u001b[0m \u001b[0;34m=\u001b[0m \u001b[0mVideosSearch\u001b[0m\u001b[0;34m(\u001b[0m\u001b[0;34mf\"{similar_song['title']} {similar_song['artist']}\"\u001b[0m\u001b[0;34m,\u001b[0m \u001b[0mlimit\u001b[0m\u001b[0;34m=\u001b[0m\u001b[0;36m1\u001b[0m\u001b[0;34m)\u001b[0m\u001b[0;34m.\u001b[0m\u001b[0mresult\u001b[0m\u001b[0;34m(\u001b[0m\u001b[0;34m)\u001b[0m\u001b[0;34m[\u001b[0m\u001b[0;34m\"result\"\u001b[0m\u001b[0;34m]\u001b[0m\u001b[0;34m\u001b[0m\u001b[0;34m\u001b[0m\u001b[0m\n\u001b[0m\u001b[1;32m      5\u001b[0m \u001b[0;34m\u001b[0m\u001b[0m\n\u001b[1;32m      6\u001b[0m \u001b[0;31m# Get the video URL\u001b[0m\u001b[0;34m\u001b[0m\u001b[0;34m\u001b[0m\u001b[0m\n",
      "\u001b[0;31mNameError\u001b[0m: name 'similar_song' is not defined"
     ]
    }
   ],
   "source": [
    "from youtubesearchpython import VideosSearch\n",
    "\n",
    "# Search for the most similar song\n",
    "search_results = VideosSearch(f\"{similar_song['title']} {similar_song['artist']}\", limit=1).result()[\"result\"]\n",
    "\n",
    "# Get the video URL\n",
    "similar_song_url = search_results[0][\"link\"]\n",
    "\n",
    "# Print the video URL\n",
    "print(similar_song_url)\n",
    "\n",
    "# Search for the recommended song\n",
    "search_results = VideosSearch(f\"{recommended_song['title'].iloc[0]} {recommended_song['artist'].iloc[0]}\", limit=1).result()[\"result\"]\n",
    "\n",
    "# Get the video URL\n",
    "recommended_song_url = search_results[0][\"link\"]\n",
    "\n",
    "# Print the video URL\n",
    "print(recommended_song_url)"
   ]
  },
  {
   "cell_type": "code",
   "execution_count": null,
   "id": "5d4c0c79",
   "metadata": {},
   "outputs": [],
   "source": []
  },
  {
   "cell_type": "code",
   "execution_count": null,
   "id": "79101fea",
   "metadata": {},
   "outputs": [],
   "source": []
  },
  {
   "cell_type": "code",
   "execution_count": null,
   "id": "c17a2fe4",
   "metadata": {},
   "outputs": [],
   "source": []
  },
  {
   "cell_type": "code",
   "execution_count": null,
   "id": "e24c9688",
   "metadata": {},
   "outputs": [],
   "source": []
  },
  {
   "cell_type": "code",
   "execution_count": null,
   "id": "cadd3330",
   "metadata": {},
   "outputs": [],
   "source": []
  }
 ],
 "metadata": {
  "kernelspec": {
   "display_name": "Python 3 (ipykernel)",
   "language": "python",
   "name": "python3"
  },
  "language_info": {
   "codemirror_mode": {
    "name": "ipython",
    "version": 3
   },
   "file_extension": ".py",
   "mimetype": "text/x-python",
   "name": "python",
   "nbconvert_exporter": "python",
   "pygments_lexer": "ipython3",
   "version": "3.9.13"
  }
 },
 "nbformat": 4,
 "nbformat_minor": 5
}
