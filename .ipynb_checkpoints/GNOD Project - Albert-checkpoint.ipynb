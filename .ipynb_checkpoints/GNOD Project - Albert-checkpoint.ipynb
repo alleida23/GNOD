{
 "cells": [
  {
   "cell_type": "markdown",
   "id": "3b17bb77",
   "metadata": {},
   "source": [
    "## GNOD 1\n"
   ]
  },
  {
   "cell_type": "markdown",
   "id": "b99a673d",
   "metadata": {},
   "source": [
    "### Lab | Web Scraping Single Page"
   ]
  },
  {
   "cell_type": "markdown",
   "id": "7f094031",
   "metadata": {},
   "source": [
    "#### Business goal:\n",
    "Check the case_study_gnod.md file.\n",
    "\n",
    "Make sure you've understood the big picture of your project:\n",
    "\n",
    "- the goal of the company (Gnod),\n",
    "- their current product (Gnoosic),\n",
    "- their strategy, and\n",
    "- how your project fits into this context.\n",
    "\n",
    "Re-read the business case and the e-mail from the CTO, take a look at the flowchart and create an initial Trello board with the tasks you think you'll have to accomplish.\n",
    "\n",
    "\n",
    "\n",
    "\n",
    "\n",
    "#### Instructions - Scraping popular songs\n",
    "Your product will take a song as an input from the user and will output another song (the recommendation). In most cases, the recommended song will have to be similar to the inputted song, but the CTO thinks that if the song is on the top charts at the moment, the user will enjoy more a recommendation of a song that's also popular at the moment.\n",
    "\n",
    "You have find data on the internet about currently popular songs. Billboard maintains a weekly Top 100 of \"hot\" songs here: https://www.billboard.com/charts/hot-100.\n",
    "\n",
    "It's a good place to start! Scrape the current top 100 songs and their respective artists, and put the information into a pandas dataframe.\n",
    "\n",
    "\n",
    "\n",
    "\n",
    "--> popvortex.com/music/charts/top-100-songs.php"
   ]
  },
  {
   "cell_type": "code",
   "execution_count": 1,
   "id": "de202e49",
   "metadata": {},
   "outputs": [],
   "source": [
    "# Libraries\n",
    "import pandas as pd\n",
    "import requests\n",
    "from bs4 import BeautifulSoup\n",
    "import time\n",
    "import random\n"
   ]
  },
  {
   "cell_type": "code",
   "execution_count": 2,
   "id": "098c8ecb",
   "metadata": {},
   "outputs": [],
   "source": [
    "url = 'https://www.popvortex.com/music/charts/top-100-songs.php'\n",
    "response = requests.get(url)\n",
    "soup = BeautifulSoup(response.content, 'html.parser')"
   ]
  },
  {
   "cell_type": "code",
   "execution_count": 3,
   "id": "8ce12eab",
   "metadata": {},
   "outputs": [
    {
     "data": {
      "text/plain": [
       "200"
      ]
     },
     "metadata": {},
     "output_type": "display_data"
    }
   ],
   "source": [
    "display(response.status_code)\n",
    "#soup"
   ]
  },
  {
   "cell_type": "code",
   "execution_count": 4,
   "id": "18b4f76d",
   "metadata": {},
   "outputs": [],
   "source": [
    "# Artist Name // #chart-position-1 > div.chart-content.col-xs-12.col-sm-8 > p > em\n",
    "\n",
    "# Song title // #chart-position-1 > div.chart-content.col-xs-12.col-sm-8 > p > cite\n",
    "\n",
    "# genre // #chart-position-1 > div.chart-content.col-xs-12.col-sm-8 > ul > li:nth-child(2) > a\n",
    "\n",
    "# release date // #chart-position-1 > div.chart-content.col-xs-12.col-sm-8 > ul > li:nth-child(3)"
   ]
  },
  {
   "cell_type": "code",
   "execution_count": 5,
   "id": "250fd937",
   "metadata": {},
   "outputs": [],
   "source": [
    "#soup.select(\"p\")"
   ]
  },
  {
   "cell_type": "code",
   "execution_count": 6,
   "id": "e75b1af9",
   "metadata": {},
   "outputs": [
    {
     "data": {
      "text/plain": [
       "[<cite class=\"title\">Last Night</cite>,\n",
       " <cite class=\"title\">Flowers</cite>,\n",
       " <cite class=\"title\">Fast Car</cite>,\n",
       " <cite class=\"title\">Like Crazy (Deep House Remix)</cite>,\n",
       " <cite class=\"title\">Like Crazy (UK Garage Remix)</cite>,\n",
       " <cite class=\"title\">Calm Down</cite>,\n",
       " <cite class=\"title\">Anti-Hero</cite>,\n",
       " <cite class=\"title\">Like Crazy (Instrumental)</cite>,\n",
       " <cite class=\"title\">Heart Like A Truck</cite>,\n",
       " <cite class=\"title\">Eyes Closed</cite>]"
      ]
     },
     "execution_count": 6,
     "metadata": {},
     "output_type": "execute_result"
    }
   ],
   "source": [
    "soup.select(\"p cite\")[0:10]"
   ]
  },
  {
   "cell_type": "code",
   "execution_count": 7,
   "id": "49164f1f",
   "metadata": {},
   "outputs": [
    {
     "data": {
      "text/plain": [
       "[<em class=\"artist\">Morgan Wallen</em>,\n",
       " <em class=\"artist\">Miley Cyrus</em>,\n",
       " <em class=\"artist\">Luke Combs</em>,\n",
       " <em class=\"artist\">Jimin</em>,\n",
       " <em class=\"artist\">Jimin</em>,\n",
       " <em class=\"artist\">Rema &amp; Selena Gomez</em>,\n",
       " <em class=\"artist\">Taylor Swift</em>,\n",
       " <em class=\"artist\">Jimin</em>,\n",
       " <em class=\"artist\">Lainey Wilson</em>,\n",
       " <em class=\"artist\">Ed Sheeran</em>]"
      ]
     },
     "execution_count": 7,
     "metadata": {},
     "output_type": "execute_result"
    }
   ],
   "source": [
    "soup.select(\"p em\")[0:10]"
   ]
  },
  {
   "cell_type": "code",
   "execution_count": 8,
   "id": "ac72c354",
   "metadata": {},
   "outputs": [
    {
     "data": {
      "text/plain": [
       "[<a href=\"/music/charts/top-country-songs.php\">Country</a>,\n",
       " <a href=\"/music/charts/top-kpop-songs.php\">K-Pop</a>,\n",
       " <a href=\"/music/charts/top-kpop-songs.php\">K-Pop</a>,\n",
       " <a href=\"/music/charts/top-kpop-songs.php\">K-Pop</a>,\n",
       " <a href=\"/music/charts/top-pop-songs.php\">Pop</a>,\n",
       " <a href=\"/music/charts/top-kpop-songs.php\">K-Pop</a>,\n",
       " <a href=\"/music/charts/top-kpop-songs.php\">K-Pop</a>,\n",
       " <a href=\"/music/charts/top-alternative-songs.php\">Alternative</a>,\n",
       " <a href=\"/music/charts/top-alternative-songs.php\">Alternative</a>,\n",
       " <a href=\"/music/charts/top-pop-songs.php\">Pop</a>]"
      ]
     },
     "execution_count": 8,
     "metadata": {},
     "output_type": "execute_result"
    }
   ],
   "source": [
    "soup.select(\"div.chart-content.col-xs-12.col-sm-8 > ul > li:nth-child(2) > a\")[0:10]"
   ]
  },
  {
   "cell_type": "code",
   "execution_count": 9,
   "id": "859fe929",
   "metadata": {},
   "outputs": [
    {
     "data": {
      "text/plain": [
       "[<li class=\"billboard-chart billboard-number-one\">The current #1 hit song  in the U.S. on the <cite><a href=\"http://www.billboard.com/charts/hot-100\" rel=\"noopener\" target=\"_blank\">Billboard Hot 100</a></cite> chart.<br/>2 weeks at #1.</li>,\n",
       " <li><strong>Release Date</strong>: March 24, 2023</li>,\n",
       " <li><strong>Release Date</strong>: March 26, 2023</li>,\n",
       " <li><strong>Release Date</strong>: March 26, 2023</li>,\n",
       " <li class=\"billboard-chart\">Former #1 song on the <cite>Billboard Hot 100</cite> chart.</li>,\n",
       " <li><strong>Release Date</strong>: March 26, 2023</li>,\n",
       " <li><strong>Release Date</strong>: March 24, 2023</li>,\n",
       " <li><strong>Release Date</strong>: March 24, 2023</li>,\n",
       " <li><strong>Release Date</strong>: March 24, 2023</li>,\n",
       " <li><strong>Release Date</strong>: </li>]"
      ]
     },
     "execution_count": 9,
     "metadata": {},
     "output_type": "execute_result"
    }
   ],
   "source": [
    "soup.select (\"div.chart-content.col-xs-12.col-sm-8 > ul > li:nth-child(3)\")[0:10]"
   ]
  },
  {
   "cell_type": "code",
   "execution_count": 10,
   "id": "0779bc38",
   "metadata": {},
   "outputs": [
    {
     "name": "stdout",
     "output_type": "stream",
     "text": [
      "['Last Night', 'Flowers', 'Fast Car', 'Like Crazy (Deep House Remix)', 'Like Crazy (UK Garage Remix)', 'Calm Down', 'Anti-Hero', 'Like Crazy (Instrumental)', 'Heart Like A Truck', 'Eyes Closed']\n",
      "['Morgan Wallen', 'Miley Cyrus', 'Luke Combs', 'Jimin', 'Jimin', 'Rema & Selena Gomez', 'Taylor Swift', 'Jimin', 'Lainey Wilson', 'Ed Sheeran']\n",
      "100\n",
      "100\n"
     ]
    }
   ],
   "source": [
    "#Empty Lists\n",
    "title = []\n",
    "artist = []\n",
    "\n",
    "# Iterations\n",
    "num_iter = len(soup.select(\"p cite\"))\n",
    "\n",
    "title_song = soup.select(\"p cite\")\n",
    "artist_song = soup.select(\"p em\")\n",
    "\n",
    "for i in range(num_iter):\n",
    "    title.append(title_song[i].get_text())\n",
    "    artist.append(artist_song[i].get_text())\n",
    "    \n",
    "print(title[0:10])\n",
    "print(artist[0:10])\n",
    "\n",
    "\n",
    "#\n",
    "\n",
    "print(len(title))\n",
    "print(len(artist))\n",
    "#print(len(genre))\n",
    "#print(len(release_date))"
   ]
  },
  {
   "cell_type": "code",
   "execution_count": 11,
   "id": "bd852aa8",
   "metadata": {},
   "outputs": [],
   "source": [
    "# Columns of a dataframe\n",
    "topsongs = pd.DataFrame({\"title\":title,\n",
    "                       \"artist\":artist})"
   ]
  },
  {
   "cell_type": "code",
   "execution_count": 12,
   "id": "f9ee72b3",
   "metadata": {},
   "outputs": [
    {
     "data": {
      "text/html": [
       "<div>\n",
       "<style scoped>\n",
       "    .dataframe tbody tr th:only-of-type {\n",
       "        vertical-align: middle;\n",
       "    }\n",
       "\n",
       "    .dataframe tbody tr th {\n",
       "        vertical-align: top;\n",
       "    }\n",
       "\n",
       "    .dataframe thead th {\n",
       "        text-align: right;\n",
       "    }\n",
       "</style>\n",
       "<table border=\"1\" class=\"dataframe\">\n",
       "  <thead>\n",
       "    <tr style=\"text-align: right;\">\n",
       "      <th></th>\n",
       "      <th>title</th>\n",
       "      <th>artist</th>\n",
       "    </tr>\n",
       "  </thead>\n",
       "  <tbody>\n",
       "    <tr>\n",
       "      <th>0</th>\n",
       "      <td>Last Night</td>\n",
       "      <td>Morgan Wallen</td>\n",
       "    </tr>\n",
       "    <tr>\n",
       "      <th>1</th>\n",
       "      <td>Flowers</td>\n",
       "      <td>Miley Cyrus</td>\n",
       "    </tr>\n",
       "    <tr>\n",
       "      <th>2</th>\n",
       "      <td>Fast Car</td>\n",
       "      <td>Luke Combs</td>\n",
       "    </tr>\n",
       "    <tr>\n",
       "      <th>3</th>\n",
       "      <td>Like Crazy (Deep House Remix)</td>\n",
       "      <td>Jimin</td>\n",
       "    </tr>\n",
       "    <tr>\n",
       "      <th>4</th>\n",
       "      <td>Like Crazy (UK Garage Remix)</td>\n",
       "      <td>Jimin</td>\n",
       "    </tr>\n",
       "    <tr>\n",
       "      <th>5</th>\n",
       "      <td>Calm Down</td>\n",
       "      <td>Rema &amp; Selena Gomez</td>\n",
       "    </tr>\n",
       "    <tr>\n",
       "      <th>6</th>\n",
       "      <td>Anti-Hero</td>\n",
       "      <td>Taylor Swift</td>\n",
       "    </tr>\n",
       "    <tr>\n",
       "      <th>7</th>\n",
       "      <td>Like Crazy (Instrumental)</td>\n",
       "      <td>Jimin</td>\n",
       "    </tr>\n",
       "    <tr>\n",
       "      <th>8</th>\n",
       "      <td>Heart Like A Truck</td>\n",
       "      <td>Lainey Wilson</td>\n",
       "    </tr>\n",
       "    <tr>\n",
       "      <th>9</th>\n",
       "      <td>Eyes Closed</td>\n",
       "      <td>Ed Sheeran</td>\n",
       "    </tr>\n",
       "    <tr>\n",
       "      <th>10</th>\n",
       "      <td>You Say</td>\n",
       "      <td>Lauren Daigle</td>\n",
       "    </tr>\n",
       "    <tr>\n",
       "      <th>11</th>\n",
       "      <td>Players</td>\n",
       "      <td>Coi Leray</td>\n",
       "    </tr>\n",
       "    <tr>\n",
       "      <th>12</th>\n",
       "      <td>Like Crazy (English Version)</td>\n",
       "      <td>Jimin</td>\n",
       "    </tr>\n",
       "    <tr>\n",
       "      <th>13</th>\n",
       "      <td>Thought You Should Know</td>\n",
       "      <td>Morgan Wallen</td>\n",
       "    </tr>\n",
       "    <tr>\n",
       "      <th>14</th>\n",
       "      <td>Thinkin’ Bout Me</td>\n",
       "      <td>Morgan Wallen</td>\n",
       "    </tr>\n",
       "    <tr>\n",
       "      <th>15</th>\n",
       "      <td>Like Crazy</td>\n",
       "      <td>Jimin</td>\n",
       "    </tr>\n",
       "    <tr>\n",
       "      <th>16</th>\n",
       "      <td>Thank God</td>\n",
       "      <td>Kane Brown &amp; Katelyn Brown</td>\n",
       "    </tr>\n",
       "    <tr>\n",
       "      <th>17</th>\n",
       "      <td>Thank God I Do</td>\n",
       "      <td>Lauren Daigle</td>\n",
       "    </tr>\n",
       "    <tr>\n",
       "      <th>18</th>\n",
       "      <td>Fighting Myself</td>\n",
       "      <td>LINKIN PARK</td>\n",
       "    </tr>\n",
       "    <tr>\n",
       "      <th>19</th>\n",
       "      <td>TRUSTFALL</td>\n",
       "      <td>P!nk</td>\n",
       "    </tr>\n",
       "  </tbody>\n",
       "</table>\n",
       "</div>"
      ],
      "text/plain": [
       "                            title                      artist\n",
       "0                      Last Night               Morgan Wallen\n",
       "1                         Flowers                 Miley Cyrus\n",
       "2                        Fast Car                  Luke Combs\n",
       "3   Like Crazy (Deep House Remix)                       Jimin\n",
       "4    Like Crazy (UK Garage Remix)                       Jimin\n",
       "5                       Calm Down         Rema & Selena Gomez\n",
       "6                       Anti-Hero                Taylor Swift\n",
       "7       Like Crazy (Instrumental)                       Jimin\n",
       "8              Heart Like A Truck               Lainey Wilson\n",
       "9                     Eyes Closed                  Ed Sheeran\n",
       "10                        You Say               Lauren Daigle\n",
       "11                        Players                   Coi Leray\n",
       "12   Like Crazy (English Version)                       Jimin\n",
       "13        Thought You Should Know               Morgan Wallen\n",
       "14               Thinkin’ Bout Me               Morgan Wallen\n",
       "15                     Like Crazy                       Jimin\n",
       "16                      Thank God  Kane Brown & Katelyn Brown\n",
       "17                 Thank God I Do               Lauren Daigle\n",
       "18                Fighting Myself                 LINKIN PARK\n",
       "19                      TRUSTFALL                        P!nk"
      ]
     },
     "metadata": {},
     "output_type": "display_data"
    },
    {
     "data": {
      "text/plain": [
       "100"
      ]
     },
     "metadata": {},
     "output_type": "display_data"
    }
   ],
   "source": [
    "display(topsongs.head(20), len(topsongs))"
   ]
  },
  {
   "cell_type": "code",
   "execution_count": null,
   "id": "392b69ce",
   "metadata": {},
   "outputs": [],
   "source": []
  },
  {
   "cell_type": "markdown",
   "id": "b5af80ac",
   "metadata": {},
   "source": [
    "## GNOD 2"
   ]
  },
  {
   "cell_type": "markdown",
   "id": "20099447",
   "metadata": {},
   "source": [
    "The first steps you took yesterday, were to create a list of Top Songs and Artists from scraping web sites.\n",
    "\n",
    "\n",
    "You should have ended with your lists in a data frame containing at least Song Title and Artist.\n",
    "\n",
    "\n",
    "Today you are creating a recommender where the user inputs a song title and check if that song is in the list you created.   If it is,  give a different random song and artist from the list.  If it is not on the list, let the user know that you have no recommendation at this time.\n"
   ]
  },
  {
   "cell_type": "code",
   "execution_count": 13,
   "id": "49f56082",
   "metadata": {},
   "outputs": [
    {
     "data": {
      "text/html": [
       "<div>\n",
       "<style scoped>\n",
       "    .dataframe tbody tr th:only-of-type {\n",
       "        vertical-align: middle;\n",
       "    }\n",
       "\n",
       "    .dataframe tbody tr th {\n",
       "        vertical-align: top;\n",
       "    }\n",
       "\n",
       "    .dataframe thead th {\n",
       "        text-align: right;\n",
       "    }\n",
       "</style>\n",
       "<table border=\"1\" class=\"dataframe\">\n",
       "  <thead>\n",
       "    <tr style=\"text-align: right;\">\n",
       "      <th></th>\n",
       "      <th>title</th>\n",
       "      <th>artist</th>\n",
       "    </tr>\n",
       "  </thead>\n",
       "  <tbody>\n",
       "    <tr>\n",
       "      <th>0</th>\n",
       "      <td>Last Night</td>\n",
       "      <td>Morgan Wallen</td>\n",
       "    </tr>\n",
       "    <tr>\n",
       "      <th>1</th>\n",
       "      <td>Flowers</td>\n",
       "      <td>Miley Cyrus</td>\n",
       "    </tr>\n",
       "    <tr>\n",
       "      <th>2</th>\n",
       "      <td>Fast Car</td>\n",
       "      <td>Luke Combs</td>\n",
       "    </tr>\n",
       "    <tr>\n",
       "      <th>3</th>\n",
       "      <td>Like Crazy (Deep House Remix)</td>\n",
       "      <td>Jimin</td>\n",
       "    </tr>\n",
       "    <tr>\n",
       "      <th>4</th>\n",
       "      <td>Like Crazy (UK Garage Remix)</td>\n",
       "      <td>Jimin</td>\n",
       "    </tr>\n",
       "  </tbody>\n",
       "</table>\n",
       "</div>"
      ],
      "text/plain": [
       "                           title         artist\n",
       "0                     Last Night  Morgan Wallen\n",
       "1                        Flowers    Miley Cyrus\n",
       "2                       Fast Car     Luke Combs\n",
       "3  Like Crazy (Deep House Remix)          Jimin\n",
       "4   Like Crazy (UK Garage Remix)          Jimin"
      ]
     },
     "execution_count": 13,
     "metadata": {},
     "output_type": "execute_result"
    }
   ],
   "source": [
    "# Previous dataframe\n",
    "topsongs.head(5)"
   ]
  },
  {
   "cell_type": "code",
   "execution_count": 14,
   "id": "2c0f80b7",
   "metadata": {},
   "outputs": [],
   "source": [
    "import random\n",
    "from IPython.display import Markdown, display  # library to display in bolt letters, etc\n",
    "\n",
    "def similar_top100(topsongs, song_searched):\n",
    "    \n",
    "    # Converting both input value and 'title' in lower case\n",
    "    song_searched = song_searched.lower() \n",
    "    topsongs['title'] = topsongs['title'].str.lower()\n",
    "    \n",
    "    # IF song in the input IS IN the 'title column'\n",
    "    if song_searched in topsongs['title'].values:\n",
    "        # While song in input IS different from the recommended (output)\n",
    "        while True:\n",
    "            # Generating a random number to select another song from the list\n",
    "            random_num = random.randint(0, len(topsongs)-1)\n",
    "            # Picking the song 'title' with random_num index\n",
    "            song_recommended_title = topsongs.iloc[random_num]['title']\n",
    "            # Getting also the artist name \n",
    "            song_recommended_artist = topsongs.iloc[random_num]['artist']\n",
    "            # If recommended song IS NOT the same as the searched one, stop the while\n",
    "            if song_recommended_title != song_searched:\n",
    "                break\n",
    "        # Capitalizing first letters of 'title' (.title())\n",
    "        song_recommended_title = song_recommended_title.title()\n",
    "        # Joinning song and artist to display in the output\n",
    "        song_recommended = f\"{song_recommended_title} by {song_recommended_artist}\"\n",
    "        # Displaying output with both 'title' and 'artist' bigger and bolt style.\n",
    "        display(Markdown(f\"You should listen to: **{song_recommended}**!\"))\n",
    "    \n",
    "    # If song in the input IS NOT in 'title column'\n",
    "    else:\n",
    "        print(\"Sorry, you have very bad musical taste. Try another one...\")"
   ]
  },
  {
   "cell_type": "code",
   "execution_count": 15,
   "id": "6eabb8dc",
   "metadata": {},
   "outputs": [
    {
     "name": "stdout",
     "output_type": "stream",
     "text": [
      "Introduce the name of a song: Flowers\n"
     ]
    },
    {
     "data": {
      "text/markdown": [
       "You should listen to: **You Say by Lauren Daigle**!"
      ],
      "text/plain": [
       "<IPython.core.display.Markdown object>"
      ]
     },
     "metadata": {},
     "output_type": "display_data"
    }
   ],
   "source": [
    "# Input\n",
    "song_searched = input(\"Introduce the name of a song: \")\n",
    "# Applying function\n",
    "similar_top100(topsongs,song_searched)\n"
   ]
  },
  {
   "cell_type": "code",
   "execution_count": null,
   "id": "718a8505",
   "metadata": {},
   "outputs": [],
   "source": []
  },
  {
   "cell_type": "markdown",
   "id": "63266344",
   "metadata": {},
   "source": [
    "## GNOD 3"
   ]
  },
  {
   "cell_type": "markdown",
   "id": "3409ad9b",
   "metadata": {},
   "source": [
    "### Lab | API wrappers - Create your collection of songs & audio features"
   ]
  },
  {
   "cell_type": "markdown",
   "id": "66563387",
   "metadata": {},
   "source": [
    "To move forward with the project, you need to create a collection of songs with their audio features - as large as possible!\n",
    "\n",
    "\n",
    "\n",
    "These are the songs that we will cluster. And, later, when the user inputs a song, we will find the cluster to which the song belongs and recommend a song from the same cluster. The more songs you have, the more accurate and diverse recommendations you'll be able to give. Although... you might want to make sure the collected songs are \"curated\" in a certain way. Try to find playlists of songs that are diverse, but also that meet certain standards.\n",
    "\n",
    "\n",
    "\n",
    "The process of sending hundreds or thousands of requests can take some time - it's normal if you have to wait a few minutes (or, if you're ambitious, even hours) to get all the data you need.\n",
    "\n",
    "An idea for collecting as many songs as possible is to start with all the songs of a big, diverse playlist and then go to every artist present in the playlist and grab every song of every album of that artist. The amount of songs you'll be collecting per playlist will grow exponentially!\n"
   ]
  },
  {
   "cell_type": "code",
   "execution_count": 16,
   "id": "3e09955d",
   "metadata": {},
   "outputs": [],
   "source": [
    "import spotipy\n",
    "from spotipy.oauth2 import SpotifyClientCredentials\n",
    "\n",
    "#### Authentification\n",
    "\n",
    "secrets_file = open(\"secrets.txt\",\"r\")\n",
    "string = secrets_file.read()\n",
    "#string.split('\\n')\n",
    "\n",
    "# Dictionary\n",
    "secrets_dict={}\n",
    "for line in string.split('\\n'):\n",
    "    if len(line) > 0: # excluding empty lines\n",
    "        #           [first element:key]  [ second element:value  ]\n",
    "        secrets_dict[line.split(':')[0]]=line.split(':')[1].strip()\n"
   ]
  },
  {
   "cell_type": "markdown",
   "id": "f4a49d30",
   "metadata": {},
   "source": [
    "#### Authentication with secrets text file"
   ]
  },
  {
   "cell_type": "code",
   "execution_count": 17,
   "id": "70a2a839",
   "metadata": {},
   "outputs": [],
   "source": [
    "#Initialize SpotiPy with user credentials\n",
    "sp = spotipy.Spotify(auth_manager=SpotifyClientCredentials(client_id=secrets_dict['cid'],\n",
    "                                                           client_secret=secrets_dict['csecret']))\n"
   ]
  },
  {
   "cell_type": "markdown",
   "id": "3a5d2a40",
   "metadata": {},
   "source": [
    "#### Playlists selected from Spotify"
   ]
  },
  {
   "cell_type": "code",
   "execution_count": 18,
   "id": "390ee32a",
   "metadata": {},
   "outputs": [],
   "source": [
    "# Top 2000 (1999): 37i9dQZF1DWTmvXBN4DgpA\n",
    "# Top 5000 (2705) - private: 5DPT4gtwr5AeFlf3YVvdmK\n",
    "# Top 5000 (3318) - private: 4RVf1hHtwvMEED3yuCNi8q\n",
    "# Best Music of all times (1723): 1BHsIy6qBuhJVzys6nr2uo"
   ]
  },
  {
   "cell_type": "markdown",
   "id": "43ba1bfb",
   "metadata": {},
   "source": [
    "#### Audio features"
   ]
  },
  {
   "cell_type": "code",
   "execution_count": 19,
   "id": "060cf621",
   "metadata": {},
   "outputs": [],
   "source": [
    "# List of playlists id\n",
    "playlist_id = ['37i9dQZF1DWTmvXBN4DgpA',\n",
    "               '5DPT4gtwr5AeFlf3YVvdmK',\n",
    "               '4RVf1hHtwvMEED3yuCNi8q'],\n",
    "              # '1BHsIy6qBuhJVzys6nr2uo']\n"
   ]
  },
  {
   "cell_type": "code",
   "execution_count": 20,
   "id": "c2f6bae0",
   "metadata": {},
   "outputs": [
    {
     "data": {
      "text/plain": [
       "dict"
      ]
     },
     "metadata": {},
     "output_type": "display_data"
    },
    {
     "data": {
      "text/plain": [
       "1999"
      ]
     },
     "metadata": {},
     "output_type": "display_data"
    },
    {
     "data": {
      "text/plain": [
       "dict"
      ]
     },
     "metadata": {},
     "output_type": "display_data"
    },
    {
     "data": {
      "text/plain": [
       "2705"
      ]
     },
     "metadata": {},
     "output_type": "display_data"
    },
    {
     "data": {
      "text/plain": [
       "dict"
      ]
     },
     "metadata": {},
     "output_type": "display_data"
    },
    {
     "data": {
      "text/plain": [
       "3318"
      ]
     },
     "metadata": {},
     "output_type": "display_data"
    }
   ],
   "source": [
    "playlist1 = sp.user_playlist_tracks(\"spotify\", \"37i9dQZF1DWTmvXBN4DgpA\")\n",
    "playlist2 = sp.user_playlist_tracks(\"spotify\", \"5DPT4gtwr5AeFlf3YVvdmK\")\n",
    "playlist3 = sp.user_playlist_tracks(\"spotify\", \"4RVf1hHtwvMEED3yuCNi8q\")\n",
    "#playlist4 = sp.user_playlist_tracks(\"spotify\", \"1BHsIy6qBuhJVzys6nr2uo\")\n",
    "\n",
    "\n",
    "display(type(playlist1), playlist1['total'])\n",
    "display(type(playlist2), playlist2['total'])\n",
    "display(type(playlist3), playlist3['total'])\n",
    "#display(type(playlist4), playlist4['total'])"
   ]
  },
  {
   "cell_type": "code",
   "execution_count": 21,
   "id": "2089429e",
   "metadata": {},
   "outputs": [],
   "source": [
    "#playlist1"
   ]
  },
  {
   "cell_type": "code",
   "execution_count": 22,
   "id": "bae704ca",
   "metadata": {},
   "outputs": [
    {
     "data": {
      "text/plain": [
       "'Bohemian Rhapsody - Remastered 2011'"
      ]
     },
     "metadata": {},
     "output_type": "display_data"
    },
    {
     "data": {
      "text/plain": [
       "'Queen'"
      ]
     },
     "metadata": {},
     "output_type": "display_data"
    },
    {
     "data": {
      "text/plain": [
       "'spotify:track:7tFiyTwD0nx5a1eklYtX2J'"
      ]
     },
     "metadata": {},
     "output_type": "display_data"
    }
   ],
   "source": [
    "# Checking the path to get 'title', 'artist' and 'uri'\n",
    "display(playlist1[\"items\"][0][\"track\"][\"name\"]) # title\n",
    "display(playlist1[\"items\"][0][\"track\"][\"artists\"][0][\"name\"]) # artist\n",
    "display(playlist1[\"items\"][0][\"track\"][\"uri\"]) # uri"
   ]
  },
  {
   "cell_type": "markdown",
   "id": "38de80ad",
   "metadata": {},
   "source": [
    "#### Retrieving all data from playlists and creating a new dataframe\n"
   ]
  },
  {
   "cell_type": "code",
   "execution_count": 23,
   "id": "18962c46",
   "metadata": {},
   "outputs": [],
   "source": [
    "# List of playlists\n",
    "playlists_list = [\"playlist1\",\"playlist2\",\"playlist3\"] #,\"playlist4\"]\n"
   ]
  },
  {
   "cell_type": "code",
   "execution_count": 24,
   "id": "7f3b71f9",
   "metadata": {},
   "outputs": [],
   "source": [
    "# Function to retrieve ALL data of \"title\", \"artist\", and \"uri\" 's id and metrics\n",
    "# from the playlist dict and convert all them into columns of a new dataframe dataframe\n",
    "\n",
    "def create_playlist_dataframe(playlist, sp):\n",
    "    # List of items in track\n",
    "    tracks = []\n",
    "    \n",
    "    # While there is a next page of results in the playlist\n",
    "    while playlist:\n",
    "        # For each item in playlist:\n",
    "        for item in playlist['items']:\n",
    "            # Look for uri and save id and get values in features\n",
    "            song_uri = item['track']['uri']\n",
    "            features = sp.audio_features(song_uri)[0]\n",
    "            \n",
    "            # New dict retrieving values of 'title', 'artist' and 'uri' (id)\n",
    "            track = {\n",
    "                'title': item['track']['name'],\n",
    "                'artist': item['track']['artists'][0]['name'],\n",
    "                'uri': song_uri,\n",
    "            }\n",
    "            \n",
    "            # For each feature (song uri) add in track dict\n",
    "            # new key (column name) and the value\n",
    "            for feature_key, feature_value in features.items():\n",
    "                track[feature_key] = feature_value\n",
    "                \n",
    "            # Append each item in track\n",
    "            tracks.append(track)\n",
    "        \n",
    "        # Get the next page of results\n",
    "        playlist = sp.next(playlist)\n",
    "        \n",
    "        # Sleep for a random time between 1 and 3 seconds to avoid triggering rate limits\n",
    "        sleep_time = random.randint(1, 3)\n",
    "        time.sleep(sleep_time)\n",
    "    \n",
    "    # Return the results as a DataFrame\n",
    "    return pd.DataFrame(tracks)\n"
   ]
  },
  {
   "cell_type": "code",
   "execution_count": 25,
   "id": "c80926e6",
   "metadata": {},
   "outputs": [],
   "source": [
    "# Applying the function\n",
    "playlist1_df = create_playlist_dataframe(playlist1, sp)"
   ]
  },
  {
   "cell_type": "code",
   "execution_count": 26,
   "id": "81c2cbe6",
   "metadata": {},
   "outputs": [
    {
     "data": {
      "text/html": [
       "<div>\n",
       "<style scoped>\n",
       "    .dataframe tbody tr th:only-of-type {\n",
       "        vertical-align: middle;\n",
       "    }\n",
       "\n",
       "    .dataframe tbody tr th {\n",
       "        vertical-align: top;\n",
       "    }\n",
       "\n",
       "    .dataframe thead th {\n",
       "        text-align: right;\n",
       "    }\n",
       "</style>\n",
       "<table border=\"1\" class=\"dataframe\">\n",
       "  <thead>\n",
       "    <tr style=\"text-align: right;\">\n",
       "      <th></th>\n",
       "      <th>title</th>\n",
       "      <th>artist</th>\n",
       "      <th>uri</th>\n",
       "      <th>danceability</th>\n",
       "      <th>energy</th>\n",
       "      <th>key</th>\n",
       "      <th>loudness</th>\n",
       "      <th>mode</th>\n",
       "      <th>speechiness</th>\n",
       "      <th>acousticness</th>\n",
       "      <th>instrumentalness</th>\n",
       "      <th>liveness</th>\n",
       "      <th>valence</th>\n",
       "      <th>tempo</th>\n",
       "      <th>type</th>\n",
       "      <th>id</th>\n",
       "      <th>track_href</th>\n",
       "      <th>analysis_url</th>\n",
       "      <th>duration_ms</th>\n",
       "      <th>time_signature</th>\n",
       "    </tr>\n",
       "  </thead>\n",
       "  <tbody>\n",
       "    <tr>\n",
       "      <th>0</th>\n",
       "      <td>Bohemian Rhapsody - Remastered 2011</td>\n",
       "      <td>Queen</td>\n",
       "      <td>spotify:track:7tFiyTwD0nx5a1eklYtX2J</td>\n",
       "      <td>0.392</td>\n",
       "      <td>0.402</td>\n",
       "      <td>0</td>\n",
       "      <td>-9.961</td>\n",
       "      <td>0</td>\n",
       "      <td>0.0536</td>\n",
       "      <td>0.28800</td>\n",
       "      <td>0.000000</td>\n",
       "      <td>0.2430</td>\n",
       "      <td>0.228</td>\n",
       "      <td>143.883</td>\n",
       "      <td>audio_features</td>\n",
       "      <td>7tFiyTwD0nx5a1eklYtX2J</td>\n",
       "      <td>https://api.spotify.com/v1/tracks/7tFiyTwD0nx5...</td>\n",
       "      <td>https://api.spotify.com/v1/audio-analysis/7tFi...</td>\n",
       "      <td>354320</td>\n",
       "      <td>4</td>\n",
       "    </tr>\n",
       "    <tr>\n",
       "      <th>1</th>\n",
       "      <td>Roller Coaster</td>\n",
       "      <td>Danny Vera</td>\n",
       "      <td>spotify:track:5B5YKjgne3TZzNpMsN9aj1</td>\n",
       "      <td>0.401</td>\n",
       "      <td>0.383</td>\n",
       "      <td>9</td>\n",
       "      <td>-10.048</td>\n",
       "      <td>1</td>\n",
       "      <td>0.0279</td>\n",
       "      <td>0.51000</td>\n",
       "      <td>0.007800</td>\n",
       "      <td>0.1210</td>\n",
       "      <td>0.285</td>\n",
       "      <td>96.957</td>\n",
       "      <td>audio_features</td>\n",
       "      <td>5B5YKjgne3TZzNpMsN9aj1</td>\n",
       "      <td>https://api.spotify.com/v1/tracks/5B5YKjgne3TZ...</td>\n",
       "      <td>https://api.spotify.com/v1/audio-analysis/5B5Y...</td>\n",
       "      <td>269986</td>\n",
       "      <td>4</td>\n",
       "    </tr>\n",
       "    <tr>\n",
       "      <th>2</th>\n",
       "      <td>Hotel California - 2013 Remaster</td>\n",
       "      <td>Eagles</td>\n",
       "      <td>spotify:track:40riOy7x9W7GXjyGp4pjAv</td>\n",
       "      <td>0.579</td>\n",
       "      <td>0.508</td>\n",
       "      <td>2</td>\n",
       "      <td>-9.484</td>\n",
       "      <td>1</td>\n",
       "      <td>0.0270</td>\n",
       "      <td>0.00574</td>\n",
       "      <td>0.000494</td>\n",
       "      <td>0.0575</td>\n",
       "      <td>0.609</td>\n",
       "      <td>147.125</td>\n",
       "      <td>audio_features</td>\n",
       "      <td>40riOy7x9W7GXjyGp4pjAv</td>\n",
       "      <td>https://api.spotify.com/v1/tracks/40riOy7x9W7G...</td>\n",
       "      <td>https://api.spotify.com/v1/audio-analysis/40ri...</td>\n",
       "      <td>391376</td>\n",
       "      <td>4</td>\n",
       "    </tr>\n",
       "    <tr>\n",
       "      <th>3</th>\n",
       "      <td>Piano Man</td>\n",
       "      <td>Billy Joel</td>\n",
       "      <td>spotify:track:3FCto7hnn1shUyZL42YgfO</td>\n",
       "      <td>0.334</td>\n",
       "      <td>0.472</td>\n",
       "      <td>0</td>\n",
       "      <td>-8.791</td>\n",
       "      <td>1</td>\n",
       "      <td>0.0277</td>\n",
       "      <td>0.60000</td>\n",
       "      <td>0.000004</td>\n",
       "      <td>0.3170</td>\n",
       "      <td>0.431</td>\n",
       "      <td>179.173</td>\n",
       "      <td>audio_features</td>\n",
       "      <td>3FCto7hnn1shUyZL42YgfO</td>\n",
       "      <td>https://api.spotify.com/v1/tracks/3FCto7hnn1sh...</td>\n",
       "      <td>https://api.spotify.com/v1/audio-analysis/3FCt...</td>\n",
       "      <td>336093</td>\n",
       "      <td>3</td>\n",
       "    </tr>\n",
       "    <tr>\n",
       "      <th>4</th>\n",
       "      <td>Fix You</td>\n",
       "      <td>Coldplay</td>\n",
       "      <td>spotify:track:7LVHVU3tWfcxj5aiPFEW4Q</td>\n",
       "      <td>0.209</td>\n",
       "      <td>0.417</td>\n",
       "      <td>3</td>\n",
       "      <td>-8.740</td>\n",
       "      <td>1</td>\n",
       "      <td>0.0338</td>\n",
       "      <td>0.16400</td>\n",
       "      <td>0.001960</td>\n",
       "      <td>0.1130</td>\n",
       "      <td>0.124</td>\n",
       "      <td>138.178</td>\n",
       "      <td>audio_features</td>\n",
       "      <td>7LVHVU3tWfcxj5aiPFEW4Q</td>\n",
       "      <td>https://api.spotify.com/v1/tracks/7LVHVU3tWfcx...</td>\n",
       "      <td>https://api.spotify.com/v1/audio-analysis/7LVH...</td>\n",
       "      <td>295533</td>\n",
       "      <td>4</td>\n",
       "    </tr>\n",
       "  </tbody>\n",
       "</table>\n",
       "</div>"
      ],
      "text/plain": [
       "                                 title      artist  \\\n",
       "0  Bohemian Rhapsody - Remastered 2011       Queen   \n",
       "1                       Roller Coaster  Danny Vera   \n",
       "2     Hotel California - 2013 Remaster      Eagles   \n",
       "3                            Piano Man  Billy Joel   \n",
       "4                              Fix You    Coldplay   \n",
       "\n",
       "                                    uri  danceability  energy  key  loudness  \\\n",
       "0  spotify:track:7tFiyTwD0nx5a1eklYtX2J         0.392   0.402    0    -9.961   \n",
       "1  spotify:track:5B5YKjgne3TZzNpMsN9aj1         0.401   0.383    9   -10.048   \n",
       "2  spotify:track:40riOy7x9W7GXjyGp4pjAv         0.579   0.508    2    -9.484   \n",
       "3  spotify:track:3FCto7hnn1shUyZL42YgfO         0.334   0.472    0    -8.791   \n",
       "4  spotify:track:7LVHVU3tWfcxj5aiPFEW4Q         0.209   0.417    3    -8.740   \n",
       "\n",
       "   mode  speechiness  acousticness  instrumentalness  liveness  valence  \\\n",
       "0     0       0.0536       0.28800          0.000000    0.2430    0.228   \n",
       "1     1       0.0279       0.51000          0.007800    0.1210    0.285   \n",
       "2     1       0.0270       0.00574          0.000494    0.0575    0.609   \n",
       "3     1       0.0277       0.60000          0.000004    0.3170    0.431   \n",
       "4     1       0.0338       0.16400          0.001960    0.1130    0.124   \n",
       "\n",
       "     tempo            type                      id  \\\n",
       "0  143.883  audio_features  7tFiyTwD0nx5a1eklYtX2J   \n",
       "1   96.957  audio_features  5B5YKjgne3TZzNpMsN9aj1   \n",
       "2  147.125  audio_features  40riOy7x9W7GXjyGp4pjAv   \n",
       "3  179.173  audio_features  3FCto7hnn1shUyZL42YgfO   \n",
       "4  138.178  audio_features  7LVHVU3tWfcxj5aiPFEW4Q   \n",
       "\n",
       "                                          track_href  \\\n",
       "0  https://api.spotify.com/v1/tracks/7tFiyTwD0nx5...   \n",
       "1  https://api.spotify.com/v1/tracks/5B5YKjgne3TZ...   \n",
       "2  https://api.spotify.com/v1/tracks/40riOy7x9W7G...   \n",
       "3  https://api.spotify.com/v1/tracks/3FCto7hnn1sh...   \n",
       "4  https://api.spotify.com/v1/tracks/7LVHVU3tWfcx...   \n",
       "\n",
       "                                        analysis_url  duration_ms  \\\n",
       "0  https://api.spotify.com/v1/audio-analysis/7tFi...       354320   \n",
       "1  https://api.spotify.com/v1/audio-analysis/5B5Y...       269986   \n",
       "2  https://api.spotify.com/v1/audio-analysis/40ri...       391376   \n",
       "3  https://api.spotify.com/v1/audio-analysis/3FCt...       336093   \n",
       "4  https://api.spotify.com/v1/audio-analysis/7LVH...       295533   \n",
       "\n",
       "   time_signature  \n",
       "0               4  \n",
       "1               4  \n",
       "2               4  \n",
       "3               3  \n",
       "4               4  "
      ]
     },
     "metadata": {},
     "output_type": "display_data"
    },
    {
     "data": {
      "text/plain": [
       "(1999, 20)"
      ]
     },
     "metadata": {},
     "output_type": "display_data"
    }
   ],
   "source": [
    "display(playlist1_df.head(5), playlist1_df.shape)"
   ]
  },
  {
   "cell_type": "code",
   "execution_count": 27,
   "id": "0835c1b5",
   "metadata": {},
   "outputs": [],
   "source": [
    "# Applying the function\n",
    "playlist2_df = create_playlist_dataframe(playlist2, sp)"
   ]
  },
  {
   "cell_type": "code",
   "execution_count": 28,
   "id": "cf9279f4",
   "metadata": {},
   "outputs": [
    {
     "data": {
      "text/html": [
       "<div>\n",
       "<style scoped>\n",
       "    .dataframe tbody tr th:only-of-type {\n",
       "        vertical-align: middle;\n",
       "    }\n",
       "\n",
       "    .dataframe tbody tr th {\n",
       "        vertical-align: top;\n",
       "    }\n",
       "\n",
       "    .dataframe thead th {\n",
       "        text-align: right;\n",
       "    }\n",
       "</style>\n",
       "<table border=\"1\" class=\"dataframe\">\n",
       "  <thead>\n",
       "    <tr style=\"text-align: right;\">\n",
       "      <th></th>\n",
       "      <th>title</th>\n",
       "      <th>artist</th>\n",
       "      <th>uri</th>\n",
       "      <th>danceability</th>\n",
       "      <th>energy</th>\n",
       "      <th>key</th>\n",
       "      <th>loudness</th>\n",
       "      <th>mode</th>\n",
       "      <th>speechiness</th>\n",
       "      <th>acousticness</th>\n",
       "      <th>instrumentalness</th>\n",
       "      <th>liveness</th>\n",
       "      <th>valence</th>\n",
       "      <th>tempo</th>\n",
       "      <th>type</th>\n",
       "      <th>id</th>\n",
       "      <th>track_href</th>\n",
       "      <th>analysis_url</th>\n",
       "      <th>duration_ms</th>\n",
       "      <th>time_signature</th>\n",
       "    </tr>\n",
       "  </thead>\n",
       "  <tbody>\n",
       "    <tr>\n",
       "      <th>0</th>\n",
       "      <td>Rhapsody in Blue</td>\n",
       "      <td>George Gershwin</td>\n",
       "      <td>spotify:track:0yzhOPf0iw2qWwcXRRta5L</td>\n",
       "      <td>0.309</td>\n",
       "      <td>0.258</td>\n",
       "      <td>9</td>\n",
       "      <td>-15.327</td>\n",
       "      <td>1</td>\n",
       "      <td>0.0459</td>\n",
       "      <td>0.976</td>\n",
       "      <td>0.690000</td>\n",
       "      <td>0.0924</td>\n",
       "      <td>0.115</td>\n",
       "      <td>74.568</td>\n",
       "      <td>audio_features</td>\n",
       "      <td>0yzhOPf0iw2qWwcXRRta5L</td>\n",
       "      <td>https://api.spotify.com/v1/tracks/0yzhOPf0iw2q...</td>\n",
       "      <td>https://api.spotify.com/v1/audio-analysis/0yzh...</td>\n",
       "      <td>890000</td>\n",
       "      <td>4</td>\n",
       "    </tr>\n",
       "    <tr>\n",
       "      <th>1</th>\n",
       "      <td>Summertime</td>\n",
       "      <td>Billie Holiday</td>\n",
       "      <td>spotify:track:62Xj6x2LSWv47PtRAXrg5Z</td>\n",
       "      <td>0.628</td>\n",
       "      <td>0.226</td>\n",
       "      <td>10</td>\n",
       "      <td>-14.075</td>\n",
       "      <td>0</td>\n",
       "      <td>0.0371</td>\n",
       "      <td>0.903</td>\n",
       "      <td>0.000006</td>\n",
       "      <td>0.1710</td>\n",
       "      <td>0.608</td>\n",
       "      <td>99.392</td>\n",
       "      <td>audio_features</td>\n",
       "      <td>62Xj6x2LSWv47PtRAXrg5Z</td>\n",
       "      <td>https://api.spotify.com/v1/tracks/62Xj6x2LSWv4...</td>\n",
       "      <td>https://api.spotify.com/v1/audio-analysis/62Xj...</td>\n",
       "      <td>173493</td>\n",
       "      <td>4</td>\n",
       "    </tr>\n",
       "    <tr>\n",
       "      <th>2</th>\n",
       "      <td>Moonlight Serenade - 2005 Remastered Version</td>\n",
       "      <td>Glenn Miller</td>\n",
       "      <td>spotify:track:3HRMOZk689zaR3z6NpEdfu</td>\n",
       "      <td>0.228</td>\n",
       "      <td>0.263</td>\n",
       "      <td>3</td>\n",
       "      <td>-10.120</td>\n",
       "      <td>1</td>\n",
       "      <td>0.0275</td>\n",
       "      <td>0.896</td>\n",
       "      <td>0.317000</td>\n",
       "      <td>0.1030</td>\n",
       "      <td>0.224</td>\n",
       "      <td>83.903</td>\n",
       "      <td>audio_features</td>\n",
       "      <td>3HRMOZk689zaR3z6NpEdfu</td>\n",
       "      <td>https://api.spotify.com/v1/tracks/3HRMOZk689za...</td>\n",
       "      <td>https://api.spotify.com/v1/audio-analysis/3HRM...</td>\n",
       "      <td>204240</td>\n",
       "      <td>4</td>\n",
       "    </tr>\n",
       "    <tr>\n",
       "      <th>3</th>\n",
       "      <td>In the Mood - Live</td>\n",
       "      <td>Glenn Miller</td>\n",
       "      <td>spotify:track:54h1RKrrFJDsNOfhwmqu9o</td>\n",
       "      <td>0.463</td>\n",
       "      <td>0.654</td>\n",
       "      <td>8</td>\n",
       "      <td>-9.720</td>\n",
       "      <td>1</td>\n",
       "      <td>0.0659</td>\n",
       "      <td>0.824</td>\n",
       "      <td>0.917000</td>\n",
       "      <td>0.3720</td>\n",
       "      <td>0.592</td>\n",
       "      <td>175.204</td>\n",
       "      <td>audio_features</td>\n",
       "      <td>54h1RKrrFJDsNOfhwmqu9o</td>\n",
       "      <td>https://api.spotify.com/v1/tracks/54h1RKrrFJDs...</td>\n",
       "      <td>https://api.spotify.com/v1/audio-analysis/54h1...</td>\n",
       "      <td>209573</td>\n",
       "      <td>4</td>\n",
       "    </tr>\n",
       "    <tr>\n",
       "      <th>4</th>\n",
       "      <td>Take the \"A\" Train</td>\n",
       "      <td>Duke Ellington</td>\n",
       "      <td>spotify:track:6KBsivP3Of4z2x6uNMAyE3</td>\n",
       "      <td>0.479</td>\n",
       "      <td>0.318</td>\n",
       "      <td>0</td>\n",
       "      <td>-13.836</td>\n",
       "      <td>1</td>\n",
       "      <td>0.0395</td>\n",
       "      <td>0.278</td>\n",
       "      <td>0.095900</td>\n",
       "      <td>0.1070</td>\n",
       "      <td>0.575</td>\n",
       "      <td>94.036</td>\n",
       "      <td>audio_features</td>\n",
       "      <td>6KBsivP3Of4z2x6uNMAyE3</td>\n",
       "      <td>https://api.spotify.com/v1/tracks/6KBsivP3Of4z...</td>\n",
       "      <td>https://api.spotify.com/v1/audio-analysis/6KBs...</td>\n",
       "      <td>331800</td>\n",
       "      <td>4</td>\n",
       "    </tr>\n",
       "  </tbody>\n",
       "</table>\n",
       "</div>"
      ],
      "text/plain": [
       "                                          title           artist  \\\n",
       "0                              Rhapsody in Blue  George Gershwin   \n",
       "1                                    Summertime   Billie Holiday   \n",
       "2  Moonlight Serenade - 2005 Remastered Version     Glenn Miller   \n",
       "3                            In the Mood - Live     Glenn Miller   \n",
       "4                            Take the \"A\" Train   Duke Ellington   \n",
       "\n",
       "                                    uri  danceability  energy  key  loudness  \\\n",
       "0  spotify:track:0yzhOPf0iw2qWwcXRRta5L         0.309   0.258    9   -15.327   \n",
       "1  spotify:track:62Xj6x2LSWv47PtRAXrg5Z         0.628   0.226   10   -14.075   \n",
       "2  spotify:track:3HRMOZk689zaR3z6NpEdfu         0.228   0.263    3   -10.120   \n",
       "3  spotify:track:54h1RKrrFJDsNOfhwmqu9o         0.463   0.654    8    -9.720   \n",
       "4  spotify:track:6KBsivP3Of4z2x6uNMAyE3         0.479   0.318    0   -13.836   \n",
       "\n",
       "   mode  speechiness  acousticness  instrumentalness  liveness  valence  \\\n",
       "0     1       0.0459         0.976          0.690000    0.0924    0.115   \n",
       "1     0       0.0371         0.903          0.000006    0.1710    0.608   \n",
       "2     1       0.0275         0.896          0.317000    0.1030    0.224   \n",
       "3     1       0.0659         0.824          0.917000    0.3720    0.592   \n",
       "4     1       0.0395         0.278          0.095900    0.1070    0.575   \n",
       "\n",
       "     tempo            type                      id  \\\n",
       "0   74.568  audio_features  0yzhOPf0iw2qWwcXRRta5L   \n",
       "1   99.392  audio_features  62Xj6x2LSWv47PtRAXrg5Z   \n",
       "2   83.903  audio_features  3HRMOZk689zaR3z6NpEdfu   \n",
       "3  175.204  audio_features  54h1RKrrFJDsNOfhwmqu9o   \n",
       "4   94.036  audio_features  6KBsivP3Of4z2x6uNMAyE3   \n",
       "\n",
       "                                          track_href  \\\n",
       "0  https://api.spotify.com/v1/tracks/0yzhOPf0iw2q...   \n",
       "1  https://api.spotify.com/v1/tracks/62Xj6x2LSWv4...   \n",
       "2  https://api.spotify.com/v1/tracks/3HRMOZk689za...   \n",
       "3  https://api.spotify.com/v1/tracks/54h1RKrrFJDs...   \n",
       "4  https://api.spotify.com/v1/tracks/6KBsivP3Of4z...   \n",
       "\n",
       "                                        analysis_url  duration_ms  \\\n",
       "0  https://api.spotify.com/v1/audio-analysis/0yzh...       890000   \n",
       "1  https://api.spotify.com/v1/audio-analysis/62Xj...       173493   \n",
       "2  https://api.spotify.com/v1/audio-analysis/3HRM...       204240   \n",
       "3  https://api.spotify.com/v1/audio-analysis/54h1...       209573   \n",
       "4  https://api.spotify.com/v1/audio-analysis/6KBs...       331800   \n",
       "\n",
       "   time_signature  \n",
       "0               4  \n",
       "1               4  \n",
       "2               4  \n",
       "3               4  \n",
       "4               4  "
      ]
     },
     "metadata": {},
     "output_type": "display_data"
    },
    {
     "data": {
      "text/plain": [
       "(2705, 20)"
      ]
     },
     "metadata": {},
     "output_type": "display_data"
    }
   ],
   "source": [
    "display(playlist2_df.head(5), playlist2_df.shape)"
   ]
  },
  {
   "cell_type": "code",
   "execution_count": 29,
   "id": "9d543da2",
   "metadata": {},
   "outputs": [],
   "source": [
    "# Applying the function\n",
    "playlist3_df = create_playlist_dataframe(playlist3, sp)"
   ]
  },
  {
   "cell_type": "code",
   "execution_count": 30,
   "id": "8f01c8c8",
   "metadata": {},
   "outputs": [
    {
     "data": {
      "text/html": [
       "<div>\n",
       "<style scoped>\n",
       "    .dataframe tbody tr th:only-of-type {\n",
       "        vertical-align: middle;\n",
       "    }\n",
       "\n",
       "    .dataframe tbody tr th {\n",
       "        vertical-align: top;\n",
       "    }\n",
       "\n",
       "    .dataframe thead th {\n",
       "        text-align: right;\n",
       "    }\n",
       "</style>\n",
       "<table border=\"1\" class=\"dataframe\">\n",
       "  <thead>\n",
       "    <tr style=\"text-align: right;\">\n",
       "      <th></th>\n",
       "      <th>title</th>\n",
       "      <th>artist</th>\n",
       "      <th>uri</th>\n",
       "      <th>danceability</th>\n",
       "      <th>energy</th>\n",
       "      <th>key</th>\n",
       "      <th>loudness</th>\n",
       "      <th>mode</th>\n",
       "      <th>speechiness</th>\n",
       "      <th>acousticness</th>\n",
       "      <th>instrumentalness</th>\n",
       "      <th>liveness</th>\n",
       "      <th>valence</th>\n",
       "      <th>tempo</th>\n",
       "      <th>type</th>\n",
       "      <th>id</th>\n",
       "      <th>track_href</th>\n",
       "      <th>analysis_url</th>\n",
       "      <th>duration_ms</th>\n",
       "      <th>time_signature</th>\n",
       "    </tr>\n",
       "  </thead>\n",
       "  <tbody>\n",
       "    <tr>\n",
       "      <th>0</th>\n",
       "      <td>Angie - Remastered 2009</td>\n",
       "      <td>The Rolling Stones</td>\n",
       "      <td>spotify:track:35RUp1t6MVhcG8cOK5BH6x</td>\n",
       "      <td>0.429</td>\n",
       "      <td>0.548</td>\n",
       "      <td>9</td>\n",
       "      <td>-6.017</td>\n",
       "      <td>0</td>\n",
       "      <td>0.0294</td>\n",
       "      <td>0.7000</td>\n",
       "      <td>0.000075</td>\n",
       "      <td>0.0836</td>\n",
       "      <td>0.383</td>\n",
       "      <td>138.619</td>\n",
       "      <td>audio_features</td>\n",
       "      <td>35RUp1t6MVhcG8cOK5BH6x</td>\n",
       "      <td>https://api.spotify.com/v1/tracks/35RUp1t6MVhc...</td>\n",
       "      <td>https://api.spotify.com/v1/audio-analysis/35RU...</td>\n",
       "      <td>271973</td>\n",
       "      <td>4</td>\n",
       "    </tr>\n",
       "    <tr>\n",
       "      <th>1</th>\n",
       "      <td>Billie Jean</td>\n",
       "      <td>Michael Jackson</td>\n",
       "      <td>spotify:track:5ChkMS8OtdzJeqyybCc9R5</td>\n",
       "      <td>0.920</td>\n",
       "      <td>0.654</td>\n",
       "      <td>11</td>\n",
       "      <td>-3.051</td>\n",
       "      <td>0</td>\n",
       "      <td>0.0401</td>\n",
       "      <td>0.0236</td>\n",
       "      <td>0.015300</td>\n",
       "      <td>0.0360</td>\n",
       "      <td>0.847</td>\n",
       "      <td>117.046</td>\n",
       "      <td>audio_features</td>\n",
       "      <td>5ChkMS8OtdzJeqyybCc9R5</td>\n",
       "      <td>https://api.spotify.com/v1/tracks/5ChkMS8OtdzJ...</td>\n",
       "      <td>https://api.spotify.com/v1/audio-analysis/5Chk...</td>\n",
       "      <td>293827</td>\n",
       "      <td>4</td>\n",
       "    </tr>\n",
       "    <tr>\n",
       "      <th>2</th>\n",
       "      <td>Hey Jude - Remastered 2015</td>\n",
       "      <td>The Beatles</td>\n",
       "      <td>spotify:track:0aym2LBJBk9DAYuHHutrIl</td>\n",
       "      <td>0.386</td>\n",
       "      <td>0.607</td>\n",
       "      <td>10</td>\n",
       "      <td>-7.700</td>\n",
       "      <td>1</td>\n",
       "      <td>0.0261</td>\n",
       "      <td>0.0112</td>\n",
       "      <td>0.000014</td>\n",
       "      <td>0.0880</td>\n",
       "      <td>0.532</td>\n",
       "      <td>147.207</td>\n",
       "      <td>audio_features</td>\n",
       "      <td>0aym2LBJBk9DAYuHHutrIl</td>\n",
       "      <td>https://api.spotify.com/v1/tracks/0aym2LBJBk9D...</td>\n",
       "      <td>https://api.spotify.com/v1/audio-analysis/0aym...</td>\n",
       "      <td>425653</td>\n",
       "      <td>4</td>\n",
       "    </tr>\n",
       "    <tr>\n",
       "      <th>3</th>\n",
       "      <td>Purple Rain</td>\n",
       "      <td>Prince</td>\n",
       "      <td>spotify:track:3lUjT0JcV1PcuugwMl2MQj</td>\n",
       "      <td>0.367</td>\n",
       "      <td>0.452</td>\n",
       "      <td>10</td>\n",
       "      <td>-10.422</td>\n",
       "      <td>1</td>\n",
       "      <td>0.0307</td>\n",
       "      <td>0.0353</td>\n",
       "      <td>0.002280</td>\n",
       "      <td>0.6890</td>\n",
       "      <td>0.189</td>\n",
       "      <td>113.066</td>\n",
       "      <td>audio_features</td>\n",
       "      <td>3lUjT0JcV1PcuugwMl2MQj</td>\n",
       "      <td>https://api.spotify.com/v1/tracks/3lUjT0JcV1Pc...</td>\n",
       "      <td>https://api.spotify.com/v1/audio-analysis/3lUj...</td>\n",
       "      <td>520787</td>\n",
       "      <td>4</td>\n",
       "    </tr>\n",
       "    <tr>\n",
       "      <th>4</th>\n",
       "      <td>I Heard It Through The Grapevine - Single Vers...</td>\n",
       "      <td>Marvin Gaye</td>\n",
       "      <td>spotify:track:6ca3m7gXDEfgLop4A51mWt</td>\n",
       "      <td>0.722</td>\n",
       "      <td>0.450</td>\n",
       "      <td>3</td>\n",
       "      <td>-7.503</td>\n",
       "      <td>0</td>\n",
       "      <td>0.0396</td>\n",
       "      <td>0.1990</td>\n",
       "      <td>0.000003</td>\n",
       "      <td>0.0739</td>\n",
       "      <td>0.664</td>\n",
       "      <td>118.447</td>\n",
       "      <td>audio_features</td>\n",
       "      <td>6ca3m7gXDEfgLop4A51mWt</td>\n",
       "      <td>https://api.spotify.com/v1/tracks/6ca3m7gXDEfg...</td>\n",
       "      <td>https://api.spotify.com/v1/audio-analysis/6ca3...</td>\n",
       "      <td>192267</td>\n",
       "      <td>4</td>\n",
       "    </tr>\n",
       "  </tbody>\n",
       "</table>\n",
       "</div>"
      ],
      "text/plain": [
       "                                               title              artist  \\\n",
       "0                            Angie - Remastered 2009  The Rolling Stones   \n",
       "1                                        Billie Jean     Michael Jackson   \n",
       "2                         Hey Jude - Remastered 2015         The Beatles   \n",
       "3                                        Purple Rain              Prince   \n",
       "4  I Heard It Through The Grapevine - Single Vers...         Marvin Gaye   \n",
       "\n",
       "                                    uri  danceability  energy  key  loudness  \\\n",
       "0  spotify:track:35RUp1t6MVhcG8cOK5BH6x         0.429   0.548    9    -6.017   \n",
       "1  spotify:track:5ChkMS8OtdzJeqyybCc9R5         0.920   0.654   11    -3.051   \n",
       "2  spotify:track:0aym2LBJBk9DAYuHHutrIl         0.386   0.607   10    -7.700   \n",
       "3  spotify:track:3lUjT0JcV1PcuugwMl2MQj         0.367   0.452   10   -10.422   \n",
       "4  spotify:track:6ca3m7gXDEfgLop4A51mWt         0.722   0.450    3    -7.503   \n",
       "\n",
       "   mode  speechiness  acousticness  instrumentalness  liveness  valence  \\\n",
       "0     0       0.0294        0.7000          0.000075    0.0836    0.383   \n",
       "1     0       0.0401        0.0236          0.015300    0.0360    0.847   \n",
       "2     1       0.0261        0.0112          0.000014    0.0880    0.532   \n",
       "3     1       0.0307        0.0353          0.002280    0.6890    0.189   \n",
       "4     0       0.0396        0.1990          0.000003    0.0739    0.664   \n",
       "\n",
       "     tempo            type                      id  \\\n",
       "0  138.619  audio_features  35RUp1t6MVhcG8cOK5BH6x   \n",
       "1  117.046  audio_features  5ChkMS8OtdzJeqyybCc9R5   \n",
       "2  147.207  audio_features  0aym2LBJBk9DAYuHHutrIl   \n",
       "3  113.066  audio_features  3lUjT0JcV1PcuugwMl2MQj   \n",
       "4  118.447  audio_features  6ca3m7gXDEfgLop4A51mWt   \n",
       "\n",
       "                                          track_href  \\\n",
       "0  https://api.spotify.com/v1/tracks/35RUp1t6MVhc...   \n",
       "1  https://api.spotify.com/v1/tracks/5ChkMS8OtdzJ...   \n",
       "2  https://api.spotify.com/v1/tracks/0aym2LBJBk9D...   \n",
       "3  https://api.spotify.com/v1/tracks/3lUjT0JcV1Pc...   \n",
       "4  https://api.spotify.com/v1/tracks/6ca3m7gXDEfg...   \n",
       "\n",
       "                                        analysis_url  duration_ms  \\\n",
       "0  https://api.spotify.com/v1/audio-analysis/35RU...       271973   \n",
       "1  https://api.spotify.com/v1/audio-analysis/5Chk...       293827   \n",
       "2  https://api.spotify.com/v1/audio-analysis/0aym...       425653   \n",
       "3  https://api.spotify.com/v1/audio-analysis/3lUj...       520787   \n",
       "4  https://api.spotify.com/v1/audio-analysis/6ca3...       192267   \n",
       "\n",
       "   time_signature  \n",
       "0               4  \n",
       "1               4  \n",
       "2               4  \n",
       "3               4  \n",
       "4               4  "
      ]
     },
     "metadata": {},
     "output_type": "display_data"
    },
    {
     "data": {
      "text/plain": [
       "(3318, 20)"
      ]
     },
     "metadata": {},
     "output_type": "display_data"
    }
   ],
   "source": [
    "display(playlist3_df.head(5), playlist3_df.shape)"
   ]
  },
  {
   "cell_type": "code",
   "execution_count": 31,
   "id": "6fd00f7a",
   "metadata": {},
   "outputs": [],
   "source": [
    "# Applying the function\n",
    "#playlist4_df = create_playlist_dataframe(playlist4, sp)"
   ]
  },
  {
   "cell_type": "code",
   "execution_count": 32,
   "id": "9fbad057",
   "metadata": {},
   "outputs": [],
   "source": [
    "#display(playlist4_df.head(5), playlist4_df.shape)"
   ]
  },
  {
   "cell_type": "markdown",
   "id": "8533b589",
   "metadata": {},
   "source": [
    "#### Checking if df are ready for concatenation"
   ]
  },
  {
   "cell_type": "code",
   "execution_count": 33,
   "id": "28477326",
   "metadata": {},
   "outputs": [],
   "source": [
    "df_list = [\"playlist1_df\",\"playlist2_df\",\"playlist3_df\"]"
   ]
  },
  {
   "cell_type": "code",
   "execution_count": 34,
   "id": "1308a991",
   "metadata": {},
   "outputs": [
    {
     "data": {
      "text/plain": [
       "array([ True,  True,  True,  True,  True,  True,  True,  True,  True,\n",
       "        True,  True,  True,  True,  True,  True,  True,  True,  True,\n",
       "        True,  True])"
      ]
     },
     "metadata": {},
     "output_type": "display_data"
    },
    {
     "data": {
      "text/plain": [
       "array([ True,  True,  True,  True,  True,  True,  True,  True,  True,\n",
       "        True,  True,  True,  True,  True,  True,  True,  True,  True,\n",
       "        True,  True])"
      ]
     },
     "metadata": {},
     "output_type": "display_data"
    }
   ],
   "source": [
    "# Checking same names and order for each dataframe's columns\n",
    "display(playlist1_df.columns == playlist2_df.columns,\n",
    "        playlist1_df.columns == playlist3_df.columns)"
   ]
  },
  {
   "cell_type": "code",
   "execution_count": 35,
   "id": "1746c0bd",
   "metadata": {},
   "outputs": [
    {
     "data": {
      "text/plain": [
       "(1999, 20)"
      ]
     },
     "metadata": {},
     "output_type": "display_data"
    },
    {
     "data": {
      "text/plain": [
       "(3318, 20)"
      ]
     },
     "metadata": {},
     "output_type": "display_data"
    },
    {
     "data": {
      "text/plain": [
       "(3318, 20)"
      ]
     },
     "metadata": {},
     "output_type": "display_data"
    }
   ],
   "source": [
    "# Information about their shape\n",
    "display(playlist1_df.shape, playlist3_df.shape, playlist3_df.shape)"
   ]
  },
  {
   "cell_type": "markdown",
   "id": "63874e76",
   "metadata": {},
   "source": [
    "#### Concatenating dataframes"
   ]
  },
  {
   "cell_type": "code",
   "execution_count": 36,
   "id": "3b5faca7",
   "metadata": {},
   "outputs": [],
   "source": [
    "# Concatenating in axis=0 (rows)\n",
    "spotify_data = pd.concat([playlist1_df, playlist2_df, playlist3_df], axis = 0)"
   ]
  },
  {
   "cell_type": "code",
   "execution_count": 37,
   "id": "d60897ce",
   "metadata": {},
   "outputs": [],
   "source": [
    "spotify_data = spotify_data.reset_index(drop=True)"
   ]
  },
  {
   "cell_type": "code",
   "execution_count": 38,
   "id": "b9055fd2",
   "metadata": {},
   "outputs": [
    {
     "data": {
      "text/html": [
       "<div>\n",
       "<style scoped>\n",
       "    .dataframe tbody tr th:only-of-type {\n",
       "        vertical-align: middle;\n",
       "    }\n",
       "\n",
       "    .dataframe tbody tr th {\n",
       "        vertical-align: top;\n",
       "    }\n",
       "\n",
       "    .dataframe thead th {\n",
       "        text-align: right;\n",
       "    }\n",
       "</style>\n",
       "<table border=\"1\" class=\"dataframe\">\n",
       "  <thead>\n",
       "    <tr style=\"text-align: right;\">\n",
       "      <th></th>\n",
       "      <th>title</th>\n",
       "      <th>artist</th>\n",
       "      <th>uri</th>\n",
       "      <th>danceability</th>\n",
       "      <th>energy</th>\n",
       "      <th>key</th>\n",
       "      <th>loudness</th>\n",
       "      <th>mode</th>\n",
       "      <th>speechiness</th>\n",
       "      <th>acousticness</th>\n",
       "      <th>instrumentalness</th>\n",
       "      <th>liveness</th>\n",
       "      <th>valence</th>\n",
       "      <th>tempo</th>\n",
       "      <th>type</th>\n",
       "      <th>id</th>\n",
       "      <th>track_href</th>\n",
       "      <th>analysis_url</th>\n",
       "      <th>duration_ms</th>\n",
       "      <th>time_signature</th>\n",
       "    </tr>\n",
       "  </thead>\n",
       "  <tbody>\n",
       "    <tr>\n",
       "      <th>0</th>\n",
       "      <td>Bohemian Rhapsody - Remastered 2011</td>\n",
       "      <td>Queen</td>\n",
       "      <td>spotify:track:7tFiyTwD0nx5a1eklYtX2J</td>\n",
       "      <td>0.392</td>\n",
       "      <td>0.402</td>\n",
       "      <td>0</td>\n",
       "      <td>-9.961</td>\n",
       "      <td>0</td>\n",
       "      <td>0.0536</td>\n",
       "      <td>0.28800</td>\n",
       "      <td>0.000000</td>\n",
       "      <td>0.2430</td>\n",
       "      <td>0.228</td>\n",
       "      <td>143.883</td>\n",
       "      <td>audio_features</td>\n",
       "      <td>7tFiyTwD0nx5a1eklYtX2J</td>\n",
       "      <td>https://api.spotify.com/v1/tracks/7tFiyTwD0nx5...</td>\n",
       "      <td>https://api.spotify.com/v1/audio-analysis/7tFi...</td>\n",
       "      <td>354320</td>\n",
       "      <td>4</td>\n",
       "    </tr>\n",
       "    <tr>\n",
       "      <th>1</th>\n",
       "      <td>Roller Coaster</td>\n",
       "      <td>Danny Vera</td>\n",
       "      <td>spotify:track:5B5YKjgne3TZzNpMsN9aj1</td>\n",
       "      <td>0.401</td>\n",
       "      <td>0.383</td>\n",
       "      <td>9</td>\n",
       "      <td>-10.048</td>\n",
       "      <td>1</td>\n",
       "      <td>0.0279</td>\n",
       "      <td>0.51000</td>\n",
       "      <td>0.007800</td>\n",
       "      <td>0.1210</td>\n",
       "      <td>0.285</td>\n",
       "      <td>96.957</td>\n",
       "      <td>audio_features</td>\n",
       "      <td>5B5YKjgne3TZzNpMsN9aj1</td>\n",
       "      <td>https://api.spotify.com/v1/tracks/5B5YKjgne3TZ...</td>\n",
       "      <td>https://api.spotify.com/v1/audio-analysis/5B5Y...</td>\n",
       "      <td>269986</td>\n",
       "      <td>4</td>\n",
       "    </tr>\n",
       "    <tr>\n",
       "      <th>2</th>\n",
       "      <td>Hotel California - 2013 Remaster</td>\n",
       "      <td>Eagles</td>\n",
       "      <td>spotify:track:40riOy7x9W7GXjyGp4pjAv</td>\n",
       "      <td>0.579</td>\n",
       "      <td>0.508</td>\n",
       "      <td>2</td>\n",
       "      <td>-9.484</td>\n",
       "      <td>1</td>\n",
       "      <td>0.0270</td>\n",
       "      <td>0.00574</td>\n",
       "      <td>0.000494</td>\n",
       "      <td>0.0575</td>\n",
       "      <td>0.609</td>\n",
       "      <td>147.125</td>\n",
       "      <td>audio_features</td>\n",
       "      <td>40riOy7x9W7GXjyGp4pjAv</td>\n",
       "      <td>https://api.spotify.com/v1/tracks/40riOy7x9W7G...</td>\n",
       "      <td>https://api.spotify.com/v1/audio-analysis/40ri...</td>\n",
       "      <td>391376</td>\n",
       "      <td>4</td>\n",
       "    </tr>\n",
       "    <tr>\n",
       "      <th>3</th>\n",
       "      <td>Piano Man</td>\n",
       "      <td>Billy Joel</td>\n",
       "      <td>spotify:track:3FCto7hnn1shUyZL42YgfO</td>\n",
       "      <td>0.334</td>\n",
       "      <td>0.472</td>\n",
       "      <td>0</td>\n",
       "      <td>-8.791</td>\n",
       "      <td>1</td>\n",
       "      <td>0.0277</td>\n",
       "      <td>0.60000</td>\n",
       "      <td>0.000004</td>\n",
       "      <td>0.3170</td>\n",
       "      <td>0.431</td>\n",
       "      <td>179.173</td>\n",
       "      <td>audio_features</td>\n",
       "      <td>3FCto7hnn1shUyZL42YgfO</td>\n",
       "      <td>https://api.spotify.com/v1/tracks/3FCto7hnn1sh...</td>\n",
       "      <td>https://api.spotify.com/v1/audio-analysis/3FCt...</td>\n",
       "      <td>336093</td>\n",
       "      <td>3</td>\n",
       "    </tr>\n",
       "    <tr>\n",
       "      <th>4</th>\n",
       "      <td>Fix You</td>\n",
       "      <td>Coldplay</td>\n",
       "      <td>spotify:track:7LVHVU3tWfcxj5aiPFEW4Q</td>\n",
       "      <td>0.209</td>\n",
       "      <td>0.417</td>\n",
       "      <td>3</td>\n",
       "      <td>-8.740</td>\n",
       "      <td>1</td>\n",
       "      <td>0.0338</td>\n",
       "      <td>0.16400</td>\n",
       "      <td>0.001960</td>\n",
       "      <td>0.1130</td>\n",
       "      <td>0.124</td>\n",
       "      <td>138.178</td>\n",
       "      <td>audio_features</td>\n",
       "      <td>7LVHVU3tWfcxj5aiPFEW4Q</td>\n",
       "      <td>https://api.spotify.com/v1/tracks/7LVHVU3tWfcx...</td>\n",
       "      <td>https://api.spotify.com/v1/audio-analysis/7LVH...</td>\n",
       "      <td>295533</td>\n",
       "      <td>4</td>\n",
       "    </tr>\n",
       "  </tbody>\n",
       "</table>\n",
       "</div>"
      ],
      "text/plain": [
       "                                 title      artist  \\\n",
       "0  Bohemian Rhapsody - Remastered 2011       Queen   \n",
       "1                       Roller Coaster  Danny Vera   \n",
       "2     Hotel California - 2013 Remaster      Eagles   \n",
       "3                            Piano Man  Billy Joel   \n",
       "4                              Fix You    Coldplay   \n",
       "\n",
       "                                    uri  danceability  energy  key  loudness  \\\n",
       "0  spotify:track:7tFiyTwD0nx5a1eklYtX2J         0.392   0.402    0    -9.961   \n",
       "1  spotify:track:5B5YKjgne3TZzNpMsN9aj1         0.401   0.383    9   -10.048   \n",
       "2  spotify:track:40riOy7x9W7GXjyGp4pjAv         0.579   0.508    2    -9.484   \n",
       "3  spotify:track:3FCto7hnn1shUyZL42YgfO         0.334   0.472    0    -8.791   \n",
       "4  spotify:track:7LVHVU3tWfcxj5aiPFEW4Q         0.209   0.417    3    -8.740   \n",
       "\n",
       "   mode  speechiness  acousticness  instrumentalness  liveness  valence  \\\n",
       "0     0       0.0536       0.28800          0.000000    0.2430    0.228   \n",
       "1     1       0.0279       0.51000          0.007800    0.1210    0.285   \n",
       "2     1       0.0270       0.00574          0.000494    0.0575    0.609   \n",
       "3     1       0.0277       0.60000          0.000004    0.3170    0.431   \n",
       "4     1       0.0338       0.16400          0.001960    0.1130    0.124   \n",
       "\n",
       "     tempo            type                      id  \\\n",
       "0  143.883  audio_features  7tFiyTwD0nx5a1eklYtX2J   \n",
       "1   96.957  audio_features  5B5YKjgne3TZzNpMsN9aj1   \n",
       "2  147.125  audio_features  40riOy7x9W7GXjyGp4pjAv   \n",
       "3  179.173  audio_features  3FCto7hnn1shUyZL42YgfO   \n",
       "4  138.178  audio_features  7LVHVU3tWfcxj5aiPFEW4Q   \n",
       "\n",
       "                                          track_href  \\\n",
       "0  https://api.spotify.com/v1/tracks/7tFiyTwD0nx5...   \n",
       "1  https://api.spotify.com/v1/tracks/5B5YKjgne3TZ...   \n",
       "2  https://api.spotify.com/v1/tracks/40riOy7x9W7G...   \n",
       "3  https://api.spotify.com/v1/tracks/3FCto7hnn1sh...   \n",
       "4  https://api.spotify.com/v1/tracks/7LVHVU3tWfcx...   \n",
       "\n",
       "                                        analysis_url  duration_ms  \\\n",
       "0  https://api.spotify.com/v1/audio-analysis/7tFi...       354320   \n",
       "1  https://api.spotify.com/v1/audio-analysis/5B5Y...       269986   \n",
       "2  https://api.spotify.com/v1/audio-analysis/40ri...       391376   \n",
       "3  https://api.spotify.com/v1/audio-analysis/3FCt...       336093   \n",
       "4  https://api.spotify.com/v1/audio-analysis/7LVH...       295533   \n",
       "\n",
       "   time_signature  \n",
       "0               4  \n",
       "1               4  \n",
       "2               4  \n",
       "3               3  \n",
       "4               4  "
      ]
     },
     "metadata": {},
     "output_type": "display_data"
    },
    {
     "data": {
      "text/html": [
       "<div>\n",
       "<style scoped>\n",
       "    .dataframe tbody tr th:only-of-type {\n",
       "        vertical-align: middle;\n",
       "    }\n",
       "\n",
       "    .dataframe tbody tr th {\n",
       "        vertical-align: top;\n",
       "    }\n",
       "\n",
       "    .dataframe thead th {\n",
       "        text-align: right;\n",
       "    }\n",
       "</style>\n",
       "<table border=\"1\" class=\"dataframe\">\n",
       "  <thead>\n",
       "    <tr style=\"text-align: right;\">\n",
       "      <th></th>\n",
       "      <th>title</th>\n",
       "      <th>artist</th>\n",
       "      <th>uri</th>\n",
       "      <th>danceability</th>\n",
       "      <th>energy</th>\n",
       "      <th>key</th>\n",
       "      <th>loudness</th>\n",
       "      <th>mode</th>\n",
       "      <th>speechiness</th>\n",
       "      <th>acousticness</th>\n",
       "      <th>instrumentalness</th>\n",
       "      <th>liveness</th>\n",
       "      <th>valence</th>\n",
       "      <th>tempo</th>\n",
       "      <th>type</th>\n",
       "      <th>id</th>\n",
       "      <th>track_href</th>\n",
       "      <th>analysis_url</th>\n",
       "      <th>duration_ms</th>\n",
       "      <th>time_signature</th>\n",
       "    </tr>\n",
       "  </thead>\n",
       "  <tbody>\n",
       "    <tr>\n",
       "      <th>8017</th>\n",
       "      <td>Jambalaya (On The Bayou)</td>\n",
       "      <td>John Fogerty</td>\n",
       "      <td>spotify:track:6389cBCT7TWS2Nx0KVsjrk</td>\n",
       "      <td>0.742</td>\n",
       "      <td>0.756</td>\n",
       "      <td>2</td>\n",
       "      <td>-10.121</td>\n",
       "      <td>1</td>\n",
       "      <td>0.0262</td>\n",
       "      <td>0.6240</td>\n",
       "      <td>0.000130</td>\n",
       "      <td>0.0800</td>\n",
       "      <td>0.977</td>\n",
       "      <td>98.568</td>\n",
       "      <td>audio_features</td>\n",
       "      <td>6389cBCT7TWS2Nx0KVsjrk</td>\n",
       "      <td>https://api.spotify.com/v1/tracks/6389cBCT7TWS...</td>\n",
       "      <td>https://api.spotify.com/v1/audio-analysis/6389...</td>\n",
       "      <td>197760</td>\n",
       "      <td>4</td>\n",
       "    </tr>\n",
       "    <tr>\n",
       "      <th>8018</th>\n",
       "      <td>Hearts Of Stone</td>\n",
       "      <td>John Fogerty</td>\n",
       "      <td>spotify:track:2uJVtJd1w2N8vg6pJmaNdN</td>\n",
       "      <td>0.412</td>\n",
       "      <td>0.677</td>\n",
       "      <td>6</td>\n",
       "      <td>-10.763</td>\n",
       "      <td>1</td>\n",
       "      <td>0.0376</td>\n",
       "      <td>0.5370</td>\n",
       "      <td>0.006640</td>\n",
       "      <td>0.1210</td>\n",
       "      <td>0.853</td>\n",
       "      <td>205.922</td>\n",
       "      <td>audio_features</td>\n",
       "      <td>2uJVtJd1w2N8vg6pJmaNdN</td>\n",
       "      <td>https://api.spotify.com/v1/tracks/2uJVtJd1w2N8...</td>\n",
       "      <td>https://api.spotify.com/v1/audio-analysis/2uJV...</td>\n",
       "      <td>134000</td>\n",
       "      <td>4</td>\n",
       "    </tr>\n",
       "    <tr>\n",
       "      <th>8019</th>\n",
       "      <td>Rock and Roll Girls</td>\n",
       "      <td>John Fogerty</td>\n",
       "      <td>spotify:track:5DeuAlTIDflXOomztXYM5D</td>\n",
       "      <td>0.794</td>\n",
       "      <td>0.730</td>\n",
       "      <td>7</td>\n",
       "      <td>-6.067</td>\n",
       "      <td>1</td>\n",
       "      <td>0.0332</td>\n",
       "      <td>0.0538</td>\n",
       "      <td>0.000832</td>\n",
       "      <td>0.0826</td>\n",
       "      <td>0.767</td>\n",
       "      <td>128.999</td>\n",
       "      <td>audio_features</td>\n",
       "      <td>5DeuAlTIDflXOomztXYM5D</td>\n",
       "      <td>https://api.spotify.com/v1/tracks/5DeuAlTIDflX...</td>\n",
       "      <td>https://api.spotify.com/v1/audio-analysis/5Deu...</td>\n",
       "      <td>206640</td>\n",
       "      <td>4</td>\n",
       "    </tr>\n",
       "    <tr>\n",
       "      <th>8020</th>\n",
       "      <td>Rockin' All Over The World</td>\n",
       "      <td>John Fogerty</td>\n",
       "      <td>spotify:track:2X0fwXZpoAbVZdyFVjJOUm</td>\n",
       "      <td>0.539</td>\n",
       "      <td>0.909</td>\n",
       "      <td>2</td>\n",
       "      <td>-6.546</td>\n",
       "      <td>1</td>\n",
       "      <td>0.0423</td>\n",
       "      <td>0.5180</td>\n",
       "      <td>0.000394</td>\n",
       "      <td>0.5580</td>\n",
       "      <td>0.964</td>\n",
       "      <td>130.821</td>\n",
       "      <td>audio_features</td>\n",
       "      <td>2X0fwXZpoAbVZdyFVjJOUm</td>\n",
       "      <td>https://api.spotify.com/v1/tracks/2X0fwXZpoAbV...</td>\n",
       "      <td>https://api.spotify.com/v1/audio-analysis/2X0f...</td>\n",
       "      <td>173000</td>\n",
       "      <td>4</td>\n",
       "    </tr>\n",
       "    <tr>\n",
       "      <th>8021</th>\n",
       "      <td>Walking on the Chinese Wall</td>\n",
       "      <td>Philip Bailey</td>\n",
       "      <td>spotify:track:0PXHA9nXcu4UOJFXvye9LE</td>\n",
       "      <td>0.488</td>\n",
       "      <td>0.862</td>\n",
       "      <td>1</td>\n",
       "      <td>-7.653</td>\n",
       "      <td>0</td>\n",
       "      <td>0.0340</td>\n",
       "      <td>0.1690</td>\n",
       "      <td>0.025500</td>\n",
       "      <td>0.1780</td>\n",
       "      <td>0.497</td>\n",
       "      <td>169.956</td>\n",
       "      <td>audio_features</td>\n",
       "      <td>0PXHA9nXcu4UOJFXvye9LE</td>\n",
       "      <td>https://api.spotify.com/v1/tracks/0PXHA9nXcu4U...</td>\n",
       "      <td>https://api.spotify.com/v1/audio-analysis/0PXH...</td>\n",
       "      <td>308773</td>\n",
       "      <td>4</td>\n",
       "    </tr>\n",
       "  </tbody>\n",
       "</table>\n",
       "</div>"
      ],
      "text/plain": [
       "                            title         artist  \\\n",
       "8017     Jambalaya (On The Bayou)   John Fogerty   \n",
       "8018              Hearts Of Stone   John Fogerty   \n",
       "8019          Rock and Roll Girls   John Fogerty   \n",
       "8020   Rockin' All Over The World   John Fogerty   \n",
       "8021  Walking on the Chinese Wall  Philip Bailey   \n",
       "\n",
       "                                       uri  danceability  energy  key  \\\n",
       "8017  spotify:track:6389cBCT7TWS2Nx0KVsjrk         0.742   0.756    2   \n",
       "8018  spotify:track:2uJVtJd1w2N8vg6pJmaNdN         0.412   0.677    6   \n",
       "8019  spotify:track:5DeuAlTIDflXOomztXYM5D         0.794   0.730    7   \n",
       "8020  spotify:track:2X0fwXZpoAbVZdyFVjJOUm         0.539   0.909    2   \n",
       "8021  spotify:track:0PXHA9nXcu4UOJFXvye9LE         0.488   0.862    1   \n",
       "\n",
       "      loudness  mode  speechiness  acousticness  instrumentalness  liveness  \\\n",
       "8017   -10.121     1       0.0262        0.6240          0.000130    0.0800   \n",
       "8018   -10.763     1       0.0376        0.5370          0.006640    0.1210   \n",
       "8019    -6.067     1       0.0332        0.0538          0.000832    0.0826   \n",
       "8020    -6.546     1       0.0423        0.5180          0.000394    0.5580   \n",
       "8021    -7.653     0       0.0340        0.1690          0.025500    0.1780   \n",
       "\n",
       "      valence    tempo            type                      id  \\\n",
       "8017    0.977   98.568  audio_features  6389cBCT7TWS2Nx0KVsjrk   \n",
       "8018    0.853  205.922  audio_features  2uJVtJd1w2N8vg6pJmaNdN   \n",
       "8019    0.767  128.999  audio_features  5DeuAlTIDflXOomztXYM5D   \n",
       "8020    0.964  130.821  audio_features  2X0fwXZpoAbVZdyFVjJOUm   \n",
       "8021    0.497  169.956  audio_features  0PXHA9nXcu4UOJFXvye9LE   \n",
       "\n",
       "                                             track_href  \\\n",
       "8017  https://api.spotify.com/v1/tracks/6389cBCT7TWS...   \n",
       "8018  https://api.spotify.com/v1/tracks/2uJVtJd1w2N8...   \n",
       "8019  https://api.spotify.com/v1/tracks/5DeuAlTIDflX...   \n",
       "8020  https://api.spotify.com/v1/tracks/2X0fwXZpoAbV...   \n",
       "8021  https://api.spotify.com/v1/tracks/0PXHA9nXcu4U...   \n",
       "\n",
       "                                           analysis_url  duration_ms  \\\n",
       "8017  https://api.spotify.com/v1/audio-analysis/6389...       197760   \n",
       "8018  https://api.spotify.com/v1/audio-analysis/2uJV...       134000   \n",
       "8019  https://api.spotify.com/v1/audio-analysis/5Deu...       206640   \n",
       "8020  https://api.spotify.com/v1/audio-analysis/2X0f...       173000   \n",
       "8021  https://api.spotify.com/v1/audio-analysis/0PXH...       308773   \n",
       "\n",
       "      time_signature  \n",
       "8017               4  \n",
       "8018               4  \n",
       "8019               4  \n",
       "8020               4  \n",
       "8021               4  "
      ]
     },
     "metadata": {},
     "output_type": "display_data"
    },
    {
     "data": {
      "text/plain": [
       "(8022, 20)"
      ]
     },
     "metadata": {},
     "output_type": "display_data"
    }
   ],
   "source": [
    "display(spotify_data.head(5), spotify_data.tail(5), spotify_data.shape)"
   ]
  },
  {
   "cell_type": "markdown",
   "id": "48237808",
   "metadata": {},
   "source": [
    "#### Saving df to csv file"
   ]
  },
  {
   "cell_type": "code",
   "execution_count": 39,
   "id": "4a9ff31c",
   "metadata": {},
   "outputs": [],
   "source": [
    "spotify_data.to_csv('spotify_data.csv')"
   ]
  },
  {
   "cell_type": "code",
   "execution_count": null,
   "id": "f9c7a2a6",
   "metadata": {},
   "outputs": [],
   "source": []
  },
  {
   "cell_type": "markdown",
   "id": "fd1989b3",
   "metadata": {},
   "source": [
    "## GNOD 4"
   ]
  },
  {
   "cell_type": "markdown",
   "id": "ee170f1c",
   "metadata": {},
   "source": [
    "### Lab | Unsupervised learning intro"
   ]
  },
  {
   "cell_type": "markdown",
   "id": "99ea4fd2",
   "metadata": {},
   "source": [
    "It's the moment to perform clustering on the songs you collected. Remember that the ultimate goal of this little project is to improve the recommendations of artists. Clustering the songs will allow the recommendation system to limit the scope of the recommendations to only songs that belong to the same cluster - songs with similar audio features.\n",
    "\n",
    "\n",
    "\n",
    "The experiments you did with the Spotify API and the PopVortex web scraping will allow you to create a pipeline such that when the user enters a song, you:\n",
    "\n",
    "\n",
    "\n",
    "- Check whether or not the song is in the PopVortex Hot 100.\n",
    "- Collect the audio features from the Spotify API.\n",
    "\n",
    "\n",
    "\n",
    "After that, you want to send the Spotify audio features of the submitted song to the clustering model, which should return a cluster number.\n",
    "\n",
    "\n",
    "\n",
    "We want to have as many songs as possible to create the clustering model, so we will add the songs you collected to a bigger dataset available on Kaggle containing 160 thousand songs."
   ]
  },
  {
   "cell_type": "code",
   "execution_count": 257,
   "id": "5c09a659",
   "metadata": {},
   "outputs": [],
   "source": [
    "import numpy as np\n",
    "import matplotlib.pyplot as plt\n",
    "from matplotlib.lines import Line2D\n",
    "\n",
    "from sklearn import cluster, datasets\n",
    "from sklearn.preprocessing import StandardScaler\n",
    "\n",
    "from sklearn.cluster import KMeans"
   ]
  },
  {
   "cell_type": "markdown",
   "id": "97b5b0b4",
   "metadata": {},
   "source": [
    "#### Selecting features to cluster from main dataframe"
   ]
  },
  {
   "cell_type": "code",
   "execution_count": 258,
   "id": "fe9d943e",
   "metadata": {},
   "outputs": [
    {
     "data": {
      "text/plain": [
       "(8022, 20)"
      ]
     },
     "execution_count": 258,
     "metadata": {},
     "output_type": "execute_result"
    }
   ],
   "source": [
    "spotify_data.shape"
   ]
  },
  {
   "cell_type": "code",
   "execution_count": 259,
   "id": "8813540c",
   "metadata": {},
   "outputs": [
    {
     "name": "stdout",
     "output_type": "stream",
     "text": [
      "<class 'pandas.core.frame.DataFrame'>\n",
      "RangeIndex: 8022 entries, 0 to 8021\n",
      "Data columns (total 20 columns):\n",
      " #   Column            Non-Null Count  Dtype  \n",
      "---  ------            --------------  -----  \n",
      " 0   title             8022 non-null   object \n",
      " 1   artist            8022 non-null   object \n",
      " 2   uri               8022 non-null   object \n",
      " 3   danceability      8022 non-null   float64\n",
      " 4   energy            8022 non-null   float64\n",
      " 5   key               8022 non-null   int64  \n",
      " 6   loudness          8022 non-null   float64\n",
      " 7   mode              8022 non-null   int64  \n",
      " 8   speechiness       8022 non-null   float64\n",
      " 9   acousticness      8022 non-null   float64\n",
      " 10  instrumentalness  8022 non-null   float64\n",
      " 11  liveness          8022 non-null   float64\n",
      " 12  valence           8022 non-null   float64\n",
      " 13  tempo             8022 non-null   float64\n",
      " 14  type              8022 non-null   object \n",
      " 15  id                8022 non-null   object \n",
      " 16  track_href        8022 non-null   object \n",
      " 17  analysis_url      8022 non-null   object \n",
      " 18  duration_ms       8022 non-null   int64  \n",
      " 19  time_signature    8022 non-null   int64  \n",
      "dtypes: float64(9), int64(4), object(7)\n",
      "memory usage: 1.2+ MB\n"
     ]
    }
   ],
   "source": [
    "spotify_data.info()"
   ]
  },
  {
   "cell_type": "code",
   "execution_count": 260,
   "id": "e9dfad8e",
   "metadata": {},
   "outputs": [
    {
     "data": {
      "text/plain": [
       "pandas.core.frame.DataFrame"
      ]
     },
     "metadata": {},
     "output_type": "display_data"
    },
    {
     "data": {
      "text/html": [
       "<div>\n",
       "<style scoped>\n",
       "    .dataframe tbody tr th:only-of-type {\n",
       "        vertical-align: middle;\n",
       "    }\n",
       "\n",
       "    .dataframe tbody tr th {\n",
       "        vertical-align: top;\n",
       "    }\n",
       "\n",
       "    .dataframe thead th {\n",
       "        text-align: right;\n",
       "    }\n",
       "</style>\n",
       "<table border=\"1\" class=\"dataframe\">\n",
       "  <thead>\n",
       "    <tr style=\"text-align: right;\">\n",
       "      <th></th>\n",
       "      <th>danceability</th>\n",
       "      <th>energy</th>\n",
       "      <th>key</th>\n",
       "      <th>loudness</th>\n",
       "      <th>mode</th>\n",
       "      <th>speechiness</th>\n",
       "      <th>acousticness</th>\n",
       "      <th>instrumentalness</th>\n",
       "      <th>liveness</th>\n",
       "      <th>valence</th>\n",
       "      <th>tempo</th>\n",
       "      <th>duration_ms</th>\n",
       "      <th>time_signature</th>\n",
       "    </tr>\n",
       "  </thead>\n",
       "  <tbody>\n",
       "    <tr>\n",
       "      <th>0</th>\n",
       "      <td>0.392</td>\n",
       "      <td>0.402</td>\n",
       "      <td>0</td>\n",
       "      <td>-9.961</td>\n",
       "      <td>0</td>\n",
       "      <td>0.0536</td>\n",
       "      <td>0.28800</td>\n",
       "      <td>0.000000</td>\n",
       "      <td>0.2430</td>\n",
       "      <td>0.228</td>\n",
       "      <td>143.883</td>\n",
       "      <td>354320</td>\n",
       "      <td>4</td>\n",
       "    </tr>\n",
       "    <tr>\n",
       "      <th>1</th>\n",
       "      <td>0.401</td>\n",
       "      <td>0.383</td>\n",
       "      <td>9</td>\n",
       "      <td>-10.048</td>\n",
       "      <td>1</td>\n",
       "      <td>0.0279</td>\n",
       "      <td>0.51000</td>\n",
       "      <td>0.007800</td>\n",
       "      <td>0.1210</td>\n",
       "      <td>0.285</td>\n",
       "      <td>96.957</td>\n",
       "      <td>269986</td>\n",
       "      <td>4</td>\n",
       "    </tr>\n",
       "    <tr>\n",
       "      <th>2</th>\n",
       "      <td>0.579</td>\n",
       "      <td>0.508</td>\n",
       "      <td>2</td>\n",
       "      <td>-9.484</td>\n",
       "      <td>1</td>\n",
       "      <td>0.0270</td>\n",
       "      <td>0.00574</td>\n",
       "      <td>0.000494</td>\n",
       "      <td>0.0575</td>\n",
       "      <td>0.609</td>\n",
       "      <td>147.125</td>\n",
       "      <td>391376</td>\n",
       "      <td>4</td>\n",
       "    </tr>\n",
       "  </tbody>\n",
       "</table>\n",
       "</div>"
      ],
      "text/plain": [
       "   danceability  energy  key  loudness  mode  speechiness  acousticness  \\\n",
       "0         0.392   0.402    0    -9.961     0       0.0536       0.28800   \n",
       "1         0.401   0.383    9   -10.048     1       0.0279       0.51000   \n",
       "2         0.579   0.508    2    -9.484     1       0.0270       0.00574   \n",
       "\n",
       "   instrumentalness  liveness  valence    tempo  duration_ms  time_signature  \n",
       "0          0.000000    0.2430    0.228  143.883       354320               4  \n",
       "1          0.007800    0.1210    0.285   96.957       269986               4  \n",
       "2          0.000494    0.0575    0.609  147.125       391376               4  "
      ]
     },
     "metadata": {},
     "output_type": "display_data"
    },
    {
     "data": {
      "text/plain": [
       "(8022, 13)"
      ]
     },
     "metadata": {},
     "output_type": "display_data"
    },
    {
     "data": {
      "text/plain": [
       "Index(['danceability', 'energy', 'key', 'loudness', 'mode', 'speechiness',\n",
       "       'acousticness', 'instrumentalness', 'liveness', 'valence', 'tempo',\n",
       "       'duration_ms', 'time_signature'],\n",
       "      dtype='object')"
      ]
     },
     "metadata": {},
     "output_type": "display_data"
    }
   ],
   "source": [
    "# All NUMERICAL columns AFTER 'uri' are the features to be taken\n",
    "features = spotify_data.select_dtypes(np.number)\n",
    "display(type(features),features.head(3), features.shape, features.columns)"
   ]
  },
  {
   "cell_type": "markdown",
   "id": "2860faa4",
   "metadata": {},
   "source": [
    "#### Clustering features with K-Means"
   ]
  },
  {
   "cell_type": "markdown",
   "id": "b65e2483",
   "metadata": {},
   "source": [
    "##### X (data with no target)"
   ]
  },
  {
   "cell_type": "code",
   "execution_count": 261,
   "id": "03ecfad5",
   "metadata": {},
   "outputs": [],
   "source": [
    "X = features"
   ]
  },
  {
   "cell_type": "markdown",
   "id": "967768f7",
   "metadata": {},
   "source": [
    "##### Scaling X data (not training!)"
   ]
  },
  {
   "cell_type": "code",
   "execution_count": 262,
   "id": "f1f66833",
   "metadata": {},
   "outputs": [
    {
     "data": {
      "text/html": [
       "<div>\n",
       "<style scoped>\n",
       "    .dataframe tbody tr th:only-of-type {\n",
       "        vertical-align: middle;\n",
       "    }\n",
       "\n",
       "    .dataframe tbody tr th {\n",
       "        vertical-align: top;\n",
       "    }\n",
       "\n",
       "    .dataframe thead th {\n",
       "        text-align: right;\n",
       "    }\n",
       "</style>\n",
       "<table border=\"1\" class=\"dataframe\">\n",
       "  <thead>\n",
       "    <tr style=\"text-align: right;\">\n",
       "      <th></th>\n",
       "      <th>danceability</th>\n",
       "      <th>energy</th>\n",
       "      <th>key</th>\n",
       "      <th>loudness</th>\n",
       "      <th>mode</th>\n",
       "      <th>speechiness</th>\n",
       "      <th>acousticness</th>\n",
       "      <th>instrumentalness</th>\n",
       "      <th>liveness</th>\n",
       "      <th>valence</th>\n",
       "      <th>tempo</th>\n",
       "      <th>duration_ms</th>\n",
       "      <th>time_signature</th>\n",
       "    </tr>\n",
       "  </thead>\n",
       "  <tbody>\n",
       "    <tr>\n",
       "      <th>0</th>\n",
       "      <td>-1.100583</td>\n",
       "      <td>-0.985937</td>\n",
       "      <td>-1.461892</td>\n",
       "      <td>-0.185651</td>\n",
       "      <td>-1.589876</td>\n",
       "      <td>0.101728</td>\n",
       "      <td>-0.017268</td>\n",
       "      <td>-0.301303</td>\n",
       "      <td>0.322336</td>\n",
       "      <td>-1.410202</td>\n",
       "      <td>0.898079</td>\n",
       "      <td>1.241836</td>\n",
       "      <td>0.228297</td>\n",
       "    </tr>\n",
       "    <tr>\n",
       "      <th>1</th>\n",
       "      <td>-1.042718</td>\n",
       "      <td>-1.076641</td>\n",
       "      <td>1.071914</td>\n",
       "      <td>-0.210985</td>\n",
       "      <td>0.628980</td>\n",
       "      <td>-0.526251</td>\n",
       "      <td>0.792100</td>\n",
       "      <td>-0.247865</td>\n",
       "      <td>-0.416158</td>\n",
       "      <td>-1.185313</td>\n",
       "      <td>-0.847937</td>\n",
       "      <td>0.270234</td>\n",
       "      <td>0.228297</td>\n",
       "    </tr>\n",
       "    <tr>\n",
       "      <th>2</th>\n",
       "      <td>0.101729</td>\n",
       "      <td>-0.479900</td>\n",
       "      <td>-0.898824</td>\n",
       "      <td>-0.046753</td>\n",
       "      <td>0.628980</td>\n",
       "      <td>-0.548242</td>\n",
       "      <td>-1.046332</td>\n",
       "      <td>-0.297918</td>\n",
       "      <td>-0.800539</td>\n",
       "      <td>0.093005</td>\n",
       "      <td>1.018706</td>\n",
       "      <td>1.668754</td>\n",
       "      <td>0.228297</td>\n",
       "    </tr>\n",
       "    <tr>\n",
       "      <th>3</th>\n",
       "      <td>-1.473493</td>\n",
       "      <td>-0.651761</td>\n",
       "      <td>-1.461892</td>\n",
       "      <td>0.155043</td>\n",
       "      <td>0.628980</td>\n",
       "      <td>-0.531138</td>\n",
       "      <td>1.120222</td>\n",
       "      <td>-0.301278</td>\n",
       "      <td>0.770276</td>\n",
       "      <td>-0.609281</td>\n",
       "      <td>2.211144</td>\n",
       "      <td>1.031845</td>\n",
       "      <td>-3.001681</td>\n",
       "    </tr>\n",
       "    <tr>\n",
       "      <th>4</th>\n",
       "      <td>-2.277178</td>\n",
       "      <td>-0.914328</td>\n",
       "      <td>-0.617290</td>\n",
       "      <td>0.169893</td>\n",
       "      <td>0.628980</td>\n",
       "      <td>-0.382084</td>\n",
       "      <td>-0.469347</td>\n",
       "      <td>-0.287875</td>\n",
       "      <td>-0.464584</td>\n",
       "      <td>-1.820526</td>\n",
       "      <td>0.685808</td>\n",
       "      <td>0.564558</td>\n",
       "      <td>0.228297</td>\n",
       "    </tr>\n",
       "  </tbody>\n",
       "</table>\n",
       "</div>"
      ],
      "text/plain": [
       "   danceability    energy       key  loudness      mode  speechiness  \\\n",
       "0     -1.100583 -0.985937 -1.461892 -0.185651 -1.589876     0.101728   \n",
       "1     -1.042718 -1.076641  1.071914 -0.210985  0.628980    -0.526251   \n",
       "2      0.101729 -0.479900 -0.898824 -0.046753  0.628980    -0.548242   \n",
       "3     -1.473493 -0.651761 -1.461892  0.155043  0.628980    -0.531138   \n",
       "4     -2.277178 -0.914328 -0.617290  0.169893  0.628980    -0.382084   \n",
       "\n",
       "   acousticness  instrumentalness  liveness   valence     tempo  duration_ms  \\\n",
       "0     -0.017268         -0.301303  0.322336 -1.410202  0.898079     1.241836   \n",
       "1      0.792100         -0.247865 -0.416158 -1.185313 -0.847937     0.270234   \n",
       "2     -1.046332         -0.297918 -0.800539  0.093005  1.018706     1.668754   \n",
       "3      1.120222         -0.301278  0.770276 -0.609281  2.211144     1.031845   \n",
       "4     -0.469347         -0.287875 -0.464584 -1.820526  0.685808     0.564558   \n",
       "\n",
       "   time_signature  \n",
       "0        0.228297  \n",
       "1        0.228297  \n",
       "2        0.228297  \n",
       "3       -3.001681  \n",
       "4        0.228297  "
      ]
     },
     "execution_count": 262,
     "metadata": {},
     "output_type": "execute_result"
    }
   ],
   "source": [
    "from sklearn.preprocessing import StandardScaler\n",
    "\n",
    "X_prep = StandardScaler().fit_transform(X)\n",
    "\n",
    "#Checking tranformation\n",
    "pd.DataFrame(X_prep,columns=X.columns).head()"
   ]
  },
  {
   "cell_type": "code",
   "execution_count": null,
   "id": "f5ccd178",
   "metadata": {},
   "outputs": [],
   "source": []
  },
  {
   "cell_type": "markdown",
   "id": "ab3df98e",
   "metadata": {},
   "source": [
    "##### Choosing k (defining best number of clusters) // Elbow and Silhouette"
   ]
  },
  {
   "cell_type": "markdown",
   "id": "532e295f",
   "metadata": {},
   "source": [
    "###### Elbow"
   ]
  },
  {
   "cell_type": "code",
   "execution_count": 263,
   "id": "a86d5124",
   "metadata": {},
   "outputs": [
    {
     "data": {
      "text/plain": [
       "Text(0.5, 1.0, 'Elbow Method showing the optimal k')"
      ]
     },
     "execution_count": 263,
     "metadata": {},
     "output_type": "execute_result"
    },
    {
     "data": {
      "image/png": "[encoded data removed]",
      "text/plain": [
       "<Figure size 1600x800 with 1 Axes>"
      ]
     },
     "metadata": {},
     "output_type": "display_data"
    }
   ],
   "source": [
    "# As we have 13 features, set range (2-14)\n",
    "\n",
    "K = range(2, 14)\n",
    "inertia = []\n",
    "\n",
    "for k in K:\n",
    "    kmeans = KMeans(n_clusters=k,\n",
    "                    random_state=1234)\n",
    "    kmeans.fit(X_prep)\n",
    "    inertia.append(kmeans.inertia_)\n",
    "\n",
    "import matplotlib.pyplot as plt\n",
    "%matplotlib inline\n",
    "\n",
    "plt.figure(figsize=(16,8))\n",
    "plt.plot(K, inertia, 'bx-')\n",
    "plt.xlabel('k')\n",
    "plt.ylabel('inertia')\n",
    "plt.xticks(np.arange(min(K), max(K)+1, 1.0))\n",
    "plt.title('Elbow Method showing the optimal k')"
   ]
  },
  {
   "cell_type": "markdown",
   "id": "ebeb9272",
   "metadata": {},
   "source": [
    "- Difficult to assess the elbow point, but seems 8"
   ]
  },
  {
   "cell_type": "code",
   "execution_count": null,
   "id": "cbd4935d",
   "metadata": {},
   "outputs": [],
   "source": []
  },
  {
   "cell_type": "markdown",
   "id": "40b530b8",
   "metadata": {},
   "source": [
    "###### Silhouette score"
   ]
  },
  {
   "cell_type": "code",
   "execution_count": 264,
   "id": "d591b6dc",
   "metadata": {},
   "outputs": [
    {
     "data": {
      "text/plain": [
       "Text(0.5, 1.0, 'Slhouette score showing the optimal k')"
      ]
     },
     "execution_count": 264,
     "metadata": {},
     "output_type": "execute_result"
    },
    {
     "data": {
      "image/png": "[encoded data removed]",
      "text/plain": [
       "<Figure size 1600x800 with 1 Axes>"
      ]
     },
     "metadata": {},
     "output_type": "display_data"
    }
   ],
   "source": [
    "from sklearn.metrics import silhouette_score\n",
    "K = range(2, 14)\n",
    "silhouette = []\n",
    "\n",
    "for k in K:\n",
    "    kmeans = KMeans(n_clusters=k,\n",
    "                    random_state=1234)\n",
    "    kmeans.fit(X_prep)\n",
    "    silhouette.append(silhouette_score(X_prep, kmeans.predict(X_prep)))\n",
    "\n",
    "\n",
    "plt.figure(figsize=(16,8))\n",
    "plt.plot(K, silhouette, 'bx-')\n",
    "plt.xlabel('k')\n",
    "plt.ylabel('silhouette score')\n",
    "plt.xticks(np.arange(min(K), max(K)+1, 1.0))\n",
    "plt.title('Slhouette score showing the optimal k')"
   ]
  },
  {
   "cell_type": "markdown",
   "id": "c320a97c",
   "metadata": {},
   "source": [
    "- Max value indicates 2 clusters would be optimal; second max value, 8 values, just as elbow."
   ]
  },
  {
   "cell_type": "code",
   "execution_count": null,
   "id": "62bd85ba",
   "metadata": {},
   "outputs": [],
   "source": []
  },
  {
   "cell_type": "markdown",
   "id": "ac32c57e",
   "metadata": {},
   "source": [
    "#### Checking KMeans with 2 and 8 clusters"
   ]
  },
  {
   "cell_type": "markdown",
   "id": "d281f2ba",
   "metadata": {},
   "source": [
    "##### Number of clusters = 2"
   ]
  },
  {
   "cell_type": "code",
   "execution_count": 265,
   "id": "f9041800",
   "metadata": {},
   "outputs": [
    {
     "data": {
      "text/plain": [
       "KMeans(n_clusters=2, random_state=1234)"
      ]
     },
     "execution_count": 265,
     "metadata": {},
     "output_type": "execute_result"
    }
   ],
   "source": [
    "kmeans = KMeans(n_clusters=2, random_state=1234)\n",
    "kmeans.fit(X_prep)"
   ]
  },
  {
   "cell_type": "code",
   "execution_count": 266,
   "id": "98880be2",
   "metadata": {},
   "outputs": [],
   "source": [
    "# Predicting / assigning the clusters:\n",
    "clusters = kmeans.predict(X_prep)"
   ]
  },
  {
   "cell_type": "code",
   "execution_count": 267,
   "id": "c4fb46d1",
   "metadata": {},
   "outputs": [
    {
     "data": {
      "text/plain": [
       "0    5321\n",
       "1    2701\n",
       "dtype: int64"
      ]
     },
     "execution_count": 267,
     "metadata": {},
     "output_type": "execute_result"
    }
   ],
   "source": [
    "# Size of the clusters\n",
    "pd.Series(clusters).value_counts().sort_index()"
   ]
  },
  {
   "cell_type": "code",
   "execution_count": 268,
   "id": "7620a536",
   "metadata": {},
   "outputs": [
    {
     "data": {
      "text/plain": [
       "array([1, 1, 0, ..., 0, 0, 0], dtype=int32)"
      ]
     },
     "execution_count": 268,
     "metadata": {},
     "output_type": "execute_result"
    }
   ],
   "source": [
    "clusters"
   ]
  },
  {
   "cell_type": "code",
   "execution_count": 269,
   "id": "dec4ce38",
   "metadata": {},
   "outputs": [],
   "source": [
    "#y.values\n",
    "#pd.Series(y).value_counts().sort_index()"
   ]
  },
  {
   "cell_type": "code",
   "execution_count": 270,
   "id": "4189b11b",
   "metadata": {},
   "outputs": [
    {
     "data": {
      "image/png": "[encoded data removed]",
      "text/plain": [
       "<Figure size 500x500 with 1 Axes>"
      ]
     },
     "metadata": {},
     "output_type": "display_data"
    }
   ],
   "source": [
    "# Plotting (num clusters = 2)\n",
    "plt.figure(figsize=(5, 5))\n",
    "plt.scatter(X_prep[:, 0], X_prep[:, 2], c=clusters,alpha=0.5)\n",
    "\n",
    "plt.show()"
   ]
  },
  {
   "cell_type": "code",
   "execution_count": null,
   "id": "7a3f35f4",
   "metadata": {},
   "outputs": [],
   "source": []
  },
  {
   "cell_type": "markdown",
   "id": "d8a585fe",
   "metadata": {},
   "source": [
    "##### Number of clusters = 8"
   ]
  },
  {
   "cell_type": "code",
   "execution_count": 271,
   "id": "b9053a72",
   "metadata": {},
   "outputs": [
    {
     "data": {
      "text/plain": [
       "KMeans(random_state=1234)"
      ]
     },
     "execution_count": 271,
     "metadata": {},
     "output_type": "execute_result"
    }
   ],
   "source": [
    "kmeans = KMeans(n_clusters=8, random_state=1234)\n",
    "kmeans.fit(X_prep)"
   ]
  },
  {
   "cell_type": "code",
   "execution_count": 272,
   "id": "4b2d805b",
   "metadata": {},
   "outputs": [],
   "source": [
    "# Predicting / assigning the clusters:\n",
    "clusters = kmeans.predict(X_prep)"
   ]
  },
  {
   "cell_type": "code",
   "execution_count": 273,
   "id": "3ddaf84c",
   "metadata": {},
   "outputs": [
    {
     "data": {
      "text/plain": [
       "0     484\n",
       "1    2324\n",
       "2    1217\n",
       "3     324\n",
       "4     503\n",
       "5    1407\n",
       "6     182\n",
       "7    1581\n",
       "dtype: int64"
      ]
     },
     "execution_count": 273,
     "metadata": {},
     "output_type": "execute_result"
    }
   ],
   "source": [
    "# Size of the clusters\n",
    "pd.Series(clusters).value_counts().sort_index()"
   ]
  },
  {
   "cell_type": "code",
   "execution_count": 274,
   "id": "94790a6c",
   "metadata": {},
   "outputs": [
    {
     "data": {
      "text/plain": [
       "array([7, 7, 2, ..., 1, 0, 2], dtype=int32)"
      ]
     },
     "execution_count": 274,
     "metadata": {},
     "output_type": "execute_result"
    }
   ],
   "source": [
    "clusters"
   ]
  },
  {
   "cell_type": "code",
   "execution_count": 275,
   "id": "088ffc6f",
   "metadata": {},
   "outputs": [],
   "source": [
    "#y.values\n",
    "#pd.Series(y).value_counts().sort_index()"
   ]
  },
  {
   "cell_type": "code",
   "execution_count": 276,
   "id": "3178db20",
   "metadata": {},
   "outputs": [
    {
     "data": {
      "image/png": "[encoded data removed]",
      "text/plain": [
       "<Figure size 500x500 with 1 Axes>"
      ]
     },
     "metadata": {},
     "output_type": "display_data"
    }
   ],
   "source": [
    "# Plotting (num clusters = 8)\n",
    "plt.figure(figsize=(5, 5))\n",
    "plt.scatter(X_prep[:, 0], X_prep[:, 8], c=clusters,alpha=0.5)\n",
    "\n",
    "plt.show()"
   ]
  },
  {
   "cell_type": "markdown",
   "id": "bfd8960d",
   "metadata": {},
   "source": [
    "I'm keeping 8 clusters for my KMean model"
   ]
  },
  {
   "cell_type": "code",
   "execution_count": 277,
   "id": "9e25bcc5",
   "metadata": {},
   "outputs": [
    {
     "data": {
      "text/plain": [
       "0     484\n",
       "1    2324\n",
       "2    1217\n",
       "3     324\n",
       "4     503\n",
       "5    1407\n",
       "6     182\n",
       "7    1581\n",
       "dtype: int64"
      ]
     },
     "execution_count": 277,
     "metadata": {},
     "output_type": "execute_result"
    }
   ],
   "source": [
    "# Number of songs in each cluster\n",
    "pd.Series(clusters).value_counts().sort_index()"
   ]
  },
  {
   "cell_type": "code",
   "execution_count": null,
   "id": "5174730b",
   "metadata": {},
   "outputs": [],
   "source": []
  },
  {
   "cell_type": "markdown",
   "id": "2f881581",
   "metadata": {},
   "source": [
    "Now I need to:\n",
    "\n",
    "- Get the audio features from the input song\n",
    "- Check against the clusters built by KMeans model\n",
    "- Get the segment/cluster number\n",
    "\n",
    "If song not in spotify_data, make a call to that particular song to recover its audio features data. (not done)"
   ]
  },
  {
   "cell_type": "code",
   "execution_count": null,
   "id": "32aa7550",
   "metadata": {},
   "outputs": [],
   "source": []
  },
  {
   "cell_type": "markdown",
   "id": "c5abce74",
   "metadata": {},
   "source": [
    "#### Function to identify the cluster of the target song"
   ]
  },
  {
   "cell_type": "code",
   "execution_count": 315,
   "id": "e2cadc34",
   "metadata": {},
   "outputs": [],
   "source": [
    "# Function:\n",
    "\n",
    "# First: \n",
    "## It takes numerical variables from spotify_data (corresponding to audio features\n",
    "## Select all X (no target yet)\n",
    "## Scale values of X\n",
    "## K-Means generate 8 clusters/segments (k=8 from elbow and 2nd max of silouhette)\n",
    "## and fit the model with X scaled (X_prep)\n",
    "\n",
    "# Then:\n",
    "## If song_searched IN Spotify_data --> retrieve audio features for that song\n",
    "## Scalate new audio features\n",
    "## Check against the previous KMeans fitted model\n",
    "## Obtain segment/cluster of searched song\n",
    "\n",
    "\n",
    "\n",
    "def get_song_cluster(song_searched, spotify_data):\n",
    "    \n",
    "    # All NUMERICAL columns AFTER 'uri' are the features to be taken\n",
    "    features = spotify_data.select_dtypes(np.number)\n",
    "    \n",
    "    # Select X, but no target yet\n",
    "    X = features\n",
    "\n",
    "    # Scaling Data\n",
    "    X_prep = StandardScaler().fit_transform(X)\n",
    "\n",
    "    # KMeans (k = 8) to create 8 clusters/segments\n",
    "    kmeans = KMeans(n_clusters=8, random_state=1234)\n",
    "    kmeans.fit(X_prep)\n",
    "    \n",
    "    # Converting both searched song and 'title' in spotify_data to lower case\n",
    "    song_searched = song_searched.lower() \n",
    "    spotify_data['title'] = spotify_data['title'].str.lower()\n",
    "\n",
    "    # Checking if the input song is in the Spotify data\n",
    "    if song_searched in spotify_data['title'].values:\n",
    "        \n",
    "        # Extracting the features for the input song \n",
    "        # (filtering through boolean mask and selecting first row of filtered)\n",
    "        song_features = features.loc[spotify_data['title']==song_searched].iloc[0]\n",
    "        \n",
    "        # Predicting the cluster:\n",
    "        \n",
    "        # Solving dimensional issue and need for array:   \n",
    "        # Convert target_song to a numpy array and reshape to be a 2-dimensional array with one row\n",
    "        song_features_arr = np.array(song_features).reshape(1, -1)\n",
    "        \n",
    "        # Scaling target_song values using the same X_prep scaler used for X data\n",
    "        song_features_prep = StandardScaler().fit(X_prep).transform(song_features_arr)\n",
    "        \n",
    "        # Predicting / assigning the clusters using the same Kmeans fitted before:\n",
    "        song_cluster = kmeans.predict(song_features_prep)\n",
    "        \n",
    "        display(Markdown(f\"The song '**{song_searched.capitalize()}**' belongs to cluster '**{song_cluster[0]}**'.\"))\n",
    "        #return f\"The song '{song_searched}' belongs to cluster '{song_cluster[0]}'.\"\n",
    "                \n",
    "    else:\n",
    "    \n",
    "        return f\"The song '**{song_searched}**' is not in the Spotify data.\"\n"
   ]
  },
  {
   "cell_type": "code",
   "execution_count": 316,
   "id": "2ae14de4",
   "metadata": {},
   "outputs": [
    {
     "data": {
      "text/plain": [
       "0    bohemian rhapsody - remastered 2011\n",
       "1                         roller coaster\n",
       "2       hotel california - 2013 remaster\n",
       "3                              piano man\n",
       "4                                fix you\n",
       "5          stairway to heaven - remaster\n",
       "6                                  black\n",
       "7                                  avond\n",
       "8      nothing else matters (remastered)\n",
       "9      love of my life - remastered 2011\n",
       "Name: title, dtype: object"
      ]
     },
     "execution_count": 316,
     "metadata": {},
     "output_type": "execute_result"
    }
   ],
   "source": [
    "spotify_data['title'][0:10]"
   ]
  },
  {
   "cell_type": "code",
   "execution_count": 317,
   "id": "2a3993b3",
   "metadata": {},
   "outputs": [
    {
     "name": "stdout",
     "output_type": "stream",
     "text": [
      "Introduce the name of a song: avond\n"
     ]
    },
    {
     "data": {
      "text/markdown": [
       "The song '**Avond**' belongs to cluster '**3**'."
      ],
      "text/plain": [
       "<IPython.core.display.Markdown object>"
      ]
     },
     "metadata": {},
     "output_type": "display_data"
    }
   ],
   "source": [
    "# Input\n",
    "song_searched = input(\"Introduce the name of a song: \")\n",
    "# Applying function\n",
    "get_song_cluster(song_searched, spotify_data)"
   ]
  },
  {
   "cell_type": "code",
   "execution_count": null,
   "id": "18250471",
   "metadata": {},
   "outputs": [],
   "source": []
  },
  {
   "cell_type": "code",
   "execution_count": null,
   "id": "f21df01f",
   "metadata": {},
   "outputs": [],
   "source": []
  },
  {
   "cell_type": "code",
   "execution_count": null,
   "id": "4bf17566",
   "metadata": {},
   "outputs": [],
   "source": []
  },
  {
   "cell_type": "code",
   "execution_count": null,
   "id": "90a93c50",
   "metadata": {},
   "outputs": [],
   "source": []
  },
  {
   "cell_type": "markdown",
   "id": "29d48dab",
   "metadata": {},
   "source": [
    "Now that the cluster of our searched song has been identified, we need to recommend the most similar song (audio features) of that cluster"
   ]
  },
  {
   "cell_type": "code",
   "execution_count": 318,
   "id": "83938323",
   "metadata": {},
   "outputs": [
    {
     "ename": "NameError",
     "evalue": "name 'song_cluster' is not defined",
     "output_type": "error",
     "traceback": [
      "\u001b[0;31m---------------------------------------------------------------------------\u001b[0m",
      "\u001b[0;31mNameError\u001b[0m                                 Traceback (most recent call last)",
      "\u001b[0;32m/var/folders/w7/7cfd14hn02g0d126w5q47rqw0000gn/T/ipykernel_1107/2126985573.py\u001b[0m in \u001b[0;36m<module>\u001b[0;34m\u001b[0m\n\u001b[0;32m----> 1\u001b[0;31m \u001b[0msong_cluster\u001b[0m\u001b[0;34m\u001b[0m\u001b[0;34m\u001b[0m\u001b[0m\n\u001b[0m",
      "\u001b[0;31mNameError\u001b[0m: name 'song_cluster' is not defined"
     ]
    }
   ],
   "source": [
    "song_cluster"
   ]
  },
  {
   "cell_type": "code",
   "execution_count": null,
   "id": "05692ab5",
   "metadata": {},
   "outputs": [],
   "source": [
    "# Load clustering model\n",
    "#from sklearn.cluster import KMeans\n",
    "\n",
    "kmeans_model = KMeans(n_clusters=8)\n",
    "kmeans_model = joblib.load('kmeans_model.pkl')\n",
    "\n",
    "# Get predicted cluster for new song\n",
    "new_song_features = # load features of new song\n",
    "predicted_cluster = kmeans_model.predict(new_song_features.reshape(1, -1))[0]\n",
    "\n",
    "# Retrieve all songs in predicted cluster\n",
    "songs_in_cluster = # load original dataset\n",
    "songs_in_cluster = songs_in_cluster[kmeans_model.labels_ == predicted_cluster]\n",
    "\n",
    "# Compare new song with songs in predicted cluster and recommend most similar\n",
    "from sklearn.metrics.pairwise import cosine_similarity\n",
    "\n",
    "similarities = cosine_similarity(new_song_features.reshape(1, -1), songs_in_cluster)\n",
    "most_similar_song_idx = np.argmax(similarities)\n",
    "\n",
    "most_similar_song = songs_in_cluster[most_similar_song_idx]\n",
    "\n",
    "# Return most similar song to user\n",
    "return most_similar_song"
   ]
  },
  {
   "cell_type": "code",
   "execution_count": null,
   "id": "d5c895de",
   "metadata": {},
   "outputs": [],
   "source": []
  },
  {
   "cell_type": "code",
   "execution_count": null,
   "id": "09225550",
   "metadata": {},
   "outputs": [],
   "source": []
  },
  {
   "cell_type": "code",
   "execution_count": null,
   "id": "6cc46e83",
   "metadata": {},
   "outputs": [],
   "source": []
  },
  {
   "cell_type": "code",
   "execution_count": null,
   "id": "04993f06",
   "metadata": {},
   "outputs": [],
   "source": []
  },
  {
   "cell_type": "markdown",
   "id": "4165e067",
   "metadata": {},
   "source": [
    "#### Ward linkage"
   ]
  },
  {
   "cell_type": "code",
   "execution_count": null,
   "id": "5323e766",
   "metadata": {},
   "outputs": [],
   "source": [
    "# ward linkage tends to produce relatively equally sized clusters\n",
    "agglomerative = cluster.AgglomerativeClustering(n_clusters=8,linkage='ward')\n",
    "pred = agglomerative.fit_predict(X_prep)\n",
    "\n",
    "plt.figure(figsize=(5, 5))\n",
    "plt.scatter(X_prep[:, 0], X_prep[:, 1], c=pred,alpha=0.5)\n",
    "plt.show()"
   ]
  },
  {
   "cell_type": "code",
   "execution_count": null,
   "id": "532c932d",
   "metadata": {},
   "outputs": [],
   "source": [
    "pd.Series(pred).value_counts().sort_index()"
   ]
  },
  {
   "cell_type": "markdown",
   "id": "dd2c28f0",
   "metadata": {},
   "source": [
    "#### Average linkage"
   ]
  },
  {
   "cell_type": "code",
   "execution_count": null,
   "id": "b16202dd",
   "metadata": {},
   "outputs": [],
   "source": [
    "# Average\n",
    "agglomerative = cluster.AgglomerativeClustering(n_clusters=8,linkage='average')\n",
    "pred = agglomerative.fit_predict(X_prep)\n",
    "\n",
    "plt.figure(figsize=(5, 5))\n",
    "plt.scatter(X_prep[:, 0], X_prep[:, 1], c=pred,alpha=0.5)\n",
    "plt.show()"
   ]
  },
  {
   "cell_type": "code",
   "execution_count": null,
   "id": "ef7ca985",
   "metadata": {},
   "outputs": [],
   "source": [
    "pd.Series(pred).value_counts().sort_index()"
   ]
  }
 ],
 "metadata": {
  "kernelspec": {
   "display_name": "Python 3 (ipykernel)",
   "language": "python",
   "name": "python3"
  },
  "language_info": {
   "codemirror_mode": {
    "name": "ipython",
    "version": 3
   },
   "file_extension": ".py",
   "mimetype": "text/x-python",
   "name": "python",
   "nbconvert_exporter": "python",
   "pygments_lexer": "ipython3",
   "version": "3.9.13"
  }
 },
 "nbformat": 4,
 "nbformat_minor": 5
}
