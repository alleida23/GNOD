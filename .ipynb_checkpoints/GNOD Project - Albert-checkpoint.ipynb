{
 "cells": [
  {
   "cell_type": "markdown",
   "id": "8ad245bd",
   "metadata": {},
   "source": [
    "## GNOD 1\n"
   ]
  },
  {
   "cell_type": "markdown",
   "id": "097c8172",
   "metadata": {},
   "source": [
    "#### Business goal:\n",
    "Check the case_study_gnod.md file.\n",
    "\n",
    "Make sure you've understood the big picture of your project:\n",
    "\n",
    "- the goal of the company (Gnod),\n",
    "- their current product (Gnoosic),\n",
    "- their strategy, and\n",
    "- how your project fits into this context.\n",
    "\n",
    "Re-read the business case and the e-mail from the CTO, take a look at the flowchart and create an initial Trello board with the tasks you think you'll have to accomplish.\n",
    "\n",
    "\n",
    "\n",
    "\n",
    "\n",
    "#### Instructions - Scraping popular songs\n",
    "Your product will take a song as an input from the user and will output another song (the recommendation). In most cases, the recommended song will have to be similar to the inputted song, but the CTO thinks that if the song is on the top charts at the moment, the user will enjoy more a recommendation of a song that's also popular at the moment.\n",
    "\n",
    "You have find data on the internet about currently popular songs. Billboard maintains a weekly Top 100 of \"hot\" songs here: https://www.billboard.com/charts/hot-100.\n",
    "\n",
    "It's a good place to start! Scrape the current top 100 songs and their respective artists, and put the information into a pandas dataframe.\n",
    "\n",
    "\n",
    "\n",
    "\n",
    "--> popvortex.com/music/charts/top-100-songs.php"
   ]
  },
  {
   "cell_type": "code",
   "execution_count": 1,
   "id": "398c4848",
   "metadata": {},
   "outputs": [],
   "source": [
    "# Libraries\n",
    "import pandas as pd\n",
    "import requests\n",
    "from bs4 import BeautifulSoup\n",
    "import time\n",
    "import random\n"
   ]
  },
  {
   "cell_type": "code",
   "execution_count": 2,
   "id": "d0614cdd",
   "metadata": {},
   "outputs": [],
   "source": [
    "url = 'https://www.popvortex.com/music/charts/top-100-songs.php'\n",
    "response = requests.get(url)\n",
    "soup = BeautifulSoup(response.content, 'html.parser')"
   ]
  },
  {
   "cell_type": "code",
   "execution_count": 3,
   "id": "cce13688",
   "metadata": {},
   "outputs": [
    {
     "data": {
      "text/plain": [
       "200"
      ]
     },
     "metadata": {},
     "output_type": "display_data"
    }
   ],
   "source": [
    "display(response.status_code)\n",
    "#soup"
   ]
  },
  {
   "cell_type": "code",
   "execution_count": null,
   "id": "3b263c9d",
   "metadata": {},
   "outputs": [],
   "source": [
    "# Artist Name // #chart-position-1 > div.chart-content.col-xs-12.col-sm-8 > p > em\n",
    "\n",
    "# Song title // #chart-position-1 > div.chart-content.col-xs-12.col-sm-8 > p > cite\n",
    "\n",
    "# genre // #chart-position-1 > div.chart-content.col-xs-12.col-sm-8 > ul > li:nth-child(2) > a\n",
    "\n",
    "# release date // #chart-position-1 > div.chart-content.col-xs-12.col-sm-8 > ul > li:nth-child(3)"
   ]
  },
  {
   "cell_type": "code",
   "execution_count": null,
   "id": "a12a0853",
   "metadata": {},
   "outputs": [],
   "source": [
    "#soup.select(\"p\")"
   ]
  },
  {
   "cell_type": "code",
   "execution_count": 4,
   "id": "2533716a",
   "metadata": {},
   "outputs": [
    {
     "data": {
      "text/plain": [
       "[<cite class=\"title\">Last Night</cite>,\n",
       " <cite class=\"title\">Fast Car</cite>,\n",
       " <cite class=\"title\">Flowers</cite>,\n",
       " <cite class=\"title\">Calm Down</cite>,\n",
       " <cite class=\"title\">Like Crazy (Deep House Remix)</cite>,\n",
       " <cite class=\"title\">Anti-Hero</cite>,\n",
       " <cite class=\"title\">Like Crazy (UK Garage Remix)</cite>,\n",
       " <cite class=\"title\">Eyes Closed</cite>,\n",
       " <cite class=\"title\">Heart Like A Truck</cite>,\n",
       " <cite class=\"title\">Like Crazy (Instrumental)</cite>]"
      ]
     },
     "execution_count": 4,
     "metadata": {},
     "output_type": "execute_result"
    }
   ],
   "source": [
    "soup.select(\"p cite\")[0:10]"
   ]
  },
  {
   "cell_type": "code",
   "execution_count": 5,
   "id": "56068195",
   "metadata": {},
   "outputs": [
    {
     "data": {
      "text/plain": [
       "[<em class=\"artist\">Morgan Wallen</em>,\n",
       " <em class=\"artist\">Luke Combs</em>,\n",
       " <em class=\"artist\">Miley Cyrus</em>,\n",
       " <em class=\"artist\">Rema &amp; Selena Gomez</em>,\n",
       " <em class=\"artist\">Jimin</em>,\n",
       " <em class=\"artist\">Taylor Swift</em>,\n",
       " <em class=\"artist\">Jimin</em>,\n",
       " <em class=\"artist\">Ed Sheeran</em>,\n",
       " <em class=\"artist\">Lainey Wilson</em>,\n",
       " <em class=\"artist\">Jimin</em>]"
      ]
     },
     "execution_count": 5,
     "metadata": {},
     "output_type": "execute_result"
    }
   ],
   "source": [
    "soup.select(\"p em\")[0:10]"
   ]
  },
  {
   "cell_type": "code",
   "execution_count": 6,
   "id": "46a84d02",
   "metadata": {},
   "outputs": [
    {
     "data": {
      "text/plain": [
       "[<a href=\"/music/charts/top-country-songs.php\">Country</a>,\n",
       " <a href=\"/music/charts/top-kpop-songs.php\">K-Pop</a>,\n",
       " <a href=\"/music/charts/top-kpop-songs.php\">K-Pop</a>,\n",
       " <a href=\"/music/charts/top-pop-songs.php\">Pop</a>,\n",
       " <a href=\"/music/charts/top-kpop-songs.php\">K-Pop</a>,\n",
       " <a href=\"/music/charts/top-alternative-songs.php\">Alternative</a>,\n",
       " <a href=\"/music/charts/top-kpop-songs.php\">K-Pop</a>,\n",
       " <a href=\"/music/charts/top-kpop-songs.php\">K-Pop</a>,\n",
       " <a href=\"/music/charts/top-christian-gospel-songs.php\">Christian &amp; Gospel</a>,\n",
       " <a href=\"/music/charts/top-pop-songs.php\">Pop</a>]"
      ]
     },
     "execution_count": 6,
     "metadata": {},
     "output_type": "execute_result"
    }
   ],
   "source": [
    "soup.select(\"div.chart-content.col-xs-12.col-sm-8 > ul > li:nth-child(2) > a\")[0:10]"
   ]
  },
  {
   "cell_type": "code",
   "execution_count": 7,
   "id": "acbe97c3",
   "metadata": {},
   "outputs": [
    {
     "data": {
      "text/plain": [
       "[<li><strong>Release Date</strong>: March 24, 2023</li>,\n",
       " <li class=\"billboard-chart billboard-number-one\">The current #1 hit song  in the U.S. on the <cite><a href=\"http://www.billboard.com/charts/hot-100\" rel=\"noopener\" target=\"_blank\">Billboard Hot 100</a></cite> chart.<br/>2 weeks at #1.</li>,\n",
       " <li><strong>Release Date</strong>: March 26, 2023</li>,\n",
       " <li class=\"billboard-chart\">Former #1 song on the <cite>Billboard Hot 100</cite> chart.</li>,\n",
       " <li><strong>Release Date</strong>: March 26, 2023</li>,\n",
       " <li><strong>Release Date</strong>: March 24, 2023</li>,\n",
       " <li><strong>Release Date</strong>: March 26, 2023</li>,\n",
       " <li><strong>Release Date</strong>: </li>,\n",
       " <li><strong>Release Date</strong>: March 23, 2023</li>,\n",
       " <li><strong>Release Date</strong>: March 24, 2023</li>]"
      ]
     },
     "execution_count": 7,
     "metadata": {},
     "output_type": "execute_result"
    }
   ],
   "source": [
    "soup.select (\"div.chart-content.col-xs-12.col-sm-8 > ul > li:nth-child(3)\")[0:10]"
   ]
  },
  {
   "cell_type": "code",
   "execution_count": 8,
   "id": "07ddbf96",
   "metadata": {},
   "outputs": [
    {
     "name": "stdout",
     "output_type": "stream",
     "text": [
      "['Last Night', 'Fast Car', 'Flowers', 'Calm Down', 'Like Crazy (Deep House Remix)', 'Anti-Hero', 'Like Crazy (UK Garage Remix)', 'Eyes Closed', 'Heart Like A Truck', 'Like Crazy (Instrumental)']\n",
      "['Morgan Wallen', 'Luke Combs', 'Miley Cyrus', 'Rema & Selena Gomez', 'Jimin', 'Taylor Swift', 'Jimin', 'Ed Sheeran', 'Lainey Wilson', 'Jimin']\n",
      "100\n",
      "100\n"
     ]
    }
   ],
   "source": [
    "#Empty Lists\n",
    "title = []\n",
    "artist = []\n",
    "\n",
    "# Iterations\n",
    "num_iter = len(soup.select(\"p cite\"))\n",
    "\n",
    "title_song = soup.select(\"p cite\")\n",
    "artist_song = soup.select(\"p em\")\n",
    "\n",
    "for i in range(num_iter):\n",
    "    title.append(title_song[i].get_text())\n",
    "    artist.append(artist_song[i].get_text())\n",
    "    \n",
    "print(title[0:10])\n",
    "print(artist[0:10])\n",
    "\n",
    "\n",
    "#\n",
    "\n",
    "print(len(title))\n",
    "print(len(artist))\n",
    "#print(len(genre))\n",
    "#print(len(release_date))"
   ]
  },
  {
   "cell_type": "code",
   "execution_count": 9,
   "id": "88d946d0",
   "metadata": {},
   "outputs": [],
   "source": [
    "# Columns of a dataframe\n",
    "topsongs = pd.DataFrame({\"title\":title,\n",
    "                       \"artist\":artist})"
   ]
  },
  {
   "cell_type": "code",
   "execution_count": 10,
   "id": "2e1204f0",
   "metadata": {},
   "outputs": [
    {
     "data": {
      "text/html": [
       "<div>\n",
       "<style scoped>\n",
       "    .dataframe tbody tr th:only-of-type {\n",
       "        vertical-align: middle;\n",
       "    }\n",
       "\n",
       "    .dataframe tbody tr th {\n",
       "        vertical-align: top;\n",
       "    }\n",
       "\n",
       "    .dataframe thead th {\n",
       "        text-align: right;\n",
       "    }\n",
       "</style>\n",
       "<table border=\"1\" class=\"dataframe\">\n",
       "  <thead>\n",
       "    <tr style=\"text-align: right;\">\n",
       "      <th></th>\n",
       "      <th>title</th>\n",
       "      <th>artist</th>\n",
       "    </tr>\n",
       "  </thead>\n",
       "  <tbody>\n",
       "    <tr>\n",
       "      <th>0</th>\n",
       "      <td>Last Night</td>\n",
       "      <td>Morgan Wallen</td>\n",
       "    </tr>\n",
       "    <tr>\n",
       "      <th>1</th>\n",
       "      <td>Fast Car</td>\n",
       "      <td>Luke Combs</td>\n",
       "    </tr>\n",
       "    <tr>\n",
       "      <th>2</th>\n",
       "      <td>Flowers</td>\n",
       "      <td>Miley Cyrus</td>\n",
       "    </tr>\n",
       "    <tr>\n",
       "      <th>3</th>\n",
       "      <td>Calm Down</td>\n",
       "      <td>Rema &amp; Selena Gomez</td>\n",
       "    </tr>\n",
       "    <tr>\n",
       "      <th>4</th>\n",
       "      <td>Like Crazy (Deep House Remix)</td>\n",
       "      <td>Jimin</td>\n",
       "    </tr>\n",
       "    <tr>\n",
       "      <th>5</th>\n",
       "      <td>Anti-Hero</td>\n",
       "      <td>Taylor Swift</td>\n",
       "    </tr>\n",
       "    <tr>\n",
       "      <th>6</th>\n",
       "      <td>Like Crazy (UK Garage Remix)</td>\n",
       "      <td>Jimin</td>\n",
       "    </tr>\n",
       "    <tr>\n",
       "      <th>7</th>\n",
       "      <td>Eyes Closed</td>\n",
       "      <td>Ed Sheeran</td>\n",
       "    </tr>\n",
       "    <tr>\n",
       "      <th>8</th>\n",
       "      <td>Heart Like A Truck</td>\n",
       "      <td>Lainey Wilson</td>\n",
       "    </tr>\n",
       "    <tr>\n",
       "      <th>9</th>\n",
       "      <td>Like Crazy (Instrumental)</td>\n",
       "      <td>Jimin</td>\n",
       "    </tr>\n",
       "    <tr>\n",
       "      <th>10</th>\n",
       "      <td>You Say</td>\n",
       "      <td>Lauren Daigle</td>\n",
       "    </tr>\n",
       "    <tr>\n",
       "      <th>11</th>\n",
       "      <td>Players</td>\n",
       "      <td>Coi Leray</td>\n",
       "    </tr>\n",
       "    <tr>\n",
       "      <th>12</th>\n",
       "      <td>Thinkin’ Bout Me</td>\n",
       "      <td>Morgan Wallen</td>\n",
       "    </tr>\n",
       "    <tr>\n",
       "      <th>13</th>\n",
       "      <td>Thought You Should Know</td>\n",
       "      <td>Morgan Wallen</td>\n",
       "    </tr>\n",
       "    <tr>\n",
       "      <th>14</th>\n",
       "      <td>Thank God I Do</td>\n",
       "      <td>Lauren Daigle</td>\n",
       "    </tr>\n",
       "    <tr>\n",
       "      <th>15</th>\n",
       "      <td>Fighting Myself</td>\n",
       "      <td>LINKIN PARK</td>\n",
       "    </tr>\n",
       "    <tr>\n",
       "      <th>16</th>\n",
       "      <td>Thank God</td>\n",
       "      <td>Kane Brown &amp; Katelyn Brown</td>\n",
       "    </tr>\n",
       "    <tr>\n",
       "      <th>17</th>\n",
       "      <td>TRUSTFALL</td>\n",
       "      <td>P!nk</td>\n",
       "    </tr>\n",
       "    <tr>\n",
       "      <th>18</th>\n",
       "      <td>labour</td>\n",
       "      <td>Paris Paloma</td>\n",
       "    </tr>\n",
       "    <tr>\n",
       "      <th>19</th>\n",
       "      <td>Growin' Up and Gettin' Old</td>\n",
       "      <td>Luke Combs</td>\n",
       "    </tr>\n",
       "  </tbody>\n",
       "</table>\n",
       "</div>"
      ],
      "text/plain": [
       "                            title                      artist\n",
       "0                      Last Night               Morgan Wallen\n",
       "1                        Fast Car                  Luke Combs\n",
       "2                         Flowers                 Miley Cyrus\n",
       "3                       Calm Down         Rema & Selena Gomez\n",
       "4   Like Crazy (Deep House Remix)                       Jimin\n",
       "5                       Anti-Hero                Taylor Swift\n",
       "6    Like Crazy (UK Garage Remix)                       Jimin\n",
       "7                     Eyes Closed                  Ed Sheeran\n",
       "8              Heart Like A Truck               Lainey Wilson\n",
       "9       Like Crazy (Instrumental)                       Jimin\n",
       "10                        You Say               Lauren Daigle\n",
       "11                        Players                   Coi Leray\n",
       "12               Thinkin’ Bout Me               Morgan Wallen\n",
       "13        Thought You Should Know               Morgan Wallen\n",
       "14                 Thank God I Do               Lauren Daigle\n",
       "15                Fighting Myself                 LINKIN PARK\n",
       "16                      Thank God  Kane Brown & Katelyn Brown\n",
       "17                      TRUSTFALL                        P!nk\n",
       "18                         labour                Paris Paloma\n",
       "19     Growin' Up and Gettin' Old                  Luke Combs"
      ]
     },
     "metadata": {},
     "output_type": "display_data"
    },
    {
     "data": {
      "text/plain": [
       "100"
      ]
     },
     "metadata": {},
     "output_type": "display_data"
    }
   ],
   "source": [
    "display(topsongs.head(20), len(topsongs))"
   ]
  },
  {
   "cell_type": "code",
   "execution_count": null,
   "id": "e6e0f4c0",
   "metadata": {},
   "outputs": [],
   "source": []
  },
  {
   "cell_type": "markdown",
   "id": "710e6c74",
   "metadata": {},
   "source": [
    "## GNOD 2"
   ]
  },
  {
   "cell_type": "markdown",
   "id": "db0da06a",
   "metadata": {},
   "source": [
    "The first steps you took yesterday, were to create a list of Top Songs and Artists from scraping web sites.\n",
    "\n",
    "\n",
    "You should have ended with your lists in a data frame containing at least Song Title and Artist.\n",
    "\n",
    "\n",
    "Today you are creating a recommender where the user inputs a song title and check if that song is in the list you created.   If it is,  give a different random song and artist from the list.  If it is not on the list, let the user know that you have no recommendation at this time.\n"
   ]
  },
  {
   "cell_type": "code",
   "execution_count": 11,
   "id": "4b423b4e",
   "metadata": {},
   "outputs": [
    {
     "data": {
      "text/html": [
       "<div>\n",
       "<style scoped>\n",
       "    .dataframe tbody tr th:only-of-type {\n",
       "        vertical-align: middle;\n",
       "    }\n",
       "\n",
       "    .dataframe tbody tr th {\n",
       "        vertical-align: top;\n",
       "    }\n",
       "\n",
       "    .dataframe thead th {\n",
       "        text-align: right;\n",
       "    }\n",
       "</style>\n",
       "<table border=\"1\" class=\"dataframe\">\n",
       "  <thead>\n",
       "    <tr style=\"text-align: right;\">\n",
       "      <th></th>\n",
       "      <th>title</th>\n",
       "      <th>artist</th>\n",
       "    </tr>\n",
       "  </thead>\n",
       "  <tbody>\n",
       "    <tr>\n",
       "      <th>0</th>\n",
       "      <td>Last Night</td>\n",
       "      <td>Morgan Wallen</td>\n",
       "    </tr>\n",
       "    <tr>\n",
       "      <th>1</th>\n",
       "      <td>Fast Car</td>\n",
       "      <td>Luke Combs</td>\n",
       "    </tr>\n",
       "    <tr>\n",
       "      <th>2</th>\n",
       "      <td>Flowers</td>\n",
       "      <td>Miley Cyrus</td>\n",
       "    </tr>\n",
       "    <tr>\n",
       "      <th>3</th>\n",
       "      <td>Calm Down</td>\n",
       "      <td>Rema &amp; Selena Gomez</td>\n",
       "    </tr>\n",
       "    <tr>\n",
       "      <th>4</th>\n",
       "      <td>Like Crazy (Deep House Remix)</td>\n",
       "      <td>Jimin</td>\n",
       "    </tr>\n",
       "  </tbody>\n",
       "</table>\n",
       "</div>"
      ],
      "text/plain": [
       "                           title               artist\n",
       "0                     Last Night        Morgan Wallen\n",
       "1                       Fast Car           Luke Combs\n",
       "2                        Flowers          Miley Cyrus\n",
       "3                      Calm Down  Rema & Selena Gomez\n",
       "4  Like Crazy (Deep House Remix)                Jimin"
      ]
     },
     "execution_count": 11,
     "metadata": {},
     "output_type": "execute_result"
    }
   ],
   "source": [
    "# Previous dataframe\n",
    "topsongs.head(5)"
   ]
  },
  {
   "cell_type": "code",
   "execution_count": 12,
   "id": "4bcd03cd",
   "metadata": {},
   "outputs": [],
   "source": [
    "import random\n",
    "from IPython.display import Markdown, display  # library to display in bolt letters, etc\n",
    "\n",
    "def similar_top100(topsongs, song_searched):\n",
    "    \n",
    "    # Converting both input value and 'title' in lower case\n",
    "    song_searched = song_searched.lower() \n",
    "    topsongs['title'] = topsongs['title'].str.lower()\n",
    "    \n",
    "    # IF song in the input IS IN the 'title column'\n",
    "    if song_searched in topsongs['title'].values:\n",
    "        # While song in input IS different from the recommended (output)\n",
    "        while True:\n",
    "            # Generating a random number to select another song from the list\n",
    "            random_num = random.randint(0, len(topsongs)-1)\n",
    "            # Picking the song 'title' with random_num index\n",
    "            song_recommended_title = topsongs.iloc[random_num]['title']\n",
    "            # Getting also the artist name \n",
    "            song_recommended_artist = topsongs.iloc[random_num]['artist']\n",
    "            # If recommended song IS NOT the same as the searched one, stop the while\n",
    "            if song_recommended_title != song_searched:\n",
    "                break\n",
    "        # Capitalizing first letters of 'title' (.title())\n",
    "        song_recommended_title = song_recommended_title.title()\n",
    "        # Joinning song and artist to display in the output\n",
    "        song_recommended = f\"{song_recommended_title} by {song_recommended_artist}\"\n",
    "        # Displaying output with both 'title' and 'artist' bigger and bolt style.\n",
    "        display(Markdown(f\"You should listen to: **{song_recommended}**!\"))\n",
    "    \n",
    "    # If song in the input IS NOT in 'title column'\n",
    "    else:\n",
    "        print(\"Sorry, you have very bad musical taste. Try another one...\")"
   ]
  },
  {
   "cell_type": "code",
   "execution_count": 13,
   "id": "95727e3a",
   "metadata": {},
   "outputs": [
    {
     "name": "stdout",
     "output_type": "stream",
     "text": [
      "Introduce the name of a song: Flowers\n"
     ]
    },
    {
     "data": {
      "text/markdown": [
       "You should listen to: **Thank God I Do by Lauren Daigle**!"
      ],
      "text/plain": [
       "<IPython.core.display.Markdown object>"
      ]
     },
     "metadata": {},
     "output_type": "display_data"
    }
   ],
   "source": [
    "# Input\n",
    "song_searched = input(\"Introduce the name of a song: \")\n",
    "# Applying function\n",
    "similar_top100(topsongs,song_searched)\n"
   ]
  },
  {
   "cell_type": "code",
   "execution_count": null,
   "id": "b0a004bd",
   "metadata": {},
   "outputs": [],
   "source": []
  },
  {
   "cell_type": "markdown",
   "id": "b5dea6bc",
   "metadata": {},
   "source": [
    "## GNOD 3"
   ]
  },
  {
   "cell_type": "markdown",
   "id": "33288eba",
   "metadata": {},
   "source": [
    "To move forward with the project, you need to create a collection of songs with their audio features - as large as possible!\n",
    "\n",
    "\n",
    "\n",
    "These are the songs that we will cluster. And, later, when the user inputs a song, we will find the cluster to which the song belongs and recommend a song from the same cluster. The more songs you have, the more accurate and diverse recommendations you'll be able to give. Although... you might want to make sure the collected songs are \"curated\" in a certain way. Try to find playlists of songs that are diverse, but also that meet certain standards.\n",
    "\n",
    "\n",
    "\n",
    "The process of sending hundreds or thousands of requests can take some time - it's normal if you have to wait a few minutes (or, if you're ambitious, even hours) to get all the data you need.\n",
    "\n",
    "An idea for collecting as many songs as possible is to start with all the songs of a big, diverse playlist and then go to every artist present in the playlist and grab every song of every album of that artist. The amount of songs you'll be collecting per playlist will grow exponentially!\n"
   ]
  },
  {
   "cell_type": "code",
   "execution_count": 16,
   "id": "88a89258",
   "metadata": {},
   "outputs": [],
   "source": [
    "import spotipy\n",
    "from spotipy.oauth2 import SpotifyClientCredentials\n",
    "\n",
    "#### Authentification\n",
    "\n",
    "secrets_file = open(\"secrets.txt\",\"r\")\n",
    "string = secrets_file.read()\n",
    "#string.split('\\n')\n",
    "\n",
    "# Dictionary\n",
    "secrets_dict={}\n",
    "for line in string.split('\\n'):\n",
    "    if len(line) > 0: # excluding empty lines\n",
    "        #           [first element:key]  [ second element:value  ]\n",
    "        secrets_dict[line.split(':')[0]]=line.split(':')[1].strip()\n"
   ]
  },
  {
   "cell_type": "markdown",
   "id": "c0933543",
   "metadata": {},
   "source": [
    "#### Authentication with secrets text file"
   ]
  },
  {
   "cell_type": "code",
   "execution_count": 17,
   "id": "6c5797d5",
   "metadata": {},
   "outputs": [],
   "source": [
    "#Initialize SpotiPy with user credentials\n",
    "sp = spotipy.Spotify(auth_manager=SpotifyClientCredentials(client_id=secrets_dict['cid'],\n",
    "                                                           client_secret=secrets_dict['csecret']))\n"
   ]
  },
  {
   "cell_type": "markdown",
   "id": "092f4e9f",
   "metadata": {},
   "source": [
    "#### Playlists selected from Spotify"
   ]
  },
  {
   "cell_type": "code",
   "execution_count": null,
   "id": "352a4181",
   "metadata": {},
   "outputs": [],
   "source": [
    "# Top 2000 (1999): 37i9dQZF1DWTmvXBN4DgpA\n",
    "# Top 5000 (2705) - private: 5DPT4gtwr5AeFlf3YVvdmK\n",
    "# Top 5000 (3318) - private: 4RVf1hHtwvMEED3yuCNi8q\n",
    "# Best Music of all times (1723): 1BHsIy6qBuhJVzys6nr2uo"
   ]
  },
  {
   "cell_type": "markdown",
   "id": "087ac058",
   "metadata": {},
   "source": [
    "#### Audio features"
   ]
  },
  {
   "cell_type": "code",
   "execution_count": 18,
   "id": "18fb9c31",
   "metadata": {},
   "outputs": [],
   "source": [
    "# List of playlists id\n",
    "playlist_id = ['37i9dQZF1DWTmvXBN4DgpA',\n",
    "               '5DPT4gtwr5AeFlf3YVvdmK',\n",
    "               '4RVf1hHtwvMEED3yuCNi8q'],\n",
    "              # '1BHsIy6qBuhJVzys6nr2uo']\n"
   ]
  },
  {
   "cell_type": "code",
   "execution_count": 19,
   "id": "ff17972e",
   "metadata": {},
   "outputs": [
    {
     "data": {
      "text/plain": [
       "dict"
      ]
     },
     "metadata": {},
     "output_type": "display_data"
    },
    {
     "data": {
      "text/plain": [
       "1999"
      ]
     },
     "metadata": {},
     "output_type": "display_data"
    },
    {
     "data": {
      "text/plain": [
       "dict"
      ]
     },
     "metadata": {},
     "output_type": "display_data"
    },
    {
     "data": {
      "text/plain": [
       "2705"
      ]
     },
     "metadata": {},
     "output_type": "display_data"
    },
    {
     "data": {
      "text/plain": [
       "dict"
      ]
     },
     "metadata": {},
     "output_type": "display_data"
    },
    {
     "data": {
      "text/plain": [
       "3318"
      ]
     },
     "metadata": {},
     "output_type": "display_data"
    }
   ],
   "source": [
    "playlist1 = sp.user_playlist_tracks(\"spotify\", \"37i9dQZF1DWTmvXBN4DgpA\")\n",
    "playlist2 = sp.user_playlist_tracks(\"spotify\", \"5DPT4gtwr5AeFlf3YVvdmK\")\n",
    "playlist3 = sp.user_playlist_tracks(\"spotify\", \"4RVf1hHtwvMEED3yuCNi8q\")\n",
    "#playlist4 = sp.user_playlist_tracks(\"spotify\", \"1BHsIy6qBuhJVzys6nr2uo\")\n",
    "\n",
    "\n",
    "display(type(playlist1), playlist1['total'])\n",
    "display(type(playlist2), playlist2['total'])\n",
    "display(type(playlist3), playlist3['total'])\n",
    "#display(type(playlist4), playlist4['total'])"
   ]
  },
  {
   "cell_type": "code",
   "execution_count": 20,
   "id": "e40c3da7",
   "metadata": {},
   "outputs": [],
   "source": [
    "#playlist1"
   ]
  },
  {
   "cell_type": "code",
   "execution_count": 21,
   "id": "c4bc983a",
   "metadata": {},
   "outputs": [
    {
     "data": {
      "text/plain": [
       "'Bohemian Rhapsody - Remastered 2011'"
      ]
     },
     "metadata": {},
     "output_type": "display_data"
    },
    {
     "data": {
      "text/plain": [
       "'Queen'"
      ]
     },
     "metadata": {},
     "output_type": "display_data"
    },
    {
     "data": {
      "text/plain": [
       "'spotify:track:7tFiyTwD0nx5a1eklYtX2J'"
      ]
     },
     "metadata": {},
     "output_type": "display_data"
    }
   ],
   "source": [
    "# Checking the path to get 'title', 'artist' and 'uri'\n",
    "display(playlist1[\"items\"][0][\"track\"][\"name\"]) # title\n",
    "display(playlist1[\"items\"][0][\"track\"][\"artists\"][0][\"name\"]) # artist\n",
    "display(playlist1[\"items\"][0][\"track\"][\"uri\"]) # uri"
   ]
  },
  {
   "cell_type": "markdown",
   "id": "5bd09d1b",
   "metadata": {},
   "source": [
    "#### Retrieving all data from playlists and creating a new dataframe\n"
   ]
  },
  {
   "cell_type": "code",
   "execution_count": 22,
   "id": "070eaba3",
   "metadata": {},
   "outputs": [],
   "source": [
    "# List of playlists\n",
    "playlists_list = [\"playlist1\",\"playlist2\",\"playlist3\"] #,\"playlist4\"]\n"
   ]
  },
  {
   "cell_type": "code",
   "execution_count": 23,
   "id": "a4c3e8b4",
   "metadata": {},
   "outputs": [],
   "source": [
    "# Function to retrieve ALL data of \"title\", \"artist\", and \"uri\" 's id and metrics\n",
    "# from the playlist dict and convert all them into columns of a new dataframe dataframe\n",
    "\n",
    "def create_playlist_dataframe(playlist, sp):\n",
    "    # List of items in track\n",
    "    tracks = []\n",
    "    \n",
    "    # While there is a next page of results in the playlist\n",
    "    while playlist:\n",
    "        # For each item in playlist:\n",
    "        for item in playlist['items']:\n",
    "            # Look for uri and save id and get values in features\n",
    "            song_uri = item['track']['uri']\n",
    "            features = sp.audio_features(song_uri)[0]\n",
    "            \n",
    "            # New dict retrieving values of 'title', 'artist' and 'uri' (id)\n",
    "            track = {\n",
    "                'title': item['track']['name'],\n",
    "                'artist': item['track']['artists'][0]['name'],\n",
    "                'uri': song_uri,\n",
    "            }\n",
    "            \n",
    "            # for each feature add in track dict the key (column name) and the value\n",
    "            for feature_key, feature_value in features.items():\n",
    "                track[feature_key] = feature_value\n",
    "                \n",
    "            # Append each item in track\n",
    "            tracks.append(track)\n",
    "        \n",
    "        # Get the next page of results\n",
    "        playlist = sp.next(playlist)\n",
    "        \n",
    "        # Sleep for a random time between 1 and 3 seconds to avoid triggering rate limits\n",
    "        sleep_time = random.randint(1, 3)\n",
    "        time.sleep(sleep_time)\n",
    "    \n",
    "    # Return the results as a DataFrame\n",
    "    return pd.DataFrame(tracks)\n"
   ]
  },
  {
   "cell_type": "code",
   "execution_count": 24,
   "id": "61588bff",
   "metadata": {},
   "outputs": [],
   "source": [
    "# Applying the function\n",
    "playlist1_df = create_playlist_dataframe(playlist1, sp)"
   ]
  },
  {
   "cell_type": "code",
   "execution_count": 25,
   "id": "497e696c",
   "metadata": {},
   "outputs": [
    {
     "data": {
      "text/html": [
       "<div>\n",
       "<style scoped>\n",
       "    .dataframe tbody tr th:only-of-type {\n",
       "        vertical-align: middle;\n",
       "    }\n",
       "\n",
       "    .dataframe tbody tr th {\n",
       "        vertical-align: top;\n",
       "    }\n",
       "\n",
       "    .dataframe thead th {\n",
       "        text-align: right;\n",
       "    }\n",
       "</style>\n",
       "<table border=\"1\" class=\"dataframe\">\n",
       "  <thead>\n",
       "    <tr style=\"text-align: right;\">\n",
       "      <th></th>\n",
       "      <th>title</th>\n",
       "      <th>artist</th>\n",
       "      <th>uri</th>\n",
       "      <th>danceability</th>\n",
       "      <th>energy</th>\n",
       "      <th>key</th>\n",
       "      <th>loudness</th>\n",
       "      <th>mode</th>\n",
       "      <th>speechiness</th>\n",
       "      <th>acousticness</th>\n",
       "      <th>instrumentalness</th>\n",
       "      <th>liveness</th>\n",
       "      <th>valence</th>\n",
       "      <th>tempo</th>\n",
       "      <th>type</th>\n",
       "      <th>id</th>\n",
       "      <th>track_href</th>\n",
       "      <th>analysis_url</th>\n",
       "      <th>duration_ms</th>\n",
       "      <th>time_signature</th>\n",
       "    </tr>\n",
       "  </thead>\n",
       "  <tbody>\n",
       "    <tr>\n",
       "      <th>0</th>\n",
       "      <td>Bohemian Rhapsody - Remastered 2011</td>\n",
       "      <td>Queen</td>\n",
       "      <td>spotify:track:7tFiyTwD0nx5a1eklYtX2J</td>\n",
       "      <td>0.392</td>\n",
       "      <td>0.402</td>\n",
       "      <td>0</td>\n",
       "      <td>-9.961</td>\n",
       "      <td>0</td>\n",
       "      <td>0.0536</td>\n",
       "      <td>0.28800</td>\n",
       "      <td>0.000000</td>\n",
       "      <td>0.2430</td>\n",
       "      <td>0.228</td>\n",
       "      <td>143.883</td>\n",
       "      <td>audio_features</td>\n",
       "      <td>7tFiyTwD0nx5a1eklYtX2J</td>\n",
       "      <td>https://api.spotify.com/v1/tracks/7tFiyTwD0nx5...</td>\n",
       "      <td>https://api.spotify.com/v1/audio-analysis/7tFi...</td>\n",
       "      <td>354320</td>\n",
       "      <td>4</td>\n",
       "    </tr>\n",
       "    <tr>\n",
       "      <th>1</th>\n",
       "      <td>Roller Coaster</td>\n",
       "      <td>Danny Vera</td>\n",
       "      <td>spotify:track:5B5YKjgne3TZzNpMsN9aj1</td>\n",
       "      <td>0.401</td>\n",
       "      <td>0.383</td>\n",
       "      <td>9</td>\n",
       "      <td>-10.048</td>\n",
       "      <td>1</td>\n",
       "      <td>0.0279</td>\n",
       "      <td>0.51000</td>\n",
       "      <td>0.007800</td>\n",
       "      <td>0.1210</td>\n",
       "      <td>0.285</td>\n",
       "      <td>96.957</td>\n",
       "      <td>audio_features</td>\n",
       "      <td>5B5YKjgne3TZzNpMsN9aj1</td>\n",
       "      <td>https://api.spotify.com/v1/tracks/5B5YKjgne3TZ...</td>\n",
       "      <td>https://api.spotify.com/v1/audio-analysis/5B5Y...</td>\n",
       "      <td>269986</td>\n",
       "      <td>4</td>\n",
       "    </tr>\n",
       "    <tr>\n",
       "      <th>2</th>\n",
       "      <td>Hotel California - 2013 Remaster</td>\n",
       "      <td>Eagles</td>\n",
       "      <td>spotify:track:40riOy7x9W7GXjyGp4pjAv</td>\n",
       "      <td>0.579</td>\n",
       "      <td>0.508</td>\n",
       "      <td>2</td>\n",
       "      <td>-9.484</td>\n",
       "      <td>1</td>\n",
       "      <td>0.0270</td>\n",
       "      <td>0.00574</td>\n",
       "      <td>0.000494</td>\n",
       "      <td>0.0575</td>\n",
       "      <td>0.609</td>\n",
       "      <td>147.125</td>\n",
       "      <td>audio_features</td>\n",
       "      <td>40riOy7x9W7GXjyGp4pjAv</td>\n",
       "      <td>https://api.spotify.com/v1/tracks/40riOy7x9W7G...</td>\n",
       "      <td>https://api.spotify.com/v1/audio-analysis/40ri...</td>\n",
       "      <td>391376</td>\n",
       "      <td>4</td>\n",
       "    </tr>\n",
       "    <tr>\n",
       "      <th>3</th>\n",
       "      <td>Piano Man</td>\n",
       "      <td>Billy Joel</td>\n",
       "      <td>spotify:track:3FCto7hnn1shUyZL42YgfO</td>\n",
       "      <td>0.334</td>\n",
       "      <td>0.472</td>\n",
       "      <td>0</td>\n",
       "      <td>-8.791</td>\n",
       "      <td>1</td>\n",
       "      <td>0.0277</td>\n",
       "      <td>0.60000</td>\n",
       "      <td>0.000004</td>\n",
       "      <td>0.3170</td>\n",
       "      <td>0.431</td>\n",
       "      <td>179.173</td>\n",
       "      <td>audio_features</td>\n",
       "      <td>3FCto7hnn1shUyZL42YgfO</td>\n",
       "      <td>https://api.spotify.com/v1/tracks/3FCto7hnn1sh...</td>\n",
       "      <td>https://api.spotify.com/v1/audio-analysis/3FCt...</td>\n",
       "      <td>336093</td>\n",
       "      <td>3</td>\n",
       "    </tr>\n",
       "    <tr>\n",
       "      <th>4</th>\n",
       "      <td>Fix You</td>\n",
       "      <td>Coldplay</td>\n",
       "      <td>spotify:track:7LVHVU3tWfcxj5aiPFEW4Q</td>\n",
       "      <td>0.209</td>\n",
       "      <td>0.417</td>\n",
       "      <td>3</td>\n",
       "      <td>-8.740</td>\n",
       "      <td>1</td>\n",
       "      <td>0.0338</td>\n",
       "      <td>0.16400</td>\n",
       "      <td>0.001960</td>\n",
       "      <td>0.1130</td>\n",
       "      <td>0.124</td>\n",
       "      <td>138.178</td>\n",
       "      <td>audio_features</td>\n",
       "      <td>7LVHVU3tWfcxj5aiPFEW4Q</td>\n",
       "      <td>https://api.spotify.com/v1/tracks/7LVHVU3tWfcx...</td>\n",
       "      <td>https://api.spotify.com/v1/audio-analysis/7LVH...</td>\n",
       "      <td>295533</td>\n",
       "      <td>4</td>\n",
       "    </tr>\n",
       "  </tbody>\n",
       "</table>\n",
       "</div>"
      ],
      "text/plain": [
       "                                 title      artist  \\\n",
       "0  Bohemian Rhapsody - Remastered 2011       Queen   \n",
       "1                       Roller Coaster  Danny Vera   \n",
       "2     Hotel California - 2013 Remaster      Eagles   \n",
       "3                            Piano Man  Billy Joel   \n",
       "4                              Fix You    Coldplay   \n",
       "\n",
       "                                    uri  danceability  energy  key  loudness  \\\n",
       "0  spotify:track:7tFiyTwD0nx5a1eklYtX2J         0.392   0.402    0    -9.961   \n",
       "1  spotify:track:5B5YKjgne3TZzNpMsN9aj1         0.401   0.383    9   -10.048   \n",
       "2  spotify:track:40riOy7x9W7GXjyGp4pjAv         0.579   0.508    2    -9.484   \n",
       "3  spotify:track:3FCto7hnn1shUyZL42YgfO         0.334   0.472    0    -8.791   \n",
       "4  spotify:track:7LVHVU3tWfcxj5aiPFEW4Q         0.209   0.417    3    -8.740   \n",
       "\n",
       "   mode  speechiness  acousticness  instrumentalness  liveness  valence  \\\n",
       "0     0       0.0536       0.28800          0.000000    0.2430    0.228   \n",
       "1     1       0.0279       0.51000          0.007800    0.1210    0.285   \n",
       "2     1       0.0270       0.00574          0.000494    0.0575    0.609   \n",
       "3     1       0.0277       0.60000          0.000004    0.3170    0.431   \n",
       "4     1       0.0338       0.16400          0.001960    0.1130    0.124   \n",
       "\n",
       "     tempo            type                      id  \\\n",
       "0  143.883  audio_features  7tFiyTwD0nx5a1eklYtX2J   \n",
       "1   96.957  audio_features  5B5YKjgne3TZzNpMsN9aj1   \n",
       "2  147.125  audio_features  40riOy7x9W7GXjyGp4pjAv   \n",
       "3  179.173  audio_features  3FCto7hnn1shUyZL42YgfO   \n",
       "4  138.178  audio_features  7LVHVU3tWfcxj5aiPFEW4Q   \n",
       "\n",
       "                                          track_href  \\\n",
       "0  https://api.spotify.com/v1/tracks/7tFiyTwD0nx5...   \n",
       "1  https://api.spotify.com/v1/tracks/5B5YKjgne3TZ...   \n",
       "2  https://api.spotify.com/v1/tracks/40riOy7x9W7G...   \n",
       "3  https://api.spotify.com/v1/tracks/3FCto7hnn1sh...   \n",
       "4  https://api.spotify.com/v1/tracks/7LVHVU3tWfcx...   \n",
       "\n",
       "                                        analysis_url  duration_ms  \\\n",
       "0  https://api.spotify.com/v1/audio-analysis/7tFi...       354320   \n",
       "1  https://api.spotify.com/v1/audio-analysis/5B5Y...       269986   \n",
       "2  https://api.spotify.com/v1/audio-analysis/40ri...       391376   \n",
       "3  https://api.spotify.com/v1/audio-analysis/3FCt...       336093   \n",
       "4  https://api.spotify.com/v1/audio-analysis/7LVH...       295533   \n",
       "\n",
       "   time_signature  \n",
       "0               4  \n",
       "1               4  \n",
       "2               4  \n",
       "3               3  \n",
       "4               4  "
      ]
     },
     "metadata": {},
     "output_type": "display_data"
    },
    {
     "data": {
      "text/plain": [
       "(1999, 20)"
      ]
     },
     "metadata": {},
     "output_type": "display_data"
    }
   ],
   "source": [
    "display(playlist1_df.head(5), playlist1_df.shape)"
   ]
  },
  {
   "cell_type": "code",
   "execution_count": null,
   "id": "0ef99096",
   "metadata": {},
   "outputs": [],
   "source": [
    "# Applying the function\n",
    "playlist2_df = create_playlist_dataframe(playlist2, sp)"
   ]
  },
  {
   "cell_type": "code",
   "execution_count": null,
   "id": "f8ce19a0",
   "metadata": {},
   "outputs": [],
   "source": [
    "display(playlist2_df.head(5), playlist2_df.shape)"
   ]
  },
  {
   "cell_type": "code",
   "execution_count": null,
   "id": "3c45b41c",
   "metadata": {},
   "outputs": [],
   "source": [
    "# Applying the function\n",
    "playlist3_df = create_playlist_dataframe(playlist3, sp)"
   ]
  },
  {
   "cell_type": "code",
   "execution_count": null,
   "id": "b856db13",
   "metadata": {},
   "outputs": [],
   "source": [
    "display(playlist3_df.head(5), playlist3_df.shape)"
   ]
  },
  {
   "cell_type": "code",
   "execution_count": null,
   "id": "8451fc34",
   "metadata": {},
   "outputs": [],
   "source": [
    "# Applying the function\n",
    "#playlist4_df = create_playlist_dataframe(playlist4, sp)"
   ]
  },
  {
   "cell_type": "code",
   "execution_count": null,
   "id": "0cedb90f",
   "metadata": {},
   "outputs": [],
   "source": [
    "#display(playlist4_df.head(5), playlist4_df.shape)"
   ]
  },
  {
   "cell_type": "markdown",
   "id": "54e2152b",
   "metadata": {},
   "source": [
    "#### Checking if df are ready for concatenation"
   ]
  },
  {
   "cell_type": "code",
   "execution_count": null,
   "id": "34387a7e",
   "metadata": {},
   "outputs": [],
   "source": [
    "df_list = [\"playlist1_df\",\"playlist2_df\",\"playlist3_df\"]"
   ]
  },
  {
   "cell_type": "code",
   "execution_count": null,
   "id": "cf65d12b",
   "metadata": {},
   "outputs": [],
   "source": [
    "# Checking same names and order for each dataframe's columns\n",
    "display(playlist1_df.columns == playlist2_df.columns,\n",
    "        playlist1_df.columns == playlist3_df.columns)"
   ]
  },
  {
   "cell_type": "code",
   "execution_count": null,
   "id": "640916b0",
   "metadata": {},
   "outputs": [],
   "source": [
    "# Information about their shape\n",
    "display(playlist1_df.shape, playlist3_df.shape, playlist3_df.shape)"
   ]
  },
  {
   "cell_type": "markdown",
   "id": "40840dd8",
   "metadata": {},
   "source": [
    "#### Concatenating dataframes"
   ]
  },
  {
   "cell_type": "code",
   "execution_count": null,
   "id": "6a06705d",
   "metadata": {},
   "outputs": [],
   "source": [
    "# Concatenating in axis=0 (rows)\n",
    "spotify_data = pd.concat([playlist1_df, playlist2_df, playlist3_df], axis = 0)"
   ]
  },
  {
   "cell_type": "code",
   "execution_count": null,
   "id": "467ee2fe",
   "metadata": {},
   "outputs": [],
   "source": [
    "display(spotify_data.head(5), spotify_data.tail(5), spotify_data.shape)"
   ]
  }
 ],
 "metadata": {
  "kernelspec": {
   "display_name": "Python 3 (ipykernel)",
   "language": "python",
   "name": "python3"
  },
  "language_info": {
   "codemirror_mode": {
    "name": "ipython",
    "version": 3
   },
   "file_extension": ".py",
   "mimetype": "text/x-python",
   "name": "python",
   "nbconvert_exporter": "python",
   "pygments_lexer": "ipython3",
   "version": "3.9.13"
  }
 },
 "nbformat": 4,
 "nbformat_minor": 5
}
