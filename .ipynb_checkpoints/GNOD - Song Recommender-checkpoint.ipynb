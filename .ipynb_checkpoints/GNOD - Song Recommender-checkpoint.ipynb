{
 "cells": [
  {
   "cell_type": "markdown",
   "id": "4c2943ed",
   "metadata": {},
   "source": [
    "#### Libraries"
   ]
  },
  {
   "cell_type": "code",
   "execution_count": 1,
   "id": "478af38f",
   "metadata": {},
   "outputs": [],
   "source": [
    "import pandas as pd\n",
    "import numpy as np\n",
    "\n",
    "import spotipy\n",
    "from spotipy.oauth2 import SpotifyClientCredentials\n",
    "from IPython.display import Markdown, display\n",
    "\n",
    "from sklearn.preprocessing import StandardScaler\n",
    "from sklearn.metrics.pairwise import cosine_similarity\n",
    "from sklearn import cluster, datasets\n",
    "from sklearn.cluster import KMeans\n",
    "\n",
    "import random\n",
    "from IPython.display import Markdown, display \n",
    "\n",
    "import pickle"
   ]
  },
  {
   "cell_type": "markdown",
   "id": "2e22108f",
   "metadata": {},
   "source": [
    "#### Identification and Authentication"
   ]
  },
  {
   "cell_type": "code",
   "execution_count": 2,
   "id": "30714df0",
   "metadata": {},
   "outputs": [],
   "source": [
    "secrets_file = open(\"secrets.txt\",\"r\")\n",
    "string = secrets_file.read()\n",
    "string.split('\\n')\n",
    "\n",
    "# Dictionary\n",
    "secrets_dict={}\n",
    "for line in string.split('\\n'):\n",
    "    if len(line) > 0: \n",
    "        secrets_dict[line.split(':')[0]]=line.split(':')[1].strip()"
   ]
  },
  {
   "cell_type": "markdown",
   "id": "1464e78b",
   "metadata": {},
   "source": [
    "#### Initializing spotipy"
   ]
  },
  {
   "cell_type": "code",
   "execution_count": 3,
   "id": "05eae477",
   "metadata": {},
   "outputs": [],
   "source": [
    "sp = spotipy.Spotify(auth_manager=SpotifyClientCredentials(client_id=secrets_dict['cid'],\n",
    "                                                           client_secret=secrets_dict['csecret']))\n"
   ]
  },
  {
   "cell_type": "markdown",
   "id": "c7960cba",
   "metadata": {},
   "source": [
    "#### Importing required files"
   ]
  },
  {
   "cell_type": "code",
   "execution_count": 4,
   "id": "a70b8db0",
   "metadata": {},
   "outputs": [],
   "source": [
    "topsongs = pd.read_csv('topsongs_data.csv')\n",
    "spotify_data = pd.read_csv('spotify_data.csv')"
   ]
  },
  {
   "cell_type": "markdown",
   "id": "5f50e3c9",
   "metadata": {},
   "source": [
    "#### Importing scaler and kmeans models"
   ]
  },
  {
   "cell_type": "code",
   "execution_count": 14,
   "id": "4895ad91",
   "metadata": {},
   "outputs": [],
   "source": [
    "scaler = pickle.load(open('scaler_model.pkl','rb'))"
   ]
  },
  {
   "cell_type": "code",
   "execution_count": 15,
   "id": "ebc47796",
   "metadata": {},
   "outputs": [],
   "source": [
    "kmeans = pickle.load(open('kmeans_model.pkl','rb'))"
   ]
  },
  {
   "cell_type": "markdown",
   "id": "7e85c0b7",
   "metadata": {},
   "source": [
    "#### Importing song recommender function"
   ]
  },
  {
   "cell_type": "code",
   "execution_count": 22,
   "id": "08321bb8",
   "metadata": {},
   "outputs": [],
   "source": [
    "from song_recommender_module import song_recommender"
   ]
  },
  {
   "cell_type": "markdown",
   "id": "003183a7",
   "metadata": {},
   "source": [
    "## Song Recommender"
   ]
  },
  {
   "cell_type": "code",
   "execution_count": 23,
   "id": "d6cd3f8d",
   "metadata": {},
   "outputs": [
    {
     "name": "stdout",
     "output_type": "stream",
     "text": [
      "Enter a song: The sound of silence\n"
     ]
    },
    {
     "ename": "NameError",
     "evalue": "name 'np' is not defined",
     "output_type": "error",
     "traceback": [
      "\u001b[0;31m---------------------------------------------------------------------------\u001b[0m",
      "\u001b[0;31mNameError\u001b[0m                                 Traceback (most recent call last)",
      "\u001b[0;32m/var/folders/w7/7cfd14hn02g0d126w5q47rqw0000gn/T/ipykernel_2430/463775875.py\u001b[0m in \u001b[0;36m<module>\u001b[0;34m\u001b[0m\n\u001b[0;32m----> 1\u001b[0;31m \u001b[0mrecommended_song\u001b[0m \u001b[0;34m=\u001b[0m \u001b[0msong_recommender\u001b[0m\u001b[0;34m(\u001b[0m\u001b[0mtopsongs\u001b[0m\u001b[0;34m,\u001b[0m \u001b[0mspotify_data\u001b[0m\u001b[0;34m,\u001b[0m \u001b[0msong_searched\u001b[0m\u001b[0;34m)\u001b[0m\u001b[0;34m\u001b[0m\u001b[0;34m\u001b[0m\u001b[0m\n\u001b[0m",
      "\u001b[0;32m~/IH-Labs/6-week/GNOD/song_recommender_module.py\u001b[0m in \u001b[0;36msong_recommender\u001b[0;34m(topsongs, spotify_data, song_searched)\u001b[0m\n\u001b[1;32m     30\u001b[0m         \u001b[0;31m# All numerical columns AFTER 'uri' are the features to be taken\u001b[0m\u001b[0;34m\u001b[0m\u001b[0;34m\u001b[0m\u001b[0m\n\u001b[1;32m     31\u001b[0m         \u001b[0mfeatures\u001b[0m \u001b[0;34m=\u001b[0m \u001b[0mspotify_data\u001b[0m\u001b[0;34m.\u001b[0m\u001b[0mselect_dtypes\u001b[0m\u001b[0;34m(\u001b[0m\u001b[0mnp\u001b[0m\u001b[0;34m.\u001b[0m\u001b[0mnumber\u001b[0m\u001b[0;34m)\u001b[0m\u001b[0;34m\u001b[0m\u001b[0;34m\u001b[0m\u001b[0m\n\u001b[0;32m---> 32\u001b[0;31m \u001b[0;34m\u001b[0m\u001b[0m\n\u001b[0m\u001b[1;32m     33\u001b[0m         \u001b[0;31m# Select X, but no target yet\u001b[0m\u001b[0;34m\u001b[0m\u001b[0;34m\u001b[0m\u001b[0m\n\u001b[1;32m     34\u001b[0m         \u001b[0mX\u001b[0m \u001b[0;34m=\u001b[0m \u001b[0mfeatures\u001b[0m\u001b[0;34m\u001b[0m\u001b[0;34m\u001b[0m\u001b[0m\n",
      "\u001b[0;31mNameError\u001b[0m: name 'np' is not defined"
     ]
    }
   ],
   "source": [
    "recommended_song = song_recommender(topsongs, spotify_data, song_searched)"
   ]
  },
  {
   "cell_type": "code",
   "execution_count": 21,
   "id": "c2766a3f",
   "metadata": {},
   "outputs": [],
   "source": [
    "# Get user input for the song to search for\n",
    "#song_searched = input(\"Enter a song: \")\n",
    "\n",
    "#song_recommender(topsongs, spotify_data, song_searched)"
   ]
  },
  {
   "cell_type": "code",
   "execution_count": null,
   "id": "36c9a5f1",
   "metadata": {},
   "outputs": [],
   "source": []
  }
 ],
 "metadata": {
  "kernelspec": {
   "display_name": "Python 3 (ipykernel)",
   "language": "python",
   "name": "python3"
  },
  "language_info": {
   "codemirror_mode": {
    "name": "ipython",
    "version": 3
   },
   "file_extension": ".py",
   "mimetype": "text/x-python",
   "name": "python",
   "nbconvert_exporter": "python",
   "pygments_lexer": "ipython3",
   "version": "3.9.13"
  }
 },
 "nbformat": 4,
 "nbformat_minor": 5
}
